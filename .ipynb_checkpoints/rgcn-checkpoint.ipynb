{
 "cells": [
  {
   "cell_type": "code",
   "execution_count": 1,
   "metadata": {},
   "outputs": [],
   "source": [
    "import tensorflow as tf\n",
    "import utils\n",
    "import numpy as np\n",
    "import random as rn\n",
    "import os"
   ]
  },
  {
   "cell_type": "code",
   "execution_count": 152,
   "metadata": {},
   "outputs": [],
   "source": [
    "SEED = 123\n",
    "os.environ['PYTHONHASHSEED'] = str(SEED)\n",
    "os.environ['TF_DETERMINISTIC_OPS'] = '1'\n",
    "tf.random.set_seed(SEED)\n",
    "np.random.seed(SEED)\n",
    "rn.seed(SEED)\n",
    "\n",
    "data = np.load(os.path.join('.','data','royalty.npz'))\n",
    "\n",
    "triples = data['triples']\n",
    "traces = data['traces']\n",
    "entities = data['entities'].tolist()\n",
    "num_entities = len(entities)\n",
    "relations = data['relations'].tolist()\n",
    "num_relations = len(relations)\n",
    "embedding_dim = 3\n",
    "ent2idx = dict(zip(entities, range(num_entities)))\n",
    "rel2idx = dict(zip(relations, range(num_relations)))"
   ]
  },
  {
   "cell_type": "code",
   "execution_count": 153,
   "metadata": {},
   "outputs": [],
   "source": [
    "from tensorflow.keras.layers import Input, Embedding\n",
    "from tensorflow.keras.initializers import RandomUniform\n",
    "\n",
    "entity_embeddings = Embedding(\n",
    "    input_dim=num_entities,\n",
    "    output_dim=embedding_dim,\n",
    "    name='entity_embeddings',\n",
    "    embeddings_initializer=RandomUniform(\n",
    "        minval=-1,\n",
    "        maxval=1,\n",
    "        seed=SEED\n",
    "        )\n",
    "    )\n",
    "\n",
    "relation_embeddings = Embedding(\n",
    "    input_dim=num_relations,\n",
    "    output_dim=embedding_dim,\n",
    "    name='relation_embeddings',\n",
    "    embeddings_initializer=RandomUniform(\n",
    "        minval=-1,\n",
    "        maxval=1,\n",
    "        seed=SEED\n",
    "        )\n",
    "    )"
   ]
  },
  {
   "cell_type": "code",
   "execution_count": 173,
   "metadata": {},
   "outputs": [],
   "source": [
    "import tensorflow.keras.backend as K\n",
    "\n",
    "# class RGCN(tf.keras.layers.Layer):\n",
    "    \n",
    "#     def __init__(self,num_relations,output_dim,**kwargs):\n",
    "#         super(RGCN,self).__init__(**kwargs)\n",
    "#         self.num_relations = num_relations\n",
    "#         self.output_dim = output_dim\n",
    "    \n",
    "#     def build(self,input_shape):\n",
    "        \n",
    "#         in_shape = input_shape[-1][-1]\n",
    "#         self.kernel = self.add_weight(\n",
    "#             shape=(self.num_relations,self.output_dim,in_shape),\n",
    "#             trainable=True,\n",
    "#             initializer=\"random_normal\"\n",
    "#         )\n",
    "    \n",
    "#     def call(self,inputs):\n",
    "        \n",
    "#         head_e, tail_e = inputs\n",
    "\n",
    "#         head_mat = self.forward_pass(head_e)\n",
    "#         tail_mat = self.forward_pass(tail_e)\n",
    "        \n",
    "#         return head_mat,tail_mat\n",
    "\n",
    "#     def forward_pass(self,batch_embeddings):\n",
    "        \n",
    "#         embedding_mat = K.dot(self.kernel,K.transpose(batch_embeddings))\n",
    "        \n",
    "#         return K.transpose(K.sum(embedding_mat, axis=0))\n",
    "class RGCN(tf.keras.layers.Layer):\n",
    "    def __init__(self,num_relations,output_dim,**kwargs):\n",
    "        super(RGCN,self).__init__(**kwargs)\n",
    "        self.num_relations = num_relations\n",
    "        self.output_dim = output_dim\n",
    "    \n",
    "    def build(self,input_shape):\n",
    "\n",
    "        in_shape = input_shape[-1][-1]\n",
    "        self.kernel = self.add_weight(\n",
    "            shape=(self.num_relations,self.output_dim,in_shape),\n",
    "            trainable=True,\n",
    "            initializer=\"random_normal\"\n",
    "        )\n",
    "        \n",
    "    def call(self,inputs):\n",
    "        return inputs#K.sum(K.dot(self.kernel,K.transpose(inputs)), axis=2)"
   ]
  },
  {
   "cell_type": "code",
   "execution_count": 143,
   "metadata": {},
   "outputs": [],
   "source": [
    "#np.ones((1,3,3))*np.eye(3)"
   ]
  },
  {
   "cell_type": "code",
   "execution_count": 210,
   "metadata": {},
   "outputs": [],
   "source": [
    "head_input = tf.keras.Input(shape=(), name='head_input',dtype=tf.int64)\n",
    "rel_input = tf.keras.Input(shape=(), name='rel_input',dtype=tf.int64)\n",
    "tail_input = tf.keras.Input(shape=(), name='tail_input',dtype=tf.int64)\n",
    "all_entities = tf.keras.Input(shape=(),name='all_input',dtype=tf.int64)"
   ]
  },
  {
   "cell_type": "code",
   "execution_count": 186,
   "metadata": {},
   "outputs": [],
   "source": [
    "head_e = entity_embeddings(head_input)\n",
    "rel_e = relation_embeddings(rel_input)\n",
    "tail_e = entity_embeddings(tail_input)\n",
    "all_e = entity_embeddings(all_entities)"
   ]
  },
  {
   "cell_type": "code",
   "execution_count": 171,
   "metadata": {},
   "outputs": [
    {
     "data": {
      "text/plain": [
       "[<tf.Tensor 'rgcn_63/rgcn_63/Identity:0' shape=(None, 3) dtype=float32>]"
      ]
     },
     "execution_count": 171,
     "metadata": {},
     "output_type": "execute_result"
    }
   ],
   "source": [
    "#RGCN(num_relations,1)(RGCN(num_relations,5)([head_e,tail_e]))\n",
    "RGCN(num_relations,5)([all_e])"
   ]
  },
  {
   "cell_type": "code",
   "execution_count": null,
   "metadata": {},
   "outputs": [],
   "source": []
  },
  {
   "cell_type": "code",
   "execution_count": 102,
   "metadata": {},
   "outputs": [],
   "source": [
    "#np.dot(np.ones((4,5,3)),np.zeros((3,100))).shape#.sum(axis=0).T.shape#.sum(axis=(2)).shape "
   ]
  },
  {
   "cell_type": "code",
   "execution_count": 222,
   "metadata": {},
   "outputs": [],
   "source": [
    "class DistMult(tf.keras.layers.Layer):\n",
    "    def __init__(self, num_relations,embedding_dim):\n",
    "        super(DistMult,self).__init__()\n",
    "        self.num_relations = num_relations\n",
    "        self.embedding_dim = embedding_dim\n",
    "        \n",
    "    def build(self,input_shape):\n",
    "        self.kernel = self.add_weight(\n",
    "            shape=(self.num_relations,self.embedding_dim),\n",
    "            trainable=True,\n",
    "            initializer='random_normal'\n",
    "        )\n",
    "    def call(self,inputs):\n",
    "        #must be of dimensions (batch size,)\n",
    "        embeddings,head_idx,rel_idx, tail_idx = inputs\n",
    "        \n",
    "        updated_head_e = embedding_ops.embedding_lookup_v2(embeddings,head_idx)\n",
    "        rel_e = embedding_ops.embedding_lookup_v2(self.kernel,rel_idx)\n",
    "        updated_tail_e = embedding_ops.embedding_lookup_v2(embeddings,tail_idx)\n",
    "\n",
    "        return K.sum(updated_head_e*rel_e*updated_tail_e, axis=-1)"
   ]
  },
  {
   "cell_type": "code",
   "execution_count": 220,
   "metadata": {},
   "outputs": [],
   "source": [
    "# def get_adj_and_degrees(num_nodes, triplets):\n",
    "#     \"\"\" Get adjacency list and degrees of the graph\n",
    "#     \"\"\"\n",
    "#     adj_list = [[] for _ in range(num_nodes)]\n",
    "#     for i,triplet in enumerate(triplets):\n",
    "#         adj_list[triplet[0]].append([i, triplet[2]])\n",
    "#         adj_list[triplet[2]].append([i, triplet[0]])\n",
    "\n",
    "#     degrees = np.array([len(a) for a in adj_list])\n",
    "#     adj_list = [np.array(a) for a in adj_list]\n",
    "#     return adj_list, degrees\n",
    "# get_adj_and_degrees(num_entities,utils.array2idx(triples, ent2idx,rel2idx))\n",
    "\n",
    "#use custom weight initializer -> set new embedding layer with embeddings from RGCN\n",
    "#feed new embedding layer into distmult layer"
   ]
  },
  {
   "cell_type": "code",
   "execution_count": 223,
   "metadata": {},
   "outputs": [
    {
     "name": "stdout",
     "output_type": "stream",
     "text": [
      "WARNING:tensorflow:AutoGraph could not transform <bound method DistMult.call of <__main__.DistMult object at 0x194ed8ae50>> and will run it as-is.\n",
      "Please report this to the TensorFlow team. When filing the bug, set the verbosity to 10 (on Linux, `export AUTOGRAPH_VERBOSITY=10`) and attach the full output.\n",
      "Cause: 'arguments' object has no attribute 'posonlyargs'\n",
      "To silence this warning, decorate the function with @tf.autograph.experimental.do_not_convert\n",
      "WARNING: AutoGraph could not transform <bound method DistMult.call of <__main__.DistMult object at 0x194ed8ae50>> and will run it as-is.\n",
      "Please report this to the TensorFlow team. When filing the bug, set the verbosity to 10 (on Linux, `export AUTOGRAPH_VERBOSITY=10`) and attach the full output.\n",
      "Cause: 'arguments' object has no attribute 'posonlyargs'\n",
      "To silence this warning, decorate the function with @tf.autograph.experimental.do_not_convert\n"
     ]
    },
    {
     "data": {
      "text/plain": [
       "<tf.Tensor 'dist_mult_19/Sum:0' shape=(None,) dtype=float32>"
      ]
     },
     "execution_count": 223,
     "metadata": {},
     "output_type": "execute_result"
    }
   ],
   "source": [
    "#DistMult(num_relations,embedding_dim)([RGCN(num_relations,5)([all_e]),head_e,rel_input,tail_e])\n",
    "from tensorflow.python.ops import embedding_ops\n",
    "DistMult(num_relations,embedding_dim)([RGCN(num_relations,5)([all_e]),head_input, rel_input,tail_input])"
   ]
  },
  {
   "cell_type": "code",
   "execution_count": null,
   "metadata": {},
   "outputs": [],
   "source": []
  },
  {
   "cell_type": "code",
   "execution_count": null,
   "metadata": {},
   "outputs": [],
   "source": []
  },
  {
   "cell_type": "code",
   "execution_count": null,
   "metadata": {},
   "outputs": [],
   "source": []
  },
  {
   "cell_type": "code",
   "execution_count": null,
   "metadata": {},
   "outputs": [],
   "source": []
  }
 ],
 "metadata": {
  "kernelspec": {
   "display_name": "Python 3",
   "language": "python",
   "name": "python3"
  },
  "language_info": {
   "codemirror_mode": {
    "name": "ipython",
    "version": 3
   },
   "file_extension": ".py",
   "mimetype": "text/x-python",
   "name": "python",
   "nbconvert_exporter": "python",
   "pygments_lexer": "ipython3",
   "version": "3.7.4"
  }
 },
 "nbformat": 4,
 "nbformat_minor": 4
}
