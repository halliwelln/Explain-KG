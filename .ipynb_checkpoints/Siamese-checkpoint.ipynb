{
 "cells": [
  {
   "cell_type": "code",
   "execution_count": 1,
   "metadata": {},
   "outputs": [],
   "source": [
    "%matplotlib inline\n",
    "import matplotlib.pyplot as plt\n",
    "import numpy as np\n",
    "import tensorflow as tf\n",
    "import pandas as pd\n",
    "import random as rn\n",
    "import tensorflow.keras.backend as K\n",
    "import utils"
   ]
  },
  {
   "cell_type": "code",
   "execution_count": 2,
   "metadata": {},
   "outputs": [],
   "source": [
    "np.random.seed(123)\n",
    "rn.seed(123)\n",
    "tf.random.set_seed(123)"
   ]
  },
  {
   "cell_type": "code",
   "execution_count": 3,
   "metadata": {},
   "outputs": [],
   "source": [
    "fb15k_237 = np.load('./data/fb15k_237.npz', allow_pickle=True)"
   ]
  },
  {
   "cell_type": "code",
   "execution_count": 4,
   "metadata": {},
   "outputs": [],
   "source": [
    "train = fb15k_237['train']\n",
    "valid = fb15k_237['valid']\n",
    "test = fb15k_237['test']"
   ]
  },
  {
   "cell_type": "code",
   "execution_count": null,
   "metadata": {},
   "outputs": [],
   "source": []
  },
  {
   "cell_type": "code",
   "execution_count": 5,
   "metadata": {},
   "outputs": [],
   "source": [
    "entities = set(np.concatenate((train[:,0], \n",
    "                               train[:,2],\n",
    "                               valid[:,0], \n",
    "                               valid[:,2],\n",
    "                               test[:,0], \n",
    "                               test[:,2]), axis=0))\n",
    "\n",
    "all_relations = set(np.concatenate((train[:,1], valid[:,1], test[:,1]), axis=0))\n",
    "\n",
    "num_entities = len(entities)\n",
    "num_relations = len(all_relations)\n",
    "\n",
    "ent2idx = dict(zip(entities, range(num_entities)))\n",
    "rel2idx = dict(zip(all_relations, range(num_relations)))\n",
    "\n",
    "idx2ent = {idx:ent for ent,idx in ent2idx.items()}\n",
    "idx2rel = {idx:rel for rel,idx in rel2idx.items()}"
   ]
  },
  {
   "cell_type": "code",
   "execution_count": null,
   "metadata": {},
   "outputs": [],
   "source": []
  },
  {
   "cell_type": "code",
   "execution_count": 6,
   "metadata": {},
   "outputs": [],
   "source": [
    "train2idx = []\n",
    "\n",
    "for head, rel, tail in train:\n",
    "    \n",
    "    head_idx = ent2idx[head]\n",
    "    tail_idx = ent2idx[tail]\n",
    "    rel_idx = rel2idx[rel]\n",
    "\n",
    "    train2idx.append([head_idx, rel_idx, tail_idx])\n",
    "    \n",
    "train2idx = np.array(train2idx)"
   ]
  },
  {
   "cell_type": "code",
   "execution_count": null,
   "metadata": {},
   "outputs": [],
   "source": []
  },
  {
   "cell_type": "code",
   "execution_count": 7,
   "metadata": {},
   "outputs": [],
   "source": [
    "EMBEDDING_SIZE = 50\n",
    "BATCH_SIZE = 256\n",
    "NUM_EPOCHS = 200\n",
    "MARGIN = 3\n",
    "SQRT_SIZE = 6 / np.sqrt(EMBEDDING_SIZE)"
   ]
  },
  {
   "cell_type": "code",
   "execution_count": 8,
   "metadata": {},
   "outputs": [],
   "source": [
    "train_data = tf.data.Dataset.from_tensor_slices((train2idx[:,0], train2idx[:,1], train2idx[:,2]))\n",
    "train_data = train_data.shuffle(buffer_size=50000).batch(BATCH_SIZE)\n",
    "\n",
    "#exp_decay = tf.keras.optimizers.schedules.ExponentialDecay(.01, 1000, .05)\n",
    "optimizer = tf.keras.optimizers.SGD(learning_rate=.001)"
   ]
  },
  {
   "cell_type": "code",
   "execution_count": 9,
   "metadata": {},
   "outputs": [],
   "source": [
    "def get_entity_model():\n",
    "    \n",
    "    entity_input = tf.keras.layers.Input(shape=(1,), name='entity_input')\n",
    "    \n",
    "    entity_embedding = tf.keras.layers.Embedding(\n",
    "        input_dim=num_entities,\n",
    "        output_dim=EMBEDDING_SIZE,\n",
    "        name='entity_embeddings',\n",
    "        embeddings_initializer=tf.keras.initializers.RandomUniform(minval=-SQRT_SIZE, maxval=SQRT_SIZE, seed=123)\n",
    "        )(entity_input)\n",
    "    \n",
    "    #conv_1 = tf.keras.layers.Conv1D(filters=64,kernel_size=2, strides=1,padding='same', name='conv_1')(entity_embedding)\n",
    "    \n",
    "    #flatten = tf.keras.layers.Flatten()(conv_1)\n",
    "    \n",
    "    #dense = tf.keras.layers.Dense(64)(flatten)\n",
    "    \n",
    "    model = tf.keras.Model(inputs=entity_input, outputs=entity_embedding)\n",
    "    \n",
    "    return model\n",
    "    \n",
    "def get_relation_model():\n",
    "    \n",
    "    relation_input = tf.keras.layers.Input(shape=(1,), name='relation_input')\n",
    "\n",
    "    relation_embedding = tf.keras.layers.Embedding(\n",
    "        input_dim=num_relations,\n",
    "        output_dim=EMBEDDING_SIZE,\n",
    "        name='relation_embeddings',\n",
    "        embeddings_initializer=tf.keras.initializers.RandomUniform(minval=-SQRT_SIZE, maxval=SQRT_SIZE, seed=123)\n",
    "    )(relation_input)\n",
    "    \n",
    "    #conv_1 = tf.keras.layers.Conv1D(filters=64,kernel_size=2, \n",
    "    #                                strides=1,padding='same', name='conv_1')(relation_embedding)\n",
    "    \n",
    "    #flatten = tf.keras.layers.Flatten()(conv_1)\n",
    "    \n",
    "    #dense = tf.keras.layers.Dense(64)(flatten)\n",
    "    \n",
    "    model = tf.keras.Model(inputs=relation_input, outputs=relation_embedding)\n",
    "    \n",
    "    return model\n",
    "\n",
    "# def get_embedding_model():\n",
    "    \n",
    "#     embedding_input = tf.keras.layers.Input(shape=(1,), name='embedding_input')\n",
    "    \n",
    "#     embeddings = tf.keras.layers.Embedding(\n",
    "#         input_dim=num_items,\n",
    "#         output_dim=EMBEDDING_SIZE,\n",
    "#         name='embeddings',\n",
    "#         embeddings_initializer=tf.keras.initializers.RandomUniform(\n",
    "#             minval=-SQRT_SIZE, maxval=SQRT_SIZE, seed=123)\n",
    "#         )(embedding_input)\n",
    "    \n",
    "#     model = tf.keras.Model(inputs=embedding_input, outputs=embeddings)\n",
    "    \n",
    "#     return model"
   ]
  },
  {
   "cell_type": "code",
   "execution_count": 10,
   "metadata": {},
   "outputs": [],
   "source": [
    "def dissimilarity(tensors):\n",
    "    \n",
    "    head, rel, tail = tensors\n",
    "    \n",
    "    return K.sum(K.square(head + rel - tail), axis=1, keepdims=True)\n",
    "\n",
    "def margin(tensors):\n",
    "    \n",
    "    pos, neg = tensors\n",
    "    \n",
    "    return K.relu(pos-neg+K.constant(1))"
   ]
  },
  {
   "cell_type": "code",
   "execution_count": 11,
   "metadata": {},
   "outputs": [],
   "source": [
    "def get_siamese_model():\n",
    "    \n",
    "    input_shape = (1,)\n",
    "    \n",
    "    pos_head_input = tf.keras.layers.Input(shape=input_shape, name='pos_head_input')\n",
    "    neg_head_input = tf.keras.layers.Input(shape=input_shape, name='neg_head_input')\n",
    "    pos_tail_input = tf.keras.layers.Input(shape=input_shape, name='pos_tail_input')\n",
    "    neg_tail_input = tf.keras.layers.Input(shape=input_shape, name='neg_tail_input')\n",
    "    relation_input = tf.keras.layers.Input(shape=input_shape, name='relation_input')\n",
    "    \n",
    "    entity_model = get_entity_model()\n",
    "    relation_model = get_relation_model()\n",
    "    \n",
    "    pos_h_e = entity_model(pos_head_input)\n",
    "    neg_h_e = entity_model(neg_head_input)\n",
    "    pos_t_e = entity_model(pos_tail_input)\n",
    "    neg_t_e = entity_model(neg_tail_input)\n",
    "    rel_e   = relation_model(relation_input)\n",
    "    \n",
    "    dist = tf.keras.layers.Lambda(dissimilarity, name='dist')\n",
    "    \n",
    "    pos = dist([pos_h_e, rel_e, pos_t_e])\n",
    "    neg = dist([neg_h_e, rel_e, neg_t_e])\n",
    "    \n",
    "    #margin_layer = tf.keras.layers.Lambda(margin, name='margin')\n",
    "    \n",
    "    #margin_vector = margin_layer([pos, neg])\n",
    "    \n",
    "    #preds = tf.keras.layers.Dense(1, activation='sigmoid')(margin_vector)\n",
    "    \n",
    "    #preds_out = tf.keras.layers.Flatten()(preds)\n",
    "    \n",
    "    siamese_model = tf.keras.Model(\n",
    "        inputs=[pos_head_input, neg_head_input, pos_tail_input, neg_tail_input, relation_input],\n",
    "        outputs=[pos, neg]\n",
    "        )\n",
    "    \n",
    "    return siamese_model, entity_model, relation_model"
   ]
  },
  {
   "cell_type": "code",
   "execution_count": 12,
   "metadata": {},
   "outputs": [],
   "source": [
    "#get labels 1 between positive triples and 0 between negative triples\n",
    "siamese_model, entity_model, relation_model = get_siamese_model()\n",
    "#siamese, entity_model = get_siamese_model()"
   ]
  },
  {
   "cell_type": "code",
   "execution_count": 14,
   "metadata": {},
   "outputs": [
    {
     "data": {
      "text/plain": [
       "[<tf.Tensor 'dist/Identity:0' shape=(None, 1, 50) dtype=float32>,\n",
       " <tf.Tensor 'dist_1/Identity:0' shape=(None, 1, 50) dtype=float32>]"
      ]
     },
     "execution_count": 14,
     "metadata": {},
     "output_type": "execute_result"
    }
   ],
   "source": [
    "siamese_model.output"
   ]
  },
  {
   "cell_type": "code",
   "execution_count": 16,
   "metadata": {},
   "outputs": [
    {
     "name": "stdout",
     "output_type": "stream",
     "text": [
      "Current loss 609.36206 at epoch 0\n",
      "Current loss 329.98303 at epoch 10\n",
      "Current loss 171.49213 at epoch 20\n",
      "Current loss 172.64667 at epoch 30\n",
      "Current loss 98.302536 at epoch 40\n",
      "Current loss 94.73251 at epoch 50\n",
      "Current loss 55.281982 at epoch 60\n",
      "Current loss 69.80447 at epoch 70\n",
      "Current loss 67.32832 at epoch 80\n",
      "Current loss 23.868315 at epoch 90\n",
      "Current loss 38.954155 at epoch 100\n",
      "Current loss 36.91658 at epoch 110\n",
      "Current loss 27.223248 at epoch 120\n",
      "Current loss 32.41407 at epoch 130\n",
      "Current loss 40.68985 at epoch 140\n",
      "Current loss 27.854687 at epoch 150\n",
      "Current loss 17.91468 at epoch 160\n",
      "Current loss 27.958858 at epoch 170\n",
      "Current loss 15.168619 at epoch 180\n",
      "Current loss 34.19442 at epoch 190\n"
     ]
    }
   ],
   "source": [
    "losses = []\n",
    "MARGIN = 2\n",
    "\n",
    "for epoch in range(NUM_EPOCHS):\n",
    "    \n",
    "    for head, rel, tail in train_data:\n",
    "                \n",
    "        neg_head, neg_tail = utils.get_negative_triples(head, rel, tail, num_entities=num_entities)\n",
    "        \n",
    "        with tf.GradientTape() as tape:\n",
    "            \n",
    "            pos, neg = siamese_model([head, neg_head, tail, neg_tail, rel])\n",
    "\n",
    "            loss = tf.reduce_sum(tf.maximum(pos - neg + MARGIN, 0))\n",
    "            \n",
    "        grads = tape.gradient(loss,siamese_model.trainable_variables)\n",
    "        optimizer.apply_gradients(zip(grads,siamese_model.trainable_variables))\n",
    "    \n",
    "    if not epoch % 10:\n",
    "        \n",
    "        print('Current loss' , loss.numpy(),'at epoch', epoch)\n",
    "    \n",
    "    losses.append(loss.numpy()) "
   ]
  },
  {
   "cell_type": "code",
   "execution_count": 17,
   "metadata": {},
   "outputs": [
    {
     "data": {
      "text/plain": [
       "[<matplotlib.lines.Line2D at 0x639c67810>]"
      ]
     },
     "execution_count": 17,
     "metadata": {},
     "output_type": "execute_result"
    },
    {
     "data": {
      "image/png": "[encoded data removed]",
      "text/plain": [
       "<Figure size 432x288 with 1 Axes>"
      ]
     },
     "metadata": {
      "needs_background": "light"
     },
     "output_type": "display_data"
    }
   ],
   "source": [
    "%matplotlib inline\n",
    "import matplotlib.pyplot as plt\n",
    "\n",
    "plt.plot(range(len(losses)), losses)"
   ]
  },
  {
   "cell_type": "code",
   "execution_count": 19,
   "metadata": {},
   "outputs": [],
   "source": [
    "paris_str = '/m/05qtj'\n",
    "france_str = '/m/0f8l9c'\n",
    "\n",
    "capital = rel2idx['/location/country/capital']\n",
    "paris_idx = ent2idx[paris_str]\n",
    "france_idx = ent2idx[france_str]\n",
    "\n",
    "paris, france = entity_model(tf.convert_to_tensor([paris_idx, france_idx]))"
   ]
  },
  {
   "cell_type": "code",
   "execution_count": null,
   "metadata": {},
   "outputs": [],
   "source": []
  },
  {
   "cell_type": "code",
   "execution_count": 20,
   "metadata": {},
   "outputs": [
    {
     "data": {
      "text/plain": [
       "'/location/capital_of_administrative_division/capital_of./location/administrative_division_capital_relationship/administrative_division'"
      ]
     },
     "execution_count": 20,
     "metadata": {},
     "output_type": "execute_result"
    }
   ],
   "source": [
    "scores = []\n",
    "\n",
    "for i in range(len(rel2idx)):\n",
    "    \n",
    "    temp_rel = relation_model(i)\n",
    "    \n",
    "    score = -np.linalg.norm((paris+temp_rel - france),ord=2)\n",
    "    \n",
    "    scores.append(score)\n",
    "    \n",
    "idx2rel[np.argmax(scores)]"
   ]
  },
  {
   "cell_type": "code",
   "execution_count": 21,
   "metadata": {},
   "outputs": [
    {
     "name": "stdout",
     "output_type": "stream",
     "text": [
      "/base/popstra/celebrity/dated./base/popstra/dated/participant\n",
      "/education/field_of_study/students_majoring./education/education/major_field_of_study\n",
      "/base/aareas/schema/administrative_area/administrative_parent\n",
      "/people/person/spouse_s./people/marriage/spouse\n",
      "/location/hud_county_place/county\n",
      "/influence/influence_node/peers./influence/peer_relationship/peers\n",
      "/music/performance_role/guest_performances./music/recording_contribution/performance_role\n",
      "/celebrities/celebrity/celebrity_friends./celebrities/friendship/friend\n",
      "/base/biblioness/bibs_location/country\n",
      "/location/capital_of_administrative_division/capital_of./location/administrative_division_capital_relationship/administrative_division\n"
     ]
    }
   ],
   "source": [
    "for i in np.argsort(scores)[-10:]:\n",
    "    \n",
    "    print(idx2rel[i])"
   ]
  },
  {
   "cell_type": "code",
   "execution_count": null,
   "metadata": {},
   "outputs": [],
   "source": [
    "# head_input = siamese.get_layer('pos_head_input')(head)\n",
    "# tail_input = siamese.get_layer('pos_tail_input')(tail)\n",
    "# rel_input = siamese.get_layer('relation_input')(rel)\n",
    "\n",
    "# h = embedding(head_input)\n",
    "# t = embedding(tail_input)\n",
    "# r = relation(rel_input)\n",
    "\n",
    "# neg_head_i = siamese.get_layer('neg_head_input')(neg_head)\n",
    "# neg_tail_i = siamese.get_layer('neg_tail_input')(neg_tail)\n",
    "\n",
    "# n_h = embedding(neg_head_i)\n",
    "# n_t = embedding(neg_tail_i)"
   ]
  },
  {
   "cell_type": "code",
   "execution_count": null,
   "metadata": {},
   "outputs": [],
   "source": []
  },
  {
   "cell_type": "code",
   "execution_count": null,
   "metadata": {},
   "outputs": [],
   "source": []
  },
  {
   "cell_type": "code",
   "execution_count": null,
   "metadata": {},
   "outputs": [],
   "source": []
  }
 ],
 "metadata": {
  "kernelspec": {
   "display_name": "Python 3",
   "language": "python",
   "name": "python3"
  },
  "language_info": {
   "codemirror_mode": {
    "name": "ipython",
    "version": 3
   },
   "file_extension": ".py",
   "mimetype": "text/x-python",
   "name": "python",
   "nbconvert_exporter": "python",
   "pygments_lexer": "ipython3",
   "version": "3.7.4"
  }
 },
 "nbformat": 4,
 "nbformat_minor": 4
}
