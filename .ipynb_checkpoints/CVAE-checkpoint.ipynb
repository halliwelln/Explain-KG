{
 "cells": [
  {
   "cell_type": "code",
   "execution_count": 1,
   "metadata": {},
   "outputs": [],
   "source": [
    "%matplotlib inline\n",
    "import matplotlib.pyplot as plt\n",
    "from tensorflow.keras.layers import Lambda, Input, Dense, Layer, Concatenate\n",
    "from tensorflow.keras.models import Model\n",
    "import random as rn\n",
    "import numpy as np\n",
    "import tensorflow as tf\n",
    "\n",
    "rn.seed(123)\n",
    "np.random.seed(123)\n",
    "tf.random.set_seed(123)\n",
    "\n",
    "def sampling(args):\n",
    "    \"\"\"Reparameterization trick by sampling from an isotropic unit Gaussian.\n",
    "\n",
    "    # Arguments\n",
    "        args (tensor): mean and log of variance of Q(z|X)\n",
    "\n",
    "    # Returns\n",
    "        z (tensor): sampled latent vector\n",
    "    \"\"\"\n",
    "\n",
    "    z_mean, z_log_var = args\n",
    "    batch = tf.keras.backend.shape(z_mean)[0]\n",
    "    dim = tf.keras.backend.int_shape(z_mean)[1]\n",
    "    epsilon = tf.keras.backend.random_normal(shape=(batch, dim), seed=123)\n",
    "    \n",
    "    return z_mean + tf.keras.backend.exp(0.5 * z_log_var) * epsilon\n",
    "\n",
    "# (x_train, y_train), (x_test, y_test) = tf.keras.datasets.mnist.load_data()\n",
    "\n",
    "# image_size = x_train.shape[1]\n",
    "# original_dim = image_size * image_size\n",
    "# x_train = np.reshape(x_train, [-1, original_dim])\n",
    "# x_test = np.reshape(x_test, [-1, original_dim])\n",
    "# x_train = x_train.astype('float32') / 255\n",
    "# x_test = x_test.astype('float32') / 255\n",
    "\n",
    "# input_shape = (original_dim, )\n",
    "# intermediate_dim = 512\n",
    "# batch_size = 128\n",
    "# latent_dim = 2\n",
    "# epochs = 50\n",
    "\n",
    "# y_train_one_hot = tf.keras.utils.to_categorical(y_train, num_classes=10)\n",
    "# y_test_one_hot = tf.keras.utils.to_categorical(y_test, num_classes=10)\n",
    "\n",
    "# NUM_CLASSES = y_train_one_hot.shape[1]"
   ]
  },
  {
   "cell_type": "code",
   "execution_count": null,
   "metadata": {},
   "outputs": [],
   "source": []
  },
  {
   "cell_type": "code",
   "execution_count": null,
   "metadata": {},
   "outputs": [],
   "source": []
  },
  {
   "cell_type": "code",
   "execution_count": 2,
   "metadata": {},
   "outputs": [],
   "source": [
    "data = np.load('./data/ampli_data.npz')"
   ]
  },
  {
   "cell_type": "code",
   "execution_count": 3,
   "metadata": {},
   "outputs": [],
   "source": [
    "relations = data['relations']\n",
    "entities = data['entities']\n",
    "\n",
    "entity_embeddings = data['entity_embeddings']\n",
    "relation_embeddings = data['relation_embeddings']\n",
    "\n",
    "X = data['X']\n",
    "\n",
    "relation_dict = dict(zip(relations, relation_embeddings))\n",
    "entity_dict = dict(zip(entities, entity_embeddings))\n",
    "\n",
    "embedding_dim = entity_embeddings.shape[1]\n",
    "original_dim = embedding_dim"
   ]
  },
  {
   "cell_type": "code",
   "execution_count": 4,
   "metadata": {},
   "outputs": [],
   "source": [
    "intermediate_dim = 64\n",
    "batch_size = 1\n",
    "latent_dim = 2\n",
    "epochs = 50"
   ]
  },
  {
   "cell_type": "code",
   "execution_count": 5,
   "metadata": {},
   "outputs": [],
   "source": [
    "# X_embedding = []\n",
    "\n",
    "# for i in X:\n",
    "    \n",
    "#     head, rel, tail = i\n",
    "    \n",
    "#     head_embed = entity_dict[head]\n",
    "#     tail_embed = entity_dict[tail]\n",
    "#     rel_embed = relation_dict[rel]\n",
    "    \n",
    "#     X_embedding.append([head_embed, rel_embed, tail_embed])\n",
    "\n",
    "# X_embedding = np.array(X_embedding)\n",
    "\n",
    "# train_dataset = tf.data.Dataset.from_tensor_slices(X_embedding).batch(batch_size)\n",
    "\n",
    "# for i in train_dataset:\n",
    "    \n",
    "#     print(i)"
   ]
  },
  {
   "cell_type": "code",
   "execution_count": 6,
   "metadata": {},
   "outputs": [],
   "source": [
    "head_embedding = []\n",
    "rel_embedding = []\n",
    "tail_embedding = []\n",
    "\n",
    "for i in X:\n",
    "    \n",
    "    head, rel, tail = i\n",
    "    \n",
    "    head_embed = entity_dict[head]\n",
    "    tail_embed = entity_dict[tail]\n",
    "    rel_embed = relation_dict[rel]  \n",
    "    \n",
    "    head_embedding.append(head_embed)\n",
    "    rel_embedding.append(rel_embed)\n",
    "    tail_embedding.append(tail_embed)\n",
    "    \n",
    "head_embedding = np.array(head_embedding)\n",
    "rel_embedding = np.array(rel_embedding)\n",
    "tail_embedding = np.array(tail_embedding)"
   ]
  },
  {
   "cell_type": "code",
   "execution_count": null,
   "metadata": {},
   "outputs": [],
   "source": []
  },
  {
   "cell_type": "code",
   "execution_count": 7,
   "metadata": {},
   "outputs": [
    {
     "name": "stdout",
     "output_type": "stream",
     "text": [
      "Epoch 0: mean loss = tf.Tensor(2.7780209, shape=(), dtype=float32)\n",
      "Epoch 10: mean loss = tf.Tensor(1.5447139, shape=(), dtype=float32)\n",
      "Epoch 20: mean loss = tf.Tensor(0.8045146, shape=(), dtype=float32)\n",
      "Epoch 30: mean loss = tf.Tensor(0.5141095, shape=(), dtype=float32)\n",
      "Epoch 40: mean loss = tf.Tensor(0.43577012, shape=(), dtype=float32)\n"
     ]
    }
   ],
   "source": [
    "# X_input = Input(shape=(x_train.shape[1],)) \n",
    "# cond = Input(shape=(NUM_CLASSES,))\n",
    "# inputs = Concatenate()([X_input, cond])\n",
    "\n",
    "head_input = Input(shape=(embedding_dim,))\n",
    "rel_input = Input(shape=(embedding_dim))\n",
    "tail_input = Input(shape=(embedding_dim,))\n",
    "\n",
    "inputs = Concatenate()([head_input, rel_input, tail_input])\n",
    "\n",
    "encoder_h = Dense(intermediate_dim, activation='relu',name='encoder_h')(inputs)\n",
    "mu = Dense(latent_dim, activation='linear', name='mu')(encoder_h)\n",
    "l_sigma = Dense(latent_dim, activation='linear', name='l_sigma')(encoder_h)\n",
    "\n",
    "z = Lambda(sampling, output_shape = (latent_dim, ))([mu, l_sigma])\n",
    "\n",
    "zc = Concatenate(name='z_condition')([z, head_input, rel_input, tail_input])\n",
    "#zc = Concatenate(name='z_condition')([z, rel_input, tail_input])\n",
    "\n",
    "decoder_hidden = Dense(intermediate_dim, activation='relu', name='decoder_hidden')\n",
    "decoder_output = Dense(original_dim, activation='sigmoid', name='decoder_output')\n",
    "\n",
    "decoder_intermediate = decoder_hidden(zc)\n",
    "decoder_output_layer = decoder_output(decoder_intermediate)\n",
    "\n",
    "cvae = Model([head_input, rel_input, tail_input],\n",
    "             [decoder_output_layer,mu, l_sigma])\n",
    "encoder = Model(inputs=cvae.inputs, outputs=[cvae.get_layer('mu').output, \n",
    "                 cvae.get_layer('l_sigma').output])\n",
    "\n",
    "# decoder_z = Input(shape=(latent_dim,))\n",
    "# decoder_cond = Input(shape=(NUM_CLASSES,))\n",
    "# decoder_input = Concatenate()([decoder_z, decoder_cond])\n",
    "\n",
    "decoder_z = Input(shape=(latent_dim,))\n",
    "decoder_head = Input(shape=(embedding_dim))\n",
    "decoder_rel = Input(shape=(embedding_dim))\n",
    "decoder_tail = Input(shape=(embedding_dim))\n",
    "\n",
    "decoder_input = Concatenate()([decoder_z, decoder_head, decoder_rel, decoder_tail])\n",
    "\n",
    "slice_decoder_hidden = decoder_hidden(decoder_input)\n",
    "slice_decoder_output = decoder_output(slice_decoder_hidden)\n",
    "decoder = Model([decoder_z, decoder_head, decoder_rel, decoder_tail], slice_decoder_output)\n",
    "\n",
    "optimizer = tf.keras.optimizers.Adam(learning_rate=1e-3)\n",
    "mse_loss_fn = tf.keras.losses.MeanSquaredError()\n",
    "\n",
    "#train_dataset = tf.data.Dataset.from_tensor_slices((x_train, y_train_one_hot))\n",
    "#train_dataset = train_dataset.shuffle(buffer_size=1024).batch(128)\n",
    "\n",
    "train_dataset = tf.data.Dataset.from_tensor_slices(\n",
    "    (head_embedding,rel_embedding, tail_embedding)).batch(batch_size)\n",
    "\n",
    "for epoch in range(epochs):\n",
    "    \n",
    "    loss_metric = tf.keras.metrics.Mean()\n",
    "    \n",
    "    #for x_batch_train, y_batch_train in train_dataset:\n",
    "    for head, rel, tail in train_dataset:\n",
    "        \n",
    "        with tf.GradientTape() as tape:\n",
    "            \n",
    "            reconstructed, z_mu, z_sigma = cvae((head, rel, tail))\n",
    "            \n",
    "            mse_loss = mse_loss_fn(head, reconstructed)\n",
    "            mse_loss *= original_dim\n",
    "\n",
    "            kl_loss = -0.5 * tf.reduce_sum(1 + z_sigma - tf.square(z_mu) - tf.exp(z_sigma), axis=-1)\n",
    "            \n",
    "            loss = tf.reduce_mean(mse_loss + kl_loss)\n",
    "\n",
    "        grads = tape.gradient(loss, cvae.trainable_weights)\n",
    "        optimizer.apply_gradients(zip(grads, cvae.trainable_weights))\n",
    "\n",
    "        loss_metric(loss)\n",
    "\n",
    "    if not epoch % 10:\n",
    "        \n",
    "        print('Epoch %s: mean loss = %s' % (epoch, loss_metric.result()))"
   ]
  },
  {
   "cell_type": "code",
   "execution_count": 8,
   "metadata": {},
   "outputs": [],
   "source": [
    "#z_mean_test = encoder((x_test, y_test_one_hot))\n",
    "#z_mean_test, z_sigma_test = encoder((head_embedding,rel_embedding, tail_embedding))\n",
    "z_mean_test, z_sigma_test = encoder((head_embedding,rel_embedding, tail_embedding,\n",
    "                                    head_embedding,rel_embedding, tail_embedding))\n",
    "#z_mean_test = encoder((head_embedding,rel_embedding, tail_embedding))"
   ]
  },
  {
   "cell_type": "code",
   "execution_count": 9,
   "metadata": {},
   "outputs": [
    {
     "data": {
      "image/png": "[encoded data removed]",
      "text/plain": [
       "<Figure size 864x720 with 2 Axes>"
      ]
     },
     "metadata": {
      "needs_background": "light"
     },
     "output_type": "display_data"
    }
   ],
   "source": [
    "plt.figure(figsize=(12, 10))\n",
    "plt.scatter(z_mean_test[:, 0], z_mean_test[:, 1])\n",
    "plt.colorbar()\n",
    "plt.xlabel(\"z[0]\")\n",
    "plt.ylabel(\"z[1]\")\n",
    "plt.show()"
   ]
  },
  {
   "cell_type": "code",
   "execution_count": 10,
   "metadata": {},
   "outputs": [],
   "source": [
    "# z_sample = np.random.rand(1,latent_dim)\n",
    "\n",
    "# new = decoder.predict([z_sample, head_embedding[0:1,],rel_embedding[0:1] ,tail_embedding[0:1]])\n",
    "# full = np.concatenate((head_embedding, rel_embedding, tail_embedding), axis=1)\n",
    "\n",
    "# print(X[0])\n",
    "\n",
    "# XX = np.sum(np.square(new), axis=1)[:,np.newaxis]\n",
    "# YY = np.sum(np.square(entity_embeddings), axis=1)\n",
    "\n",
    "# dist = XX + YY - 2 * np.dot(new,entity_embeddings.T)\n",
    "\n",
    "# entities[np.argmin(dist)]\n",
    "\n",
    "# YY = np.sum(np.square(full), axis=1)\n",
    "# dist = XX + YY - 2 * np.dot(new,full.T)\n",
    "\n",
    "# np.argmin(dist)"
   ]
  },
  {
   "cell_type": "code",
   "execution_count": 11,
   "metadata": {},
   "outputs": [],
   "source": [
    "# print('XX',XX.shape)\n",
    "# print('YY',YY.shape)\n",
    "# print('new',new.shape)\n",
    "# print('entity embedding',entity_embeddings.shape)\n",
    "# print('dot', np.dot(new,entity_embeddings.T).shape)\n",
    "\n",
    "# print('\\n')\n",
    "# print('XX',XX.shape)\n",
    "# print('YY',np.sum(np.square(full), axis=1).shape)\n",
    "# print('new',new.shape)\n",
    "# print('entity_embedding',full.shape)\n",
    "# print('dot',np.dot(new,full.T).shape)"
   ]
  },
  {
   "cell_type": "code",
   "execution_count": 17,
   "metadata": {},
   "outputs": [],
   "source": [
    "base_h, base_r, base_t = X[0]\n",
    "\n",
    "base_head_embed = entity_dict[base_h].reshape(1,-1)\n",
    "base_tail_embed = entity_dict[base_t].reshape(1,-1)\n",
    "base_rel_embed = relation_dict[base_r].reshape(1,-1)\n",
    "\n",
    "means, stds = encoder([head_embedding[0:1],rel_embedding[0:1],tail_embedding[0:1]])\n",
    "#means = new_encoder([head_embedding[0].reshape(1,-1),rel_embedding[0].reshape(1,-1),\n",
    "#                       tail_embedding[0].reshape(1,-1)])\n",
    "a = np.random.multivariate_normal(means.numpy().flatten(), \n",
    "                                      np.diag(np.exp(.5 * stds.numpy().flatten())), size=1000)\n",
    "kld = tf.keras.losses.KLDivergence()\n",
    "scores = []\n",
    "\n",
    "for i in X:\n",
    "    \n",
    "    head, rel, tail = i\n",
    "    \n",
    "    head_embed = entity_dict[head].reshape(1,-1)\n",
    "    tail_embed = entity_dict[tail].reshape(1,-1)\n",
    "    rel_embed = relation_dict[rel].reshape(1,-1)\n",
    "    \n",
    "    new_means, new_stds = encoder([base_head_embed,base_rel_embed,base_tail_embed])\n",
    "    #new_means = new_encoder([head_embed,rel_embed,tail_embed])\n",
    "\n",
    "    b = np.random.multivariate_normal(new_means.numpy().flatten(), np.diag(np.exp(.5 * new_stds.numpy().flatten())),size=1000)\n",
    "    \n",
    "    triple = [head, rel, tail]\n",
    "    \n",
    "    #score = kld(a,b).numpy()\n",
    "    score = kld(new_means.numpy(), means.numpy()).numpy()\n",
    "    \n",
    "    scores.append((triple, score))"
   ]
  },
  {
   "cell_type": "code",
   "execution_count": 18,
   "metadata": {},
   "outputs": [
    {
     "name": "stdout",
     "output_type": "stream",
     "text": [
      "['George' 'worksFor' 'Acme Inc']\n"
     ]
    },
    {
     "data": {
      "text/plain": [
       "[(['George', 'worksFor', 'Acme Inc'], 0.0),\n",
       " (['George', 'isA', 'Person'], 0.0),\n",
       " (['Mike', 'friendWith', 'George'], 0.0),\n",
       " (['Liverpool FC', 'basedIn', 'Liverpool'], 0.0),\n",
       " (['Liverpool FC', 'isA', 'FootballTeam'], 0.0),\n",
       " (['Liverpool', 'isA', 'City'], 0.0)]"
      ]
     },
     "execution_count": 18,
     "metadata": {},
     "output_type": "execute_result"
    }
   ],
   "source": [
    "print(X[0])\n",
    "sorted(scores, key=lambda tup: tup[1])"
   ]
  },
  {
   "cell_type": "code",
   "execution_count": 14,
   "metadata": {},
   "outputs": [],
   "source": [
    "#new_encoder = Model(inputs=cvae.inputs, outputs=[cvae.get_layer('lambda').output])\n",
    "#new_encoder((head_embedding[[0,0]],rel_embedding[[0,0]],tail_embedding[[0,0]]))\n",
    "# a = np.random.multivariate_normal(means.numpy().flatten(), \n",
    "#                                      np.diag(np.exp(.5 * stds.numpy().flatten())), size=100)"
   ]
  },
  {
   "cell_type": "code",
   "execution_count": null,
   "metadata": {},
   "outputs": [],
   "source": []
  },
  {
   "cell_type": "code",
   "execution_count": 15,
   "metadata": {},
   "outputs": [],
   "source": [
    "#encoder((head_embedding[[0,0]],rel_embedding[[0,0]],tail_embedding[[0,0]]))"
   ]
  },
  {
   "cell_type": "code",
   "execution_count": 16,
   "metadata": {},
   "outputs": [],
   "source": [
    "# digit_size = 28\n",
    "\n",
    "# z_sample = np.random.rand(1, 2)\n",
    "\n",
    "# plt.figure(figsize=(20, 2))\n",
    "\n",
    "# for i in range(10):\n",
    "    \n",
    "#     c = tf.keras.utils.to_categorical(i,NUM_CLASSES)\n",
    "    \n",
    "#     c = c.reshape(1,-1)\n",
    "#     x_decoded = decoder.predict([z_sample, c])\n",
    "#     digit = x_decoded[0].reshape(digit_size, digit_size)\n",
    "\n",
    "#     plt.subplot(1, NUM_CLASSES, i+1)\n",
    "#     plt.axis('off')\n",
    "#     plt.imshow(digit, cmap='Greys_r')\n",
    "# plt.show()"
   ]
  },
  {
   "cell_type": "code",
   "execution_count": null,
   "metadata": {},
   "outputs": [],
   "source": []
  },
  {
   "cell_type": "code",
   "execution_count": null,
   "metadata": {},
   "outputs": [],
   "source": []
  },
  {
   "cell_type": "code",
   "execution_count": null,
   "metadata": {},
   "outputs": [],
   "source": []
  }
 ],
 "metadata": {
  "kernelspec": {
   "display_name": "Python 3",
   "language": "python",
   "name": "python3"
  },
  "language_info": {
   "codemirror_mode": {
    "name": "ipython",
    "version": 3
   },
   "file_extension": ".py",
   "mimetype": "text/x-python",
   "name": "python",
   "nbconvert_exporter": "python",
   "pygments_lexer": "ipython3",
   "version": "3.7.4"
  }
 },
 "nbformat": 4,
 "nbformat_minor": 4
}
