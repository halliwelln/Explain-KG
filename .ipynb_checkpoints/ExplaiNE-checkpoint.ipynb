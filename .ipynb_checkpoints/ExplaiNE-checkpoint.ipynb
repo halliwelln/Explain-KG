{
 "cells": [
  {
   "cell_type": "code",
   "execution_count": 1,
   "metadata": {},
   "outputs": [],
   "source": [
    "%matplotlib inline\n",
    "import matplotlib.pyplot as plt\n",
    "import numpy as np\n",
    "import tensorflow as tf\n",
    "import pandas as pd\n",
    "import random as rn\n",
    "import os\n",
    "import cne\n",
    "import maxent"
   ]
  },
  {
   "cell_type": "code",
   "execution_count": 2,
   "metadata": {},
   "outputs": [],
   "source": [
    "triples = [('Eve', 'type', 'Lecturer'),\n",
    "           #('Eve', 'type', 'Person'), \n",
    "           ('Lecturer', 'subClassOf', 'Person'), \n",
    "           #('David', 'type', 'Person'),\n",
    "           ('David', 'type', 'Researcher'),\n",
    "           ('Researcher', 'subClassOf', 'Person'),\n",
    "           ('Flora', 'hasSpouse', 'Gaston'),\n",
    "           ('Gaston', 'type', 'Person'),\n",
    "           #('Flora', 'type', 'Person')\n",
    "          ]\n",
    "\n",
    "train = np.array(triples)\n",
    "\n",
    "entities = list(set(np.concatenate((train[:,0], train[:,2]), axis=0)))\n",
    "relations = list(set(train[:,1]))\n",
    "\n",
    "num_entities = len(entities)\n",
    "num_relations = len(relations)\n",
    "\n",
    "ent2idx = dict(zip(entities, range(num_entities)))\n",
    "rel2idx = dict(zip(relations, range(num_relations)))\n",
    "\n",
    "idx2ent = {idx:ent for ent,idx in ent2idx.items()}\n",
    "idx2rel = {idx:rel for rel,idx in rel2idx.items()}"
   ]
  },
  {
   "cell_type": "code",
   "execution_count": 3,
   "metadata": {},
   "outputs": [],
   "source": [
    "#A = np.zeros(shape=(num_entities,num_entities,num_relations))\n",
    "A = np.zeros(shape=(num_entities,num_entities))\n",
    "\n",
    "for h,r,t in train:\n",
    "    \n",
    "    h_idx = entities.index(h)\n",
    "    r_idx = relations.index(r)\n",
    "    t_idx = entities.index(t)\n",
    "    \n",
    "    #A[h_idx,t_idx,r_idx] = 1\n",
    "    A[h_idx, t_idx] = 1\n",
    "\n",
    "def score(h,r,t):\n",
    "    return tf.reduce_sum(tf.square(h + r - t))"
   ]
  },
  {
   "cell_type": "code",
   "execution_count": 4,
   "metadata": {},
   "outputs": [],
   "source": [
    "train2idx = []\n",
    "\n",
    "for head, rel, tail in train:\n",
    "    \n",
    "    head_idx = ent2idx[head]\n",
    "    tail_idx = ent2idx[tail]\n",
    "    rel_idx = rel2idx[rel]\n",
    "\n",
    "    train2idx.append([head_idx, rel_idx, tail_idx])\n",
    "    \n",
    "train2idx = np.array(train2idx)"
   ]
  },
  {
   "cell_type": "code",
   "execution_count": 5,
   "metadata": {},
   "outputs": [],
   "source": [
    "from scipy import sparse\n",
    "A_sparse = sparse.csr_matrix(A)  "
   ]
  },
  {
   "cell_type": "code",
   "execution_count": 6,
   "metadata": {},
   "outputs": [],
   "source": [
    "prior = maxent.BGDistr(A_sparse) \n",
    "prior.fit() "
   ]
  },
  {
   "cell_type": "code",
   "execution_count": 7,
   "metadata": {},
   "outputs": [
    {
     "name": "stdout",
     "output_type": "stream",
     "text": [
      "Epoch: 0, grad norm: 7.3295, obj: 162.8532, obj smoothness: 162.8532\n",
      "Epoch: 1, grad norm: 7.3317, obj: 162.8327, obj smoothness: 0.0205\n",
      "Epoch: 2, grad norm: 7.3339, obj: 162.8121, obj smoothness: 0.0206\n",
      "Epoch: 3, grad norm: 7.3361, obj: 162.7915, obj smoothness: 0.0206\n",
      "Epoch: 4, grad norm: 7.3383, obj: 162.7708, obj smoothness: 0.0207\n",
      "Epoch: 5, grad norm: 7.3406, obj: 162.7500, obj smoothness: 0.0207\n",
      "Epoch: 6, grad norm: 7.3429, obj: 162.7293, obj smoothness: 0.0208\n",
      "Epoch: 7, grad norm: 7.3452, obj: 162.7084, obj smoothness: 0.0208\n",
      "Epoch: 8, grad norm: 7.3475, obj: 162.6875, obj smoothness: 0.0209\n",
      "Epoch: 9, grad norm: 7.3498, obj: 162.6666, obj smoothness: 0.0210\n",
      "Epoch: 10, grad norm: 7.3521, obj: 162.6456, obj smoothness: 0.0210\n",
      "Epoch: 11, grad norm: 7.3545, obj: 162.6245, obj smoothness: 0.0211\n",
      "Epoch: 12, grad norm: 7.3568, obj: 162.6034, obj smoothness: 0.0211\n",
      "Epoch: 13, grad norm: 7.3592, obj: 162.5822, obj smoothness: 0.0212\n",
      "Epoch: 14, grad norm: 7.3616, obj: 162.5609, obj smoothness: 0.0213\n",
      "Epoch: 15, grad norm: 7.3641, obj: 162.5396, obj smoothness: 0.0213\n",
      "Epoch: 16, grad norm: 7.3665, obj: 162.5182, obj smoothness: 0.0214\n",
      "Epoch: 17, grad norm: 7.3690, obj: 162.4968, obj smoothness: 0.0214\n",
      "Epoch: 18, grad norm: 7.3715, obj: 162.4753, obj smoothness: 0.0215\n",
      "Epoch: 19, grad norm: 7.3740, obj: 162.4537, obj smoothness: 0.0216\n",
      "Epoch: 20, grad norm: 7.3765, obj: 162.4320, obj smoothness: 0.0217\n",
      "Epoch: 21, grad norm: 7.3791, obj: 162.4103, obj smoothness: 0.0217\n",
      "Epoch: 22, grad norm: 7.3816, obj: 162.3885, obj smoothness: 0.0218\n",
      "Epoch: 23, grad norm: 7.3842, obj: 162.3666, obj smoothness: 0.0219\n",
      "Epoch: 24, grad norm: 7.3869, obj: 162.3447, obj smoothness: 0.0219\n",
      "Epoch: 25, grad norm: 7.3895, obj: 162.3226, obj smoothness: 0.0220\n",
      "Epoch: 26, grad norm: 7.3922, obj: 162.3005, obj smoothness: 0.0221\n",
      "Epoch: 27, grad norm: 7.3949, obj: 162.2784, obj smoothness: 0.0222\n",
      "Epoch: 28, grad norm: 7.3976, obj: 162.2561, obj smoothness: 0.0223\n",
      "Epoch: 29, grad norm: 7.4003, obj: 162.2338, obj smoothness: 0.0223\n",
      "Epoch: 30, grad norm: 7.4031, obj: 162.2113, obj smoothness: 0.0224\n",
      "Epoch: 31, grad norm: 7.4059, obj: 162.1889, obj smoothness: 0.0225\n",
      "Epoch: 32, grad norm: 7.4087, obj: 162.1663, obj smoothness: 0.0226\n",
      "Epoch: 33, grad norm: 7.4115, obj: 162.1436, obj smoothness: 0.0227\n",
      "Epoch: 34, grad norm: 7.4144, obj: 162.1209, obj smoothness: 0.0227\n",
      "Epoch: 35, grad norm: 7.4173, obj: 162.0980, obj smoothness: 0.0228\n",
      "Epoch: 36, grad norm: 7.4202, obj: 162.0751, obj smoothness: 0.0229\n",
      "Epoch: 37, grad norm: 7.4232, obj: 162.0521, obj smoothness: 0.0230\n",
      "Epoch: 38, grad norm: 7.4262, obj: 162.0290, obj smoothness: 0.0231\n",
      "Epoch: 39, grad norm: 7.4292, obj: 162.0059, obj smoothness: 0.0232\n",
      "Epoch: 40, grad norm: 7.4322, obj: 161.9826, obj smoothness: 0.0233\n",
      "Epoch: 41, grad norm: 7.4352, obj: 161.9593, obj smoothness: 0.0233\n",
      "Epoch: 42, grad norm: 7.4383, obj: 161.9358, obj smoothness: 0.0234\n",
      "Epoch: 43, grad norm: 7.4415, obj: 161.9123, obj smoothness: 0.0235\n",
      "Epoch: 44, grad norm: 7.4446, obj: 161.8887, obj smoothness: 0.0236\n",
      "Epoch: 45, grad norm: 7.4478, obj: 161.8650, obj smoothness: 0.0237\n",
      "Epoch: 46, grad norm: 7.4510, obj: 161.8412, obj smoothness: 0.0238\n",
      "Epoch: 47, grad norm: 7.4542, obj: 161.8173, obj smoothness: 0.0239\n",
      "Epoch: 48, grad norm: 7.4575, obj: 161.7933, obj smoothness: 0.0240\n",
      "Epoch: 49, grad norm: 7.4608, obj: 161.7693, obj smoothness: 0.0241\n",
      "Epoch: 50, grad norm: 7.4641, obj: 161.7451, obj smoothness: 0.0242\n",
      "Epoch: 51, grad norm: 7.4675, obj: 161.7209, obj smoothness: 0.0243\n",
      "Epoch: 52, grad norm: 7.4708, obj: 161.6965, obj smoothness: 0.0244\n",
      "Epoch: 53, grad norm: 7.4743, obj: 161.6721, obj smoothness: 0.0244\n",
      "Epoch: 54, grad norm: 7.4777, obj: 161.6475, obj smoothness: 0.0245\n",
      "Epoch: 55, grad norm: 7.4812, obj: 161.6229, obj smoothness: 0.0246\n",
      "Epoch: 56, grad norm: 7.4847, obj: 161.5981, obj smoothness: 0.0247\n",
      "Epoch: 57, grad norm: 7.4882, obj: 161.5733, obj smoothness: 0.0248\n",
      "Epoch: 58, grad norm: 7.4918, obj: 161.5484, obj smoothness: 0.0249\n",
      "Epoch: 59, grad norm: 7.4954, obj: 161.5233, obj smoothness: 0.0250\n",
      "Epoch: 60, grad norm: 7.4990, obj: 161.4982, obj smoothness: 0.0251\n",
      "Epoch: 61, grad norm: 7.5027, obj: 161.4730, obj smoothness: 0.0252\n",
      "Epoch: 62, grad norm: 7.5064, obj: 161.4477, obj smoothness: 0.0253\n",
      "Epoch: 63, grad norm: 7.5101, obj: 161.4222, obj smoothness: 0.0254\n",
      "Epoch: 64, grad norm: 7.5138, obj: 161.3967, obj smoothness: 0.0255\n",
      "Epoch: 65, grad norm: 7.5176, obj: 161.3711, obj smoothness: 0.0256\n",
      "Epoch: 66, grad norm: 7.5214, obj: 161.3454, obj smoothness: 0.0257\n",
      "Epoch: 67, grad norm: 7.5253, obj: 161.3195, obj smoothness: 0.0258\n",
      "Epoch: 68, grad norm: 7.5292, obj: 161.2936, obj smoothness: 0.0259\n",
      "Epoch: 69, grad norm: 7.5331, obj: 161.2676, obj smoothness: 0.0260\n",
      "Epoch: 70, grad norm: 7.5370, obj: 161.2414, obj smoothness: 0.0261\n",
      "Epoch: 71, grad norm: 7.5410, obj: 161.2152, obj smoothness: 0.0262\n",
      "Epoch: 72, grad norm: 7.5450, obj: 161.1888, obj smoothness: 0.0263\n",
      "Epoch: 73, grad norm: 7.5490, obj: 161.1624, obj smoothness: 0.0265\n",
      "Epoch: 74, grad norm: 7.5531, obj: 161.1358, obj smoothness: 0.0266\n",
      "Epoch: 75, grad norm: 7.5572, obj: 161.1092, obj smoothness: 0.0267\n",
      "Epoch: 76, grad norm: 7.5613, obj: 161.0824, obj smoothness: 0.0268\n",
      "Epoch: 77, grad norm: 7.5655, obj: 161.0555, obj smoothness: 0.0269\n",
      "Epoch: 78, grad norm: 7.5696, obj: 161.0285, obj smoothness: 0.0270\n",
      "Epoch: 79, grad norm: 7.5739, obj: 161.0014, obj smoothness: 0.0271\n",
      "Epoch: 80, grad norm: 7.5781, obj: 160.9742, obj smoothness: 0.0272\n",
      "Epoch: 81, grad norm: 7.5824, obj: 160.9469, obj smoothness: 0.0273\n",
      "Epoch: 82, grad norm: 7.5867, obj: 160.9195, obj smoothness: 0.0274\n",
      "Epoch: 83, grad norm: 7.5910, obj: 160.8920, obj smoothness: 0.0275\n",
      "Epoch: 84, grad norm: 7.5954, obj: 160.8644, obj smoothness: 0.0276\n",
      "Epoch: 85, grad norm: 7.5998, obj: 160.8366, obj smoothness: 0.0277\n",
      "Epoch: 86, grad norm: 7.6043, obj: 160.8088, obj smoothness: 0.0279\n",
      "Epoch: 87, grad norm: 7.6087, obj: 160.7808, obj smoothness: 0.0280\n",
      "Epoch: 88, grad norm: 7.6132, obj: 160.7528, obj smoothness: 0.0281\n",
      "Epoch: 89, grad norm: 7.6177, obj: 160.7246, obj smoothness: 0.0282\n",
      "Epoch: 90, grad norm: 7.6223, obj: 160.6963, obj smoothness: 0.0283\n",
      "Epoch: 91, grad norm: 7.6269, obj: 160.6679, obj smoothness: 0.0284\n",
      "Epoch: 92, grad norm: 7.6315, obj: 160.6394, obj smoothness: 0.0285\n",
      "Epoch: 93, grad norm: 7.6362, obj: 160.6107, obj smoothness: 0.0286\n",
      "Epoch: 94, grad norm: 7.6409, obj: 160.5820, obj smoothness: 0.0287\n",
      "Epoch: 95, grad norm: 7.6456, obj: 160.5531, obj smoothness: 0.0289\n",
      "Epoch: 96, grad norm: 7.6503, obj: 160.5242, obj smoothness: 0.0290\n",
      "Epoch: 97, grad norm: 7.6551, obj: 160.4951, obj smoothness: 0.0291\n",
      "Epoch: 98, grad norm: 7.6599, obj: 160.4659, obj smoothness: 0.0292\n",
      "Epoch: 99, grad norm: 7.6647, obj: 160.4366, obj smoothness: 0.0293\n"
     ]
    }
   ],
   "source": [
    "CNE = cne.ConditionalNetworkEmbedding(\n",
    "    A=A_sparse,\n",
    "    d=10,\n",
    "    s1=1,\n",
    "    s2=1.5,\n",
    "    prior_dist=prior\n",
    "    )\n",
    "CNE.fit(lr=.001, max_iter=100)"
   ]
  },
  {
   "cell_type": "code",
   "execution_count": 8,
   "metadata": {},
   "outputs": [],
   "source": [
    "X = CNE._ConditionalNetworkEmbedding__emb"
   ]
  },
  {
   "cell_type": "code",
   "execution_count": 9,
   "metadata": {},
   "outputs": [],
   "source": [
    "from scipy.stats import halfnorm\n",
    "\n",
    "def get_pij(i,j,s1,s2,prior, X):\n",
    "    \n",
    "    p_prior = prior.get_row_probability([i], [j])\n",
    "    \n",
    "    normal_s1 = halfnorm.rvs(loc=0,scale=s1,size=1)\n",
    "    normal_s2 = halfnorm.rvs(loc=0,scale=s2,size=1)\n",
    "    \n",
    "    numerator = p_prior * normal_s1\n",
    "    denom = numerator + (1-p_prior)*normal_s2\n",
    "    \n",
    "    return numerator/denom"
   ]
  },
  {
   "cell_type": "code",
   "execution_count": 10,
   "metadata": {},
   "outputs": [],
   "source": [
    "# x_i = np.array([1,2,3,4,5,6,7,8,9])\n",
    "# x_j = np.array([0,1,0,0,0,0,0,0,0])\n",
    "# np.outer(x_i, x_j)\n",
    "#def get_hessian(i,j,k,P,A):\n",
    "# P = np.array([[1,2,3],[4,5,6],[7,8,9]])\n",
    "# A = np.array([[0,1,1],[1,0,0],[1,0,0]])\n",
    "# print(P)\n",
    "# print(A)\n",
    "# print(P-A)"
   ]
  },
  {
   "cell_type": "code",
   "execution_count": 11,
   "metadata": {},
   "outputs": [],
   "source": [
    "#np.diag((P-A)[~np.eye(A.shape[0], dtype=bool)])\n",
    "i=0\n",
    "#identity=[]\n",
    "s1 = 1\n",
    "s2 = 1.5\n",
    "gamma = (1/(s1**2)) - (1/(s2**2))\n",
    "\n",
    "def get_hessian(i,s1,s2,gamma,X,A):\n",
    "    \n",
    "    hessian = np.zeros(shape=(10,10))\n",
    "\n",
    "    for j in range(A.shape[0]):\n",
    "\n",
    "        if i != j:\n",
    "\n",
    "            x_i = X[i,:]\n",
    "            x_j = X[j,:]\n",
    "\n",
    "            x_diff = (x_i - x_j).reshape(-1,1)  \n",
    "            \n",
    "            prob = get_pij(i,j,1,1.5,prior, X)\n",
    "\n",
    "            h = (gamma**2) * np.dot(x_diff,x_diff.T) * (prob * (1-prob))\n",
    "\n",
    "            a = A[i,j]\n",
    "\n",
    "            p_diff = gamma * (prob - a)[0]\n",
    "\n",
    "            p_diff_mat = p_diff * np.identity(h.shape[0])\n",
    "\n",
    "            hessian += p_diff_mat - h\n",
    "            \n",
    "    return hessian"
   ]
  },
  {
   "cell_type": "code",
   "execution_count": 12,
   "metadata": {},
   "outputs": [
    {
     "data": {
      "text/plain": [
       "array([-6904.60463691])"
      ]
     },
     "execution_count": 12,
     "metadata": {},
     "output_type": "execute_result"
    }
   ],
   "source": [
    "i=0\n",
    "j=1\n",
    "k=2\n",
    "\n",
    "hessian = get_hessian(i,s1,s2,gamma,X,A)\n",
    "pij = get_pij(i=i,j=j,s1=s1,s2=s2,prior=prior, X=X)\n",
    "\n",
    "invert = (-hessian) / (gamma**2 * (pij) * (1-pij))\n",
    "\n",
    "hess_inv = np.linalg.inv(-hessian)\n",
    "\n",
    "x_i = X[i,:]\n",
    "x_j = X[j,:]\n",
    "x_k = X[k,:]\n",
    "\n",
    "xij_diff = (x_i - x_j).reshape(1,-1)\n",
    "\n",
    "xik_diff = (x_i - x_k)\n",
    "\n",
    "np.dot(np.dot(xij_diff, hess_inv), xik_diff)"
   ]
  },
  {
   "cell_type": "code",
   "execution_count": null,
   "metadata": {},
   "outputs": [],
   "source": [
    "#np.dot(np.dot(np.ones(shape=(3,1)), np.ones(shape=(1,3))), np.dot(P, 1-P))\n",
    "# a = np.dot(P, 1-P)\n",
    "# np.fill_diagonal(a, 0)\n",
    "# a"
   ]
  },
  {
   "cell_type": "code",
   "execution_count": null,
   "metadata": {},
   "outputs": [],
   "source": []
  },
  {
   "cell_type": "code",
   "execution_count": null,
   "metadata": {},
   "outputs": [],
   "source": [
    "# with tf.GradientTape(persistent=True) as g:\n",
    "    \n",
    "#     A = tf.convert_to_tensor(A)\n",
    "\n",
    "#     head = tf.argmax(A[:,tail_idx, rel_idx])\n",
    "#     tail = tf.argmax(A[head_idx,:, rel_idx])\n",
    "#     rel = tf.argmax(A[head_idx,tail_idx,:])\n",
    "    \n",
    "#     other_head = tf.argmax(A[:,tail_idx, rel_idx])\n",
    "#     other_tail = tf.argmax(A[head_idx,:, rel_idx])\n",
    "#     other_rel = tf.argmax(A[head_idx,tail_idx,:])\n",
    "    \n",
    "#     head_e,_,tail_e,_,rel_e= model([head,head,tail,tail,rel])\n",
    "\n",
    "#     get_score = score(head_e,rel_e,tail_e)\n",
    "    \n",
    "# g.gradient(get_score,tail_e)"
   ]
  },
  {
   "cell_type": "code",
   "execution_count": null,
   "metadata": {},
   "outputs": [],
   "source": []
  },
  {
   "cell_type": "code",
   "execution_count": null,
   "metadata": {},
   "outputs": [],
   "source": []
  },
  {
   "cell_type": "code",
   "execution_count": null,
   "metadata": {},
   "outputs": [],
   "source": []
  },
  {
   "cell_type": "code",
   "execution_count": null,
   "metadata": {},
   "outputs": [],
   "source": []
  },
  {
   "cell_type": "code",
   "execution_count": null,
   "metadata": {},
   "outputs": [],
   "source": []
  }
 ],
 "metadata": {
  "kernelspec": {
   "display_name": "Python 3",
   "language": "python",
   "name": "python3"
  },
  "language_info": {
   "codemirror_mode": {
    "name": "ipython",
    "version": 3
   },
   "file_extension": ".py",
   "mimetype": "text/x-python",
   "name": "python",
   "nbconvert_exporter": "python",
   "pygments_lexer": "ipython3",
   "version": "3.7.4"
  }
 },
 "nbformat": 4,
 "nbformat_minor": 4
}
