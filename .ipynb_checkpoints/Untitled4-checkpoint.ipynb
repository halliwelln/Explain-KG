{
 "cells": [
  {
   "cell_type": "code",
   "execution_count": 1,
   "metadata": {},
   "outputs": [],
   "source": [
    "import tensorflow as tf\n",
    "import numpy as np\n",
    "import pandas as pd\n",
    "import random as rn\n",
    "import os\n",
    "import cne\n",
    "import maxent\n",
    "from scipy.stats import halfnorm\n",
    "import utils"
   ]
  },
  {
   "cell_type": "code",
   "execution_count": 2,
   "metadata": {},
   "outputs": [],
   "source": [
    "SEED = 123\n",
    "os.environ['PYTHONHASHSEED'] = str(SEED)\n",
    "np.random.seed(SEED)\n",
    "rn.seed(SEED)\n",
    "\n",
    "data = np.load(os.path.join('.','data','royalty.npz'))\n",
    "\n",
    "train = data['X_train']\n",
    "test = data['X_test']\n",
    "\n",
    "train_exp = data['train_exp']\n",
    "test_exp = data['test_exp']\n",
    "\n",
    "full_train = np.concatenate((train,train_exp), axis=0)\n",
    "\n",
    "entities = data['entities'].tolist()\n",
    "relations = data['relations'].tolist()\n",
    "\n",
    "num_entities = len(entities)\n",
    "num_relations = len(relations)\n",
    "\n",
    "ent2idx = dict(zip(entities, range(num_entities)))\n",
    "rel2idx = dict(zip(relations, range(num_relations)))\n",
    "\n",
    "idx2ent = {idx:ent for ent,idx in ent2idx.items()}\n",
    "idx2rel = {idx:rel for rel,idx in rel2idx.items()}\n",
    "\n",
    "train2idx = utils.array2idx(full_train,ent2idx,rel2idx)\n",
    "test2idx = utils.array2idx(test,ent2idx,rel2idx)"
   ]
  },
  {
   "cell_type": "code",
   "execution_count": 3,
   "metadata": {},
   "outputs": [],
   "source": [
    "A = utils.get_adjacency_matrix(full_train,entities,num_entities)\n",
    "\n",
    "train_exp = np.array([[(ent2idx[h],ent2idx[t])] for h,_,t in train_exp])\n",
    "test_exp = np.array([[(ent2idx[h],ent2idx[t])] for h,_,t in test_exp])"
   ]
  },
  {
   "cell_type": "code",
   "execution_count": 4,
   "metadata": {},
   "outputs": [
    {
     "name": "stdout",
     "output_type": "stream",
     "text": [
      "Epoch: 0, grad norm: 611.7332, obj: 94191.8462, obj smoothness: 94191.8462\n",
      "Epoch: 1, grad norm: 611.0295, obj: 93937.1161, obj smoothness: 254.7301\n"
     ]
    }
   ],
   "source": [
    "embedding_dim = 50\n",
    "s1 = 1\n",
    "s2 = 1.5\n",
    "learning_rate = .001\n",
    "max_iter = 2\n",
    "gamma = (1/(s1**2)) - (1/(s2**2))\n",
    "top_k = 1\n",
    "\n",
    "prior = maxent.BGDistr(A) \n",
    "prior.fit()\n",
    "\n",
    "CNE = cne.ConditionalNetworkEmbedding(\n",
    "    A=A,\n",
    "    d=embedding_dim,\n",
    "    s1=s1,\n",
    "    s2=s2,\n",
    "    prior_dist=prior\n",
    "    )\n",
    "\n",
    "CNE.fit(lr=learning_rate, max_iter=max_iter)\n",
    "\n",
    "X = CNE._ConditionalNetworkEmbedding__emb"
   ]
  },
  {
   "cell_type": "code",
   "execution_count": 71,
   "metadata": {},
   "outputs": [],
   "source": [
    "X_tensor = tf.convert_to_tensor(X)\n",
    "la_tensor = tf.convert_to_tensor(prior.la)\n",
    "row_idx_tensor = tf.convert_to_tensor(prior.row_idx)\n",
    "#A_tensor = tf.convert_to_tensor(A)\n",
    "# tf.sparse.SparseTensor(\n",
    "#     A.indices, np.ones(A.indices.shape[0]), dense_shape=A.shape\n",
    "# )"
   ]
  },
  {
   "cell_type": "code",
   "execution_count": null,
   "metadata": {},
   "outputs": [],
   "source": [
    "# def tf_get_row_probability(row_id,col_ids):\n",
    "    \n",
    "#     row_la = la_tensor[row_idx_tensor[row_id]]\n",
    "#     col_las = la_tensor[row_idx_tensor[col_ids]]\n",
    "    \n",
    "#     E = tf.exp(row_la/2 + col_las/2)\n",
    "#     P_i = E/(1+E)\n",
    "    \n",
    "#     if row_id in col_ids:\n",
    "#         P_i[col_ids.index(row_id)] = 0 + 1e-07#FIX THIS\n",
    "#     return P_i\n",
    "\n",
    "# def tf_get_hessian(i,s1,s2,gamma,X,A,embedding_dim):\n",
    "    \n",
    "#     hessian = tf.zeros(shape=(embedding_dim,embedding_dim),dtype=tf.float64)\n",
    "    \n",
    "#     for j in range(A.shape[0]):\n",
    "\n",
    "#         if i != j:\n",
    "\n",
    "#             x_i = X_tensor[i,:]\n",
    "#             x_j = X_tensor[j,:]\n",
    "\n",
    "#             x_diff = tf.reshape(x_i - x_j,shape=(-1,1))\n",
    "\n",
    "#             prob = tf_get_pij(i,j,s1,s2,prior)\n",
    "\n",
    "#             h = (gamma**2) * tf.tensordot(x_diff,tf.transpose(x_diff),axes=1) * (prob * (1-prob))\n",
    "\n",
    "#             p_diff_mat = tf.cast((gamma * (prob - A[i,j]) * tf.eye(h.shape[0])),tf.float64)\n",
    "\n",
    "#             hessian += (p_diff_mat - h)\n",
    "            \n",
    "#     return hessian"
   ]
  },
  {
   "cell_type": "code",
   "execution_count": null,
   "metadata": {},
   "outputs": [],
   "source": [
    "def get_row_probability(self, row_id, col_ids):\n",
    "    '''\n",
    "    Compute prior (degree) probability for the entries in a row specified\n",
    "    by row_id.\n",
    "    '''\n",
    "    row_la = self.la[self.row_idx[row_id]]\n",
    "    col_las = self.la[self.row_idx[col_ids]]\n",
    "\n",
    "    E = np.exp(row_la/2 + col_las/2)\n",
    "    P_i = E/(1+E)\n",
    "\n",
    "    if row_id in col_ids:\n",
    "        P_i[col_ids.index(row_id)] = 0 + sys.float_info.epsilon\n",
    "\n",
    "    return P_i\n",
    "\n",
    "def get_pij(i,j,s1,s2,prior):\n",
    "    \n",
    "    p_prior = prior.get_row_probability([i], [j])\n",
    "    \n",
    "    normal_s1 = halfnorm.rvs(loc=0,scale=s1,size=1,random_state=SEED)\n",
    "    normal_s2 = halfnorm.rvs(loc=0,scale=s2,size=1,random_state=SEED)\n",
    "    \n",
    "    numerator = p_prior * normal_s1\n",
    "    denom = numerator + (1-p_prior)*normal_s2\n",
    "    \n",
    "    return numerator/denom\n",
    "\n",
    "def get_hessian(i,s1,s2,gamma,X,A,embedding_dim):\n",
    "    \n",
    "    hessian = np.zeros(shape=(embedding_dim,embedding_dim))\n",
    "\n",
    "    for j in range(A.shape[0]):\n",
    "\n",
    "        if i != j:\n",
    "\n",
    "            x_i = X[i,:]\n",
    "            x_j = X[j,:]\n",
    "\n",
    "            x_diff = (x_i - x_j).reshape(-1,1)  \n",
    "            \n",
    "            prob = get_pij(i,j,s1,s2,prior)\n",
    "\n",
    "            h = (gamma**2) * np.dot(x_diff,x_diff.T) * (prob * (1-prob))\n",
    "\n",
    "            p_diff_mat = gamma * (prob - A[i,j])[0] * np.identity(h.shape[0])\n",
    "\n",
    "            hessian += (p_diff_mat - h)\n",
    "            \n",
    "    return hessian\n",
    "\n",
    "def explaiNE(i,j,k,l,s1,s2,embedding_dim,gamma,X,A):\n",
    "\n",
    "    hessian = get_hessian(i=i,s1=s1,s2=s2,gamma=gamma,X=X,A=A,embedding_dim=embedding_dim)\n",
    "    pij = get_pij(i=i,j=j,s1=s1,s2=s2,prior=prior)\n",
    "\n",
    "    invert = (-hessian) / ((gamma**2 * (pij) * (1-pij)))\n",
    "\n",
    "    hess_inv = np.linalg.inv(invert)\n",
    "\n",
    "    x_i = X[i,:]\n",
    "    x_j = X[j,:]\n",
    "    x_k = X[k,:]\n",
    "    x_l = X[l,:]\n",
    "\n",
    "    xij_diff = (x_i - x_j).T\n",
    "\n",
    "    xlk_diff = (x_l - x_k)\n",
    "\n",
    "    return np.dot(np.dot(xij_diff, hess_inv), xlk_diff).squeeze()"
   ]
  },
  {
   "cell_type": "code",
   "execution_count": null,
   "metadata": {},
   "outputs": [],
   "source": []
  },
  {
   "cell_type": "code",
   "execution_count": 136,
   "metadata": {},
   "outputs": [],
   "source": [
    "adj = tf.convert_to_tensor([[1,0,0,1],[0,0,1,0],[0,1,0,0],[1,0,1,0]],dtype=tf.float64)\n",
    "\n",
    "emb = tf.convert_to_tensor(np.random.normal(size=(adj.shape[0],5)),dtype=tf.float64)"
   ]
  },
  {
   "cell_type": "code",
   "execution_count": 137,
   "metadata": {},
   "outputs": [
    {
     "data": {
      "text/plain": [
       "<tf.Tensor: shape=(4, 5), dtype=float64, numpy=\n",
       "array([[-0.77419162,  0.06499539,  0.3268971 , -1.23667949,  0.51360487],\n",
       "       [-2.02451144, -1.33032521, -0.45925424,  0.53583667, -1.60763046],\n",
       "       [ 0.28416876, -0.25635063, -1.32951967,  1.12100462,  0.34708692],\n",
       "       [ 0.7857826 ,  0.91520817, -2.39212007,  0.30724382,  2.11857588]])>"
      ]
     },
     "execution_count": 137,
     "metadata": {},
     "output_type": "execute_result"
    }
   ],
   "source": [
    "emb"
   ]
  },
  {
   "cell_type": "code",
   "execution_count": 154,
   "metadata": {},
   "outputs": [],
   "source": [
    "#tf.tensordot(tf.reshape(adj[0],shape=(1,-1)),emb,axes=1)"
   ]
  },
  {
   "cell_type": "code",
   "execution_count": 78,
   "metadata": {},
   "outputs": [],
   "source": [
    "#hessian = tf.zeros(shape=(embedding_dim,embedding_dim),dtype=tf.float64)\n",
    "# i=0\n",
    "# for j in range(A.shape[0]):\n",
    "    \n",
    "#     if i != j:\n",
    "\n",
    "#         x_i = X_tensor[i,:]\n",
    "#         x_j = X_tensor[j,:]\n",
    "\n",
    "#         x_diff = tf.reshape(x_i - x_j,shape=(-1,1))\n",
    "\n",
    "#         prob = .5#get_pij(i,j,s1,s2,prior)\n",
    "\n",
    "#         h = (gamma**2) * tf.tensordot(x_diff,tf.transpose(x_diff),axes=1) * (prob * (1-prob))\n",
    "\n",
    "#         p_diff_mat = tf.cast((gamma * (prob - A[i,j]) * tf.eye(h.shape[0])),tf.float64)\n",
    "\n",
    "#         hessian += (p_diff_mat - h)"
   ]
  },
  {
   "cell_type": "code",
   "execution_count": null,
   "metadata": {},
   "outputs": [],
   "source": []
  },
  {
   "cell_type": "code",
   "execution_count": null,
   "metadata": {},
   "outputs": [],
   "source": []
  },
  {
   "cell_type": "code",
   "execution_count": null,
   "metadata": {},
   "outputs": [],
   "source": []
  },
  {
   "cell_type": "code",
   "execution_count": null,
   "metadata": {},
   "outputs": [],
   "source": []
  }
 ],
 "metadata": {
  "kernelspec": {
   "display_name": "Python 3",
   "language": "python",
   "name": "python3"
  },
  "language_info": {
   "codemirror_mode": {
    "name": "ipython",
    "version": 3
   },
   "file_extension": ".py",
   "mimetype": "text/x-python",
   "name": "python",
   "nbconvert_exporter": "python",
   "pygments_lexer": "ipython3",
   "version": "3.7.4"
  }
 },
 "nbformat": 4,
 "nbformat_minor": 4
}
