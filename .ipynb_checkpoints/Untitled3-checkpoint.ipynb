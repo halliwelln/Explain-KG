{
 "cells": [
  {
   "cell_type": "code",
   "execution_count": 1,
   "metadata": {},
   "outputs": [],
   "source": [
    "import rdflib\n",
    "import utils\n",
    "g=rdflib.Graph()"
   ]
  },
  {
   "cell_type": "code",
   "execution_count": 2,
   "metadata": {},
   "outputs": [
    {
     "data": {
      "text/plain": [
       "<Graph identifier=N7177770e32c5423396af8787f1822da5 (<class 'rdflib.graph.Graph'>)>"
      ]
     },
     "execution_count": 2,
     "metadata": {},
     "output_type": "execute_result"
    }
   ],
   "source": [
    "#g.parse(\"/Users/nhalliwe/Downloads/sparql\",format=\"xml\")\n",
    "\n",
    "#write evaluation method down and compare to state of the art"
   ]
  },
  {
   "cell_type": "code",
   "execution_count": 92,
   "metadata": {},
   "outputs": [],
   "source": [
    "#traces = utils.parse_traces('/Users/nhalliwe/Desktop/traces/spouse.ttl')"
   ]
  },
  {
   "cell_type": "code",
   "execution_count": 93,
   "metadata": {},
   "outputs": [],
   "source": [
    "data = np.load('/Users/nhalliwe/Desktop/Explain-KG/data/royalty.npz')"
   ]
  },
  {
   "cell_type": "code",
   "execution_count": 94,
   "metadata": {},
   "outputs": [],
   "source": [
    "train = np.concatenate((data['train'][0:10],data['exp_train'][0:10]),axis=0)"
   ]
  },
  {
   "cell_type": "code",
   "execution_count": 96,
   "metadata": {},
   "outputs": [],
   "source": [
    "entities = np.unique(np.concatenate((train[:,0], train[:,2]), axis=0)).tolist()\n",
    "\n",
    "relations = np.unique(train[:,1]).tolist()\n",
    "\n",
    "num_entities = len(entities)\n",
    "num_relations = len(relations)\n",
    "\n",
    "ent2idx = dict(zip(entities, range(num_entities)))\n",
    "rel2idx = dict(zip(relations, range(num_relations)))\n",
    "\n",
    "idx2ent = {idx:ent for ent,idx in ent2idx.items()}\n",
    "idx2rel = {idx:rel for rel,idx in rel2idx.items()}\n",
    "\n",
    "train2idx = utils.train2idx(train,ent2idx,rel2idx)"
   ]
  },
  {
   "cell_type": "code",
   "execution_count": 127,
   "metadata": {},
   "outputs": [],
   "source": [
    "train_exp = []\n",
    "\n",
    "for h,_,t in data['exp_train'][0:10]:\n",
    "\n",
    "    train_exp.append([(ent2idx[h],ent2idx[t])])\n",
    "\n",
    "#train_exp = np.array(train_exp,dtype=np.dtype('int,int'))"
   ]
  },
  {
   "cell_type": "code",
   "execution_count": null,
   "metadata": {},
   "outputs": [],
   "source": []
  },
  {
   "cell_type": "code",
   "execution_count": null,
   "metadata": {},
   "outputs": [],
   "source": []
  },
  {
   "cell_type": "code",
   "execution_count": null,
   "metadata": {},
   "outputs": [],
   "source": []
  },
  {
   "cell_type": "code",
   "execution_count": null,
   "metadata": {},
   "outputs": [],
   "source": []
  },
  {
   "cell_type": "code",
   "execution_count": null,
   "metadata": {},
   "outputs": [],
   "source": []
  },
  {
   "cell_type": "code",
   "execution_count": null,
   "metadata": {},
   "outputs": [],
   "source": [
    "#Reflexive (head and tail are the same, flipping head and tail triple still true): related by blood, same nationality as\n",
    "#Irreflexive (head and tail can't be the same, flipping head and tail, triple is false): parent, uncle/aunt,spouse brother/sister\n",
    "#Symmetric (fliping head and tail, still true): sibling, spouse\n",
    "#Antisymmetric (fliping head and tail makes triple false): uncle/aunt?, brother/sister\n",
    "#Transitive: predecessor, ancestor"
   ]
  },
  {
   "cell_type": "code",
   "execution_count": null,
   "metadata": {},
   "outputs": [],
   "source": [
    "#for subj, pred, obj in g:\n",
    "    \n",
    "    #print(subj,subj.split('/')[-1])\n",
    "#     a = subj.split('resource/')[-1]\n",
    "#     b = pred.split('ontology/')[-1]\n",
    "#     c = obj.split('resource/')[-1]\n",
    "    \n",
    "#     print(a,b,c)"
   ]
  },
  {
   "cell_type": "code",
   "execution_count": null,
   "metadata": {},
   "outputs": [],
   "source": [
    "#import json\n",
    "\n",
    "# with open('/Users/nhalliwe/Desktop/criage/CRIAGE/data/WN-18/e1rel_to_e2_ranking_test.json', 'r') as f:\n",
    "    \n",
    "#     for i in f:\n",
    "\n",
    "#         temp_dict = json.loads(f.readline())\n",
    "#         print(temp_dict)\n",
    "#         #print(temp_dict['e2_multi1'].split())"
   ]
  },
  {
   "cell_type": "code",
   "execution_count": null,
   "metadata": {},
   "outputs": [],
   "source": [
    "# #criage_exps = utils.read_json('/Users/nhalliwe/Desktop/criage/CRIAGE/data/WN-18/e1rel_to_e2_ranking_test.json')\n",
    "# import numpy as np\n",
    "\n",
    "# triples = [('Eve', 'type', 'Lecturer'),\n",
    "#            ('Eve', 'type', 'Person'), \n",
    "#            ('Lecturer', 'subClassOf', 'Person'), \n",
    "#            ('David', 'type', 'Person'),\n",
    "#            ('David', 'type', 'Researcher'),\n",
    "#            ('Researcher', 'subClassOf', 'Person'),\n",
    "#            ('Flora', 'hasSpouse', 'Gaston'),\n",
    "#            ('Gaston', 'type', 'Person'),\n",
    "#            ('Flora', 'type', 'Person')\n",
    "#           ]\n",
    "\n",
    "# train = np.array(triples)\n",
    "\n",
    "# entities = np.unique(np.concatenate((train[:,0], train[:,2]), axis=0)).tolist()\n",
    "# relations = np.unique(train[:,1]).tolist()\n",
    "\n",
    "# num_entities = len(entities)\n",
    "# num_relations = len(relations)\n",
    "\n",
    "# ent2idx = dict(zip(entities, range(num_entities)))\n",
    "# rel2idx = dict(zip(relations, range(num_relations)))\n",
    "\n",
    "# idx2ent = {idx:ent for ent,idx in ent2idx.items()}\n",
    "# idx2rel = {idx:rel for rel,idx in rel2idx.items()}\n",
    "\n",
    "# train2idx = utils.train2idx(train,ent2idx,rel2idx)"
   ]
  },
  {
   "cell_type": "code",
   "execution_count": null,
   "metadata": {},
   "outputs": [],
   "source": []
  },
  {
   "cell_type": "code",
   "execution_count": null,
   "metadata": {},
   "outputs": [],
   "source": [
    "# for i in sorted(indices.keys()):\n",
    "#     for j in indices[i]:\n",
    "# #         if len(indices[i]) == 1:\n",
    "# #             print(i,j)\n",
    "# #         else:\n",
    "#             for k in indices[i]:\n",
    "#                 if j != k:\n",
    "#                     print(i,j,k)"
   ]
  },
  {
   "cell_type": "code",
   "execution_count": null,
   "metadata": {},
   "outputs": [],
   "source": []
  },
  {
   "cell_type": "code",
   "execution_count": null,
   "metadata": {},
   "outputs": [],
   "source": []
  },
  {
   "cell_type": "code",
   "execution_count": null,
   "metadata": {},
   "outputs": [],
   "source": []
  },
  {
   "cell_type": "code",
   "execution_count": null,
   "metadata": {},
   "outputs": [],
   "source": []
  },
  {
   "cell_type": "code",
   "execution_count": null,
   "metadata": {},
   "outputs": [],
   "source": []
  },
  {
   "cell_type": "code",
   "execution_count": null,
   "metadata": {},
   "outputs": [],
   "source": []
  },
  {
   "cell_type": "code",
   "execution_count": null,
   "metadata": {},
   "outputs": [],
   "source": []
  },
  {
   "cell_type": "code",
   "execution_count": null,
   "metadata": {},
   "outputs": [],
   "source": []
  },
  {
   "cell_type": "code",
   "execution_count": null,
   "metadata": {},
   "outputs": [],
   "source": []
  }
 ],
 "metadata": {
  "kernelspec": {
   "display_name": "Python 3",
   "language": "python",
   "name": "python3"
  },
  "language_info": {
   "codemirror_mode": {
    "name": "ipython",
    "version": 3
   },
   "file_extension": ".py",
   "mimetype": "text/x-python",
   "name": "python",
   "nbconvert_exporter": "python",
   "pygments_lexer": "ipython3",
   "version": "3.7.4"
  }
 },
 "nbformat": 4,
 "nbformat_minor": 4
}
