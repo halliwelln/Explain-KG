{
 "cells": [
  {
   "cell_type": "code",
   "execution_count": 1,
   "metadata": {},
   "outputs": [],
   "source": [
    "%matplotlib inline\n",
    "import matplotlib.pyplot as plt\n",
    "import numpy as np\n",
    "import tensorflow as tf\n",
    "import pandas as pd"
   ]
  },
  {
   "cell_type": "code",
   "execution_count": 2,
   "metadata": {},
   "outputs": [],
   "source": [
    "fb15k_237 = np.load('./data/fb15k_237.npz', allow_pickle=True)"
   ]
  },
  {
   "cell_type": "code",
   "execution_count": 3,
   "metadata": {},
   "outputs": [],
   "source": [
    "fb_train = fb15k_237['train']\n",
    "fb_valid = fb15k_237['valid']\n",
    "fb_test = fb15k_237['test']"
   ]
  },
  {
   "cell_type": "code",
   "execution_count": 4,
   "metadata": {},
   "outputs": [],
   "source": [
    "entities = set(np.concatenate((fb_train[:,0], fb_train[:,2]), axis=0))\n",
    "relations = set(fb_train[:,1])\n",
    "\n",
    "num_entities = len(entities)\n",
    "num_relations = len(relations)\n",
    "\n",
    "ent2idx = dict(zip(entities, range(num_entities)))\n",
    "rel2idx = dict(zip(relations, range(num_relations)))"
   ]
  },
  {
   "cell_type": "code",
   "execution_count": 5,
   "metadata": {},
   "outputs": [],
   "source": [
    "train2idx = []\n",
    "\n",
    "for head, rel, tail in fb_train:\n",
    "    \n",
    "    head_idx = ent2idx[head]\n",
    "    tail_idx = ent2idx[tail]\n",
    "    rel_idx = rel2idx[rel]\n",
    "\n",
    "    train2idx.append([head_idx, rel_idx, tail_idx])\n",
    "    \n",
    "train2idx = np.array(train2idx)"
   ]
  },
  {
   "cell_type": "code",
   "execution_count": null,
   "metadata": {},
   "outputs": [],
   "source": []
  },
  {
   "cell_type": "code",
   "execution_count": 104,
   "metadata": {},
   "outputs": [],
   "source": [
    "embedding_size = 2\n",
    "ent_shape = (num_entities, embedding_size)\n",
    "rel_shape = (num_relations, embedding_size)\n",
    "margin = 1\n",
    "\n",
    "sqrt_size = 6 / np.sqrt(embedding_size)\n",
    "\n",
    "ent_embeddings = tf.Variable(\n",
    "    initial_value=tf.random.uniform(shape=ent_shape, minval=-sqrt_size, maxval=sqrt_size), \n",
    "    trainable=True, \n",
    "    shape=ent_shape\n",
    "    )\n",
    "\n",
    "rel_embeddings = tf.Variable(\n",
    "    initial_value=tf.random.uniform(shape=rel_shape, minval=-sqrt_size, maxval=sqrt_size), \n",
    "    trainable=True, \n",
    "    shape=rel_shape\n",
    "    )"
   ]
  },
  {
   "cell_type": "code",
   "execution_count": null,
   "metadata": {},
   "outputs": [],
   "source": []
  },
  {
   "cell_type": "code",
   "execution_count": 61,
   "metadata": {},
   "outputs": [],
   "source": [
    "train_data = tf.data.Dataset.from_tensor_slices((train2idx[:,0], train2idx[:,2], train2idx[:,1])).batch(2)"
   ]
  },
  {
   "cell_type": "code",
   "execution_count": 25,
   "metadata": {},
   "outputs": [],
   "source": [
    "#negative triples\n",
    "#loss function\n",
    "#compare with ampligraph/SimplE\n"
   ]
  },
  {
   "cell_type": "code",
   "execution_count": 26,
   "metadata": {},
   "outputs": [],
   "source": [
    "def get_rand_ent(ent):\n",
    "    \n",
    "    rand_ent = np.random.randint(0, num_entities-1)\n",
    "    \n",
    "    while rand_ent == ent:\n",
    "        \n",
    "        rand_ent = np.random.randint(0, num_entities-1)\n",
    "        \n",
    "    return rand_ent"
   ]
  },
  {
   "cell_type": "code",
   "execution_count": 53,
   "metadata": {},
   "outputs": [],
   "source": [
    "def get_negative_triples(head, rel, tail):\n",
    "    \n",
    "    neg_triples = []\n",
    "\n",
    "    head_or_tail = np.random.randint(0,1)\n",
    "\n",
    "    if head_or_tail == 0:\n",
    "\n",
    "        new_head = get_rand_ent(head)\n",
    "        neg_triples.append((new_head, rel, tail))\n",
    "\n",
    "    else:\n",
    "\n",
    "        new_tail = get_rand_ent(tail)\n",
    "        neg_triples.append((head, rel, new_tail))\n",
    "\n",
    "    negative_triples = tf.convert_to_tensor(neg_triples)\n",
    "    \n",
    "    return tf.concat([], axis=0)"
   ]
  },
  {
   "cell_type": "code",
   "execution_count": 51,
   "metadata": {},
   "outputs": [],
   "source": [
    "#train_data.map(lambda x,y,z : get_neg_triples(x,y,z))"
   ]
  },
  {
   "cell_type": "code",
   "execution_count": null,
   "metadata": {},
   "outputs": [],
   "source": []
  },
  {
   "cell_type": "code",
   "execution_count": 29,
   "metadata": {},
   "outputs": [],
   "source": [
    "#tf.squeeze(tf.convert_to_tensor(neg_triples))"
   ]
  },
  {
   "cell_type": "code",
   "execution_count": 54,
   "metadata": {},
   "outputs": [],
   "source": [
    "# for idx, (heads, rels, tails) in enumerate(train_data):\n",
    "    \n",
    "#     if idx == 2:\n",
    "        \n",
    "#         break\n",
    "    \n",
    "#     neg_triples = get_neg_triples(heads, rels, tails)\n",
    "    \n",
    "#     print(heads)\n",
    "#     print(rels)\n",
    "#     print(tails)\n",
    "#     print('new line')"
   ]
  },
  {
   "cell_type": "code",
   "execution_count": 59,
   "metadata": {},
   "outputs": [
    {
     "name": "stdout",
     "output_type": "stream",
     "text": [
      "tf.Tensor([5042  559], shape=(2,), dtype=int64)\n",
      "tf.Tensor([160 220], shape=(2,), dtype=int64)\n",
      "tf.Tensor([2596 6104], shape=(2,), dtype=int64)\n",
      "tf.Tensor([10099  4498], shape=(2,), dtype=int64)\n",
      "tf.Tensor([175 123], shape=(2,), dtype=int64)\n",
      "tf.Tensor([  43 6377], shape=(2,), dtype=int64)\n"
     ]
    }
   ],
   "source": [
    "for idx, tup in enumerate(train_data):\n",
    "    \n",
    "    if idx == 2:\n",
    "        \n",
    "        break\n",
    "    \n",
    "    head, relation, tail = tup\n",
    "    \n",
    "    print(head)\n",
    "    print(relation)\n",
    "    print(tail)"
   ]
  },
  {
   "cell_type": "code",
   "execution_count": null,
   "metadata": {},
   "outputs": [],
   "source": []
  },
  {
   "cell_type": "code",
   "execution_count": 87,
   "metadata": {},
   "outputs": [],
   "source": [
    "# entity_embedding = tf.keras.layers.Embedding(\n",
    "#     input_dim=num_entities,\n",
    "#     output_dim=embedding_size\n",
    "#     )\n",
    "# relation_embedding = tf.keras.layers.Embedding(\n",
    "#     input_dim=num_relations,\n",
    "#     output_dim=embedding_size\n",
    "#     )"
   ]
  },
  {
   "cell_type": "code",
   "execution_count": 95,
   "metadata": {},
   "outputs": [],
   "source": [
    "pos_h_e = tf.nn.embedding_lookup(ent_embeddings,head)\n",
    "pos_t_e = tf.nn.embedding_lookup(ent_embeddings,tail)\n",
    "pos_r_e = tf.nn.embedding_lookup(rel_embeddings, relation)\n",
    "\n",
    "neg_h_e = tf.nn.embedding_lookup(ent_embeddings,head)\n",
    "neg_t_e = tf.nn.embedding_lookup(ent_embeddings,tail)\n",
    "neg_r_e = tf.nn.embedding_lookup(rel_embeddings, relation)"
   ]
  },
  {
   "cell_type": "code",
   "execution_count": 103,
   "metadata": {},
   "outputs": [],
   "source": [
    "optimizer = tf.keras.optimizers.SGD(learning_rate=0.01)"
   ]
  },
  {
   "cell_type": "code",
   "execution_count": 102,
   "metadata": {},
   "outputs": [
    {
     "data": {
      "text/plain": [
       "<tf.Tensor: id=886, shape=(2, 1), dtype=float32, numpy=\n",
       "array([[14.390011],\n",
       "       [40.45072 ]], dtype=float32)>"
      ]
     },
     "execution_count": 102,
     "metadata": {},
     "output_type": "execute_result"
    }
   ],
   "source": [
    "#training loop\n",
    "with tf.GradientTape() as tape:\n",
    "    \n",
    "    pos = tf.reduce_sum(tf.square(pos_h_e + pos_r_e - pos_t_e), axis=1, keepdims=True)\n",
    "    neg = tf.reduce_sum(tf.square(neg_h_e + neg_r_e - neg_t_e), axis=1, keepdims=True)    \n",
    "    \n",
    "    embedding_loss = tf.reduce_sum(tf.maximum(pos - neg + margin, 0))\n",
    "\n",
    "#list of trainable weights\n",
    "grads = tape.gradient(embedding_loss,(ent_embeddings, rel_embeddings))\n",
    "\n",
    "#check this!!!\n",
    "optimizer.apply_gradients(zip(grads, (ent_embeddings, rel_embeddings)))"
   ]
  },
  {
   "cell_type": "code",
   "execution_count": null,
   "metadata": {},
   "outputs": [],
   "source": []
  }
 ],
 "metadata": {
  "kernelspec": {
   "display_name": "Python 3",
   "language": "python",
   "name": "python3"
  },
  "language_info": {
   "codemirror_mode": {
    "name": "ipython",
    "version": 3
   },
   "file_extension": ".py",
   "mimetype": "text/x-python",
   "name": "python",
   "nbconvert_exporter": "python",
   "pygments_lexer": "ipython3",
   "version": "3.7.4"
  }
 },
 "nbformat": 4,
 "nbformat_minor": 4
}
