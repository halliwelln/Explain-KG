{
 "cells": [
  {
   "cell_type": "code",
   "execution_count": 1,
   "metadata": {},
   "outputs": [],
   "source": [
    "import pandas as pd\n",
    "from SPARQLWrapper import SPARQLWrapper, JSON\n",
    "import numpy as np\n",
    "import random as rn\n",
    "import json\n",
    "import time"
   ]
  },
  {
   "cell_type": "code",
   "execution_count": 2,
   "metadata": {},
   "outputs": [],
   "source": [
    "np.random.seed(123)\n",
    "rn.seed(123)"
   ]
  },
  {
   "cell_type": "code",
   "execution_count": 3,
   "metadata": {},
   "outputs": [],
   "source": [
    "fb15k_237 = np.load('./data/fb15k_237.npz', allow_pickle=True)"
   ]
  },
  {
   "cell_type": "code",
   "execution_count": 4,
   "metadata": {},
   "outputs": [],
   "source": [
    "entities = list(set(np.concatenate([fb15k_237['train'][:,0], \n",
    "                fb15k_237['train'][:,2],\n",
    "                fb15k_237['valid'][:,0], \n",
    "                fb15k_237['valid'][:,2],\n",
    "                fb15k_237['test'][:,0],\n",
    "                fb15k_237['test'][:,0]], axis=0)))"
   ]
  },
  {
   "cell_type": "code",
   "execution_count": 5,
   "metadata": {},
   "outputs": [],
   "source": [
    "missed = np.load('./data/missed.npz')['b']"
   ]
  },
  {
   "cell_type": "code",
   "execution_count": 6,
   "metadata": {},
   "outputs": [],
   "source": [
    "with open('./data/fb15k_237_entities.json','r') as f:\n",
    "    \n",
    "    entities_dict = json.load(f)"
   ]
  },
  {
   "cell_type": "code",
   "execution_count": 9,
   "metadata": {},
   "outputs": [
    {
     "name": "stdout",
     "output_type": "stream",
     "text": [
      "Nothing found for id  /m/01zhp\n",
      "Nothing found for id  /m/019mlh\n",
      "/m/01d38t Grammy Award for Best Hard Rock Performance\n",
      "/m/0jvs0 Morgan Stanley\n",
      "/m/07kjk7c Primetime Emmy Award for Outstanding Writing for a Miniseries, Movie or a Dramatic Special\n",
      "/m/06myp Sigmund Freud\n",
      "/m/02l0xc Don Ameche\n",
      "/m/0h69c National League\n",
      "/m/02x9g_ Montana State University - Bozeman\n",
      "/m/09lhln Kevin Betsy\n"
     ]
    }
   ],
   "source": [
    "for str_id in missed[0:10]:\n",
    "    \n",
    "    sparql = SPARQLWrapper(\"https://query.wikidata.org/sparql\")\n",
    "\n",
    "    query = \"\"\"\n",
    "        SELECT ?item ?itemLabel \n",
    "        WHERE \n",
    "        {\n",
    "          ?item wdt:P646 '%s' .\n",
    "          SERVICE wikibase:label { bd:serviceParam wikibase:language \"[AUTO_LANGUAGE],en\". }\n",
    "        }\n",
    "        \"\"\"\n",
    "    sparql.setQuery(query % str_id)\n",
    "    \n",
    "    sparql.setReturnFormat(JSON)\n",
    "    results = sparql.query().convert()\n",
    "    try:\n",
    "        entity_str = results['results']['bindings'][0]['itemLabel']['value']\n",
    "        print(str_id, entity_str)\n",
    "    except:\n",
    "        print('Nothing found for id ', str_id)"
   ]
  },
  {
   "cell_type": "code",
   "execution_count": null,
   "metadata": {},
   "outputs": [],
   "source": []
  },
  {
   "cell_type": "code",
   "execution_count": null,
   "metadata": {},
   "outputs": [],
   "source": []
  },
  {
   "cell_type": "code",
   "execution_count": null,
   "metadata": {},
   "outputs": [],
   "source": []
  },
  {
   "cell_type": "code",
   "execution_count": null,
   "metadata": {},
   "outputs": [],
   "source": []
  }
 ],
 "metadata": {
  "kernelspec": {
   "display_name": "Python 3",
   "language": "python",
   "name": "python3"
  },
  "language_info": {
   "codemirror_mode": {
    "name": "ipython",
    "version": 3
   },
   "file_extension": ".py",
   "mimetype": "text/x-python",
   "name": "python",
   "nbconvert_exporter": "python",
   "pygments_lexer": "ipython3",
   "version": "3.7.4"
  }
 },
 "nbformat": 4,
 "nbformat_minor": 4
}
