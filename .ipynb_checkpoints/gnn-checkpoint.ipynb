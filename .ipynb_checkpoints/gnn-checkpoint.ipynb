{
 "cells": [
  {
   "cell_type": "code",
   "execution_count": 1,
   "metadata": {},
   "outputs": [],
   "source": [
    "import tensorflow as tf\n",
    "import utils\n",
    "import numpy as np\n",
    "import random as rn\n",
    "import os\n",
    "\n",
    "SEED = 123\n",
    "os.environ['PYTHONHASHSEED'] = str(SEED)\n",
    "os.environ['TF_DETERMINISTIC_OPS'] = '1'\n",
    "tf.random.set_seed(SEED)\n",
    "np.random.seed(SEED)\n",
    "rn.seed(SEED)"
   ]
  },
  {
   "cell_type": "code",
   "execution_count": 2,
   "metadata": {},
   "outputs": [],
   "source": [
    "# matrix = np.matrix('1, 1, 1, 1;'\n",
    "#                    '1, 0, 0, 0;'\n",
    "#                    '0, 1, 0, 1;'\n",
    "#                    '0, 0, 1, 1')"
   ]
  },
  {
   "cell_type": "code",
   "execution_count": 3,
   "metadata": {},
   "outputs": [],
   "source": [
    "# degree = np.array(matrix).sum(axis=1)\n",
    "# degree_mat = np.diag(degree)\n",
    "# degree_mat"
   ]
  },
  {
   "cell_type": "code",
   "execution_count": null,
   "metadata": {},
   "outputs": [],
   "source": []
  },
  {
   "cell_type": "code",
   "execution_count": 4,
   "metadata": {},
   "outputs": [],
   "source": [
    "from networkx import karate_club_graph, to_numpy_matrix\n",
    "zkc = karate_club_graph()\n",
    "order = sorted(list(zkc.nodes()))\n",
    "A = to_numpy_matrix(zkc, nodelist=order)\n",
    "I = np.eye(zkc.number_of_nodes())\n",
    "A_hat = A + I\n",
    "D_hat = np.array(np.sum(A_hat, axis=0))[0]\n",
    "D_hat = np.matrix(np.diag(D_hat))\n",
    "W_1 = np.random.normal(\n",
    "    loc=0, scale=1, size=(zkc.number_of_nodes(), 4))\n",
    "W_2 = np.random.normal(\n",
    "    loc=0, size=(W_1.shape[1], 2))"
   ]
  },
  {
   "cell_type": "code",
   "execution_count": 5,
   "metadata": {},
   "outputs": [],
   "source": [
    "def gcn_layer(A_hat, D_hat, X, W):\n",
    "    return D_hat**-1 * A_hat * X * W\n",
    "H_1 = gcn_layer(A_hat, D_hat, I, W_1)\n",
    "H_2 = gcn_layer(A_hat, D_hat, H_1, W_2)\n",
    "output = H_2\n"
   ]
  },
  {
   "cell_type": "code",
   "execution_count": 6,
   "metadata": {},
   "outputs": [],
   "source": [
    "#mask to only include training graph? or split graph into train/test adjacency matrices\n",
    "#get train test split, mask value = -1\n",
    "#update input layers to mask -1"
   ]
  },
  {
   "cell_type": "code",
   "execution_count": 7,
   "metadata": {},
   "outputs": [],
   "source": [
    "class GCN(tf.keras.layers.Layer):\n",
    "    def __init__(self,units,**kwargs):\n",
    "        super(GCN,self).__init__(**kwargs)\n",
    "        self.units = units\n",
    "        \n",
    "    def build(self,input_shape):\n",
    "\n",
    "        self.kernel = self.add_weight(\n",
    "            shape=(input_shape[-1][-1],self.units),\n",
    "            trainable=True,\n",
    "            name='kernel',\n",
    "            initializer=tf.keras.initializers.RandomNormal(seed=SEED)\n",
    "        )\n",
    "\n",
    "    def call(self,inputs):\n",
    "\n",
    "        D_hat_inv,A_hat,H = inputs\n",
    "        \n",
    "#         print(tf.keras.backend.shape(D_hat_inv))\n",
    "#         print(tf.keras.backend.shape(A_hat))\n",
    "#         print(tf.keras.backend.shape(H))\n",
    "#         print(tf.keras.backend.shape(self.kernel))\n",
    "\n",
    "        DHW = tf.matmul(D_hat_inv,tf.matmul(H,self.kernel))\n",
    "\n",
    "        output = tf.matmul(D_hat_inv,tf.matmul(A_hat,DHW))\n",
    "\n",
    "        #print(tf.shape(DHW))\n",
    "\n",
    "        return output\n",
    "    \n",
    "    def get_config(self):\n",
    "        base_config = super(GCN, self).get_config()\n",
    "        config = {'units': self.units}\n",
    "        return dict(list(base_config.items()) + list(config.items()))"
   ]
  },
  {
   "cell_type": "code",
   "execution_count": null,
   "metadata": {},
   "outputs": [],
   "source": [
    "#k hop subgraph -> Adjacency matrix of k neighbors? Features for k neighbors\n",
    "#define masks (2 vectors, 1 for each node, feature mask?)\n",
    "#feed masked data into model to compute predictions: subgraph preds vs masked subgraph preds\n",
    "\n",
    "#why return node and edge feature mask?\n",
    "\n",
    "\n",
    "#a = tf.keras.layers.ReLU()(GCN(4)([D_hat**-1,A_hat,I])).numpy()"
   ]
  },
  {
   "cell_type": "code",
   "execution_count": 36,
   "metadata": {},
   "outputs": [],
   "source": [
    "NUM_FEATURES = I.shape[0]\n",
    "feature_input = tf.keras.layers.Input(shape=(NUM_FEATURES,),name='feature_input')\n",
    "adjacency_input = tf.keras.layers.Input(shape=(NUM_FEATURES,),name='adjacency_input')\n",
    "degree_input = tf.keras.layers.Input(shape=(NUM_FEATURES,),name='degree_input')\n",
    "\n",
    "feature_mask = tf.keras.layers.Masking(mask_value=-1,name='feature_mask')(feature_input)\n",
    "adjacency_mask = tf.keras.layers.Masking(mask_value=-1,name='adjacency_mask')(adjacency_input)\n",
    "degree_mask = tf.keras.layers.Masking(mask_value=-1,name='degree_mask')(degree_input)\n",
    "\n",
    "gcn_ = GCN(4,name='gcn')([degree_mask,adjacency_mask,feature_mask])\n",
    "a2 = tf.keras.layers.ReLU()(gcn_)\n",
    "model = tf.keras.Model(inputs=[degree_input,adjacency_input,feature_input], outputs=a2)\n",
    "\n",
    "# model.compile(optimizer='sgd',loss='categorical_crossentropy')\n",
    "\n",
    "# model.fit(x=[D_hat**-1,A_hat,I],y=tf.keras.utils.to_categorical(np.ones(34),4),batch_size=34)"
   ]
  },
  {
   "cell_type": "code",
   "execution_count": 10,
   "metadata": {},
   "outputs": [],
   "source": [
    "# input_data = np.array([\n",
    "        \n",
    "#             [0, 1, 2],\n",
    "#             [2, 3, 4],\n",
    "#             [4, 5, 6],\n",
    "#             [7, 7, 8],\n",
    "        \n",
    "#     ], dtype=K.floatx())\n",
    "# input_edge = np.array([\n",
    "        \n",
    "#             [1, 1, 1, 0],\n",
    "#             [1, 1, 0, 0],\n",
    "#             [1, 0, 1, 0],\n",
    "#             [0, 0, 0, 1],\n",
    "        \n",
    "#     ], dtype='int32')"
   ]
  },
  {
   "cell_type": "code",
   "execution_count": null,
   "metadata": {},
   "outputs": [],
   "source": []
  },
  {
   "cell_type": "code",
   "execution_count": null,
   "metadata": {},
   "outputs": [],
   "source": []
  },
  {
   "cell_type": "code",
   "execution_count": null,
   "metadata": {},
   "outputs": [],
   "source": []
  },
  {
   "cell_type": "code",
   "execution_count": null,
   "metadata": {},
   "outputs": [],
   "source": []
  },
  {
   "cell_type": "code",
   "execution_count": null,
   "metadata": {},
   "outputs": [],
   "source": []
  },
  {
   "cell_type": "code",
   "execution_count": null,
   "metadata": {},
   "outputs": [],
   "source": []
  },
  {
   "cell_type": "code",
   "execution_count": null,
   "metadata": {},
   "outputs": [],
   "source": []
  }
 ],
 "metadata": {
  "kernelspec": {
   "display_name": "Python 3",
   "language": "python",
   "name": "python3"
  },
  "language_info": {
   "codemirror_mode": {
    "name": "ipython",
    "version": 3
   },
   "file_extension": ".py",
   "mimetype": "text/x-python",
   "name": "python",
   "nbconvert_exporter": "python",
   "pygments_lexer": "ipython3",
   "version": "3.7.4"
  }
 },
 "nbformat": 4,
 "nbformat_minor": 4
}
