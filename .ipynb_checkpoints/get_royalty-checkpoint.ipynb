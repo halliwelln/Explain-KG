{
 "cells": [
  {
   "cell_type": "code",
   "execution_count": null,
   "metadata": {},
   "outputs": [],
   "source": [
    "from SPARQLWrapper import SPARQLWrapper, XML\n",
    "from rdflib import Graph\n",
    "import time\n",
    "import os"
   ]
  },
  {
   "cell_type": "code",
   "execution_count": null,
   "metadata": {},
   "outputs": [],
   "source": [
    "start = 0\n",
    "offset = 1000\n",
    "limit = 1000\n",
    "\n",
    "for i in range(start,20000,offset):\n",
    "\n",
    "    sparql = SPARQLWrapper(\"http://dbpedia.org/sparql\")\n",
    "    sparql.setQuery(f\"\"\"\n",
    "        PREFIX dbo: <http://dbpedia.org/ontology/>\n",
    "        PREFIX foaf: <http://xmlns.com/foaf/0.1/>\n",
    "        CONSTRUCT{{\n",
    "        ?x\n",
    "        dbo:parent ?parent ;\n",
    "        dbo:predecessor ?predecessor ;\n",
    "        dbo:spouse ?spouse ;\n",
    "        foaf:gender ?gender ;\n",
    "        dbo:successor ?sucessor .\n",
    "        }}\n",
    "        WHERE {{\n",
    "        ?x a dbo:Royalty .\n",
    "        OPTIONAL {{?x dbo:parent ?parent }}\n",
    "        OPTIONAL {{?x dbo:predecessor ?predecessor }}\n",
    "        OPTIONAL {{?x dbo:spouse ?spouse }}\n",
    "        OPTIONAL {{?x foaf:gender ?gender }}\n",
    "        OPTIONAL {{?x dbo:successor ?sucessor }}\n",
    "        }}\n",
    "        Order by asc(?x) limit {limit} offset {i}\n",
    "        \"\"\")\n",
    "    sparql.setReturnFormat(XML)\n",
    "    results = sparql.query().convert().serialize(\n",
    "        destination=os.path.join('.','data','royalty_temp',f'sparql-{i}'),\n",
    "        format='xml'\n",
    "        )\n",
    "    time.sleep(.1)\n",
    "    \n",
    "    if i==200:\n",
    "        break"
   ]
  },
  {
   "cell_type": "code",
   "execution_count": null,
   "metadata": {},
   "outputs": [],
   "source": []
  },
  {
   "cell_type": "code",
   "execution_count": null,
   "metadata": {},
   "outputs": [],
   "source": [
    "g = Graph()\n",
    "\n",
    "for i in range(start,20000,offset):\n",
    "    \n",
    "    g.parse(os.path.join('.','data','royalty_temp',f'sparql-{i}-{i+offset}'), format=\"xml\")\n",
    "    print(len(g))\n",
    "    \n",
    "    if i==200:\n",
    "        break"
   ]
  },
  {
   "cell_type": "code",
   "execution_count": null,
   "metadata": {},
   "outputs": [],
   "source": [
    "g.serialize(destination=os.path.join('.','data','royalty'),format='xml')"
   ]
  },
  {
   "cell_type": "code",
   "execution_count": null,
   "metadata": {},
   "outputs": [],
   "source": [
    "new_g = Graph()\n",
    "    \n",
    "new_g.parse(os.path.join('.','data','royalty'), format=\"xml\")"
   ]
  },
  {
   "cell_type": "code",
   "execution_count": null,
   "metadata": {},
   "outputs": [],
   "source": [
    "a = [i for i in range(start,20000+offset,offset)]"
   ]
  },
  {
   "cell_type": "code",
   "execution_count": null,
   "metadata": {},
   "outputs": [],
   "source": []
  },
  {
   "cell_type": "code",
   "execution_count": null,
   "metadata": {},
   "outputs": [],
   "source": []
  },
  {
   "cell_type": "code",
   "execution_count": null,
   "metadata": {},
   "outputs": [],
   "source": []
  }
 ],
 "metadata": {
  "kernelspec": {
   "display_name": "Python 3",
   "language": "python",
   "name": "python3"
  },
  "language_info": {
   "codemirror_mode": {
    "name": "ipython",
    "version": 3
   },
   "file_extension": ".py",
   "mimetype": "text/x-python",
   "name": "python",
   "nbconvert_exporter": "python",
   "pygments_lexer": "ipython3",
   "version": "3.7.4"
  }
 },
 "nbformat": 4,
 "nbformat_minor": 4
}
