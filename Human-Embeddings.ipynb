{
 "cells": [
  {
   "cell_type": "code",
   "execution_count": 1,
   "metadata": {},
   "outputs": [
    {
     "name": "stderr",
     "output_type": "stream",
     "text": [
      "/opt/anaconda3/envs/ampligraph/lib/python3.6/site-packages/tensorflow/python/framework/dtypes.py:526: FutureWarning: Passing (type, 1) or '1type' as a synonym of type is deprecated; in a future version of numpy, it will be understood as (type, (1,)) / '(1,)type'.\n",
      "  _np_qint8 = np.dtype([(\"qint8\", np.int8, 1)])\n",
      "/opt/anaconda3/envs/ampligraph/lib/python3.6/site-packages/tensorflow/python/framework/dtypes.py:527: FutureWarning: Passing (type, 1) or '1type' as a synonym of type is deprecated; in a future version of numpy, it will be understood as (type, (1,)) / '(1,)type'.\n",
      "  _np_quint8 = np.dtype([(\"quint8\", np.uint8, 1)])\n",
      "/opt/anaconda3/envs/ampligraph/lib/python3.6/site-packages/tensorflow/python/framework/dtypes.py:528: FutureWarning: Passing (type, 1) or '1type' as a synonym of type is deprecated; in a future version of numpy, it will be understood as (type, (1,)) / '(1,)type'.\n",
      "  _np_qint16 = np.dtype([(\"qint16\", np.int16, 1)])\n",
      "/opt/anaconda3/envs/ampligraph/lib/python3.6/site-packages/tensorflow/python/framework/dtypes.py:529: FutureWarning: Passing (type, 1) or '1type' as a synonym of type is deprecated; in a future version of numpy, it will be understood as (type, (1,)) / '(1,)type'.\n",
      "  _np_quint16 = np.dtype([(\"quint16\", np.uint16, 1)])\n",
      "/opt/anaconda3/envs/ampligraph/lib/python3.6/site-packages/tensorflow/python/framework/dtypes.py:530: FutureWarning: Passing (type, 1) or '1type' as a synonym of type is deprecated; in a future version of numpy, it will be understood as (type, (1,)) / '(1,)type'.\n",
      "  _np_qint32 = np.dtype([(\"qint32\", np.int32, 1)])\n",
      "/opt/anaconda3/envs/ampligraph/lib/python3.6/site-packages/tensorflow/python/framework/dtypes.py:535: FutureWarning: Passing (type, 1) or '1type' as a synonym of type is deprecated; in a future version of numpy, it will be understood as (type, (1,)) / '(1,)type'.\n",
      "  np_resource = np.dtype([(\"resource\", np.ubyte, 1)])\n"
     ]
    }
   ],
   "source": [
    "%matplotlib inline\n",
    "import matplotlib.pyplot as plt\n",
    "import numpy as np\n",
    "from ampligraph.latent_features import TransE,DistMult, ComplEx\n",
    "from ampligraph.evaluation import evaluate_performance, mrr_score, hits_at_n_score\n",
    "import random as rn\n",
    "import tensorflow as tf\n",
    "from sklearn.decomposition import PCA\n",
    "from rdflib import Graph\n",
    "import os\n",
    "\n",
    "SEED = 123\n",
    "os.environ['PYTHONHASHSEED'] = str(SEED)\n",
    "os.environ['TF_DETERMINISTIC_OPS'] = '1'\n",
    "np.random.seed(SEED)\n",
    "rn.seed(SEED)\n",
    "tf.set_random_seed(SEED)"
   ]
  },
  {
   "cell_type": "code",
   "execution_count": 2,
   "metadata": {},
   "outputs": [
    {
     "data": {
      "text/plain": [
       "<Graph identifier=Na39e7da696714310bdd93f7d8c130ef9 (<class 'rdflib.graph.Graph'>)>"
      ]
     },
     "execution_count": 2,
     "metadata": {},
     "output_type": "execute_result"
    }
   ],
   "source": [
    "g=Graph()\n",
    "g.parse(\"/Users/nhalliwe/Desktop/CORESE-DATA/human-data.rdf\", format=\"xml\")"
   ]
  },
  {
   "cell_type": "code",
   "execution_count": 3,
   "metadata": {},
   "outputs": [],
   "source": [
    "triples = []\n",
    "\n",
    "for i,j,k in g:\n",
    "    \n",
    "    head = str(i).split('#')\n",
    "    rel = str(j).split('#')\n",
    "    tail = str(k).split('#')\n",
    "    \n",
    "    if head[0] == 'http://www.inria.fr/2015/humans-instances':\n",
    "        \n",
    "        triples.append((head[-1], rel[-1], tail[-1]))\n",
    "\n",
    "X = np.array(triples)"
   ]
  },
  {
   "cell_type": "code",
   "execution_count": 4,
   "metadata": {},
   "outputs": [
    {
     "data": {
      "text/plain": [
       "array([['Eve', 'type', 'Person'],\n",
       "       ['Eve', 'name', 'Eve'],\n",
       "       ['John', 'shoesize', '14'],\n",
       "       ['Alice', 'hasFriend', 'John'],\n",
       "       ['Mark', 'name', 'Mark'],\n",
       "       ['John', 'type', 'Person'],\n",
       "       ['Eve', 'hasFriend', 'Alice'],\n",
       "       ['John', 'age', '37'],\n",
       "       ['Jack', 'name', 'Jack'],\n",
       "       ['Jennifer', 'type', 'Woman'],\n",
       "       ['David', 'type', 'Researcher'],\n",
       "       ['Flora', 'name', 'Flora'],\n",
       "       ['Mark', 'hasFather', 'John'],\n",
       "       ['Mark', 'age', '14'],\n",
       "       ['Eve', 'type', 'Lecturer'],\n",
       "       ['Eve', 'hasSpouse', 'David'],\n",
       "       ['Alice', 'name', 'Alice'],\n",
       "       ['Harry', 'hasSpouse', 'Sophie'],\n",
       "       ['Flora', 'age', '95'],\n",
       "       ['Harry', 'age', '25'],\n",
       "       ['Alice', 'type', 'Woman'],\n",
       "       ['Laura', 'hasFriend', 'Alice'],\n",
       "       ['David', 'name', 'David'],\n",
       "       ['Mark', 'shoesize', '8'],\n",
       "       ['Laura', 'type', 'Person'],\n",
       "       ['Mark', 'trouserssize', '36'],\n",
       "       ['Flora', 'type', 'Woman'],\n",
       "       ['Harry', 'phoneNumber', '32 08 98'],\n",
       "       ['Mark', 'shirtsize', '9'],\n",
       "       ['Harry', 'type', 'Man'],\n",
       "       ['Harry', 'hasChild', 'John'],\n",
       "       ['Laura', 'name', 'Laura'],\n",
       "       ['Harry', 'name', 'Harry'],\n",
       "       ['David', 'type', 'Person'],\n",
       "       ['John', 'name', 'John'],\n",
       "       ['Jack', 'hasChild', 'Harry'],\n",
       "       ['Flora', 'hasSpouse', 'Gaston'],\n",
       "       ['Jennifer', 'name', 'Jennifer'],\n",
       "       ['David', 'hasFriend', 'Gaston'],\n",
       "       ['Mark', 'type', 'Person'],\n",
       "       ['Jack', 'hasFriend', 'Alice'],\n",
       "       ['Flora', 'hasChild', 'Pierre'],\n",
       "       ['Jack', 'type', 'Man'],\n",
       "       ['Jennifer', 'hasSpouse', 'John']], dtype='<U12')"
      ]
     },
     "execution_count": 4,
     "metadata": {},
     "output_type": "execute_result"
    }
   ],
   "source": [
    "X"
   ]
  },
  {
   "cell_type": "code",
   "execution_count": 5,
   "metadata": {},
   "outputs": [],
   "source": [
    "# entities = list(set(np.hstack((data[:,0],data[:,2]))))\n",
    "# relations = list(set(data[:,1]))\n",
    "\n",
    "# num_ent = len(entities)\n",
    "# num_rel = len(relations)\n",
    "# adj = np.zeros(shape=(num_ent,num_rel, num_ent))\n",
    "# for h,r,t in triples:\n",
    "    \n",
    "#     head_idx = entities.index(h)\n",
    "#     rel_idx = relations.index(r)\n",
    "#     tail_idx = entities.index(t)\n",
    "    \n",
    "#     adj[head_idx, rel_idx, tail_idx] = 1"
   ]
  },
  {
   "cell_type": "code",
   "execution_count": 6,
   "metadata": {},
   "outputs": [],
   "source": [
    "all_relations = np.unique(X[:,1])\n",
    "all_entities = np.unique(np.concatenate((X[:,0], X[:,2]), axis=0))"
   ]
  },
  {
   "cell_type": "code",
   "execution_count": 7,
   "metadata": {},
   "outputs": [
    {
     "name": "stdout",
     "output_type": "stream",
     "text": [
      "WARNING - All triples will be processed in the same batch (batches_count=1). When processing large graphs it is recommended to batch the input knowledge graph instead.\n"
     ]
    }
   ],
   "source": [
    "model = DistMult(batches_count=1, seed=SEED, epochs=200, k=10, loss='pairwise',\n",
    "               loss_params={'margin':2})"
   ]
  },
  {
   "cell_type": "code",
   "execution_count": 8,
   "metadata": {},
   "outputs": [
    {
     "name": "stdout",
     "output_type": "stream",
     "text": [
      "WARNING - From /opt/anaconda3/envs/ampligraph/lib/python3.6/site-packages/tensorflow/python/framework/op_def_library.py:263: colocate_with (from tensorflow.python.framework.ops) is deprecated and will be removed in a future version.\n",
      "Instructions for updating:\n",
      "Colocations handled automatically by placer.\n",
      "WARNING - From /opt/anaconda3/envs/ampligraph/lib/python3.6/site-packages/tensorflow/python/data/ops/dataset_ops.py:429: py_func (from tensorflow.python.ops.script_ops) is deprecated and will be removed in a future version.\n",
      "Instructions for updating:\n",
      "tf.py_func is deprecated in TF V2. Instead, use\n",
      "    tf.py_function, which takes a python function which manipulates tf eager\n",
      "    tensors instead of numpy arrays. It's easy to convert a tf eager tensor to\n",
      "    an ndarray (just call tensor.numpy()) but having access to eager tensors\n",
      "    means `tf.py_function`s can use accelerators such as GPUs as well as\n",
      "    being differentiable using a gradient tape.\n",
      "    \n",
      "WARNING - From /opt/anaconda3/envs/ampligraph/lib/python3.6/site-packages/tensorflow/python/ops/math_ops.py:3066: to_int32 (from tensorflow.python.ops.math_ops) is deprecated and will be removed in a future version.\n",
      "Instructions for updating:\n",
      "Use tf.cast instead.\n"
     ]
    }
   ],
   "source": [
    "model.fit(X)"
   ]
  },
  {
   "cell_type": "code",
   "execution_count": 9,
   "metadata": {},
   "outputs": [],
   "source": [
    "scores = []\n",
    "\n",
    "for rel in all_relations:\n",
    "    \n",
    "    score = model.predict(np.array(['Jennifer', rel, 'John']))\n",
    "    scores.append((rel, score[0]))"
   ]
  },
  {
   "cell_type": "code",
   "execution_count": 10,
   "metadata": {},
   "outputs": [
    {
     "data": {
      "text/plain": [
       "[('hasSpouse', 0.073922485),\n",
       " ('hasFather', 0.067849055),\n",
       " ('phoneNumber', 0.043874886),\n",
       " ('type', 0.039827768),\n",
       " ('trouserssize', 0.039557174),\n",
       " ('shirtsize', 0.038723297),\n",
       " ('hasFriend', 0.024114676),\n",
       " ('name', 0.008760466),\n",
       " ('age', -0.010884944),\n",
       " ('hasChild', -0.051799472),\n",
       " ('shoesize', -0.11262773)]"
      ]
     },
     "execution_count": 10,
     "metadata": {},
     "output_type": "execute_result"
    }
   ],
   "source": [
    "sorted(scores, key=lambda x:x[1], reverse=True)"
   ]
  },
  {
   "cell_type": "code",
   "execution_count": 11,
   "metadata": {},
   "outputs": [],
   "source": [
    "all_entity_embeddings = []\n",
    "entity_labels = []\n",
    "\n",
    "for i in all_entities:\n",
    "    \n",
    "    all_entity_embeddings.append(model.get_embeddings([i],embedding_type='entity'))\n",
    "    entity_labels.append(i)\n",
    "    \n",
    "all_entity_embeddings = np.array(all_entity_embeddings).squeeze()"
   ]
  },
  {
   "cell_type": "code",
   "execution_count": 12,
   "metadata": {},
   "outputs": [],
   "source": [
    "all_relation_embeddings = []\n",
    "relation_labels = []\n",
    "\n",
    "for i in all_relations:\n",
    "    \n",
    "    all_relation_embeddings.append(model.get_embeddings([i],embedding_type='relation'))\n",
    "    relation_labels.append(i)\n",
    "    \n",
    "all_relation_embeddings = np.array(all_relation_embeddings).squeeze()"
   ]
  },
  {
   "cell_type": "code",
   "execution_count": 13,
   "metadata": {},
   "outputs": [],
   "source": [
    "full = np.concatenate((all_entity_embeddings, all_relation_embeddings))\n",
    "full_labels = np.concatenate((all_entities,all_relations))"
   ]
  },
  {
   "cell_type": "code",
   "execution_count": 14,
   "metadata": {},
   "outputs": [
    {
     "data": {
      "image/png": "[encoded data removed]",
      "text/plain": [
       "<Figure size 864x864 with 1 Axes>"
      ]
     },
     "metadata": {
      "needs_background": "light"
     },
     "output_type": "display_data"
    }
   ],
   "source": [
    "embeddings_2d = PCA(n_components=2, random_state=333).fit_transform(full)\n",
    "fig, ax = plt.subplots(figsize=(12,12))\n",
    "ax.scatter(embeddings_2d[:,0], embeddings_2d[:,1])\n",
    "for i, txt in enumerate(full_labels):\n",
    "    ax.annotate(txt, (embeddings_2d[i, 0], embeddings_2d[i, 1]))"
   ]
  },
  {
   "cell_type": "code",
   "execution_count": 15,
   "metadata": {},
   "outputs": [],
   "source": [
    "np.savez('./data/human_data.npz', \n",
    "         relations=relation_labels,\n",
    "         relation_embeddings=all_relation_embeddings,\n",
    "         entities=entity_labels,\n",
    "         entity_embeddings=all_entity_embeddings,\n",
    "         X=X,\n",
    "        )"
   ]
  },
  {
   "cell_type": "code",
   "execution_count": 16,
   "metadata": {},
   "outputs": [
    {
     "name": "stdout",
     "output_type": "stream",
     "text": [
      "Laura hasFriend Alice\n",
      "Laura type Person\n",
      "Laura name Laura\n"
     ]
    }
   ],
   "source": [
    "# for h,r,t in X:\n",
    "#     if h=='Laura' or t=='Laura':\n",
    "#         print(h,r,t)"
   ]
  },
  {
   "cell_type": "code",
   "execution_count": null,
   "metadata": {},
   "outputs": [],
   "source": []
  },
  {
   "cell_type": "code",
   "execution_count": null,
   "metadata": {},
   "outputs": [],
   "source": []
  }
 ],
 "metadata": {
  "kernelspec": {
   "display_name": "Python 3",
   "language": "python",
   "name": "python3"
  },
  "language_info": {
   "codemirror_mode": {
    "name": "ipython",
    "version": 3
   },
   "file_extension": ".py",
   "mimetype": "text/x-python",
   "name": "python",
   "nbconvert_exporter": "python",
   "pygments_lexer": "ipython3",
   "version": "3.6.10"
  }
 },
 "nbformat": 4,
 "nbformat_minor": 4
}
