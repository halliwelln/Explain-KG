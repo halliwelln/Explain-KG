{
 "cells": [
  {
   "cell_type": "code",
   "execution_count": 22,
   "id": "removable-education",
   "metadata": {},
   "outputs": [],
   "source": [
    "import numpy as np\n",
    "import utils\n",
    "import os\n",
    "import tensorflow as tf"
   ]
  },
  {
   "cell_type": "code",
   "execution_count": 95,
   "id": "monetary-bracelet",
   "metadata": {},
   "outputs": [],
   "source": [
    "RULE = 'spouse'\n",
    "TRACE_LENGTH = 1\n",
    "\n",
    "data = np.load(os.path.join('..','data','royalty.npz'))\n",
    "\n",
    "triples,traces,nopred,entities,relations = utils.get_data(data,RULE)\n",
    "\n",
    "NUM_ENTITIES = len(entities)\n",
    "NUM_RELATIONS = len(relations)\n",
    "\n",
    "ent2idx = dict(zip(entities, range(NUM_ENTITIES)))\n",
    "rel2idx = dict(zip(relations, range(NUM_RELATIONS)))\n",
    "\n",
    "idx2ent = dict(zip(range(NUM_ENTITIES),entities))\n",
    "idx2rel = dict(zip(range(NUM_RELATIONS),relations))"
   ]
  },
  {
   "cell_type": "code",
   "execution_count": 3,
   "id": "guilty-calcium",
   "metadata": {},
   "outputs": [],
   "source": [
    "explaine_data = np.load(os.path.join('..','data','preds','explaine_'+RULE+'_preds.npz'),allow_pickle=True)"
   ]
  },
  {
   "cell_type": "code",
   "execution_count": 4,
   "id": "following-prevention",
   "metadata": {},
   "outputs": [],
   "source": [
    "true_triples = triples[explaine_data['test_idx']]\n",
    "true_traces = traces[explaine_data['test_idx']][:,0:TRACE_LENGTH,:]"
   ]
  },
  {
   "cell_type": "code",
   "execution_count": 5,
   "id": "outstanding-sword",
   "metadata": {},
   "outputs": [],
   "source": [
    "pred_traces = utils.idx2array(explaine_data['preds'],idx2ent,idx2rel)"
   ]
  },
  {
   "cell_type": "code",
   "execution_count": 31,
   "id": "three-academy",
   "metadata": {},
   "outputs": [],
   "source": [
    "adj_data = np.concatenate([triples,traces[:,0:TRACE_LENGTH,:].reshape(-1,3)],axis=0)\n",
    "\n",
    "adj_data_sparse = utils.array2idx(adj_data,ent2idx,rel2idx)"
   ]
  },
  {
   "cell_type": "code",
   "execution_count": 32,
   "id": "czech-disclosure",
   "metadata": {},
   "outputs": [],
   "source": [
    "adj_mats = utils.get_adj_mats(\n",
    "    data=adj_data_sparse,\n",
    "    num_entities=NUM_ENTITIES,\n",
    "    num_relations=NUM_RELATIONS\n",
    ")"
   ]
  },
  {
   "cell_type": "code",
   "execution_count": 101,
   "id": "educated-serve",
   "metadata": {},
   "outputs": [],
   "source": [
    "#np.argwhere(tf.sparse.to_dense(adj_mats[4])[0,ent2idx[\"Al-Ma'mun>\"],:].numpy())"
   ]
  },
  {
   "cell_type": "code",
   "execution_count": null,
   "id": "binary-latino",
   "metadata": {},
   "outputs": [],
   "source": []
  },
  {
   "cell_type": "code",
   "execution_count": 61,
   "id": "textile-reconstruction",
   "metadata": {},
   "outputs": [],
   "source": [
    "unique = []\n",
    "\n",
    "for list_ in pred_traces[:,:,1]:\n",
    "    list_ = list(list_)\n",
    "    if list_ not in unique:\n",
    "        \n",
    "        tup = tuple(list_)\n",
    "        \n",
    "        unique.append(tup)"
   ]
  },
  {
   "cell_type": "code",
   "execution_count": 62,
   "id": "helpful-spell",
   "metadata": {},
   "outputs": [
    {
     "data": {
      "text/plain": [
       "array(['brother', 'parent'], dtype='<U76')"
      ]
     },
     "execution_count": 62,
     "metadata": {},
     "output_type": "execute_result"
    }
   ],
   "source": [
    "true_traces[0][:,1]"
   ]
  },
  {
   "cell_type": "code",
   "execution_count": 63,
   "id": "incoming-melbourne",
   "metadata": {},
   "outputs": [],
   "source": [
    "d = {}\n",
    "\n",
    "for tup in unique:\n",
    "        \n",
    "    count = (tup == pred_traces[:,:,1]).all(axis=1).sum() \n",
    "    \n",
    "    d[tup] = count"
   ]
  },
  {
   "cell_type": "code",
   "execution_count": 64,
   "id": "monetary-collectible",
   "metadata": {},
   "outputs": [
    {
     "data": {
      "text/plain": [
       "[(('uncle', 'uncle'), 813),\n",
       " (('brother', 'uncle'), 312),\n",
       " (('uncle', 'brother'), 286),\n",
       " (('parent', 'uncle'), 198),\n",
       " (('uncle', 'parent'), 187),\n",
       " (('sister', 'uncle'), 170),\n",
       " (('uncle', 'sister'), 157),\n",
       " (('brother', 'brother'), 142),\n",
       " (('sister', 'brother'), 105),\n",
       " (('brother', 'parent'), 104),\n",
       " (('parent', 'brother'), 90),\n",
       " (('brother', 'sister'), 78),\n",
       " (('sister', 'sister'), 76),\n",
       " (('parent', 'parent'), 69),\n",
       " (('sister', 'parent'), 54),\n",
       " (('parent', 'sister'), 49)]"
      ]
     },
     "execution_count": 64,
     "metadata": {},
     "output_type": "execute_result"
    }
   ],
   "source": [
    "sorted(d.items(),key=lambda x:x[1],reverse=True)"
   ]
  },
  {
   "cell_type": "code",
   "execution_count": 65,
   "id": "communist-exhaust",
   "metadata": {},
   "outputs": [],
   "source": [
    "bp_idx = (pred_traces[:,:,1] == ['brother','parent']).all(axis=1)\n",
    "pb_idx = (pred_traces[:,:,1] == ['parent','brother']).all(axis=1)"
   ]
  },
  {
   "cell_type": "code",
   "execution_count": 66,
   "id": "suited-kuwait",
   "metadata": {},
   "outputs": [
    {
     "name": "stdout",
     "output_type": "stream",
     "text": [
      "[39]\n",
      "[72]\n"
     ]
    }
   ],
   "source": [
    "print(np.argwhere(bp_idx)[0])\n",
    "print(np.argwhere(pb_idx)[0])"
   ]
  },
  {
   "cell_type": "code",
   "execution_count": 67,
   "id": "raising-ready",
   "metadata": {},
   "outputs": [
    {
     "data": {
      "text/plain": [
       "array(['Al-Mutawakkil', 'uncle', \"Al-Ma'mun>\"], dtype='<U76')"
      ]
     },
     "execution_count": 67,
     "metadata": {},
     "output_type": "execute_result"
    }
   ],
   "source": [
    "i = 72\n",
    "true_triples[i]"
   ]
  },
  {
   "cell_type": "code",
   "execution_count": 68,
   "id": "neutral-sender",
   "metadata": {},
   "outputs": [
    {
     "data": {
      "text/plain": [
       "array([[\"Al-Mu'tasim>\", 'brother', \"Al-Ma'mun>\"],\n",
       "       ['Al-Mutawakkil', 'parent', \"Al-Mu'tasim>\"]], dtype='<U76')"
      ]
     },
     "execution_count": 68,
     "metadata": {},
     "output_type": "execute_result"
    }
   ],
   "source": [
    "true_traces[i]"
   ]
  },
  {
   "cell_type": "code",
   "execution_count": 69,
   "id": "civil-croatia",
   "metadata": {},
   "outputs": [
    {
     "data": {
      "text/plain": [
       "array([[\"Al-Ma'mun>\", 'parent', 'Harun_al-Rashid'],\n",
       "       [\"Al-Ma'mun>\", 'brother', \"Al-Mu'tasim>\"]], dtype='<U76')"
      ]
     },
     "execution_count": 69,
     "metadata": {},
     "output_type": "execute_result"
    }
   ],
   "source": [
    "pred_traces[i]"
   ]
  },
  {
   "cell_type": "code",
   "execution_count": null,
   "id": "conventional-shadow",
   "metadata": {},
   "outputs": [],
   "source": [
    "#look at what % of triples use the uncle's 1st degree neighbors"
   ]
  }
 ],
 "metadata": {
  "kernelspec": {
   "display_name": "Python 3",
   "language": "python",
   "name": "python3"
  },
  "language_info": {
   "codemirror_mode": {
    "name": "ipython",
    "version": 3
   },
   "file_extension": ".py",
   "mimetype": "text/x-python",
   "name": "python",
   "nbconvert_exporter": "python",
   "pygments_lexer": "ipython3",
   "version": "3.7.9"
  }
 },
 "nbformat": 4,
 "nbformat_minor": 5
}
