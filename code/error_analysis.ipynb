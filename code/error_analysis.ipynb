{
 "cells": [
  {
   "cell_type": "code",
   "execution_count": 1,
   "id": "rocky-panama",
   "metadata": {},
   "outputs": [],
   "source": [
    "import numpy as np\n",
    "import utils\n",
    "import os\n",
    "import tensorflow as tf"
   ]
  },
  {
   "cell_type": "code",
   "execution_count": 55,
   "id": "blessed-diabetes",
   "metadata": {},
   "outputs": [],
   "source": [
    "RULE = 'uncle'\n",
    "TRACE_LENGTH = 2\n",
    "\n",
    "data = np.load(os.path.join('..','data','royalty.npz'))\n",
    "\n",
    "triples,traces,nopred,entities,relations = utils.get_data(data,RULE)\n",
    "\n",
    "NUM_ENTITIES = len(entities)\n",
    "NUM_RELATIONS = len(relations)\n",
    "\n",
    "ent2idx = dict(zip(entities, range(NUM_ENTITIES)))\n",
    "rel2idx = dict(zip(relations, range(NUM_RELATIONS)))\n",
    "\n",
    "idx2ent = dict(zip(range(NUM_ENTITIES),entities))\n",
    "idx2rel = dict(zip(range(NUM_RELATIONS),relations))"
   ]
  },
  {
   "cell_type": "code",
   "execution_count": 3,
   "id": "turkish-bicycle",
   "metadata": {},
   "outputs": [],
   "source": [
    "explaine_data = np.load(os.path.join('..','data','preds','explaine_'+RULE+'_preds.npz'),allow_pickle=True)"
   ]
  },
  {
   "cell_type": "code",
   "execution_count": 4,
   "id": "consolidated-minutes",
   "metadata": {},
   "outputs": [],
   "source": [
    "true_triples = triples[explaine_data['test_idx']]\n",
    "true_traces = traces[explaine_data['test_idx']][:,0:TRACE_LENGTH,:]"
   ]
  },
  {
   "cell_type": "code",
   "execution_count": 5,
   "id": "worse-african",
   "metadata": {},
   "outputs": [],
   "source": [
    "pred_traces = utils.idx2array(explaine_data['preds'],idx2ent,idx2rel)"
   ]
  },
  {
   "cell_type": "code",
   "execution_count": 6,
   "id": "jewish-container",
   "metadata": {},
   "outputs": [],
   "source": [
    "adj_data = np.concatenate([triples,traces[:,0:TRACE_LENGTH,:].reshape(-1,3)],axis=0)\n",
    "\n",
    "adj_data_sparse = utils.array2idx(adj_data,ent2idx,rel2idx)"
   ]
  },
  {
   "cell_type": "code",
   "execution_count": 7,
   "id": "colonial-mayor",
   "metadata": {},
   "outputs": [],
   "source": [
    "adj_mats = utils.get_adj_mats(\n",
    "    data=adj_data_sparse,\n",
    "    num_entities=NUM_ENTITIES,\n",
    "    num_relations=NUM_RELATIONS\n",
    ")"
   ]
  },
  {
   "cell_type": "code",
   "execution_count": null,
   "id": "directed-wound",
   "metadata": {},
   "outputs": [],
   "source": [
    "#np.argwhere(tf.sparse.to_dense(adj_mats[4])[0,ent2idx[\"Al-Ma'mun>\"],:].numpy())"
   ]
  },
  {
   "cell_type": "code",
   "execution_count": 114,
   "id": "scientific-birmingham",
   "metadata": {},
   "outputs": [],
   "source": [
    "import joblib"
   ]
  },
  {
   "cell_type": "code",
   "execution_count": 117,
   "id": "educational-petroleum",
   "metadata": {},
   "outputs": [],
   "source": [
    "def get_count(i,true_triples,pred_traces,ent2idx,adj_mats,num_relations):\n",
    "    \n",
    "    current_count = 0\n",
    "    \n",
    "    head,_,tail = true_triples[i]\n",
    "    pred_i = pred_traces[i]\n",
    "    \n",
    "    head_idx = ent2idx[head]\n",
    "    tail_idx = ent2idx[tail]\n",
    "    \n",
    "    neighbor_indices = []\n",
    "    \n",
    "    for rel_idx in range(num_relations):\n",
    "        \n",
    "        dense_mat = tf.sparse.to_dense(adj_mats[rel_idx]).numpy()[0]\n",
    "        \n",
    "        head_neighbors = np.argwhere(dense_mat[head_idx,:]).flatten()\n",
    "        tail_neighbors = np.argwhere(dense_mat[:,tail_idx]).flatten()\n",
    "        \n",
    "        neighbor_indices += head_neighbors.tolist()\n",
    "        neighbor_indices += tail_neighbors.tolist()\n",
    "    \n",
    "    neighbors = [idx2ent[idx] for idx in neighbor_indices]\n",
    "    \n",
    "    pred_entities = np.unique(np.concatenate((pred_i[:,0],pred_i[:,2]),axis=0)).tolist()\n",
    "    \n",
    "    for p in pred_entities:\n",
    "        if p in neighbors:\n",
    "            current_count += 1\n",
    "            break\n",
    "    \n",
    "    if current_count >= 1:\n",
    "        return 1\n",
    "    else:\n",
    "        return 0"
   ]
  },
  {
   "cell_type": "code",
   "execution_count": 120,
   "id": "three-twenty",
   "metadata": {},
   "outputs": [
    {
     "name": "stderr",
     "output_type": "stream",
     "text": [
      "[Parallel(n_jobs=-2)]: Using backend LokyBackend with 3 concurrent workers.\n",
      "[Parallel(n_jobs=-2)]: Done   1 tasks      | elapsed:    4.5s\n",
      "[Parallel(n_jobs=-2)]: Done   2 out of   5 | elapsed:    4.5s remaining:    6.7s\n",
      "[Parallel(n_jobs=-2)]: Done   3 out of   5 | elapsed:    4.6s remaining:    3.1s\n",
      "[Parallel(n_jobs=-2)]: Done   5 out of   5 | elapsed:    5.4s remaining:    0.0s\n",
      "[Parallel(n_jobs=-2)]: Done   5 out of   5 | elapsed:    5.4s finished\n"
     ]
    }
   ],
   "source": [
    "total_count = joblib.Parallel(n_jobs=-2, verbose=20)(\n",
    "            joblib.delayed(get_count)(i,true_triples,pred_traces,ent2idx,adj_mats,num_relations=NUM_RELATIONS)\n",
    "                for i in range(len(true_triples))\n",
    "            )"
   ]
  },
  {
   "cell_type": "code",
   "execution_count": 125,
   "id": "earned-chart",
   "metadata": {},
   "outputs": [],
   "source": [
    "#sum(total_count) / true_triples.shape[0]"
   ]
  },
  {
   "cell_type": "code",
   "execution_count": 116,
   "id": "electric-protein",
   "metadata": {},
   "outputs": [],
   "source": [
    "# total_count = 0\n",
    "\n",
    "# for i in range(len(true_triples)):\n",
    "    \n",
    "#     current_count = 0\n",
    "    \n",
    "#     head,_,tail = true_triples[i]\n",
    "#     pred_i = pred_traces[i]\n",
    "    \n",
    "#     head_idx = ent2idx[head]\n",
    "#     tail_idx = ent2idx[tail]\n",
    "    \n",
    "#     neighbor_indices = []\n",
    "    \n",
    "#     for rel_idx in range(NUM_RELATIONS):\n",
    "        \n",
    "#         dense_mat = tf.sparse.to_dense(adj_mats[rel_idx]).numpy()[0]\n",
    "        \n",
    "#         head_neighbors = np.argwhere(dense_mat[head_idx,:]).flatten()\n",
    "#         tail_neighbors = np.argwhere(dense_mat[:,tail_idx]).flatten()\n",
    "        \n",
    "#         neighbor_indices += head_neighbors.tolist()\n",
    "#         neighbor_indices += tail_neighbors.tolist()\n",
    "    \n",
    "#     neighbors = [idx2ent[idx] for idx in neighbor_indices]\n",
    "    \n",
    "#     pred_entities = np.unique(pred_i[:,0]).tolist() + np.unique(pred_i[:,2]).tolist()\n",
    "    \n",
    "#     for p in pred_entities:\n",
    "#         if p in neighbors:\n",
    "#             current_count += 1\n",
    "    \n",
    "#     if current_count >= 1:\n",
    "#         total_count += 1"
   ]
  },
  {
   "cell_type": "code",
   "execution_count": 215,
   "id": "weekly-flight",
   "metadata": {},
   "outputs": [
    {
     "data": {
      "text/plain": [
       "0.9183391003460207"
      ]
     },
     "execution_count": 215,
     "metadata": {},
     "output_type": "execute_result"
    }
   ],
   "source": [
    "2654/true_traces.shape[0]"
   ]
  },
  {
   "cell_type": "code",
   "execution_count": 242,
   "id": "infectious-escape",
   "metadata": {},
   "outputs": [
    {
     "data": {
      "text/plain": [
       "array(['Abbhantripaja', 'uncle', 'Devawongse_Varopakarn'], dtype='<U76')"
      ]
     },
     "execution_count": 242,
     "metadata": {},
     "output_type": "execute_result"
    }
   ],
   "source": [
    "true_triples[0]"
   ]
  },
  {
   "cell_type": "code",
   "execution_count": 243,
   "id": "russian-purple",
   "metadata": {},
   "outputs": [
    {
     "data": {
      "text/plain": [
       "['Abbhantripaja', 'Adisaya_Suriyabha', 'Prabha_Bannabilaya']"
      ]
     },
     "execution_count": 243,
     "metadata": {},
     "output_type": "execute_result"
    }
   ],
   "source": [
    "np.unique(pred_traces[0][:,0]).tolist() + np.unique(pred_traces[0][:,2]).tolist()"
   ]
  },
  {
   "cell_type": "code",
   "execution_count": 244,
   "id": "harmful-connectivity",
   "metadata": {},
   "outputs": [
    {
     "data": {
      "text/plain": [
       "array([['Chulalongkorn', 'brother', 'Devawongse_Varopakarn'],\n",
       "       ['Abbhantripaja', 'parent', 'Chulalongkorn']], dtype='<U76')"
      ]
     },
     "execution_count": 244,
     "metadata": {},
     "output_type": "execute_result"
    }
   ],
   "source": [
    "true_traces[0]"
   ]
  },
  {
   "cell_type": "code",
   "execution_count": null,
   "id": "correct-shame",
   "metadata": {},
   "outputs": [],
   "source": []
  },
  {
   "cell_type": "code",
   "execution_count": 188,
   "id": "adolescent-allowance",
   "metadata": {},
   "outputs": [],
   "source": [
    "unique = []\n",
    "\n",
    "for list_ in pred_traces[:,:,1]:\n",
    "    list_ = list(list_)\n",
    "    if list_ not in unique:\n",
    "        \n",
    "        tup = tuple(list_)\n",
    "        \n",
    "        unique.append(tup)\n",
    "        \n",
    "d = {}\n",
    "\n",
    "for tup in unique:\n",
    "        \n",
    "    count = (tup == pred_traces[:,:,1]).all(axis=1).sum() \n",
    "    \n",
    "    d[tup] = count\n",
    "    \n",
    "output = sorted(d.items(),key=lambda x:x[1],reverse=True)\n",
    "\n",
    "# bp_idx = (pred_traces[:,:,1] == ['brother','parent']).all(axis=1)\n",
    "# pb_idx = (pred_traces[:,:,1] == ['parent','brother']).all(axis=1)\n",
    "\n",
    "# print(np.argwhere(bp_idx)[0])\n",
    "# print(np.argwhere(pb_idx)[0])"
   ]
  },
  {
   "cell_type": "code",
   "execution_count": 214,
   "id": "developing-institute",
   "metadata": {},
   "outputs": [],
   "source": [
    "for i in range(NUM_RELATIONS):\n",
    "    \n",
    "    dense_mat = tf.sparse.to_dense(adj_mats[i]).numpy()[0]\n",
    "    \n",
    "    np.argwhere(dense_mat[head_idx,:]).flatten()"
   ]
  },
  {
   "cell_type": "code",
   "execution_count": 233,
   "id": "stopped-increase",
   "metadata": {},
   "outputs": [
    {
     "name": "stdout",
     "output_type": "stream",
     "text": [
      "10\n",
      "[['Abdulaziz_bin_Abdullah_bin_Abdulaziz_Al_Saud' 'uncle'\n",
      "  'Sattam_bin_Abdulaziz_Al_Saud']\n",
      " ['Nayef_bin_Abdul-Aziz_Al_Saud' 'sister'\n",
      "  'Sultana_bint_Abdulaziz_Al_Saud']]\n",
      "['Abdul_Hamid_II' 'uncle' 'Abdülaziz_of_the_Ottoman_Empire']\n",
      "[['Abdülmecid_I' 'brother' 'Abdülaziz_of_the_Ottoman_Empire']\n",
      " ['Abdul_Hamid_II' 'parent' 'Abdülmecid_I']\n",
      " ['UNK_ENT' 'UNK_REL' 'UNK_ENT']]\n"
     ]
    }
   ],
   "source": [
    "for i in range(len(true_traces)):\n",
    "\n",
    "    pred_i = pred_traces[i]\n",
    "    true_i = triples[i]\n",
    "    \n",
    "    if (['uncle','sister'] == pred_i[:,1]).all():\n",
    "        print(i)\n",
    "        print(pred_i)\n",
    "        print(true_i)\n",
    "        print(traces[i])\n",
    "        break"
   ]
  },
  {
   "cell_type": "code",
   "execution_count": null,
   "id": "cloudy-easter",
   "metadata": {},
   "outputs": [],
   "source": []
  },
  {
   "cell_type": "code",
   "execution_count": null,
   "id": "narrative-pakistan",
   "metadata": {},
   "outputs": [],
   "source": [
    "# 3 most common predictions: (uncle, uncle), (brother, brother), (brother, uncle)\n",
    "# (a,hasUncle,b): % of triples using 1st degree neighbors of either a or b\n",
    "# %of predictions that did not include brother or parent:"
   ]
  },
  {
   "cell_type": "code",
   "execution_count": 191,
   "id": "geographic-banana",
   "metadata": {},
   "outputs": [
    {
     "name": "stdout",
     "output_type": "stream",
     "text": [
      "('uncle', 'uncle')\n",
      "('brother', 'brother')\n",
      "('brother', 'uncle')\n",
      "('uncle', 'sister')\n",
      "('uncle', 'brother')\n",
      "('sister', 'uncle')\n",
      "('sister', 'sister')\n",
      "('brother', 'sister')\n",
      "('sister', 'brother')\n"
     ]
    }
   ],
   "source": [
    "count = 0\n",
    "for tup in output:\n",
    "    if 'parent' not in tup[0]:\n",
    "        print(tup[0])\n",
    "        count += tup[1]"
   ]
  },
  {
   "cell_type": "code",
   "execution_count": 192,
   "id": "contemporary-motorcycle",
   "metadata": {},
   "outputs": [
    {
     "data": {
      "text/plain": [
       "0.6899653979238755"
      ]
     },
     "execution_count": 192,
     "metadata": {},
     "output_type": "execute_result"
    }
   ],
   "source": [
    "count/true_triples.shape[0]"
   ]
  },
  {
   "cell_type": "code",
   "execution_count": null,
   "id": "crucial-frame",
   "metadata": {},
   "outputs": [],
   "source": []
  },
  {
   "cell_type": "code",
   "execution_count": null,
   "id": "surgical-induction",
   "metadata": {},
   "outputs": [],
   "source": []
  },
  {
   "cell_type": "code",
   "execution_count": null,
   "id": "configured-plaintiff",
   "metadata": {},
   "outputs": [],
   "source": []
  }
 ],
 "metadata": {
  "kernelspec": {
   "display_name": "Python 3",
   "language": "python",
   "name": "python3"
  },
  "language_info": {
   "codemirror_mode": {
    "name": "ipython",
    "version": 3
   },
   "file_extension": ".py",
   "mimetype": "text/x-python",
   "name": "python",
   "nbconvert_exporter": "python",
   "pygments_lexer": "ipython3",
   "version": "3.7.9"
  }
 },
 "nbformat": 4,
 "nbformat_minor": 5
}
