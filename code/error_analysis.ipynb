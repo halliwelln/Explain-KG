{
 "cells": [
  {
   "cell_type": "code",
   "execution_count": 1,
   "id": "internal-frame",
   "metadata": {},
   "outputs": [],
   "source": [
    "import numpy as np\n",
    "import utils\n",
    "import os\n",
    "import tensorflow as tf\n",
    "import pandas as pd\n",
    "import networkx as nx"
   ]
  },
  {
   "cell_type": "code",
   "execution_count": 42,
   "id": "growing-progressive",
   "metadata": {},
   "outputs": [],
   "source": [
    "RULE = 'uncle'\n",
    "TRACE_LENGTH = 2\n",
    "MODEL = 'gnn_explainer'\n",
    "data = np.load(os.path.join('..','data','royalty.npz'))\n",
    "\n",
    "triples,traces,nopred,entities,relations = utils.get_data(data,RULE)\n",
    "\n",
    "NUM_ENTITIES = len(entities)\n",
    "NUM_RELATIONS = len(relations)\n",
    "\n",
    "ent2idx = dict(zip(entities, range(NUM_ENTITIES)))\n",
    "rel2idx = dict(zip(relations, range(NUM_RELATIONS)))\n",
    "\n",
    "idx2ent = dict(zip(range(NUM_ENTITIES),entities))\n",
    "idx2rel = dict(zip(range(NUM_RELATIONS),relations))"
   ]
  },
  {
   "cell_type": "code",
   "execution_count": 43,
   "id": "genuine-primary",
   "metadata": {},
   "outputs": [],
   "source": [
    "pred_data = np.load(os.path.join('..','data','preds',MODEL+'_'+RULE+'_preds.npz'),allow_pickle=True)\n",
    "# error_data = np.load(\n",
    "#     os.path.join('..','data','other',MODEL +'-error',MODEL+'_'+RULE+'.npz'),\n",
    "#     allow_pickle=True)['x']"
   ]
  },
  {
   "cell_type": "code",
   "execution_count": 54,
   "id": "seeing-management",
   "metadata": {},
   "outputs": [],
   "source": [
    "if MODEL == 'gnn_explainer':\n",
    "    \n",
    "    pred_traces = []\n",
    "    for i in range(len(pred_data['preds'])):\n",
    "\n",
    "        preds_i = []\n",
    "\n",
    "        for rel_idx in range(NUM_RELATIONS):\n",
    "\n",
    "            triples_i = pred_data['preds'][i][rel_idx]\n",
    "\n",
    "            if triples_i.shape[0]:\n",
    "                rel_indices = (np.ones((triples_i.shape[0],1)) * rel_idx).astype(np.int64)\n",
    "                concat = np.concatenate([triples_i,rel_indices],axis=1)\n",
    "                preds_i.append(concat[:,[0,2,1]])\n",
    "        preds_i = np.concatenate(preds_i,axis=0)\n",
    "        pred_traces.append(utils.idx2array(preds_i,idx2ent,idx2rel))\n",
    "        \n",
    "        if i == 2:\n",
    "            break\n",
    "\n",
    "    pred_traces = np.array(pred_traces,dtype=object)\n",
    "    \n",
    "elif MODEL == 'explaine':\n",
    "    pred_traces = utils.idx2array(pred_data['preds'],idx2ent,idx2rel)"
   ]
  },
  {
   "cell_type": "code",
   "execution_count": 45,
   "id": "lyric-reset",
   "metadata": {},
   "outputs": [],
   "source": [
    "true_triples = triples[pred_data['test_idx']]\n",
    "true_traces = traces[pred_data['test_idx']][:,0:TRACE_LENGTH,:]"
   ]
  },
  {
   "cell_type": "code",
   "execution_count": 46,
   "id": "demonstrated-devil",
   "metadata": {},
   "outputs": [],
   "source": [
    "if RULE == 'spouse' and MODEL == 'explaine':\n",
    "    pred_traces = utils.idx2array(pred_data['preds'],idx2ent,idx2rel)\n",
    "    idx = np.argwhere(pred_traces[:,0,:][:,1] == 'sister')[0]\n",
    "\n",
    "    print(true_triples[idx])\n",
    "    print(true_traces[idx])\n",
    "    print(pred_traces[idx])"
   ]
  },
  {
   "cell_type": "code",
   "execution_count": 48,
   "id": "endless-progressive",
   "metadata": {},
   "outputs": [],
   "source": [
    "# full_graph = np.concatenate([true_triples,true_traces.reshape(-1,3)])\n",
    "\n",
    "# kg_df = pd.DataFrame({'source':full_graph[:,0], \n",
    "#                       'target':full_graph[:,2], \n",
    "#                       'edge':full_graph[:,1]})"
   ]
  },
  {
   "cell_type": "code",
   "execution_count": 35,
   "id": "smart-aside",
   "metadata": {},
   "outputs": [],
   "source": [
    "# G=nx.from_pandas_edgelist(kg_df, \"source\", \"target\",\n",
    "#                           edge_attr=True, create_using=nx.MultiDiGraph())\n",
    "# degrees = {node:val for (node, val) in G.degree()}\n",
    "\n",
    "# if RULE == 'spouse' and MODEL == 'explaine':\n",
    "#     error_data = error_data[1:]"
   ]
  },
  {
   "cell_type": "code",
   "execution_count": 36,
   "id": "median-portal",
   "metadata": {},
   "outputs": [],
   "source": [
    "#look at explaine trace=1 preds\n",
    "\n",
    "# most_common_predicates, mcp_count = np.unique(error_data[0][0],return_counts=True)\n",
    "\n",
    "# most_common_predicate = most_common_predicates[np.argmax(mcp_count)]\n",
    "\n",
    "# error_counts = 0\n",
    "\n",
    "# for tup in error_data:\n",
    "\n",
    "#     predicates, counts = np.unique(tup[0],return_counts=True)\n",
    "\n",
    "#     predicates = list(predicates)\n",
    "\n",
    "#     if most_common_predicate in predicates:\n",
    "\n",
    "#         current_count = counts[predicates.index(most_common_predicate)]\n",
    "#         #if current_count >= TRACE_LENGTH:\n",
    "#         error_counts += tup[1]\n",
    "\n",
    "# #print(f'{most_common_predicate} appears in {error_counts} of predicted triples')\n",
    "# #print(f'percentage {error_counts / true_traces.shape[0]}')\n",
    "# print(f'{MODEL}-{RULE}, most frequent predicate {most_common_predicate} occurs in {error_counts * 100 / true_traces.shape[0]}% of triples')"
   ]
  },
  {
   "cell_type": "code",
   "execution_count": 62,
   "id": "incomplete-patch",
   "metadata": {},
   "outputs": [],
   "source": [
    "# for i in pred_traces:\n",
    "#     print(np.array(triples)[:,1])"
   ]
  },
  {
   "cell_type": "code",
   "execution_count": 37,
   "id": "artistic-pontiac",
   "metadata": {},
   "outputs": [],
   "source": [
    "jaccard = []\n",
    "for i in range(pred_traces.shape[0]):\n",
    "    jaccard.append(utils.jaccard_score(pred_traces[i],true_traces[i]))\n",
    "jaccard_idx = np.array(jaccard) < 1"
   ]
  },
  {
   "cell_type": "code",
   "execution_count": 38,
   "id": "compliant-grocery",
   "metadata": {},
   "outputs": [],
   "source": [
    "d = {}\n",
    "for i in pred_traces[jaccard_idx][:,:,1]:\n",
    "    \n",
    "    tup = tuple(i)\n",
    "    \n",
    "    for predicate in tup:\n",
    "        \n",
    "        if predicate in d:\n",
    "            d[predicate] += 1\n",
    "        else:\n",
    "            d[predicate] = 1"
   ]
  },
  {
   "cell_type": "code",
   "execution_count": 39,
   "id": "brief-testing",
   "metadata": {},
   "outputs": [],
   "source": [
    "#When looking at the explanations the frequency of (hasParent,hasGrandparent) may not be the \n",
    "#same as the frequency of the predicate hasGrandparent in the explanations has you may \n",
    "#have (hasParent,hasGrandparent) (hasSister,hasGrandparent) .... i.e. ( ? ,hasGrandparent) \n",
    "#and (hasGrandparent, ? ) I suggest that for both methods you report the most frequent erroneous \n",
    "#predicate in the explanations e.g. hasAunt appears in X% of the explanations of hasAunt"
   ]
  },
  {
   "cell_type": "code",
   "execution_count": 40,
   "id": "hairy-singer",
   "metadata": {},
   "outputs": [
    {
     "name": "stdout",
     "output_type": "stream",
     "text": [
      "of incorrect predictions uncle was used in 35% of triples\n"
     ]
    }
   ],
   "source": [
    "sorted_counts = sorted(d.items(),key=lambda key:key[1],reverse=True)\n",
    "\n",
    "percentage = round(100*sorted_counts[0][1] / sum(d.values()))\n",
    "\n",
    "print(f\"of incorrect predictions {sorted_counts[0][0]} was used in {percentage}% of triples\")"
   ]
  },
  {
   "cell_type": "code",
   "execution_count": null,
   "id": "impaired-desktop",
   "metadata": {},
   "outputs": [],
   "source": [
    "# avg=0\n",
    "# for i in range(len(gnn_preds)):\n",
    "#     avg += gnn_preds[i].shape[0]\n",
    "# print(avg/len(gnn_preds))\n",
    "\n",
    "#avg cardinality\n",
    "#spouse: 10.416500597847747\n",
    "#uncle 54.39667705088266\n",
    "#aunt: 56.02489905787348\n",
    "#successor: 12.638145315487572\n",
    "#predecessor: 12.2868068833652\n",
    "#grandparent: 36.384018619084564"
   ]
  },
  {
   "cell_type": "code",
   "execution_count": null,
   "id": "shared-recovery",
   "metadata": {},
   "outputs": [],
   "source": [
    "# counts = []\n",
    "# for i in range(len(gnn_preds)):\n",
    "#     counts.append(gnn_preds[i].shape[0])"
   ]
  },
  {
   "cell_type": "code",
   "execution_count": null,
   "id": "intimate-meaning",
   "metadata": {},
   "outputs": [],
   "source": [
    "# print(min(counts))\n",
    "# print(max(counts))\n",
    "#min/max\n",
    "#spouse: 2/119\n",
    "#uncle: 8/215\n",
    "#aunt: 8/202\n",
    "#successor: 2/238\n",
    "#predecessor: 2/149\n",
    "#grandparent: "
   ]
  },
  {
   "cell_type": "code",
   "execution_count": null,
   "id": "fleet-causing",
   "metadata": {},
   "outputs": [],
   "source": []
  },
  {
   "cell_type": "code",
   "execution_count": null,
   "id": "sealed-sacrifice",
   "metadata": {},
   "outputs": [],
   "source": [
    "# spouse_total = 305 + 287 + 287\n",
    "# 305 / spouse_total"
   ]
  },
  {
   "cell_type": "code",
   "execution_count": null,
   "id": "brazilian-package",
   "metadata": {},
   "outputs": [],
   "source": [
    "# uncle_total = 422 + 225 + 224 + 208 + 205 + 204 + 195 + 170 + 169 + 161 + 150 + 137 + 103 + 81\n",
    "# 422 / uncle_total"
   ]
  },
  {
   "cell_type": "code",
   "execution_count": null,
   "id": "painted-calvin",
   "metadata": {},
   "outputs": [],
   "source": [
    "# aunt_total = 341 + 262 + 247 + 234 + 226 + 225 + 207 + 182 + 181 + 157 + 154 + 148 + 118 + 61\n",
    "# 341 / aunt_total"
   ]
  },
  {
   "cell_type": "code",
   "execution_count": null,
   "id": "vocational-kidney",
   "metadata": {},
   "outputs": [],
   "source": [
    "# successor_total = 830 + 197 + 139 + 137\n",
    "# 830 / successor_total"
   ]
  },
  {
   "cell_type": "code",
   "execution_count": null,
   "id": "realistic-therapy",
   "metadata": {},
   "outputs": [],
   "source": [
    "# predecessor_total = 834 + 178 + 150 + 119\n",
    "# 834 / predecessor_total"
   ]
  },
  {
   "cell_type": "code",
   "execution_count": null,
   "id": "supported-scientist",
   "metadata": {},
   "outputs": [],
   "source": [
    "# grandparent_total = 236 + 223 + 220 + 207 + 200 + 200 + 174 + 143 + 142 + 132 + 126 + 126+123 +108+105\n",
    "# 236 / grandparent_total"
   ]
  },
  {
   "cell_type": "code",
   "execution_count": null,
   "id": "sublime-fence",
   "metadata": {},
   "outputs": [],
   "source": []
  },
  {
   "cell_type": "code",
   "execution_count": null,
   "id": "copyrighted-investment",
   "metadata": {},
   "outputs": [],
   "source": [
    "# gnn_spouse = 2509 - 399\n",
    "# 244 / gnn_spouse"
   ]
  },
  {
   "cell_type": "code",
   "execution_count": null,
   "id": "nuclear-preparation",
   "metadata": {},
   "outputs": [],
   "source": [
    "#np.load('/Users/nhalliwe/Desktop/test.npz',allow_pickle=True)"
   ]
  },
  {
   "cell_type": "code",
   "execution_count": null,
   "id": "prostate-brother",
   "metadata": {},
   "outputs": [],
   "source": []
  },
  {
   "cell_type": "code",
   "execution_count": null,
   "id": "southern-current",
   "metadata": {},
   "outputs": [],
   "source": [
    "# print(uniq)\n",
    "# print(counts)"
   ]
  },
  {
   "cell_type": "code",
   "execution_count": null,
   "id": "coupled-dubai",
   "metadata": {},
   "outputs": [],
   "source": [
    "# print('gnn uncle', 34 / 2889 )\n",
    "# print('gnn aunt',58 /2972)"
   ]
  },
  {
   "cell_type": "code",
   "execution_count": null,
   "id": "focal-mailing",
   "metadata": {},
   "outputs": [],
   "source": [
    "#print('gnn successor', 347 / 2092)"
   ]
  },
  {
   "cell_type": "code",
   "execution_count": null,
   "id": "loose-karen",
   "metadata": {},
   "outputs": [],
   "source": [
    "# print('gnn predecessor',342/2092)\n",
    "# print('gnn grandparent',15/2578)"
   ]
  },
  {
   "cell_type": "code",
   "execution_count": null,
   "id": "bulgarian-magazine",
   "metadata": {},
   "outputs": [],
   "source": [
    "import matplotlib.pyplot as plt\n",
    "import networkx as nx\n",
    "import numpy as np\n",
    "import os\n",
    "import utils\n",
    "import random as rn\n",
    "import tensorflow as tf"
   ]
  },
  {
   "cell_type": "code",
   "execution_count": null,
   "id": "thermal-denmark",
   "metadata": {},
   "outputs": [],
   "source": [
    "SEED = 123\n",
    "os.environ['PYTHONHASHSEED'] = str(SEED)\n",
    "os.environ['TF_DETERMINISTIC_OPS'] = '1'\n",
    "np.random.seed(SEED)\n",
    "rn.seed(SEED)\n",
    "\n",
    "data = np.load(os.path.join('..','data','royalty.npz'))\n",
    "\n",
    "RULE = 'aunt'\n",
    "TRACE_LENGTH = 2\n",
    "\n",
    "NUM_ENTITIES = len(entities)\n",
    "NUM_RELATIONS = len(relations)\n",
    "\n",
    "ent2idx = dict(zip(entities, range(NUM_ENTITIES)))\n",
    "rel2idx = dict(zip(relations, range(NUM_RELATIONS)))\n",
    "\n",
    "idx2ent = dict(zip(range(NUM_ENTITIES),entities))\n",
    "idx2rel = dict(zip(range(NUM_RELATIONS),relations))\n",
    "\n",
    "triples,traces,nopred,entities,relations = utils.get_data(data,RULE)\n",
    "\n",
    "i = 7274"
   ]
  },
  {
   "cell_type": "code",
   "execution_count": null,
   "id": "sexual-child",
   "metadata": {},
   "outputs": [],
   "source": [
    "adj_data = np.concatenate([triples,traces[:,0:TRACE_LENGTH,:].reshape(-1,3)],axis=0)\n",
    "\n",
    "adj_data_sparse = utils.array2idx(adj_data,ent2idx,rel2idx)\n",
    "\n",
    "adj_mats = utils.get_adj_mats(\n",
    "    data=adj_data_sparse,\n",
    "    num_entities=NUM_ENTITIES,\n",
    "    num_relations=NUM_RELATIONS\n",
    ")"
   ]
  },
  {
   "cell_type": "code",
   "execution_count": null,
   "id": "surprised-sugar",
   "metadata": {},
   "outputs": [],
   "source": [
    "head = triples[i][0]\n",
    "tail = triples[i][2]\n",
    "\n",
    "head_idx = ent2idx[head]\n",
    "tail_idx = ent2idx[tail]\n",
    "\n",
    "neighbor_indices = []\n",
    "\n",
    "for rel_idx in range(NUM_RELATIONS):\n",
    "\n",
    "    dense_mat = tf.sparse.to_dense(adj_mats[rel_idx]).numpy()[0]\n",
    "\n",
    "    head_neighbors = np.argwhere(dense_mat[head_idx,:]).flatten()\n",
    "    tail_neighbors = np.argwhere(dense_mat[:,tail_idx]).flatten()\n",
    "    \n",
    "    head_triples = [(head_idx,rel_idx,t_idx) for t_idx in head_neighbors]\n",
    "    tail_triples = [(h_idx,rel_idx,tail_idx) for h_idx in tail_neighbors]\n",
    "    \n",
    "    if head_triples:\n",
    "        neighbor_indices.append(head_triples)\n",
    "    if tail_triples:\n",
    "        neighbor_indices.append(tail_triples)"
   ]
  },
  {
   "cell_type": "code",
   "execution_count": null,
   "id": "monthly-victor",
   "metadata": {},
   "outputs": [],
   "source": [
    "#neighbors = [idx2ent[idx] for idx in neighbor_indices]"
   ]
  },
  {
   "cell_type": "code",
   "execution_count": null,
   "id": "occasional-tomato",
   "metadata": {},
   "outputs": [],
   "source": [
    "plot_triples = utils.idx2array(np.concatenate(neighbor_indices,axis=0),idx2ent,idx2rel)[5:]"
   ]
  },
  {
   "cell_type": "code",
   "execution_count": null,
   "id": "consolidated-click",
   "metadata": {},
   "outputs": [],
   "source": [
    "# clean_plot_triples = []\n",
    "\n",
    "# for trip in plot_triples:\n",
    "#     head,rel,tail = trip\n",
    "#     if head == 'Maria_Theresa_of_Austria-Este_(1849–1919)>':\n",
    "#         head = head[0:-18]\n",
    "#     clean_plot_triples.append([head,rel,tail])"
   ]
  },
  {
   "cell_type": "code",
   "execution_count": null,
   "id": "considerable-turkish",
   "metadata": {},
   "outputs": [],
   "source": [
    "# plot_triples = np.concatenate([triples[i].reshape(1,3),traces[i].reshape(-1,3)], axis=0)\n",
    "# plot_triples = plot_triples[0:-1,:]\n",
    "\n",
    "# label_dict = {('Princess_Clémentine_of_Belgium','Archduchess_Hermine_of_Austria'):'hasAunt',\n",
    "# ('Marie_Henriette_of_Austria','Archduchess_Hermine_of_Austria'):'hasSister',\n",
    "# ('Princess_Clémentine_of_Belgium','Marie_Henriette_of_Austria'):'hasParent'}\n",
    "label_dict = {}\n",
    "\n",
    "for trip in plot_triples:\n",
    "    \n",
    "    head,rel,tail = trip\n",
    "    \n",
    "    label_dict [(head,tail)] = 'has' + rel.title()"
   ]
  },
  {
   "cell_type": "code",
   "execution_count": null,
   "id": "adolescent-idaho",
   "metadata": {},
   "outputs": [],
   "source": []
  },
  {
   "cell_type": "code",
   "execution_count": null,
   "id": "heard-clearance",
   "metadata": {},
   "outputs": [],
   "source": []
  },
  {
   "cell_type": "code",
   "execution_count": null,
   "id": "fixed-fleet",
   "metadata": {},
   "outputs": [],
   "source": []
  },
  {
   "cell_type": "code",
   "execution_count": null,
   "id": "adapted-avenue",
   "metadata": {},
   "outputs": [],
   "source": [
    "plt.figure(figsize=(10,10))\n",
    "\n",
    "G = nx.MultiDiGraph()\n",
    "for triple in plot_triples:\n",
    "    G.add_node(triple[0])\n",
    "    G.add_node(triple[2])\n",
    "    G.add_edge(triple[0], triple[2])\n",
    "    \n",
    "ground_truth = np.concatenate([triples[i].reshape(-1,3),traces[i]],axis=0)[0:-1]\n",
    "\n",
    "gt_entities = np.unique(np.concatenate([ground_truth[:,0],ground_truth[:,2]]))\n",
    "\n",
    "node_sizes = [1200 if ent in gt_entities else 300 for ent in G.nodes() ]\n",
    "\n",
    "pos = nx.spring_layout(G,seed=SEED,k=10)\n",
    "\n",
    "nx.draw(G, pos, edge_color='black', width=1, linewidths=1,\n",
    "        node_size=node_sizes, node_color='skyblue', alpha=0.9,font_size=12,\n",
    "        labels={node: node for node in G.nodes()})\n",
    "\n",
    "nx.draw_networkx_edge_labels(G,pos,edge_labels=label_dict,font_color='black',font_size=10)\n",
    "\n",
    "ax = plt.gca()\n",
    "ax.margins(0.25)\n",
    "plt.axis(\"off\")"
   ]
  },
  {
   "cell_type": "code",
   "execution_count": null,
   "id": "destroyed-alabama",
   "metadata": {},
   "outputs": [],
   "source": []
  },
  {
   "cell_type": "code",
   "execution_count": null,
   "id": "cathedral-astrology",
   "metadata": {},
   "outputs": [],
   "source": []
  },
  {
   "cell_type": "code",
   "execution_count": null,
   "id": "fossil-overhead",
   "metadata": {},
   "outputs": [],
   "source": []
  },
  {
   "cell_type": "code",
   "execution_count": null,
   "id": "limiting-trouble",
   "metadata": {},
   "outputs": [],
   "source": []
  },
  {
   "cell_type": "code",
   "execution_count": null,
   "id": "appreciated-roman",
   "metadata": {},
   "outputs": [],
   "source": []
  },
  {
   "cell_type": "code",
   "execution_count": null,
   "id": "weird-mouse",
   "metadata": {},
   "outputs": [],
   "source": []
  },
  {
   "cell_type": "code",
   "execution_count": null,
   "id": "systematic-abuse",
   "metadata": {},
   "outputs": [],
   "source": []
  },
  {
   "cell_type": "code",
   "execution_count": null,
   "id": "anonymous-rescue",
   "metadata": {},
   "outputs": [],
   "source": []
  },
  {
   "cell_type": "code",
   "execution_count": null,
   "id": "fifth-analyst",
   "metadata": {},
   "outputs": [],
   "source": []
  },
  {
   "cell_type": "code",
   "execution_count": null,
   "id": "existing-assurance",
   "metadata": {},
   "outputs": [],
   "source": []
  },
  {
   "cell_type": "code",
   "execution_count": null,
   "id": "hungry-frost",
   "metadata": {},
   "outputs": [],
   "source": []
  },
  {
   "cell_type": "code",
   "execution_count": null,
   "id": "reverse-discretion",
   "metadata": {},
   "outputs": [],
   "source": []
  },
  {
   "cell_type": "code",
   "execution_count": null,
   "id": "breeding-carpet",
   "metadata": {},
   "outputs": [],
   "source": []
  },
  {
   "cell_type": "code",
   "execution_count": null,
   "id": "recent-episode",
   "metadata": {},
   "outputs": [],
   "source": []
  }
 ],
 "metadata": {
  "kernelspec": {
   "display_name": "Python 3",
   "language": "python",
   "name": "python3"
  },
  "language_info": {
   "codemirror_mode": {
    "name": "ipython",
    "version": 3
   },
   "file_extension": ".py",
   "mimetype": "text/x-python",
   "name": "python",
   "nbconvert_exporter": "python",
   "pygments_lexer": "ipython3",
   "version": "3.7.9"
  }
 },
 "nbformat": 4,
 "nbformat_minor": 5
}
