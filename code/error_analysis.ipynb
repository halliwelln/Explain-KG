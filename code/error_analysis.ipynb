{
 "cells": [
  {
   "cell_type": "code",
   "execution_count": null,
   "id": "informal-decline",
   "metadata": {},
   "outputs": [],
   "source": [
    "%matplotlib inline\n",
    "import matplotlib.pyplot as plt\n",
    "import numpy as np\n",
    "import utils\n",
    "import os\n",
    "import tensorflow as tf\n",
    "import pandas as pd\n",
    "import networkx as nx\n",
    "import random as rn"
   ]
  },
  {
   "cell_type": "code",
   "execution_count": null,
   "id": "ahead-verification",
   "metadata": {},
   "outputs": [],
   "source": [
    "SEED = 123\n",
    "os.environ['PYTHONHASHSEED'] = str(SEED)\n",
    "os.environ['TF_DETERMINISTIC_OPS'] = '1'\n",
    "np.random.seed(SEED)\n",
    "rn.seed(SEED)"
   ]
  },
  {
   "cell_type": "code",
   "execution_count": null,
   "id": "tender-justice",
   "metadata": {},
   "outputs": [],
   "source": []
  },
  {
   "cell_type": "code",
   "execution_count": null,
   "id": "cognitive-nicaragua",
   "metadata": {},
   "outputs": [],
   "source": [
    "data = np.load(os.path.join('..','data','royalty.npz'))\n",
    "\n",
    "RULE = 'successor'\n",
    "TRACE_LENGTH = 1\n",
    "\n",
    "pred_data = np.load(os.path.join('..','data','preds','explaine'+'_'+RULE+'_preds.npz'),allow_pickle=True)\n",
    "\n",
    "triples,traces,nopred,entities,relations = utils.get_data(data,RULE)\n",
    "\n",
    "NUM_ENTITIES = len(entities)\n",
    "NUM_RELATIONS = len(relations)\n",
    "\n",
    "ent2idx = dict(zip(entities, range(NUM_ENTITIES)))\n",
    "rel2idx = dict(zip(relations, range(NUM_RELATIONS)))\n",
    "\n",
    "idx2ent = dict(zip(range(NUM_ENTITIES),entities))\n",
    "idx2rel = dict(zip(range(NUM_RELATIONS),relations))\n",
    "\n",
    "pred_traces = utils.idx2array(pred_data['preds'],idx2ent,idx2rel)"
   ]
  },
  {
   "cell_type": "code",
   "execution_count": null,
   "id": "thirty-syndrome",
   "metadata": {},
   "outputs": [],
   "source": [
    "true_triples = triples[pred_data['test_idx']]\n",
    "true_traces = traces[pred_data['test_idx']][:,0:TRACE_LENGTH,:]"
   ]
  },
  {
   "cell_type": "code",
   "execution_count": null,
   "id": "stuck-senior",
   "metadata": {},
   "outputs": [],
   "source": []
  },
  {
   "cell_type": "code",
   "execution_count": null,
   "id": "anticipated-cover",
   "metadata": {},
   "outputs": [],
   "source": [
    "jaccard = []\n",
    "for i in range(pred_traces.shape[0]):\n",
    "    jaccard.append(utils.jaccard_score(pred_traces[i],true_traces[i]))\n",
    "error_idx = np.array(jaccard) < 1"
   ]
  },
  {
   "cell_type": "code",
   "execution_count": null,
   "id": "sonic-richards",
   "metadata": {},
   "outputs": [],
   "source": [
    "# i = 5\n",
    "# print(true_traces[error_idx][i])\n",
    "# print(pred_traces[error_idx][i])\n",
    "#25,30,40\n",
    "i = 8\n",
    "print(true_triples[error_idx][pred_traces[error_idx,0][:,1] == 'parent'][i])\n",
    "#print(true_traces[error_idx][pred_traces[error_idx,0][:,1] == 'parent'][i])\n",
    "print(pred_traces[error_idx][pred_traces[error_idx,0][:,1] == 'parent'][i])"
   ]
  },
  {
   "cell_type": "code",
   "execution_count": null,
   "id": "ongoing-lindsay",
   "metadata": {},
   "outputs": [],
   "source": [
    "counts = {}\n",
    "\n",
    "for pred in pred_traces[error_idx]:\n",
    "    \n",
    "    for triple in pred:\n",
    "        if triple[1] in counts:\n",
    "            counts[triple[1]] += 1\n",
    "        else:\n",
    "            counts[triple[1]] = 1\n",
    "            \n",
    "sorted_counts = sorted(counts.items(), key=lambda x:x[1],reverse=True)\n",
    "keys = [tup[0] for tup in sorted_counts]\n",
    "values = [tup[1] for tup in sorted_counts]"
   ]
  },
  {
   "cell_type": "code",
   "execution_count": null,
   "id": "interesting-model",
   "metadata": {},
   "outputs": [],
   "source": []
  },
  {
   "cell_type": "code",
   "execution_count": null,
   "id": "mobile-command",
   "metadata": {},
   "outputs": [],
   "source": [
    "fig, ax = plt.subplots(figsize=(3,4))\n",
    "ax.bar(keys,values)\n",
    "ax.set_title(RULE.capitalize())\n",
    "rects = ax.patches\n",
    "count_labels = [str(v) for v in values]\n",
    "ax.set_xticklabels(labels=keys,rotation = (45), fontsize = 10)\n",
    "\n",
    "for rect, label in zip(rects,count_labels):\n",
    "    height = rect.get_height()\n",
    "    ax.text(rect.get_x() + rect.get_width() / 2, \n",
    "            height,label,ha='center',va='bottom')\n",
    "plt.show()\n",
    "#plt.savefig(f\"../data/plots/{RULE}_counts.pdf\",bbox_inches='tight')"
   ]
  },
  {
   "cell_type": "code",
   "execution_count": null,
   "id": "based-affiliate",
   "metadata": {},
   "outputs": [],
   "source": []
  },
  {
   "cell_type": "code",
   "execution_count": null,
   "id": "modern-slave",
   "metadata": {},
   "outputs": [],
   "source": [
    "# if MODEL == 'gnn_explainer':\n",
    "    \n",
    "#     pred_traces = []\n",
    "#     for i in range(len(pred_data['preds'])):\n",
    "\n",
    "#         preds_i = []\n",
    "\n",
    "#         for rel_idx in range(NUM_RELATIONS):\n",
    "\n",
    "#             triples_i = pred_data['preds'][i][rel_idx]\n",
    "\n",
    "#             if triples_i.shape[0]:\n",
    "#                 rel_indices = (np.ones((triples_i.shape[0],1)) * rel_idx).astype(np.int64)\n",
    "#                 concat = np.concatenate([triples_i,rel_indices],axis=1)\n",
    "#                 preds_i.append(concat[:,[0,2,1]])\n",
    "#         preds_i = np.concatenate(preds_i,axis=0)\n",
    "#         pred_traces.append(utils.idx2array(preds_i,idx2ent,idx2rel))\n",
    "        \n",
    "#         if i == 10:\n",
    "#             break\n",
    "\n",
    "#     pred_traces = np.array(pred_traces,dtype=object)\n",
    "    \n",
    "# elif MODEL == 'explaine':\n",
    "#     pred_traces = utils.idx2array(pred_data['preds'],idx2ent,idx2rel)\n",
    "    \n",
    "# true_triples = triples[pred_data['test_idx']]\n",
    "# true_traces = traces[pred_data['test_idx']][:,0:TRACE_LENGTH,:]"
   ]
  },
  {
   "cell_type": "code",
   "execution_count": null,
   "id": "necessary-finish",
   "metadata": {},
   "outputs": [],
   "source": [
    "# indicator = []\n",
    "# counts = {}\n",
    "\n",
    "# for pred in pred_traces[error_idx]:\n",
    "    \n",
    "#     for triple in pred:\n",
    "#         if triple[1] in counts:\n",
    "#             counts[triple[1]] += 1\n",
    "#         else:\n",
    "#             counts[triple[1]] = 1"
   ]
  },
  {
   "cell_type": "code",
   "execution_count": null,
   "id": "domestic-progress",
   "metadata": {},
   "outputs": [],
   "source": []
  },
  {
   "cell_type": "code",
   "execution_count": null,
   "id": "decreased-alias",
   "metadata": {},
   "outputs": [],
   "source": []
  },
  {
   "cell_type": "code",
   "execution_count": null,
   "id": "helpful-effectiveness",
   "metadata": {},
   "outputs": [],
   "source": []
  },
  {
   "cell_type": "code",
   "execution_count": null,
   "id": "preceding-viking",
   "metadata": {},
   "outputs": [],
   "source": [
    "RULE = 'predecessor'\n",
    "TRACE_LENGTH = 1\n",
    "MODEL = 'explaine'\n",
    "data = np.load(os.path.join('..','data','royalty.npz'))\n",
    "\n",
    "triples,traces,nopred,entities,relations = utils.get_data(data,RULE)\n",
    "\n",
    "NUM_ENTITIES = len(entities)\n",
    "NUM_RELATIONS = len(relations)\n",
    "\n",
    "ent2idx = dict(zip(entities, range(NUM_ENTITIES)))\n",
    "rel2idx = dict(zip(relations, range(NUM_RELATIONS)))\n",
    "\n",
    "idx2ent = dict(zip(range(NUM_ENTITIES),entities))\n",
    "idx2rel = dict(zip(range(NUM_RELATIONS),relations))"
   ]
  },
  {
   "cell_type": "code",
   "execution_count": null,
   "id": "ultimate-constant",
   "metadata": {},
   "outputs": [],
   "source": [
    "explaine_data = np.load(os.path.join('..','data','preds','explaine'+'_'+RULE+'_preds.npz'),allow_pickle=True)\n",
    "gnn_data = np.load(os.path.join('..','data','preds','gnn_explainer'+'_'+RULE+'_preds.npz'),allow_pickle=True)\n",
    "\n",
    "max_triples = 30\n",
    "gnn_traces = []\n",
    "for i in range(len(gnn_data['preds'])):\n",
    "\n",
    "    preds_i = []\n",
    "\n",
    "    for rel_idx in range(NUM_RELATIONS):\n",
    "\n",
    "        triples_i = gnn_data['preds'][i][rel_idx]\n",
    "\n",
    "        if triples_i.shape[0]:\n",
    "            rel_indices = (np.ones((triples_i.shape[0],1)) * rel_idx).astype(np.int64)\n",
    "            concat = np.concatenate([triples_i,rel_indices],axis=1)\n",
    "            preds_i.append(concat[:,[0,2,1]])\n",
    "    preds_i = np.concatenate(preds_i,axis=0)\n",
    "    gnn_traces.append(utils.idx2array(preds_i,idx2ent,idx2rel))\n",
    "\n",
    "    if i == max_triples:\n",
    "        break\n",
    "\n",
    "gnn_traces = np.array(gnn_traces,dtype=object)\n",
    "\n",
    "explaine_traces = utils.idx2array(explaine_data['preds'][0:max_triples],idx2ent,idx2rel)\n",
    "\n",
    "true_triples = triples[explaine_data['test_idx']]\n",
    "true_traces = traces[explaine_data['test_idx']][:,0:TRACE_LENGTH,:]\n"
   ]
  },
  {
   "cell_type": "code",
   "execution_count": null,
   "id": "brilliant-mandate",
   "metadata": {},
   "outputs": [],
   "source": [
    "i = 4#4, 16\n",
    "\n",
    "input_triple = true_triples[i:i+1]\n",
    "print('input',input_triple)\n",
    "print()\n",
    "\n",
    "explanation = traces[gnn_data['test_idx']][:,0:TRACE_LENGTH,:][i]\n",
    "print('explanation',explanation)\n",
    "print()\n",
    "\n",
    "gnn_exp = gnn_traces[i]\n",
    "print('gnn',gnn_exp)\n",
    "print()\n",
    "\n",
    "explaine_exp = explaine_traces[i]\n",
    "print('explaine',explaine_exp)\n",
    "# plot_triples = np.concatenate([gnn_exp.reshape(-1,3),\n",
    "#                            explanation,\n",
    "#                            explaine_exp,\n",
    "#                            input_triple\n",
    "#                           ],axis=0)"
   ]
  },
  {
   "cell_type": "code",
   "execution_count": null,
   "id": "accessible-rescue",
   "metadata": {},
   "outputs": [],
   "source": [
    "# def plot_dict(plot_triples):\n",
    "    \n",
    "#     label_dict = {}\n",
    "    \n",
    "#     for trip in plot_triples:\n",
    "#         head,rel,tail = trip\n",
    "#         label_dict[(head,tail)] = 'has' + rel.title()\n",
    "        \n",
    "#     return label_dict"
   ]
  },
  {
   "cell_type": "code",
   "execution_count": null,
   "id": "indirect-soundtrack",
   "metadata": {},
   "outputs": [],
   "source": [
    "# true_dict = plot_dict(input_triple)\n",
    "# exp_dict = plot_dict(explanation)\n",
    "# gnn_dict = plot_dict(gnn_exp)\n",
    "# explaine_dict = plot_dict(explaine_exp)"
   ]
  },
  {
   "cell_type": "code",
   "execution_count": null,
   "id": "collect-taste",
   "metadata": {},
   "outputs": [],
   "source": [
    "# plt.figure(figsize=(10,10))\n",
    "\n",
    "# G = nx.MultiDiGraph()\n",
    "# for triple in input_triple:\n",
    "#     G.add_node(triple[0],color='g')\n",
    "#     G.add_node(triple[2],color='g')\n",
    "#     G.add_edge(triple[0],triple[2],color='g')"
   ]
  },
  {
   "cell_type": "code",
   "execution_count": null,
   "id": "recent-colorado",
   "metadata": {},
   "outputs": [],
   "source": [
    "# colors = nx.get_edge_attributes(G,'color').values()\n",
    "\n",
    "# pos = nx.circular_layout(G)\n",
    "# nx.draw(G, pos, \n",
    "#         edge_color=colors, \n",
    "#         with_labels=True,\n",
    "#         node_color='lightgreen')"
   ]
  },
  {
   "cell_type": "code",
   "execution_count": null,
   "id": "medical-congo",
   "metadata": {},
   "outputs": [],
   "source": []
  },
  {
   "cell_type": "code",
   "execution_count": null,
   "id": "successful-holly",
   "metadata": {},
   "outputs": [],
   "source": [
    "#plot_triples = utils.idx2array(adj_data,idx2ent,idx2rel)\n",
    "\n",
    "\n",
    "plt.figure(figsize=(10,10))\n",
    "\n",
    "G = nx.MultiDiGraph()\n",
    "for triple in plot_triples:\n",
    "    G.add_node(triple[0])\n",
    "    G.add_node(triple[2])\n",
    "    G.add_edge(triple[0],triple[2])\n",
    "    \n",
    "ground_truth = np.concatenate([true_triples[i].reshape(-1,3),true_traces[i]],axis=0)\n",
    "\n",
    "gt_entities = np.unique(np.concatenate([ground_truth[:,0],ground_truth[:,2]]))\n",
    "\n",
    "node_sizes = [1200 if ent in gt_entities else 300 for ent in G.nodes() ]\n",
    "\n",
    "pos = nx.spring_layout(G,seed=SEED,k=5/np.sqrt(G.order()))\n",
    "\n",
    "nx.draw(G, pos, edge_color='black', width=1, linewidths=1,\n",
    "        node_size=node_sizes, node_color='skyblue', alpha=0.9,font_size=12,\n",
    "        labels={node: node for node in G.nodes()})\n",
    "nx.draw_networkx_edge_labels(G,pos,\n",
    "                             edge_labels=label_dict,\n",
    "                             font_color='black',\n",
    "                             font_size=10)\n",
    "\n",
    "ax = plt.gca()\n",
    "ax.margins(0.25)\n",
    "plt.axis(\"off\")"
   ]
  },
  {
   "cell_type": "code",
   "execution_count": null,
   "id": "photographic-beaver",
   "metadata": {},
   "outputs": [],
   "source": []
  },
  {
   "cell_type": "code",
   "execution_count": null,
   "id": "weekly-horse",
   "metadata": {},
   "outputs": [],
   "source": []
  },
  {
   "cell_type": "code",
   "execution_count": null,
   "id": "younger-complaint",
   "metadata": {},
   "outputs": [],
   "source": []
  },
  {
   "cell_type": "code",
   "execution_count": null,
   "id": "wanted-logging",
   "metadata": {},
   "outputs": [],
   "source": []
  },
  {
   "cell_type": "code",
   "execution_count": null,
   "id": "mineral-textbook",
   "metadata": {},
   "outputs": [],
   "source": []
  },
  {
   "cell_type": "code",
   "execution_count": null,
   "id": "thousand-railway",
   "metadata": {},
   "outputs": [],
   "source": []
  },
  {
   "cell_type": "code",
   "execution_count": null,
   "id": "furnished-impossible",
   "metadata": {},
   "outputs": [],
   "source": []
  },
  {
   "cell_type": "code",
   "execution_count": null,
   "id": "sonic-pressure",
   "metadata": {},
   "outputs": [],
   "source": [
    "pred_data = np.load(os.path.join('..','data','preds',MODEL+'_'+RULE+'_preds.npz'),allow_pickle=True)\n",
    "# error_data = np.load(\n",
    "#     os.path.join('..','data','other',MODEL +'-error',MODEL+'_'+RULE+'.npz'),\n",
    "#     allow_pickle=True)['x']"
   ]
  },
  {
   "cell_type": "code",
   "execution_count": null,
   "id": "indian-invitation",
   "metadata": {},
   "outputs": [],
   "source": []
  },
  {
   "cell_type": "code",
   "execution_count": null,
   "id": "proof-samoa",
   "metadata": {},
   "outputs": [],
   "source": []
  },
  {
   "cell_type": "code",
   "execution_count": null,
   "id": "julian-overall",
   "metadata": {},
   "outputs": [],
   "source": [
    "#predicate of the correct explanation triples that is most frequently missing "
   ]
  },
  {
   "cell_type": "code",
   "execution_count": null,
   "id": "nonprofit-reader",
   "metadata": {},
   "outputs": [],
   "source": [
    "# full_graph = np.concatenate([triples,traces.reshape(-1,3), nopred])\n",
    "\n",
    "# kg_df = pd.DataFrame({'source':full_graph[:,0], \n",
    "#                       'target':full_graph[:,2], \n",
    "#                       'edge':full_graph[:,1]})\n",
    "# G = nx.from_pandas_edgelist(kg_df, \"source\", \"target\",\n",
    "#                           edge_attr=True, create_using=nx.MultiDiGraph())\n",
    "# degrees = {node:val for (node, val) in G.degree()}\n",
    "# def neighbors(G, node, n):\n",
    "#     path_lengths = nx.single_source_dijkstra_path_length(G, node)\n",
    "#     return [node for node, length in path_lengths.items()\n",
    "#                     if length == n]"
   ]
  },
  {
   "cell_type": "code",
   "execution_count": null,
   "id": "noted-recipient",
   "metadata": {},
   "outputs": [],
   "source": []
  },
  {
   "cell_type": "code",
   "execution_count": null,
   "id": "romantic-collar",
   "metadata": {},
   "outputs": [],
   "source": [
    "jaccard = []\n",
    "for i in range(pred_traces.shape[0]):\n",
    "    jaccard.append(utils.jaccard_score(pred_traces[i],true_traces[i]))\n",
    "error_idx = np.array(jaccard) < 1"
   ]
  },
  {
   "cell_type": "code",
   "execution_count": null,
   "id": "future-idaho",
   "metadata": {},
   "outputs": [],
   "source": []
  },
  {
   "cell_type": "code",
   "execution_count": null,
   "id": "tracked-wagon",
   "metadata": {},
   "outputs": [],
   "source": []
  },
  {
   "cell_type": "code",
   "execution_count": null,
   "id": "optical-express",
   "metadata": {},
   "outputs": [],
   "source": []
  },
  {
   "cell_type": "code",
   "execution_count": null,
   "id": "gross-brook",
   "metadata": {},
   "outputs": [],
   "source": []
  },
  {
   "cell_type": "code",
   "execution_count": null,
   "id": "comic-library",
   "metadata": {},
   "outputs": [],
   "source": []
  },
  {
   "cell_type": "code",
   "execution_count": null,
   "id": "sapphire-binary",
   "metadata": {},
   "outputs": [],
   "source": []
  },
  {
   "cell_type": "code",
   "execution_count": null,
   "id": "surrounded-highlight",
   "metadata": {},
   "outputs": [],
   "source": []
  },
  {
   "cell_type": "code",
   "execution_count": null,
   "id": "moved-builder",
   "metadata": {},
   "outputs": [],
   "source": [
    "indicator = []\n",
    "counts = {}\n",
    "\n",
    "for pred in pred_traces[error_idx]:\n",
    "    \n",
    "    for triple in pred:\n",
    "        if triple[1] in counts:\n",
    "            counts[triple[1]] += 1\n",
    "        else:\n",
    "            counts[triple[1]] = 1\n",
    "#     indicator_i = 0.0\n",
    "#     for predicate in list(true_traces[:,:,1][0]):\n",
    "        \n",
    "#         for p,v in counts.items():\n",
    "            \n",
    "#             if predicate == p and v >= 1:\n",
    "                \n",
    "#                 indicator_i += 1\n",
    "                \n",
    "#     if indicator_i >= len(list(true_traces[:,:,1][0])):\n",
    "#         indicator.append(1)\n",
    "                \n",
    "# print(1-sum(indicator) / len(pred_traces[error_idx]))"
   ]
  },
  {
   "cell_type": "code",
   "execution_count": null,
   "id": "acknowledged-coverage",
   "metadata": {},
   "outputs": [],
   "source": [
    "plt.bar(list(counts.keys()), counts.values())"
   ]
  },
  {
   "cell_type": "code",
   "execution_count": null,
   "id": "further-plain",
   "metadata": {},
   "outputs": [],
   "source": [
    "num_errors = len(pred_traces[error_idx])\n",
    "\n",
    "for predicate in list(true_traces[:,:,1][0]):\n",
    "    \n",
    "    percent = (np.sum(\n",
    "        pred_traces[error_idx][:,:,1] != predicate,\n",
    "        axis=1) >= 1).sum() / num_errors\n",
    "    \n",
    "    print(f\"{predicate} missing from {round(percent*100)}% of errors \")"
   ]
  },
  {
   "cell_type": "code",
   "execution_count": null,
   "id": "worse-architect",
   "metadata": {},
   "outputs": [],
   "source": [
    "# neighbors_list = neighbors(G, 'Abbas_II_of_Egypt', 1)\n",
    "\n",
    "# degree_list = [degrees[neighbor] for neighbor in neighbors_list]\n",
    "\n",
    "# np.mean(degree_list)"
   ]
  },
  {
   "cell_type": "code",
   "execution_count": null,
   "id": "trained-bruce",
   "metadata": {},
   "outputs": [],
   "source": [
    "# def avg_degree(traces,degrees):\n",
    "    \n",
    "#     head_total = 0.0\n",
    "#     tail_total = 0.0\n",
    "    \n",
    "#     num_traces = len(traces)\n",
    "    \n",
    "#     for i in range(num_traces):\n",
    "\n",
    "#         head_triple_total = 0.0\n",
    "#         tail_triple_total = 0.0\n",
    "        \n",
    "#         for trip in traces[i]:\n",
    "\n",
    "#             head_triple_total += degrees[trip[0]]\n",
    "\n",
    "#             tail_triple_total += degrees[trip[2]]\n",
    "            \n",
    "#         trace_length = traces[i].shape[0]\n",
    "\n",
    "#         head_triple_total /= trace_length\n",
    "#         tail_triple_total /= trace_length\n",
    "\n",
    "#         head_total += head_triple_total\n",
    "#         tail_total += tail_triple_total\n",
    "\n",
    "#     head_total /= num_traces\n",
    "#     tail_total /= num_traces\n",
    "    \n",
    "#     return head_total, tail_total"
   ]
  },
  {
   "cell_type": "code",
   "execution_count": null,
   "id": "civic-removal",
   "metadata": {},
   "outputs": [],
   "source": []
  },
  {
   "cell_type": "code",
   "execution_count": null,
   "id": "changing-entity",
   "metadata": {},
   "outputs": [],
   "source": [
    "# if RULE == 'spouse' and MODEL == 'explaine':\n",
    "#     error_data = error_data[1:]\n",
    "#look at explaine trace=1 preds\n",
    "\n",
    "# most_common_predicates, mcp_count = np.unique(error_data[0][0],return_counts=True)\n",
    "\n",
    "# most_common_predicate = most_common_predicates[np.argmax(mcp_count)]\n",
    "\n",
    "# error_counts = 0\n",
    "\n",
    "# for tup in error_data:\n",
    "\n",
    "#     predicates, counts = np.unique(tup[0],return_counts=True)\n",
    "\n",
    "#     predicates = list(predicates)\n",
    "\n",
    "#     if most_common_predicate in predicates:\n",
    "    \n",
    "#         current_count = counts[predicates.index(most_common_predicate)]\n",
    "#         #if current_count >= TRACE_LENGTH:\n",
    "#         error_counts += tup[1]\n",
    "\n",
    "# #print(f'{most_common_predicate} appears in {error_counts} of predicted triples')\n",
    "# #print(f'percentage {error_counts / true_traces.shape[0]}')\n",
    "# print(f'{MODEL}-{RULE}, most frequent predicate {most_common_predicate} occurs in {error_counts * 100 / true_traces.shape[0]}% of triples')"
   ]
  },
  {
   "cell_type": "code",
   "execution_count": null,
   "id": "numerical-baptist",
   "metadata": {},
   "outputs": [],
   "source": [
    "# for i in pred_traces:\n",
    "#     print(np.array(triples)[:,1])\n",
    "\n",
    "# ce = .99\n",
    "# pwce = .01\n",
    "\n",
    "# ce + pwce + pwce*(1-ce) + (1-pwce)*ce"
   ]
  },
  {
   "cell_type": "code",
   "execution_count": null,
   "id": "based-worthy",
   "metadata": {},
   "outputs": [],
   "source": [
    "jaccard = []\n",
    "for i in range(pred_traces.shape[0]):\n",
    "    jaccard.append(utils.jaccard_score(pred_traces[i],true_traces[i]))\n",
    "jaccard_idx = np.array(jaccard) < 1"
   ]
  },
  {
   "cell_type": "code",
   "execution_count": null,
   "id": "compatible-ribbon",
   "metadata": {},
   "outputs": [],
   "source": []
  },
  {
   "cell_type": "code",
   "execution_count": null,
   "id": "determined-budapest",
   "metadata": {},
   "outputs": [],
   "source": [
    "if RULE == 'spouse' and MODEL == 'explaine':\n",
    "    \n",
    "    errors = pred_traces[jaccard_idx]\n",
    "    \n",
    "    #idx = np.argwhere(errors[:,0,:][:,1] == 'spouse')[-2]\n",
    "    \n",
    "    idx = np.argwhere((np.array(jaccard) < 1) & (pred_traces[:,0,:][:,1] == 'spouse'))[-25]\n",
    "\n",
    "    print(true_triples[idx])\n",
    "    print(true_traces[idx])\n",
    "    print(pred_traces[idx])"
   ]
  },
  {
   "cell_type": "code",
   "execution_count": null,
   "id": "cutting-maldives",
   "metadata": {},
   "outputs": [],
   "source": [
    "d = {}\n",
    "for i in pred_traces[jaccard_idx][:,:,1]:\n",
    "    \n",
    "    tup = tuple(i)\n",
    "    \n",
    "    for predicate in tup:\n",
    "        \n",
    "        if predicate in d:\n",
    "            d[predicate] += 1\n",
    "        else:\n",
    "            d[predicate] = 1"
   ]
  },
  {
   "cell_type": "code",
   "execution_count": null,
   "id": "commercial-tanzania",
   "metadata": {},
   "outputs": [],
   "source": [
    "#When looking at the explanations the frequency of (hasParent,hasGrandparent) may not be the \n",
    "#same as the frequency of the predicate hasGrandparent in the explanations has you may \n",
    "#have (hasParent,hasGrandparent) (hasSister,hasGrandparent) .... i.e. ( ? ,hasGrandparent) \n",
    "#and (hasGrandparent, ? ) I suggest that for both methods you report the most frequent erroneous \n",
    "#predicate in the explanations e.g. hasAunt appears in X% of the explanations of hasAunt"
   ]
  },
  {
   "cell_type": "code",
   "execution_count": null,
   "id": "identified-torture",
   "metadata": {},
   "outputs": [],
   "source": [
    "sorted_counts = sorted(d.items(),key=lambda key:key[1],reverse=True)\n",
    "\n",
    "percentage = round(100*sorted_counts[0][1] / sum(d.values()))\n",
    "\n",
    "print(f\"of incorrect predictions {sorted_counts[0][0]} was used in {percentage}% of triples\")"
   ]
  },
  {
   "cell_type": "code",
   "execution_count": null,
   "id": "revolutionary-matthew",
   "metadata": {},
   "outputs": [],
   "source": [
    "# avg=0\n",
    "# for i in range(len(gnn_preds)):\n",
    "#     avg += gnn_preds[i].shape[0]\n",
    "# print(avg/len(gnn_preds))\n",
    "\n",
    "#avg cardinality\n",
    "#spouse: 10.416500597847747\n",
    "#uncle 54.39667705088266\n",
    "#aunt: 56.02489905787348\n",
    "#successor: 12.638145315487572\n",
    "#predecessor: 12.2868068833652\n",
    "#grandparent: 36.384018619084564"
   ]
  },
  {
   "cell_type": "code",
   "execution_count": null,
   "id": "efficient-charles",
   "metadata": {},
   "outputs": [],
   "source": [
    "# counts = []\n",
    "# for i in range(len(gnn_preds)):\n",
    "#     counts.append(gnn_preds[i].shape[0])"
   ]
  },
  {
   "cell_type": "code",
   "execution_count": null,
   "id": "royal-triangle",
   "metadata": {},
   "outputs": [],
   "source": [
    "# print(min(counts))\n",
    "# print(max(counts))\n",
    "#min/max\n",
    "#spouse: 2/119\n",
    "#uncle: 8/215\n",
    "#aunt: 8/202\n",
    "#successor: 2/238\n",
    "#predecessor: 2/149\n",
    "#grandparent: "
   ]
  },
  {
   "cell_type": "code",
   "execution_count": null,
   "id": "removed-abuse",
   "metadata": {},
   "outputs": [],
   "source": []
  },
  {
   "cell_type": "code",
   "execution_count": null,
   "id": "finnish-column",
   "metadata": {},
   "outputs": [],
   "source": [
    "# spouse_total = 305 + 287 + 287\n",
    "# 305 / spouse_total"
   ]
  },
  {
   "cell_type": "code",
   "execution_count": null,
   "id": "focal-drove",
   "metadata": {},
   "outputs": [],
   "source": [
    "# uncle_total = 422 + 225 + 224 + 208 + 205 + 204 + 195 + 170 + 169 + 161 + 150 + 137 + 103 + 81\n",
    "# 422 / uncle_total"
   ]
  },
  {
   "cell_type": "code",
   "execution_count": null,
   "id": "exempt-medicare",
   "metadata": {},
   "outputs": [],
   "source": [
    "# aunt_total = 341 + 262 + 247 + 234 + 226 + 225 + 207 + 182 + 181 + 157 + 154 + 148 + 118 + 61\n",
    "# 341 / aunt_total"
   ]
  },
  {
   "cell_type": "code",
   "execution_count": null,
   "id": "alternate-defendant",
   "metadata": {},
   "outputs": [],
   "source": [
    "# successor_total = 830 + 197 + 139 + 137\n",
    "# 830 / successor_total"
   ]
  },
  {
   "cell_type": "code",
   "execution_count": null,
   "id": "heavy-modem",
   "metadata": {},
   "outputs": [],
   "source": [
    "# predecessor_total = 834 + 178 + 150 + 119\n",
    "# 834 / predecessor_total"
   ]
  },
  {
   "cell_type": "code",
   "execution_count": null,
   "id": "cognitive-village",
   "metadata": {},
   "outputs": [],
   "source": [
    "# grandparent_total = 236 + 223 + 220 + 207 + 200 + 200 + 174 + 143 + 142 + 132 + 126 + 126+123 +108+105\n",
    "# 236 / grandparent_total"
   ]
  },
  {
   "cell_type": "code",
   "execution_count": null,
   "id": "curious-balance",
   "metadata": {},
   "outputs": [],
   "source": []
  },
  {
   "cell_type": "code",
   "execution_count": null,
   "id": "listed-alias",
   "metadata": {},
   "outputs": [],
   "source": [
    "# gnn_spouse = 2509 - 399\n",
    "# 244 / gnn_spouse"
   ]
  },
  {
   "cell_type": "code",
   "execution_count": null,
   "id": "polish-contribution",
   "metadata": {},
   "outputs": [],
   "source": [
    "#np.load('/Users/nhalliwe/Desktop/test.npz',allow_pickle=True)"
   ]
  },
  {
   "cell_type": "code",
   "execution_count": null,
   "id": "twelve-consideration",
   "metadata": {},
   "outputs": [],
   "source": []
  },
  {
   "cell_type": "code",
   "execution_count": null,
   "id": "alien-bicycle",
   "metadata": {},
   "outputs": [],
   "source": [
    "# print(uniq)\n",
    "# print(counts)"
   ]
  },
  {
   "cell_type": "code",
   "execution_count": null,
   "id": "mature-resource",
   "metadata": {},
   "outputs": [],
   "source": [
    "# print('gnn uncle', 34 / 2889 )\n",
    "# print('gnn aunt',58 /2972)"
   ]
  },
  {
   "cell_type": "code",
   "execution_count": null,
   "id": "wound-advertising",
   "metadata": {},
   "outputs": [],
   "source": [
    "#print('gnn successor', 347 / 2092)"
   ]
  },
  {
   "cell_type": "code",
   "execution_count": null,
   "id": "tracked-procurement",
   "metadata": {},
   "outputs": [],
   "source": [
    "# print('gnn predecessor',342/2092)\n",
    "# print('gnn grandparent',15/2578)"
   ]
  },
  {
   "cell_type": "code",
   "execution_count": null,
   "id": "adolescent-minneapolis",
   "metadata": {},
   "outputs": [],
   "source": [
    "import matplotlib.pyplot as plt\n",
    "import networkx as nx\n",
    "import numpy as np\n",
    "import os\n",
    "import utils\n",
    "import random as rn\n",
    "import tensorflow as tf"
   ]
  },
  {
   "cell_type": "code",
   "execution_count": null,
   "id": "filled-czech",
   "metadata": {},
   "outputs": [],
   "source": [
    "SEED = 123\n",
    "os.environ['PYTHONHASHSEED'] = str(SEED)\n",
    "os.environ['TF_DETERMINISTIC_OPS'] = '1'\n",
    "np.random.seed(SEED)\n",
    "rn.seed(SEED)\n",
    "\n",
    "data = np.load(os.path.join('..','data','royalty.npz'))\n",
    "\n",
    "RULE = 'aunt'\n",
    "TRACE_LENGTH = 2\n",
    "\n",
    "NUM_ENTITIES = len(entities)\n",
    "NUM_RELATIONS = len(relations)\n",
    "\n",
    "ent2idx = dict(zip(entities, range(NUM_ENTITIES)))\n",
    "rel2idx = dict(zip(relations, range(NUM_RELATIONS)))\n",
    "\n",
    "idx2ent = dict(zip(range(NUM_ENTITIES),entities))\n",
    "idx2rel = dict(zip(range(NUM_RELATIONS),relations))\n",
    "\n",
    "triples,traces,nopred,entities,relations = utils.get_data(data,RULE)\n",
    "\n",
    "i = 7274"
   ]
  },
  {
   "cell_type": "code",
   "execution_count": null,
   "id": "increasing-bedroom",
   "metadata": {},
   "outputs": [],
   "source": [
    "adj_data = np.concatenate([triples,traces[:,0:TRACE_LENGTH,:].reshape(-1,3)],axis=0)\n",
    "\n",
    "adj_data_sparse = utils.array2idx(adj_data,ent2idx,rel2idx)\n",
    "\n",
    "adj_mats = utils.get_adj_mats(\n",
    "    data=adj_data_sparse,\n",
    "    num_entities=NUM_ENTITIES,\n",
    "    num_relations=NUM_RELATIONS\n",
    ")"
   ]
  },
  {
   "cell_type": "code",
   "execution_count": null,
   "id": "crude-shame",
   "metadata": {},
   "outputs": [],
   "source": [
    "head = triples[i][0]\n",
    "tail = triples[i][2]\n",
    "\n",
    "head_idx = ent2idx[head]\n",
    "tail_idx = ent2idx[tail]\n",
    "\n",
    "neighbor_indices = []\n",
    "\n",
    "for rel_idx in range(NUM_RELATIONS):\n",
    "\n",
    "    dense_mat = tf.sparse.to_dense(adj_mats[rel_idx]).numpy()[0]\n",
    "\n",
    "    head_neighbors = np.argwhere(dense_mat[head_idx,:]).flatten()\n",
    "    tail_neighbors = np.argwhere(dense_mat[:,tail_idx]).flatten()\n",
    "    \n",
    "    head_triples = [(head_idx,rel_idx,t_idx) for t_idx in head_neighbors]\n",
    "    tail_triples = [(h_idx,rel_idx,tail_idx) for h_idx in tail_neighbors]\n",
    "    \n",
    "    if head_triples:\n",
    "        neighbor_indices.append(head_triples)\n",
    "    if tail_triples:\n",
    "        neighbor_indices.append(tail_triples)"
   ]
  },
  {
   "cell_type": "code",
   "execution_count": null,
   "id": "three-filing",
   "metadata": {},
   "outputs": [],
   "source": [
    "#neighbors = [idx2ent[idx] for idx in neighbor_indices]"
   ]
  },
  {
   "cell_type": "code",
   "execution_count": null,
   "id": "encouraging-melbourne",
   "metadata": {},
   "outputs": [],
   "source": [
    "plot_triples = utils.idx2array(np.concatenate(neighbor_indices,axis=0),idx2ent,idx2rel)[5:]"
   ]
  },
  {
   "cell_type": "code",
   "execution_count": null,
   "id": "boolean-legislature",
   "metadata": {},
   "outputs": [],
   "source": [
    "# clean_plot_triples = []\n",
    "\n",
    "# for trip in plot_triples:\n",
    "#     head,rel,tail = trip\n",
    "#     if head == 'Maria_Theresa_of_Austria-Este_(1849–1919)>':\n",
    "#         head = head[0:-18]\n",
    "#     clean_plot_triples.append([head,rel,tail])"
   ]
  },
  {
   "cell_type": "code",
   "execution_count": null,
   "id": "likely-trading",
   "metadata": {},
   "outputs": [],
   "source": [
    "# plot_triples = np.concatenate([triples[i].reshape(1,3),traces[i].reshape(-1,3)], axis=0)\n",
    "# plot_triples = plot_triples[0:-1,:]\n",
    "\n",
    "# label_dict = {('Princess_Clémentine_of_Belgium','Archduchess_Hermine_of_Austria'):'hasAunt',\n",
    "# ('Marie_Henriette_of_Austria','Archduchess_Hermine_of_Austria'):'hasSister',\n",
    "# ('Princess_Clémentine_of_Belgium','Marie_Henriette_of_Austria'):'hasParent'}\n",
    "label_dict = {}\n",
    "\n",
    "for trip in plot_triples:\n",
    "    \n",
    "    head,rel,tail = trip\n",
    "    \n",
    "    label_dict [(head,tail)] = 'has' + rel.title()"
   ]
  },
  {
   "cell_type": "code",
   "execution_count": null,
   "id": "judicial-advocacy",
   "metadata": {},
   "outputs": [],
   "source": []
  },
  {
   "cell_type": "code",
   "execution_count": null,
   "id": "broken-north",
   "metadata": {},
   "outputs": [],
   "source": []
  },
  {
   "cell_type": "code",
   "execution_count": null,
   "id": "flying-automation",
   "metadata": {},
   "outputs": [],
   "source": []
  },
  {
   "cell_type": "code",
   "execution_count": null,
   "id": "considerable-adaptation",
   "metadata": {},
   "outputs": [],
   "source": [
    "plt.figure(figsize=(10,10))\n",
    "\n",
    "G = nx.MultiDiGraph()\n",
    "for triple in plot_triples:\n",
    "    G.add_node(triple[0])\n",
    "    G.add_node(triple[2])\n",
    "    G.add_edge(triple[0], triple[2])\n",
    "    \n",
    "ground_truth = np.concatenate([triples[i].reshape(-1,3),traces[i]],axis=0)[0:-1]\n",
    "\n",
    "gt_entities = np.unique(np.concatenate([ground_truth[:,0],ground_truth[:,2]]))\n",
    "\n",
    "node_sizes = [1200 if ent in gt_entities else 300 for ent in G.nodes() ]\n",
    "\n",
    "pos = nx.spring_layout(G,seed=SEED,k=10)\n",
    "\n",
    "nx.draw(G, pos, edge_color='black', width=1, linewidths=1,\n",
    "        node_size=node_sizes, node_color='skyblue', alpha=0.9,font_size=12,\n",
    "        labels={node: node for node in G.nodes()})\n",
    "\n",
    "nx.draw_networkx_edge_labels(G,pos,edge_labels=label_dict,font_color='black',font_size=10)\n",
    "\n",
    "ax = plt.gca()\n",
    "ax.margins(0.25)\n",
    "plt.axis(\"off\")"
   ]
  },
  {
   "cell_type": "code",
   "execution_count": null,
   "id": "international-hello",
   "metadata": {},
   "outputs": [],
   "source": []
  },
  {
   "cell_type": "code",
   "execution_count": null,
   "id": "dressed-maria",
   "metadata": {},
   "outputs": [],
   "source": []
  },
  {
   "cell_type": "code",
   "execution_count": null,
   "id": "entire-scene",
   "metadata": {},
   "outputs": [],
   "source": []
  },
  {
   "cell_type": "code",
   "execution_count": 2,
   "id": "continent-overhead",
   "metadata": {},
   "outputs": [],
   "source": [
    "%matplotlib inline\n",
    "import matplotlib.pyplot as plt\n",
    "import numpy as np\n",
    "import utils\n",
    "import os\n",
    "import tensorflow as tf\n",
    "import pandas as pd\n",
    "import networkx as nx\n",
    "import random as rn\n",
    "SEED = 123\n",
    "os.environ['PYTHONHASHSEED'] = str(SEED)\n",
    "os.environ['TF_DETERMINISTIC_OPS'] = '1'\n",
    "np.random.seed(SEED)\n",
    "rn.seed(SEED)"
   ]
  },
  {
   "cell_type": "code",
   "execution_count": 3,
   "id": "martial-treaty",
   "metadata": {},
   "outputs": [],
   "source": [
    "#{parents and grandparents and spouse}; {spouse successor predecessor}"
   ]
  },
  {
   "cell_type": "code",
   "execution_count": null,
   "id": "floppy-moore",
   "metadata": {},
   "outputs": [],
   "source": []
  },
  {
   "cell_type": "code",
   "execution_count": 133,
   "id": "transsexual-screening",
   "metadata": {},
   "outputs": [],
   "source": [
    "DATASET = 'royalty_20k'\n",
    "METHOD = 'gnn_explainer'\n",
    "RULE = 'successor'\n",
    "TRACE_LENGTH = 1\n",
    "data = np.load(os.path.join('..','data',DATASET+'.npz'))"
   ]
  },
  {
   "cell_type": "code",
   "execution_count": 134,
   "id": "standard-looking",
   "metadata": {},
   "outputs": [],
   "source": [
    "if DATASET == 'royalty_15k':\n",
    "    d = {'spouse':1,'grandparent':2}\n",
    "elif DATASET == 'royalty_20k':\n",
    "    d = {'spouse':1,'successor':1,\n",
    "        'predecessor':1}"
   ]
  },
  {
   "cell_type": "code",
   "execution_count": 140,
   "id": "alike-option",
   "metadata": {},
   "outputs": [
    {
     "name": "stderr",
     "output_type": "stream",
     "text": [
      "/opt/anaconda3/envs/base_local/lib/python3.7/site-packages/ipykernel_launcher.py:35: UserWarning: FixedFormatter should only be used together with FixedLocator\n"
     ]
    },
    {
     "data": {
      "image/png": "[encoded data removed]",
      "text/plain": [
       "<Figure size 216x216 with 1 Axes>"
      ]
     },
     "metadata": {
      "needs_background": "light"
     },
     "output_type": "display_data"
    },
    {
     "data": {
      "image/png": "[encoded data removed]",
      "text/plain": [
       "<Figure size 216x216 with 1 Axes>"
      ]
     },
     "metadata": {
      "needs_background": "light"
     },
     "output_type": "display_data"
    },
    {
     "data": {
      "image/png": "[encoded data removed]",
      "text/plain": [
       "<Figure size 216x216 with 1 Axes>"
      ]
     },
     "metadata": {
      "needs_background": "light"
     },
     "output_type": "display_data"
    }
   ],
   "source": [
    "for rule,trace_length in d.items():\n",
    "    \n",
    "    pred_data = np.load(\n",
    "        os.path.join('..','data','preds', DATASET,METHOD+'_'+DATASET+'_'+rule+'_preds.npz'),\n",
    "        allow_pickle=True\n",
    "    )\n",
    "    \n",
    "    triples,traces,entities,relations = utils.get_data(data,rule)\n",
    "    \n",
    "    pred_traces = pred_data['preds']\n",
    "    \n",
    "    true_triples = triples[pred_data['test_idx']]\n",
    "    true_traces = traces[pred_data['test_idx']][:,0:TRACE_LENGTH,:]\n",
    "    \n",
    "    jaccard = []\n",
    "    for i in range(pred_traces.shape[0]):\n",
    "        jaccard.append(utils.jaccard_score(pred_traces[i],true_traces[i]))\n",
    "    error_idx = np.array(jaccard) < 1\n",
    "    \n",
    "    counts = {}\n",
    "\n",
    "    for pred in pred_traces[error_idx]:\n",
    "        for triple in pred:\n",
    "            if triple[1] in counts:\n",
    "                counts[triple[1]] += 1\n",
    "            else:\n",
    "                counts[triple[1]] = 1\n",
    "                \n",
    "    sorted_counts = sorted(counts.items(), key=lambda x:x[1],reverse=True)\n",
    "    keys = [tup[0] for tup in sorted_counts]\n",
    "    values = [tup[1] for tup in sorted_counts]\n",
    "    \n",
    "    fig, ax = plt.subplots(figsize=(3,3))\n",
    "    ax.bar(keys,values)\n",
    "    ax.set_xticklabels(labels=keys,rotation = (45), fontsize = 10)\n",
    "    \n",
    "    #plt.savefig(f\"../data/plots/{DATASET}_{METHOD}_{rule}_counts.pdf\",bbox_inches='tight')"
   ]
  },
  {
   "cell_type": "code",
   "execution_count": 123,
   "id": "focal-summit",
   "metadata": {},
   "outputs": [],
   "source": []
  },
  {
   "cell_type": "code",
   "execution_count": 124,
   "id": "behind-statement",
   "metadata": {},
   "outputs": [],
   "source": []
  },
  {
   "cell_type": "code",
   "execution_count": 125,
   "id": "cardiac-rogers",
   "metadata": {},
   "outputs": [],
   "source": []
  },
  {
   "cell_type": "code",
   "execution_count": null,
   "id": "sexual-newsletter",
   "metadata": {},
   "outputs": [],
   "source": []
  },
  {
   "cell_type": "code",
   "execution_count": null,
   "id": "wireless-liver",
   "metadata": {},
   "outputs": [],
   "source": []
  },
  {
   "cell_type": "code",
   "execution_count": null,
   "id": "thousand-victory",
   "metadata": {},
   "outputs": [],
   "source": []
  },
  {
   "cell_type": "code",
   "execution_count": null,
   "id": "celtic-effectiveness",
   "metadata": {},
   "outputs": [],
   "source": []
  },
  {
   "cell_type": "code",
   "execution_count": null,
   "id": "associate-catering",
   "metadata": {},
   "outputs": [],
   "source": []
  },
  {
   "cell_type": "code",
   "execution_count": null,
   "id": "sized-innocent",
   "metadata": {},
   "outputs": [],
   "source": []
  },
  {
   "cell_type": "code",
   "execution_count": null,
   "id": "hollywood-glasgow",
   "metadata": {},
   "outputs": [],
   "source": []
  },
  {
   "cell_type": "code",
   "execution_count": null,
   "id": "temporal-unknown",
   "metadata": {},
   "outputs": [],
   "source": []
  },
  {
   "cell_type": "code",
   "execution_count": null,
   "id": "stock-habitat",
   "metadata": {},
   "outputs": [],
   "source": []
  },
  {
   "cell_type": "code",
   "execution_count": null,
   "id": "through-diamond",
   "metadata": {},
   "outputs": [],
   "source": []
  },
  {
   "cell_type": "code",
   "execution_count": null,
   "id": "other-cuisine",
   "metadata": {},
   "outputs": [],
   "source": []
  },
  {
   "cell_type": "code",
   "execution_count": null,
   "id": "current-subsection",
   "metadata": {},
   "outputs": [],
   "source": []
  },
  {
   "cell_type": "code",
   "execution_count": null,
   "id": "imperial-arkansas",
   "metadata": {},
   "outputs": [],
   "source": []
  }
 ],
 "metadata": {
  "kernelspec": {
   "display_name": "Python 3",
   "language": "python",
   "name": "python3"
  },
  "language_info": {
   "codemirror_mode": {
    "name": "ipython",
    "version": 3
   },
   "file_extension": ".py",
   "mimetype": "text/x-python",
   "name": "python",
   "nbconvert_exporter": "python",
   "pygments_lexer": "ipython3",
   "version": "3.7.9"
  }
 },
 "nbformat": 4,
 "nbformat_minor": 5
}
