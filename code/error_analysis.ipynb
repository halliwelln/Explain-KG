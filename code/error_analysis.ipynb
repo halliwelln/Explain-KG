{
 "cells": [
  {
   "cell_type": "code",
   "execution_count": null,
   "id": "automated-sapphire",
   "metadata": {},
   "outputs": [],
   "source": [
    "# %matplotlib inline\n",
    "# import matplotlib.pyplot as plt\n",
    "# import numpy as np\n",
    "# import utils\n",
    "# import os\n",
    "# import tensorflow as tf\n",
    "# import pandas as pd\n",
    "# import networkx as nx\n",
    "# import random as rn"
   ]
  },
  {
   "cell_type": "code",
   "execution_count": 3,
   "id": "express-heating",
   "metadata": {},
   "outputs": [],
   "source": [
    "import numpy as np\n",
    "import utils\n",
    "import os\n",
    "\n",
    "DATASET = 'royalty_20k'\n",
    "data = np.load(os.path.join('..','data',DATASET+'.npz'))\n",
    "\n",
    "triples,traces,entities,relations = utils.get_data(data,'full_data')"
   ]
  },
  {
   "cell_type": "code",
   "execution_count": null,
   "id": "uniform-flood",
   "metadata": {},
   "outputs": [],
   "source": [
    "SEED = 123\n",
    "os.environ['PYTHONHASHSEED'] = str(SEED)\n",
    "os.environ['TF_DETERMINISTIC_OPS'] = '1'\n",
    "np.random.seed(SEED)\n",
    "rn.seed(SEED)"
   ]
  },
  {
   "cell_type": "code",
   "execution_count": null,
   "id": "genetic-growing",
   "metadata": {},
   "outputs": [],
   "source": []
  },
  {
   "cell_type": "code",
   "execution_count": null,
   "id": "valued-imaging",
   "metadata": {},
   "outputs": [],
   "source": [
    "DATASET = 'royalty_30k'\n",
    "RULE = 'grandparent'\n",
    "TRACE_LENGTH = 2\n",
    "METHOD = 'gnn_explainer'\n",
    "\n",
    "data = np.load(os.path.join('..','data',DATASET+'.npz'))\n",
    "\n",
    "triples,traces,entities,relations = utils.get_data(data,RULE)\n",
    "\n",
    "pred_data = np.load(\n",
    "    os.path.join('..','data','preds', DATASET,METHOD+'_'+DATASET+'_'+RULE+'_preds.npz'),\n",
    "    allow_pickle=True\n",
    ")\n",
    "\n",
    "pred_traces = pred_data['preds']\n",
    "\n",
    "true_triples = triples[pred_data['test_idx']]\n",
    "true_traces = traces[pred_data['test_idx']][:,0:TRACE_LENGTH,:]"
   ]
  },
  {
   "cell_type": "code",
   "execution_count": null,
   "id": "quantitative-sound",
   "metadata": {},
   "outputs": [],
   "source": [
    "avg = 0.0\n",
    "for i in pred_traces:\n",
    "    avg += len(i)\n",
    "avg /= len(pred_traces)\n",
    "print(avg)"
   ]
  },
  {
   "cell_type": "code",
   "execution_count": null,
   "id": "mathematical-afternoon",
   "metadata": {},
   "outputs": [],
   "source": [
    "jaccard = []\n",
    "for i in range(pred_traces.shape[0]):\n",
    "    jaccard.append(utils.jaccard_score(true_traces[i],pred_traces[i]))\n",
    "error_idx = np.array(jaccard) < 1"
   ]
  },
  {
   "cell_type": "code",
   "execution_count": null,
   "id": "representative-appearance",
   "metadata": {},
   "outputs": [],
   "source": [
    "i = 20#16, 17\n",
    "print(true_triples[error_idx][i])\n",
    "print(true_traces[error_idx][i])\n",
    "print(pred_traces[error_idx][i])"
   ]
  },
  {
   "cell_type": "code",
   "execution_count": null,
   "id": "written-contents",
   "metadata": {},
   "outputs": [],
   "source": []
  },
  {
   "cell_type": "code",
   "execution_count": null,
   "id": "premium-interference",
   "metadata": {},
   "outputs": [],
   "source": [
    "# i = 5\n",
    "# print(true_traces[error_idx][i])\n",
    "# print(pred_traces[error_idx][i])\n",
    "#25,30,40\n",
    "i = 8\n",
    "print(true_triples[error_idx][pred_traces[error_idx,0][:,1] == 'parent'][i])\n",
    "#print(true_traces[error_idx][pred_traces[error_idx,0][:,1] == 'parent'][i])\n",
    "print(pred_traces[error_idx][pred_traces[error_idx,0][:,1] == 'parent'][i])"
   ]
  },
  {
   "cell_type": "code",
   "execution_count": null,
   "id": "gorgeous-paint",
   "metadata": {},
   "outputs": [],
   "source": [
    "counts = {}\n",
    "\n",
    "for pred in pred_traces[error_idx]:\n",
    "    \n",
    "    for triple in pred:\n",
    "        if triple[1] in counts:\n",
    "            counts[triple[1]] += 1\n",
    "        else:\n",
    "            counts[triple[1]] = 1\n",
    "            \n",
    "sorted_counts = sorted(counts.items(), key=lambda x:x[1],reverse=True)\n",
    "keys = [tup[0] for tup in sorted_counts]\n",
    "values = [tup[1] for tup in sorted_counts]"
   ]
  },
  {
   "cell_type": "code",
   "execution_count": null,
   "id": "large-yacht",
   "metadata": {},
   "outputs": [],
   "source": []
  },
  {
   "cell_type": "code",
   "execution_count": null,
   "id": "guided-texas",
   "metadata": {},
   "outputs": [],
   "source": [
    "fig, ax = plt.subplots(figsize=(3,4))\n",
    "ax.bar(keys,values)\n",
    "ax.set_title(RULE.capitalize())\n",
    "rects = ax.patches\n",
    "count_labels = [str(v) for v in values]\n",
    "ax.set_xticklabels(labels=keys,rotation = (45), fontsize = 10)\n",
    "\n",
    "for rect, label in zip(rects,count_labels):\n",
    "    height = rect.get_height()\n",
    "    ax.text(rect.get_x() + rect.get_width() / 2, \n",
    "            height,label,ha='center',va='bottom')\n",
    "plt.show()\n",
    "#plt.savefig(f\"../data/plots/{RULE}_counts.pdf\",bbox_inches='tight')"
   ]
  },
  {
   "cell_type": "code",
   "execution_count": null,
   "id": "level-hepatitis",
   "metadata": {},
   "outputs": [],
   "source": []
  },
  {
   "cell_type": "code",
   "execution_count": null,
   "id": "fitting-delight",
   "metadata": {},
   "outputs": [],
   "source": [
    "# if MODEL == 'gnn_explainer':\n",
    "    \n",
    "#     pred_traces = []\n",
    "#     for i in range(len(pred_data['preds'])):\n",
    "\n",
    "#         preds_i = []\n",
    "\n",
    "#         for rel_idx in range(NUM_RELATIONS):\n",
    "\n",
    "#             triples_i = pred_data['preds'][i][rel_idx]\n",
    "\n",
    "#             if triples_i.shape[0]:\n",
    "#                 rel_indices = (np.ones((triples_i.shape[0],1)) * rel_idx).astype(np.int64)\n",
    "#                 concat = np.concatenate([triples_i,rel_indices],axis=1)\n",
    "#                 preds_i.append(concat[:,[0,2,1]])\n",
    "#         preds_i = np.concatenate(preds_i,axis=0)\n",
    "#         pred_traces.append(utils.idx2array(preds_i,idx2ent,idx2rel))\n",
    "        \n",
    "#         if i == 10:\n",
    "#             break\n",
    "\n",
    "#     pred_traces = np.array(pred_traces,dtype=object)\n",
    "    \n",
    "# elif MODEL == 'explaine':\n",
    "#     pred_traces = utils.idx2array(pred_data['preds'],idx2ent,idx2rel)\n",
    "    \n",
    "# true_triples = triples[pred_data['test_idx']]\n",
    "# true_traces = traces[pred_data['test_idx']][:,0:TRACE_LENGTH,:]"
   ]
  },
  {
   "cell_type": "code",
   "execution_count": null,
   "id": "studied-reproduction",
   "metadata": {},
   "outputs": [],
   "source": [
    "# indicator = []\n",
    "# counts = {}\n",
    "\n",
    "# for pred in pred_traces[error_idx]:\n",
    "    \n",
    "#     for triple in pred:\n",
    "#         if triple[1] in counts:\n",
    "#             counts[triple[1]] += 1\n",
    "#         else:\n",
    "#             counts[triple[1]] = 1"
   ]
  },
  {
   "cell_type": "code",
   "execution_count": null,
   "id": "cleared-soccer",
   "metadata": {},
   "outputs": [],
   "source": []
  },
  {
   "cell_type": "code",
   "execution_count": null,
   "id": "facial-caribbean",
   "metadata": {},
   "outputs": [],
   "source": []
  },
  {
   "cell_type": "code",
   "execution_count": null,
   "id": "broken-sunglasses",
   "metadata": {},
   "outputs": [],
   "source": []
  },
  {
   "cell_type": "code",
   "execution_count": null,
   "id": "noticed-suggestion",
   "metadata": {},
   "outputs": [],
   "source": [
    "RULE = 'predecessor'\n",
    "TRACE_LENGTH = 1\n",
    "MODEL = 'explaine'\n",
    "data = np.load(os.path.join('..','data','royalty.npz'))\n",
    "\n",
    "triples,traces,nopred,entities,relations = utils.get_data(data,RULE)\n",
    "\n",
    "NUM_ENTITIES = len(entities)\n",
    "NUM_RELATIONS = len(relations)\n",
    "\n",
    "ent2idx = dict(zip(entities, range(NUM_ENTITIES)))\n",
    "rel2idx = dict(zip(relations, range(NUM_RELATIONS)))\n",
    "\n",
    "idx2ent = dict(zip(range(NUM_ENTITIES),entities))\n",
    "idx2rel = dict(zip(range(NUM_RELATIONS),relations))"
   ]
  },
  {
   "cell_type": "code",
   "execution_count": null,
   "id": "frozen-relationship",
   "metadata": {},
   "outputs": [],
   "source": [
    "explaine_data = np.load(os.path.join('..','data','preds','explaine'+'_'+RULE+'_preds.npz'),allow_pickle=True)\n",
    "gnn_data = np.load(os.path.join('..','data','preds','gnn_explainer'+'_'+RULE+'_preds.npz'),allow_pickle=True)\n",
    "\n",
    "max_triples = 30\n",
    "gnn_traces = []\n",
    "for i in range(len(gnn_data['preds'])):\n",
    "\n",
    "    preds_i = []\n",
    "\n",
    "    for rel_idx in range(NUM_RELATIONS):\n",
    "\n",
    "        triples_i = gnn_data['preds'][i][rel_idx]\n",
    "\n",
    "        if triples_i.shape[0]:\n",
    "            rel_indices = (np.ones((triples_i.shape[0],1)) * rel_idx).astype(np.int64)\n",
    "            concat = np.concatenate([triples_i,rel_indices],axis=1)\n",
    "            preds_i.append(concat[:,[0,2,1]])\n",
    "    preds_i = np.concatenate(preds_i,axis=0)\n",
    "    gnn_traces.append(utils.idx2array(preds_i,idx2ent,idx2rel))\n",
    "\n",
    "    if i == max_triples:\n",
    "        break\n",
    "\n",
    "gnn_traces = np.array(gnn_traces,dtype=object)\n",
    "\n",
    "explaine_traces = utils.idx2array(explaine_data['preds'][0:max_triples],idx2ent,idx2rel)\n",
    "\n",
    "true_triples = triples[explaine_data['test_idx']]\n",
    "true_traces = traces[explaine_data['test_idx']][:,0:TRACE_LENGTH,:]\n"
   ]
  },
  {
   "cell_type": "code",
   "execution_count": null,
   "id": "sufficient-samoa",
   "metadata": {},
   "outputs": [],
   "source": [
    "i = 4#4, 16\n",
    "\n",
    "input_triple = true_triples[i:i+1]\n",
    "print('input',input_triple)\n",
    "print()\n",
    "\n",
    "explanation = traces[gnn_data['test_idx']][:,0:TRACE_LENGTH,:][i]\n",
    "print('explanation',explanation)\n",
    "print()\n",
    "\n",
    "gnn_exp = gnn_traces[i]\n",
    "print('gnn',gnn_exp)\n",
    "print()\n",
    "\n",
    "explaine_exp = explaine_traces[i]\n",
    "print('explaine',explaine_exp)\n",
    "# plot_triples = np.concatenate([gnn_exp.reshape(-1,3),\n",
    "#                            explanation,\n",
    "#                            explaine_exp,\n",
    "#                            input_triple\n",
    "#                           ],axis=0)"
   ]
  },
  {
   "cell_type": "code",
   "execution_count": null,
   "id": "artificial-reverse",
   "metadata": {},
   "outputs": [],
   "source": [
    "# def plot_dict(plot_triples):\n",
    "    \n",
    "#     label_dict = {}\n",
    "    \n",
    "#     for trip in plot_triples:\n",
    "#         head,rel,tail = trip\n",
    "#         label_dict[(head,tail)] = 'has' + rel.title()\n",
    "        \n",
    "#     return label_dict"
   ]
  },
  {
   "cell_type": "code",
   "execution_count": null,
   "id": "korean-stopping",
   "metadata": {},
   "outputs": [],
   "source": [
    "# true_dict = plot_dict(input_triple)\n",
    "# exp_dict = plot_dict(explanation)\n",
    "# gnn_dict = plot_dict(gnn_exp)\n",
    "# explaine_dict = plot_dict(explaine_exp)"
   ]
  },
  {
   "cell_type": "code",
   "execution_count": null,
   "id": "coastal-status",
   "metadata": {},
   "outputs": [],
   "source": [
    "# plt.figure(figsize=(10,10))\n",
    "\n",
    "# G = nx.MultiDiGraph()\n",
    "# for triple in input_triple:\n",
    "#     G.add_node(triple[0],color='g')\n",
    "#     G.add_node(triple[2],color='g')\n",
    "#     G.add_edge(triple[0],triple[2],color='g')"
   ]
  },
  {
   "cell_type": "code",
   "execution_count": null,
   "id": "domestic-oasis",
   "metadata": {},
   "outputs": [],
   "source": [
    "# colors = nx.get_edge_attributes(G,'color').values()\n",
    "\n",
    "# pos = nx.circular_layout(G)\n",
    "# nx.draw(G, pos, \n",
    "#         edge_color=colors, \n",
    "#         with_labels=True,\n",
    "#         node_color='lightgreen')"
   ]
  },
  {
   "cell_type": "code",
   "execution_count": null,
   "id": "strong-penny",
   "metadata": {},
   "outputs": [],
   "source": []
  },
  {
   "cell_type": "code",
   "execution_count": null,
   "id": "unlikely-foundation",
   "metadata": {},
   "outputs": [],
   "source": [
    "#plot_triples = utils.idx2array(adj_data,idx2ent,idx2rel)\n",
    "\n",
    "\n",
    "plt.figure(figsize=(10,10))\n",
    "\n",
    "G = nx.MultiDiGraph()\n",
    "for triple in plot_triples:\n",
    "    G.add_node(triple[0])\n",
    "    G.add_node(triple[2])\n",
    "    G.add_edge(triple[0],triple[2])\n",
    "    \n",
    "ground_truth = np.concatenate([true_triples[i].reshape(-1,3),true_traces[i]],axis=0)\n",
    "\n",
    "gt_entities = np.unique(np.concatenate([ground_truth[:,0],ground_truth[:,2]]))\n",
    "\n",
    "node_sizes = [1200 if ent in gt_entities else 300 for ent in G.nodes() ]\n",
    "\n",
    "pos = nx.spring_layout(G,seed=SEED,k=5/np.sqrt(G.order()))\n",
    "\n",
    "nx.draw(G, pos, edge_color='black', width=1, linewidths=1,\n",
    "        node_size=node_sizes, node_color='skyblue', alpha=0.9,font_size=12,\n",
    "        labels={node: node for node in G.nodes()})\n",
    "nx.draw_networkx_edge_labels(G,pos,\n",
    "                             edge_labels=label_dict,\n",
    "                             font_color='black',\n",
    "                             font_size=10)\n",
    "\n",
    "ax = plt.gca()\n",
    "ax.margins(0.25)\n",
    "plt.axis(\"off\")"
   ]
  },
  {
   "cell_type": "code",
   "execution_count": null,
   "id": "improving-teach",
   "metadata": {},
   "outputs": [],
   "source": []
  },
  {
   "cell_type": "code",
   "execution_count": null,
   "id": "maritime-sunday",
   "metadata": {},
   "outputs": [],
   "source": []
  },
  {
   "cell_type": "code",
   "execution_count": null,
   "id": "governmental-birthday",
   "metadata": {},
   "outputs": [],
   "source": []
  },
  {
   "cell_type": "code",
   "execution_count": null,
   "id": "hawaiian-monkey",
   "metadata": {},
   "outputs": [],
   "source": []
  },
  {
   "cell_type": "code",
   "execution_count": null,
   "id": "egyptian-winner",
   "metadata": {},
   "outputs": [],
   "source": []
  },
  {
   "cell_type": "code",
   "execution_count": null,
   "id": "residential-commissioner",
   "metadata": {},
   "outputs": [],
   "source": []
  },
  {
   "cell_type": "code",
   "execution_count": null,
   "id": "acute-database",
   "metadata": {},
   "outputs": [],
   "source": []
  },
  {
   "cell_type": "code",
   "execution_count": null,
   "id": "roman-enhancement",
   "metadata": {},
   "outputs": [],
   "source": [
    "pred_data = np.load(os.path.join('..','data','preds',MODEL+'_'+RULE+'_preds.npz'),allow_pickle=True)\n",
    "# error_data = np.load(\n",
    "#     os.path.join('..','data','other',MODEL +'-error',MODEL+'_'+RULE+'.npz'),\n",
    "#     allow_pickle=True)['x']"
   ]
  },
  {
   "cell_type": "code",
   "execution_count": null,
   "id": "accepted-recipient",
   "metadata": {},
   "outputs": [],
   "source": []
  },
  {
   "cell_type": "code",
   "execution_count": null,
   "id": "unavailable-manufacturer",
   "metadata": {},
   "outputs": [],
   "source": []
  },
  {
   "cell_type": "code",
   "execution_count": null,
   "id": "expressed-leonard",
   "metadata": {},
   "outputs": [],
   "source": [
    "#predicate of the correct explanation triples that is most frequently missing "
   ]
  },
  {
   "cell_type": "code",
   "execution_count": null,
   "id": "wooden-permit",
   "metadata": {},
   "outputs": [],
   "source": [
    "# full_graph = np.concatenate([triples,traces.reshape(-1,3), nopred])\n",
    "\n",
    "# kg_df = pd.DataFrame({'source':full_graph[:,0], \n",
    "#                       'target':full_graph[:,2], \n",
    "#                       'edge':full_graph[:,1]})\n",
    "# G = nx.from_pandas_edgelist(kg_df, \"source\", \"target\",\n",
    "#                           edge_attr=True, create_using=nx.MultiDiGraph())\n",
    "# degrees = {node:val for (node, val) in G.degree()}\n",
    "# def neighbors(G, node, n):\n",
    "#     path_lengths = nx.single_source_dijkstra_path_length(G, node)\n",
    "#     return [node for node, length in path_lengths.items()\n",
    "#                     if length == n]"
   ]
  },
  {
   "cell_type": "code",
   "execution_count": null,
   "id": "broken-semiconductor",
   "metadata": {},
   "outputs": [],
   "source": []
  },
  {
   "cell_type": "code",
   "execution_count": null,
   "id": "marine-pleasure",
   "metadata": {},
   "outputs": [],
   "source": [
    "jaccard = []\n",
    "for i in range(pred_traces.shape[0]):\n",
    "    jaccard.append(utils.jaccard_score(pred_traces[i],true_traces[i]))\n",
    "error_idx = np.array(jaccard) < 1"
   ]
  },
  {
   "cell_type": "code",
   "execution_count": null,
   "id": "classical-modern",
   "metadata": {},
   "outputs": [],
   "source": []
  },
  {
   "cell_type": "code",
   "execution_count": null,
   "id": "ignored-painting",
   "metadata": {},
   "outputs": [],
   "source": []
  },
  {
   "cell_type": "code",
   "execution_count": null,
   "id": "pacific-vision",
   "metadata": {},
   "outputs": [],
   "source": []
  },
  {
   "cell_type": "code",
   "execution_count": null,
   "id": "italic-detection",
   "metadata": {},
   "outputs": [],
   "source": []
  },
  {
   "cell_type": "code",
   "execution_count": null,
   "id": "tough-ensemble",
   "metadata": {},
   "outputs": [],
   "source": []
  },
  {
   "cell_type": "code",
   "execution_count": null,
   "id": "assured-howard",
   "metadata": {},
   "outputs": [],
   "source": []
  },
  {
   "cell_type": "code",
   "execution_count": null,
   "id": "communist-triple",
   "metadata": {},
   "outputs": [],
   "source": []
  },
  {
   "cell_type": "code",
   "execution_count": null,
   "id": "arranged-governor",
   "metadata": {},
   "outputs": [],
   "source": [
    "indicator = []\n",
    "counts = {}\n",
    "\n",
    "for pred in pred_traces[error_idx]:\n",
    "    \n",
    "    for triple in pred:\n",
    "        if triple[1] in counts:\n",
    "            counts[triple[1]] += 1\n",
    "        else:\n",
    "            counts[triple[1]] = 1\n",
    "#     indicator_i = 0.0\n",
    "#     for predicate in list(true_traces[:,:,1][0]):\n",
    "        \n",
    "#         for p,v in counts.items():\n",
    "            \n",
    "#             if predicate == p and v >= 1:\n",
    "                \n",
    "#                 indicator_i += 1\n",
    "                \n",
    "#     if indicator_i >= len(list(true_traces[:,:,1][0])):\n",
    "#         indicator.append(1)\n",
    "                \n",
    "# print(1-sum(indicator) / len(pred_traces[error_idx]))"
   ]
  },
  {
   "cell_type": "code",
   "execution_count": null,
   "id": "dying-gallery",
   "metadata": {},
   "outputs": [],
   "source": [
    "plt.bar(list(counts.keys()), counts.values())"
   ]
  },
  {
   "cell_type": "code",
   "execution_count": null,
   "id": "governing-tablet",
   "metadata": {},
   "outputs": [],
   "source": [
    "num_errors = len(pred_traces[error_idx])\n",
    "\n",
    "for predicate in list(true_traces[:,:,1][0]):\n",
    "    \n",
    "    percent = (np.sum(\n",
    "        pred_traces[error_idx][:,:,1] != predicate,\n",
    "        axis=1) >= 1).sum() / num_errors\n",
    "    \n",
    "    print(f\"{predicate} missing from {round(percent*100)}% of errors \")"
   ]
  },
  {
   "cell_type": "code",
   "execution_count": null,
   "id": "varying-gothic",
   "metadata": {},
   "outputs": [],
   "source": [
    "# neighbors_list = neighbors(G, 'Abbas_II_of_Egypt', 1)\n",
    "\n",
    "# degree_list = [degrees[neighbor] for neighbor in neighbors_list]\n",
    "\n",
    "# np.mean(degree_list)"
   ]
  },
  {
   "cell_type": "code",
   "execution_count": null,
   "id": "national-vehicle",
   "metadata": {},
   "outputs": [],
   "source": [
    "# def avg_degree(traces,degrees):\n",
    "    \n",
    "#     head_total = 0.0\n",
    "#     tail_total = 0.0\n",
    "    \n",
    "#     num_traces = len(traces)\n",
    "    \n",
    "#     for i in range(num_traces):\n",
    "\n",
    "#         head_triple_total = 0.0\n",
    "#         tail_triple_total = 0.0\n",
    "        \n",
    "#         for trip in traces[i]:\n",
    "\n",
    "#             head_triple_total += degrees[trip[0]]\n",
    "\n",
    "#             tail_triple_total += degrees[trip[2]]\n",
    "            \n",
    "#         trace_length = traces[i].shape[0]\n",
    "\n",
    "#         head_triple_total /= trace_length\n",
    "#         tail_triple_total /= trace_length\n",
    "\n",
    "#         head_total += head_triple_total\n",
    "#         tail_total += tail_triple_total\n",
    "\n",
    "#     head_total /= num_traces\n",
    "#     tail_total /= num_traces\n",
    "    \n",
    "#     return head_total, tail_total"
   ]
  },
  {
   "cell_type": "code",
   "execution_count": null,
   "id": "brutal-herald",
   "metadata": {},
   "outputs": [],
   "source": []
  },
  {
   "cell_type": "code",
   "execution_count": null,
   "id": "informative-think",
   "metadata": {},
   "outputs": [],
   "source": [
    "# if RULE == 'spouse' and MODEL == 'explaine':\n",
    "#     error_data = error_data[1:]\n",
    "#look at explaine trace=1 preds\n",
    "\n",
    "# most_common_predicates, mcp_count = np.unique(error_data[0][0],return_counts=True)\n",
    "\n",
    "# most_common_predicate = most_common_predicates[np.argmax(mcp_count)]\n",
    "\n",
    "# error_counts = 0\n",
    "\n",
    "# for tup in error_data:\n",
    "\n",
    "#     predicates, counts = np.unique(tup[0],return_counts=True)\n",
    "\n",
    "#     predicates = list(predicates)\n",
    "\n",
    "#     if most_common_predicate in predicates:\n",
    "    \n",
    "#         current_count = counts[predicates.index(most_common_predicate)]\n",
    "#         #if current_count >= TRACE_LENGTH:\n",
    "#         error_counts += tup[1]\n",
    "\n",
    "# #print(f'{most_common_predicate} appears in {error_counts} of predicted triples')\n",
    "# #print(f'percentage {error_counts / true_traces.shape[0]}')\n",
    "# print(f'{MODEL}-{RULE}, most frequent predicate {most_common_predicate} occurs in {error_counts * 100 / true_traces.shape[0]}% of triples')"
   ]
  },
  {
   "cell_type": "code",
   "execution_count": null,
   "id": "compact-honduras",
   "metadata": {},
   "outputs": [],
   "source": [
    "# for i in pred_traces:\n",
    "#     print(np.array(triples)[:,1])\n",
    "\n",
    "# ce = .99\n",
    "# pwce = .01\n",
    "\n",
    "# ce + pwce + pwce*(1-ce) + (1-pwce)*ce"
   ]
  },
  {
   "cell_type": "code",
   "execution_count": null,
   "id": "intellectual-bahamas",
   "metadata": {},
   "outputs": [],
   "source": [
    "jaccard = []\n",
    "for i in range(pred_traces.shape[0]):\n",
    "    jaccard.append(utils.jaccard_score(pred_traces[i],true_traces[i]))\n",
    "jaccard_idx = np.array(jaccard) < 1"
   ]
  },
  {
   "cell_type": "code",
   "execution_count": null,
   "id": "changing-teaching",
   "metadata": {},
   "outputs": [],
   "source": []
  },
  {
   "cell_type": "code",
   "execution_count": null,
   "id": "extended-white",
   "metadata": {},
   "outputs": [],
   "source": [
    "if RULE == 'spouse' and MODEL == 'explaine':\n",
    "    \n",
    "    errors = pred_traces[jaccard_idx]\n",
    "    \n",
    "    #idx = np.argwhere(errors[:,0,:][:,1] == 'spouse')[-2]\n",
    "    \n",
    "    idx = np.argwhere((np.array(jaccard) < 1) & (pred_traces[:,0,:][:,1] == 'spouse'))[-25]\n",
    "\n",
    "    print(true_triples[idx])\n",
    "    print(true_traces[idx])\n",
    "    print(pred_traces[idx])"
   ]
  },
  {
   "cell_type": "code",
   "execution_count": null,
   "id": "headed-prediction",
   "metadata": {},
   "outputs": [],
   "source": [
    "d = {}\n",
    "for i in pred_traces[jaccard_idx][:,:,1]:\n",
    "    \n",
    "    tup = tuple(i)\n",
    "    \n",
    "    for predicate in tup:\n",
    "        \n",
    "        if predicate in d:\n",
    "            d[predicate] += 1\n",
    "        else:\n",
    "            d[predicate] = 1"
   ]
  },
  {
   "cell_type": "code",
   "execution_count": null,
   "id": "maritime-wagon",
   "metadata": {},
   "outputs": [],
   "source": [
    "#When looking at the explanations the frequency of (hasParent,hasGrandparent) may not be the \n",
    "#same as the frequency of the predicate hasGrandparent in the explanations has you may \n",
    "#have (hasParent,hasGrandparent) (hasSister,hasGrandparent) .... i.e. ( ? ,hasGrandparent) \n",
    "#and (hasGrandparent, ? ) I suggest that for both methods you report the most frequent erroneous \n",
    "#predicate in the explanations e.g. hasAunt appears in X% of the explanations of hasAunt"
   ]
  },
  {
   "cell_type": "code",
   "execution_count": null,
   "id": "noticed-genre",
   "metadata": {},
   "outputs": [],
   "source": [
    "sorted_counts = sorted(d.items(),key=lambda key:key[1],reverse=True)\n",
    "\n",
    "percentage = round(100*sorted_counts[0][1] / sum(d.values()))\n",
    "\n",
    "print(f\"of incorrect predictions {sorted_counts[0][0]} was used in {percentage}% of triples\")"
   ]
  },
  {
   "cell_type": "code",
   "execution_count": null,
   "id": "important-federation",
   "metadata": {},
   "outputs": [],
   "source": [
    "# avg=0\n",
    "# for i in range(len(gnn_preds)):\n",
    "#     avg += gnn_preds[i].shape[0]\n",
    "# print(avg/len(gnn_preds))\n",
    "\n",
    "#avg cardinality\n",
    "#spouse: 10.416500597847747\n",
    "#uncle 54.39667705088266\n",
    "#aunt: 56.02489905787348\n",
    "#successor: 12.638145315487572\n",
    "#predecessor: 12.2868068833652\n",
    "#grandparent: 36.384018619084564"
   ]
  },
  {
   "cell_type": "code",
   "execution_count": null,
   "id": "collective-significance",
   "metadata": {},
   "outputs": [],
   "source": [
    "# counts = []\n",
    "# for i in range(len(gnn_preds)):\n",
    "#     counts.append(gnn_preds[i].shape[0])"
   ]
  },
  {
   "cell_type": "code",
   "execution_count": null,
   "id": "contrary-filter",
   "metadata": {},
   "outputs": [],
   "source": [
    "# print(min(counts))\n",
    "# print(max(counts))\n",
    "#min/max\n",
    "#spouse: 2/119\n",
    "#uncle: 8/215\n",
    "#aunt: 8/202\n",
    "#successor: 2/238\n",
    "#predecessor: 2/149\n",
    "#grandparent: "
   ]
  },
  {
   "cell_type": "code",
   "execution_count": null,
   "id": "surface-darkness",
   "metadata": {},
   "outputs": [],
   "source": []
  },
  {
   "cell_type": "code",
   "execution_count": null,
   "id": "dental-station",
   "metadata": {},
   "outputs": [],
   "source": [
    "# spouse_total = 305 + 287 + 287\n",
    "# 305 / spouse_total"
   ]
  },
  {
   "cell_type": "code",
   "execution_count": null,
   "id": "personalized-compression",
   "metadata": {},
   "outputs": [],
   "source": [
    "# uncle_total = 422 + 225 + 224 + 208 + 205 + 204 + 195 + 170 + 169 + 161 + 150 + 137 + 103 + 81\n",
    "# 422 / uncle_total"
   ]
  },
  {
   "cell_type": "code",
   "execution_count": null,
   "id": "humanitarian-cache",
   "metadata": {},
   "outputs": [],
   "source": [
    "# aunt_total = 341 + 262 + 247 + 234 + 226 + 225 + 207 + 182 + 181 + 157 + 154 + 148 + 118 + 61\n",
    "# 341 / aunt_total"
   ]
  },
  {
   "cell_type": "code",
   "execution_count": null,
   "id": "electrical-challenge",
   "metadata": {},
   "outputs": [],
   "source": [
    "# successor_total = 830 + 197 + 139 + 137\n",
    "# 830 / successor_total"
   ]
  },
  {
   "cell_type": "code",
   "execution_count": null,
   "id": "visible-thickness",
   "metadata": {},
   "outputs": [],
   "source": [
    "# predecessor_total = 834 + 178 + 150 + 119\n",
    "# 834 / predecessor_total"
   ]
  },
  {
   "cell_type": "code",
   "execution_count": null,
   "id": "accredited-oliver",
   "metadata": {},
   "outputs": [],
   "source": [
    "# grandparent_total = 236 + 223 + 220 + 207 + 200 + 200 + 174 + 143 + 142 + 132 + 126 + 126+123 +108+105\n",
    "# 236 / grandparent_total"
   ]
  },
  {
   "cell_type": "code",
   "execution_count": null,
   "id": "portable-dispute",
   "metadata": {},
   "outputs": [],
   "source": []
  },
  {
   "cell_type": "code",
   "execution_count": null,
   "id": "sealed-outdoors",
   "metadata": {},
   "outputs": [],
   "source": [
    "# gnn_spouse = 2509 - 399\n",
    "# 244 / gnn_spouse"
   ]
  },
  {
   "cell_type": "code",
   "execution_count": null,
   "id": "ceramic-chrome",
   "metadata": {},
   "outputs": [],
   "source": [
    "#np.load('/Users/nhalliwe/Desktop/test.npz',allow_pickle=True)"
   ]
  },
  {
   "cell_type": "code",
   "execution_count": null,
   "id": "allied-digest",
   "metadata": {},
   "outputs": [],
   "source": []
  },
  {
   "cell_type": "code",
   "execution_count": null,
   "id": "bottom-tanzania",
   "metadata": {},
   "outputs": [],
   "source": [
    "# print(uniq)\n",
    "# print(counts)"
   ]
  },
  {
   "cell_type": "code",
   "execution_count": null,
   "id": "general-counter",
   "metadata": {},
   "outputs": [],
   "source": [
    "# print('gnn uncle', 34 / 2889 )\n",
    "# print('gnn aunt',58 /2972)"
   ]
  },
  {
   "cell_type": "code",
   "execution_count": null,
   "id": "atmospheric-danger",
   "metadata": {},
   "outputs": [],
   "source": [
    "#print('gnn successor', 347 / 2092)"
   ]
  },
  {
   "cell_type": "code",
   "execution_count": null,
   "id": "individual-korean",
   "metadata": {},
   "outputs": [],
   "source": [
    "# print('gnn predecessor',342/2092)\n",
    "# print('gnn grandparent',15/2578)"
   ]
  },
  {
   "cell_type": "code",
   "execution_count": null,
   "id": "intense-nudist",
   "metadata": {},
   "outputs": [],
   "source": [
    "import matplotlib.pyplot as plt\n",
    "import networkx as nx\n",
    "import numpy as np\n",
    "import os\n",
    "import utils\n",
    "import random as rn\n",
    "import tensorflow as tf"
   ]
  },
  {
   "cell_type": "code",
   "execution_count": null,
   "id": "excessive-reply",
   "metadata": {},
   "outputs": [],
   "source": [
    "SEED = 123\n",
    "os.environ['PYTHONHASHSEED'] = str(SEED)\n",
    "os.environ['TF_DETERMINISTIC_OPS'] = '1'\n",
    "np.random.seed(SEED)\n",
    "rn.seed(SEED)\n",
    "\n",
    "data = np.load(os.path.join('..','data','royalty.npz'))\n",
    "\n",
    "RULE = 'aunt'\n",
    "TRACE_LENGTH = 2\n",
    "\n",
    "NUM_ENTITIES = len(entities)\n",
    "NUM_RELATIONS = len(relations)\n",
    "\n",
    "ent2idx = dict(zip(entities, range(NUM_ENTITIES)))\n",
    "rel2idx = dict(zip(relations, range(NUM_RELATIONS)))\n",
    "\n",
    "idx2ent = dict(zip(range(NUM_ENTITIES),entities))\n",
    "idx2rel = dict(zip(range(NUM_RELATIONS),relations))\n",
    "\n",
    "triples,traces,nopred,entities,relations = utils.get_data(data,RULE)\n",
    "\n",
    "i = 7274"
   ]
  },
  {
   "cell_type": "code",
   "execution_count": null,
   "id": "cosmetic-subject",
   "metadata": {},
   "outputs": [],
   "source": [
    "adj_data = np.concatenate([triples,traces[:,0:TRACE_LENGTH,:].reshape(-1,3)],axis=0)\n",
    "\n",
    "adj_data_sparse = utils.array2idx(adj_data,ent2idx,rel2idx)\n",
    "\n",
    "adj_mats = utils.get_adj_mats(\n",
    "    data=adj_data_sparse,\n",
    "    num_entities=NUM_ENTITIES,\n",
    "    num_relations=NUM_RELATIONS\n",
    ")"
   ]
  },
  {
   "cell_type": "code",
   "execution_count": null,
   "id": "moral-enzyme",
   "metadata": {},
   "outputs": [],
   "source": [
    "head = triples[i][0]\n",
    "tail = triples[i][2]\n",
    "\n",
    "head_idx = ent2idx[head]\n",
    "tail_idx = ent2idx[tail]\n",
    "\n",
    "neighbor_indices = []\n",
    "\n",
    "for rel_idx in range(NUM_RELATIONS):\n",
    "\n",
    "    dense_mat = tf.sparse.to_dense(adj_mats[rel_idx]).numpy()[0]\n",
    "\n",
    "    head_neighbors = np.argwhere(dense_mat[head_idx,:]).flatten()\n",
    "    tail_neighbors = np.argwhere(dense_mat[:,tail_idx]).flatten()\n",
    "    \n",
    "    head_triples = [(head_idx,rel_idx,t_idx) for t_idx in head_neighbors]\n",
    "    tail_triples = [(h_idx,rel_idx,tail_idx) for h_idx in tail_neighbors]\n",
    "    \n",
    "    if head_triples:\n",
    "        neighbor_indices.append(head_triples)\n",
    "    if tail_triples:\n",
    "        neighbor_indices.append(tail_triples)"
   ]
  },
  {
   "cell_type": "code",
   "execution_count": null,
   "id": "forty-kelly",
   "metadata": {},
   "outputs": [],
   "source": [
    "#neighbors = [idx2ent[idx] for idx in neighbor_indices]"
   ]
  },
  {
   "cell_type": "code",
   "execution_count": null,
   "id": "characteristic-heater",
   "metadata": {},
   "outputs": [],
   "source": [
    "plot_triples = utils.idx2array(np.concatenate(neighbor_indices,axis=0),idx2ent,idx2rel)[5:]"
   ]
  },
  {
   "cell_type": "code",
   "execution_count": null,
   "id": "internal-genius",
   "metadata": {},
   "outputs": [],
   "source": [
    "# clean_plot_triples = []\n",
    "\n",
    "# for trip in plot_triples:\n",
    "#     head,rel,tail = trip\n",
    "#     if head == 'Maria_Theresa_of_Austria-Este_(1849–1919)>':\n",
    "#         head = head[0:-18]\n",
    "#     clean_plot_triples.append([head,rel,tail])"
   ]
  },
  {
   "cell_type": "code",
   "execution_count": null,
   "id": "intimate-correction",
   "metadata": {},
   "outputs": [],
   "source": [
    "# plot_triples = np.concatenate([triples[i].reshape(1,3),traces[i].reshape(-1,3)], axis=0)\n",
    "# plot_triples = plot_triples[0:-1,:]\n",
    "\n",
    "# label_dict = {('Princess_Clémentine_of_Belgium','Archduchess_Hermine_of_Austria'):'hasAunt',\n",
    "# ('Marie_Henriette_of_Austria','Archduchess_Hermine_of_Austria'):'hasSister',\n",
    "# ('Princess_Clémentine_of_Belgium','Marie_Henriette_of_Austria'):'hasParent'}\n",
    "label_dict = {}\n",
    "\n",
    "for trip in plot_triples:\n",
    "    \n",
    "    head,rel,tail = trip\n",
    "    \n",
    "    label_dict [(head,tail)] = 'has' + rel.title()"
   ]
  },
  {
   "cell_type": "code",
   "execution_count": null,
   "id": "mounted-regard",
   "metadata": {},
   "outputs": [],
   "source": []
  },
  {
   "cell_type": "code",
   "execution_count": null,
   "id": "ongoing-rental",
   "metadata": {},
   "outputs": [],
   "source": []
  },
  {
   "cell_type": "code",
   "execution_count": null,
   "id": "distinguished-mobility",
   "metadata": {},
   "outputs": [],
   "source": []
  },
  {
   "cell_type": "code",
   "execution_count": null,
   "id": "decreased-aggregate",
   "metadata": {},
   "outputs": [],
   "source": [
    "plt.figure(figsize=(10,10))\n",
    "\n",
    "G = nx.MultiDiGraph()\n",
    "for triple in plot_triples:\n",
    "    G.add_node(triple[0])\n",
    "    G.add_node(triple[2])\n",
    "    G.add_edge(triple[0], triple[2])\n",
    "    \n",
    "ground_truth = np.concatenate([triples[i].reshape(-1,3),traces[i]],axis=0)[0:-1]\n",
    "\n",
    "gt_entities = np.unique(np.concatenate([ground_truth[:,0],ground_truth[:,2]]))\n",
    "\n",
    "node_sizes = [1200 if ent in gt_entities else 300 for ent in G.nodes() ]\n",
    "\n",
    "pos = nx.spring_layout(G,seed=SEED,k=10)\n",
    "\n",
    "nx.draw(G, pos, edge_color='black', width=1, linewidths=1,\n",
    "        node_size=node_sizes, node_color='skyblue', alpha=0.9,font_size=12,\n",
    "        labels={node: node for node in G.nodes()})\n",
    "\n",
    "nx.draw_networkx_edge_labels(G,pos,edge_labels=label_dict,font_color='black',font_size=10)\n",
    "\n",
    "ax = plt.gca()\n",
    "ax.margins(0.25)\n",
    "plt.axis(\"off\")"
   ]
  },
  {
   "cell_type": "code",
   "execution_count": null,
   "id": "hydraulic-algebra",
   "metadata": {},
   "outputs": [],
   "source": []
  },
  {
   "cell_type": "code",
   "execution_count": null,
   "id": "loose-reference",
   "metadata": {},
   "outputs": [],
   "source": []
  },
  {
   "cell_type": "code",
   "execution_count": null,
   "id": "wound-terrorist",
   "metadata": {},
   "outputs": [],
   "source": []
  },
  {
   "cell_type": "code",
   "execution_count": null,
   "id": "empirical-province",
   "metadata": {},
   "outputs": [],
   "source": [
    "%matplotlib inline\n",
    "import matplotlib.pyplot as plt\n",
    "import numpy as np\n",
    "import utils\n",
    "import os\n",
    "import tensorflow as tf\n",
    "import pandas as pd\n",
    "import networkx as nx\n",
    "import random as rn\n",
    "SEED = 123\n",
    "os.environ['PYTHONHASHSEED'] = str(SEED)\n",
    "os.environ['TF_DETERMINISTIC_OPS'] = '1'\n",
    "np.random.seed(SEED)\n",
    "rn.seed(SEED)"
   ]
  },
  {
   "cell_type": "code",
   "execution_count": null,
   "id": "explicit-excuse",
   "metadata": {},
   "outputs": [],
   "source": [
    "#{parents and grandparents and spouse}; {spouse successor predecessor}\n",
    "print(triples[22])\n",
    "print(traces[22])"
   ]
  },
  {
   "cell_type": "code",
   "execution_count": null,
   "id": "bigger-october",
   "metadata": {},
   "outputs": [],
   "source": [
    "print(triples[21])\n",
    "print(traces[21])"
   ]
  },
  {
   "cell_type": "code",
   "execution_count": null,
   "id": "robust-elevation",
   "metadata": {},
   "outputs": [],
   "source": []
  },
  {
   "cell_type": "code",
   "execution_count": null,
   "id": "institutional-determination",
   "metadata": {},
   "outputs": [],
   "source": [
    "DATASET = 'royalty_30k'\n",
    "RULE = 'full_data'\n",
    "TRACE_LENGTH = 2\n",
    "METHOD = 'explaine'\n",
    "\n",
    "data = np.load(os.path.join('..','data',DATASET+'.npz'))\n",
    "\n",
    "triples,traces,entities,relations = utils.get_data(data,RULE)\n",
    "\n",
    "pred_data = np.load(\n",
    "    os.path.join('..','data','preds', DATASET,METHOD+'_'+DATASET+'_'+RULE+'_preds.npz'),\n",
    "    allow_pickle=True\n",
    ")\n",
    "\n",
    "pred_traces = pred_data['preds']\n",
    "\n",
    "true_triples = triples[pred_data['test_idx']]\n",
    "true_traces = traces[pred_data['test_idx']][:,0:TRACE_LENGTH,:]\n",
    "\n",
    "jaccard = []\n",
    "for i in range(pred_traces.shape[0]):\n",
    "    jaccard.append(utils.jaccard_score(pred_traces[i],true_traces[i]))\n",
    "error_idx = np.array(jaccard) < 1"
   ]
  },
  {
   "cell_type": "code",
   "execution_count": null,
   "id": "cooked-failing",
   "metadata": {},
   "outputs": [],
   "source": [
    "pred_traces[error_idx][20:25]"
   ]
  },
  {
   "cell_type": "code",
   "execution_count": null,
   "id": "partial-fraud",
   "metadata": {},
   "outputs": [],
   "source": []
  },
  {
   "cell_type": "code",
   "execution_count": null,
   "id": "competent-gilbert",
   "metadata": {},
   "outputs": [],
   "source": [
    "# t = np.concatenate([true_triples,true_traces.reshape(-1,3)])\n",
    "# counts = {}\n",
    "# for i in np.concatenate([t[:,0],t[:,2]]):\n",
    "#     if i in counts:\n",
    "#         counts[i] += 1\n",
    "#     else:\n",
    "#         counts[i] = 1\n",
    "# sorted(counts.items(),key=lambda x:x[1],reverse=True)"
   ]
  },
  {
   "cell_type": "code",
   "execution_count": null,
   "id": "banned-family",
   "metadata": {},
   "outputs": [],
   "source": [
    "true_triples[true_triples[:,0] == 'Louis_XIV_of_France']"
   ]
  },
  {
   "cell_type": "code",
   "execution_count": null,
   "id": "capable-honey",
   "metadata": {},
   "outputs": [],
   "source": [
    "true_triples[true_triples[:,2] == 'Louis_XIV_of_France']"
   ]
  },
  {
   "cell_type": "code",
   "execution_count": null,
   "id": "short-gallery",
   "metadata": {},
   "outputs": [],
   "source": [
    "true_traces[true_traces[:,0,0] == 'Louis_XIV_of_France']"
   ]
  },
  {
   "cell_type": "code",
   "execution_count": null,
   "id": "apart-september",
   "metadata": {},
   "outputs": [],
   "source": [
    "true_traces[true_traces[:,0,2] == 'Louis_XIV_of_France']"
   ]
  },
  {
   "cell_type": "code",
   "execution_count": null,
   "id": "golden-attribute",
   "metadata": {},
   "outputs": [],
   "source": [
    "true_traces[true_traces[:,0,0] == 'Princess_Marie_Anne_of_France']"
   ]
  },
  {
   "cell_type": "code",
   "execution_count": null,
   "id": "practical-lying",
   "metadata": {},
   "outputs": [],
   "source": [
    "true_triples[true_triples[:,0] == 'Princess_Marie_Anne_of_France']"
   ]
  },
  {
   "cell_type": "code",
   "execution_count": null,
   "id": "effective-sympathy",
   "metadata": {},
   "outputs": [],
   "source": [
    "DATASET = 'royalty_15k'\n",
    "METHOD = 'gnn_explainer'\n",
    "data = np.load(os.path.join('..','data',DATASET+'.npz'))"
   ]
  },
  {
   "cell_type": "code",
   "execution_count": null,
   "id": "imported-preserve",
   "metadata": {},
   "outputs": [],
   "source": [
    "spouse_triples,spouse_traces,spouse_entities,_ = utils.get_data(data,'spouse')\n",
    "gp_triples,gp_traces,gp_entities, _ = utils.get_data(data,'grandparent')\n",
    "#p_triples,p_traces,p_entities, _ = utils.get_data(data,'predecessor')\n",
    "_,_,full_entities,_ = utils.get_data(data,'full_data')"
   ]
  },
  {
   "cell_type": "code",
   "execution_count": null,
   "id": "complimentary-disabled",
   "metadata": {},
   "outputs": [],
   "source": [
    "print(len(np.unique(spouse_entities)))\n",
    "print(len(np.unique(gp_entities)))\n",
    "print(len(np.unique(gp_entities + spouse_entities)))\n",
    "#print(len(np.unique(p_entities)))\n",
    "#print(len(np.unique(gp_entities + spouse_entities + p_entities)))"
   ]
  },
  {
   "cell_type": "code",
   "execution_count": null,
   "id": "patient-platinum",
   "metadata": {},
   "outputs": [],
   "source": [
    "(7736*2) + 7736 + 7526"
   ]
  },
  {
   "cell_type": "code",
   "execution_count": null,
   "id": "stretch-reply",
   "metadata": {},
   "outputs": [],
   "source": [
    "(7736*2)"
   ]
  },
  {
   "cell_type": "code",
   "execution_count": null,
   "id": "sudden-laptop",
   "metadata": {},
   "outputs": [],
   "source": [
    "parent_entities = np.array([[gp_traces[:,i,:][:,0],\n",
    "        gp_traces[:,i,:][:,2]] for i in range(2)]).flatten()"
   ]
  },
  {
   "cell_type": "code",
   "execution_count": null,
   "id": "built-breath",
   "metadata": {},
   "outputs": [],
   "source": []
  },
  {
   "cell_type": "code",
   "execution_count": null,
   "id": "continent-tulsa",
   "metadata": {},
   "outputs": [],
   "source": [
    "# if DATASET == 'royalty_15k':\n",
    "#     d = {'spouse':1,'grandparent':2}\n",
    "# elif DATASET == 'royalty_20k':\n",
    "#     d = {'spouse':1,'successor':1,\n",
    "#         'predecessor':1}"
   ]
  },
  {
   "cell_type": "code",
   "execution_count": null,
   "id": "alpha-mexico",
   "metadata": {},
   "outputs": [],
   "source": [
    "# for rule,trace_length in d.items():\n",
    "    \n",
    "#     pred_data = np.load(\n",
    "#         os.path.join('..','data','preds', DATASET,METHOD+'_'+DATASET+'_'+rule+'_preds.npz'),\n",
    "#         allow_pickle=True\n",
    "#     )\n",
    "    \n",
    "#     triples,traces,entities,relations = utils.get_data(data,rule)\n",
    "    \n",
    "#     pred_traces = pred_data['preds']\n",
    "    \n",
    "#     true_triples = triples[pred_data['test_idx']]\n",
    "#     true_traces = traces[pred_data['test_idx']][:,0:TRACE_LENGTH,:]\n",
    "    \n",
    "#     jaccard = []\n",
    "#     for i in range(pred_traces.shape[0]):\n",
    "#         jaccard.append(utils.jaccard_score(pred_traces[i],true_traces[i]))\n",
    "#     error_idx = np.array(jaccard) < 1\n",
    "    \n",
    "#     counts = {}\n",
    "\n",
    "#     for pred in pred_traces[error_idx]:\n",
    "#         for triple in pred:\n",
    "#             if triple[1] in counts:\n",
    "#                 counts[triple[1]] += 1\n",
    "#             else:\n",
    "#                 counts[triple[1]] = 1\n",
    "                \n",
    "#     sorted_counts = sorted(counts.items(), key=lambda x:x[1],reverse=True)\n",
    "#     keys = [tup[0] for tup in sorted_counts]\n",
    "#     values = [tup[1] for tup in sorted_counts]\n",
    "    \n",
    "#     fig, ax = plt.subplots(figsize=(3,3))\n",
    "#     ax.bar(keys,values)\n",
    "#     ax.set_xticklabels(labels=keys,rotation = (45), fontsize = 10)\n",
    "    \n",
    "#     #plt.savefig(f\"../data/plots/{DATASET}_{METHOD}_{rule}_counts.pdf\",bbox_inches='tight')"
   ]
  },
  {
   "cell_type": "code",
   "execution_count": null,
   "id": "aware-timing",
   "metadata": {},
   "outputs": [],
   "source": []
  },
  {
   "cell_type": "code",
   "execution_count": null,
   "id": "limited-pencil",
   "metadata": {},
   "outputs": [],
   "source": []
  },
  {
   "cell_type": "code",
   "execution_count": null,
   "id": "labeled-representation",
   "metadata": {},
   "outputs": [],
   "source": []
  },
  {
   "cell_type": "code",
   "execution_count": null,
   "id": "active-rough",
   "metadata": {},
   "outputs": [],
   "source": []
  },
  {
   "cell_type": "code",
   "execution_count": null,
   "id": "celtic-liability",
   "metadata": {},
   "outputs": [],
   "source": []
  },
  {
   "cell_type": "code",
   "execution_count": null,
   "id": "double-storage",
   "metadata": {},
   "outputs": [],
   "source": []
  },
  {
   "cell_type": "code",
   "execution_count": null,
   "id": "serious-archive",
   "metadata": {},
   "outputs": [],
   "source": []
  },
  {
   "cell_type": "code",
   "execution_count": null,
   "id": "responsible-hacker",
   "metadata": {},
   "outputs": [],
   "source": []
  },
  {
   "cell_type": "code",
   "execution_count": null,
   "id": "regulated-welding",
   "metadata": {},
   "outputs": [],
   "source": []
  },
  {
   "cell_type": "code",
   "execution_count": null,
   "id": "technological-artist",
   "metadata": {},
   "outputs": [],
   "source": []
  },
  {
   "cell_type": "code",
   "execution_count": null,
   "id": "continuing-associate",
   "metadata": {},
   "outputs": [],
   "source": []
  },
  {
   "cell_type": "code",
   "execution_count": null,
   "id": "amino-shore",
   "metadata": {},
   "outputs": [],
   "source": []
  },
  {
   "cell_type": "code",
   "execution_count": null,
   "id": "innovative-george",
   "metadata": {},
   "outputs": [],
   "source": []
  },
  {
   "cell_type": "code",
   "execution_count": null,
   "id": "minimal-fantasy",
   "metadata": {},
   "outputs": [],
   "source": []
  },
  {
   "cell_type": "code",
   "execution_count": null,
   "id": "linear-office",
   "metadata": {},
   "outputs": [],
   "source": []
  },
  {
   "cell_type": "code",
   "execution_count": null,
   "id": "cross-gauge",
   "metadata": {},
   "outputs": [],
   "source": []
  }
 ],
 "metadata": {
  "kernelspec": {
   "display_name": "Python 3",
   "language": "python",
   "name": "python3"
  },
  "language_info": {
   "codemirror_mode": {
    "name": "ipython",
    "version": 3
   },
   "file_extension": ".py",
   "mimetype": "text/x-python",
   "name": "python",
   "nbconvert_exporter": "python",
   "pygments_lexer": "ipython3",
   "version": "3.7.9"
  }
 },
 "nbformat": 4,
 "nbformat_minor": 5
}
