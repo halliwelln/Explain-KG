{
 "cells": [
  {
   "cell_type": "code",
   "execution_count": 1,
   "metadata": {},
   "outputs": [],
   "source": [
    "import tensorflow as tf\n",
    "import utils\n",
    "import numpy as np\n",
    "import random as rn\n",
    "import os"
   ]
  },
  {
   "cell_type": "code",
   "execution_count": 2,
   "metadata": {},
   "outputs": [],
   "source": [
    "SEED = 123\n",
    "os.environ['PYTHONHASHSEED'] = str(SEED)\n",
    "os.environ['TF_DETERMINISTIC_OPS'] = '1'\n",
    "tf.random.set_seed(SEED)\n",
    "np.random.seed(SEED)\n",
    "rn.seed(SEED)\n",
    "\n",
    "data = np.load(os.path.join('..','data','royalty.npz'))\n",
    "\n",
    "# triples = data['triples']\n",
    "# traces = data['traces']\n",
    "entities = data['entities'].tolist()\n",
    "num_entities = len(entities)\n",
    "relations = data['relations'].tolist()\n",
    "num_relations = len(relations)\n",
    "embedding_dim = 3\n",
    "ent2idx = dict(zip(entities, range(num_entities)))\n",
    "rel2idx = dict(zip(relations, range(num_relations)))"
   ]
  },
  {
   "cell_type": "code",
   "execution_count": 3,
   "metadata": {},
   "outputs": [],
   "source": [
    "triples, traces = data['grandmother_triples'], data['grandmother_traces']"
   ]
  },
  {
   "cell_type": "code",
   "execution_count": 4,
   "metadata": {},
   "outputs": [],
   "source": [
    "train2idx = utils.array2idx(triples, ent2idx,rel2idx)"
   ]
  },
  {
   "cell_type": "code",
   "execution_count": 5,
   "metadata": {},
   "outputs": [],
   "source": [
    "# def get_neighbors(train_triples,entities):\n",
    "    \n",
    "#     adj_list = [[] for _ in entities]\n",
    "#     for i,triplet in enumerate(train_triples):\n",
    "#         adj_list[triplet[0]].append([i, triplet[2]])\n",
    "#         #adj_list[triplet[2]].append([i, triplet[0]])\n",
    "\n",
    "#     degrees = np.array([len(a) for a in adj_list])\n",
    "#     adj_list = [np.array(a) for a in adj_list]\n",
    "\n",
    "#     return adj_list, degrees\n",
    "\n",
    "# adj_list, degrees = get_neighbors(train2idx,entities)"
   ]
  },
  {
   "cell_type": "code",
   "execution_count": 295,
   "metadata": {},
   "outputs": [],
   "source": [
    "def neighbors(train2idx, entities):\n",
    "    adj_list = [[] for _ in entities]\n",
    "    for h,r,t in train2idx:\n",
    "        adj_list[h].append([r, t])\n",
    "        adj_list[t].append([r, h])\n",
    "\n",
    "    degrees = np.array([len(a) for a in adj_list])\n",
    "    adj_list = [np.array(a) for a in adj_list]\n",
    "                 \n",
    "    return adj_list, degrees\n",
    "\n",
    "adj_list, degrees = neighbors(train2idx,entities)"
   ]
  },
  {
   "cell_type": "code",
   "execution_count": null,
   "metadata": {},
   "outputs": [],
   "source": []
  },
  {
   "cell_type": "code",
   "execution_count": null,
   "metadata": {},
   "outputs": [],
   "source": []
  },
  {
   "cell_type": "code",
   "execution_count": null,
   "metadata": {},
   "outputs": [],
   "source": []
  },
  {
   "cell_type": "code",
   "execution_count": 439,
   "metadata": {},
   "outputs": [],
   "source": [
    "from tensorflow.keras.layers import Embedding\n",
    "from tensorflow.keras.initializers import RandomUniform\n",
    "from tensorflow.python.ops import embedding_ops\n",
    "\n",
    "entity_embeddings = Embedding(\n",
    "    input_dim=num_entities,\n",
    "    output_dim=embedding_dim,\n",
    "    name='entity_embeddings',\n",
    "    embeddings_initializer=RandomUniform(\n",
    "        minval=-1,\n",
    "        maxval=1,\n",
    "        seed=SEED\n",
    "        )\n",
    "    )"
   ]
  },
  {
   "cell_type": "code",
   "execution_count": 446,
   "metadata": {},
   "outputs": [],
   "source": [
    "head_input = tf.keras.Input(shape=(), name='head_input',dtype=tf.int64)\n",
    "rel_input = tf.keras.Input(shape=(), name='rel_input',dtype=tf.int64)\n",
    "tail_input = tf.keras.Input(shape=(), name='tail_input',dtype=tf.int64)\n",
    "all_entities = tf.keras.Input(shape=(num_entities), name='all_entities',dtype=tf.int64)"
   ]
  },
  {
   "cell_type": "code",
   "execution_count": 444,
   "metadata": {},
   "outputs": [],
   "source": [
    "adj_inputs = [tf.keras.Input(shape=(num_entities,num_entities),dtype=tf.float32) for _ in relations]"
   ]
  },
  {
   "cell_type": "code",
   "execution_count": null,
   "metadata": {},
   "outputs": [],
   "source": []
  },
  {
   "cell_type": "code",
   "execution_count": 427,
   "metadata": {},
   "outputs": [],
   "source": [
    "head_e = entity_embeddings(head_input)\n",
    "tail_e = entity_embeddings(tail_input)\n",
    "all_e = entity_embeddings(all_entities)"
   ]
  },
  {
   "cell_type": "code",
   "execution_count": 428,
   "metadata": {},
   "outputs": [],
   "source": [
    "#tf.matmul(tf.ones((1,5)), tf.ones((5,10)))\n",
    "#tf.keras.backend.dot(tf.ones((10,1)),tf.ones((1,5)))\n",
    "#tf.squeeze(tf.tensordot(tf.ones((5,5)),tf.ones((5,1)),axes=1),axis=1)\n",
    "#tf.tensordot(tf.ones((5,5)),tf.ones((5,5)),axes=1)"
   ]
  },
  {
   "cell_type": "code",
   "execution_count": 461,
   "metadata": {},
   "outputs": [],
   "source": [
    "# class RGCN_Layer(tf.keras.layers.Layer):\n",
    "#     def __init__(self,num_relations,output_dim,**kwargs):\n",
    "#         super(RGCN_Layer,self).__init__(**kwargs)\n",
    "#         self.num_relations = num_relations\n",
    "#         self.output_dim = output_dim\n",
    "    \n",
    "#     def build(self,input_shape):\n",
    "\n",
    "#         in_shape = input_shape[-1][-1]\n",
    "\n",
    "#         self.W_r = self.add_weight(\n",
    "#             shape=(self.num_relations,self.output_dim,in_shape),\n",
    "#             trainable=True,\n",
    "#             initializer=\"random_normal\",\n",
    "#             name='W_r'\n",
    "#         )\n",
    "        \n",
    "#         self.W0 = self.add_weight(\n",
    "#             shape=(self.output_dim,in_shape),\n",
    "#             trainable=True,\n",
    "#             initializer='random_normal',\n",
    "#             name='W0'\n",
    "#         )\n",
    "        \n",
    "#     def call(self,inputs):\n",
    "        \n",
    "#         head_input,tail_input = inputs\n",
    "        \n",
    "#         #filter_W_r = embedding_ops.embedding_lookup_v2(self.W_r,rel_input)\n",
    "        \n",
    "#         tail_update = tf.matmul(self.W_r,tail_input,transpose_b=True)\n",
    "        \n",
    "#         head_update = tf.matmul(self.W0,head_input,transpose_b=True)\n",
    "        \n",
    "#         update = tf.reduce_sum(tail_update + head_update, axis=0)\n",
    "\n",
    "#         return tf.transpose(update)\n",
    "\n",
    "class RGCN_Layer(tf.keras.layers.Layer):\n",
    "    def __init__(self,num_relations,output_dim,**kwargs):\n",
    "        super(RGCN_Layer,self).__init__(**kwargs)\n",
    "        self.num_relations = num_relations\n",
    "        self.output_dim = output_dim\n",
    "        \n",
    "    def build(self,input_shape):\n",
    "        \n",
    "        input_dim = int(input_shape[0][-1])\n",
    "        \n",
    "        self.relation_kernels = [\n",
    "                self.add_weight(\n",
    "                    shape=(input_dim, self.output_dim),\n",
    "                    name=\"relation_kernels\",\n",
    "                    trainable=True,\n",
    "                    initializer=tf.keras.initializers.RandomNormal(mean=0.0,stddev=1,seed=SEED)\n",
    "                )\n",
    "                for _ in range(self.num_relations)\n",
    "            ]\n",
    "\n",
    "        self.self_kernel = self.add_weight(\n",
    "            shape=(input_dim, self.output_dim),\n",
    "            name=\"self_kernel\",\n",
    "            trainable=True,\n",
    "            initializer=tf.keras.initializers.RandomNormal(mean=0.0,stddev=1,seed=SEED)\n",
    "        )\n",
    "        \n",
    "    def call(self, inputs):\n",
    "        \n",
    "        features, *A_mats = inputs\n",
    "\n",
    "        output = tf.matmul(features,self.self_kernel)\n",
    "        \n",
    "        for i in range(self.num_relations):\n",
    "            \n",
    "            h = tf.tensordot(A_mats[i], features,axes=1)\n",
    "            output += tf.tensordot(h,self.relation_kernels[i],axes=1)\n",
    "            \n",
    "        return tf.squeeze(output,axis=0)\n",
    "\n",
    "# class RGCN_Layer(tf.keras.layers.Layer):\n",
    "#     def __init__(self,num_relations,input_dim,output_dim,**kwargs):\n",
    "#         super(RGCN_Layer,self).__init__(**kwargs)\n",
    "#         self.num_relations = num_relations\n",
    "#         self.input_dim = input_dim\n",
    "#         self.output_dim = output_dim\n",
    "        \n",
    "#     def build(self,input_shape):\n",
    "                \n",
    "#         self.relation_kernels = self.add_weight(\n",
    "#             shape=(self.num_relations,self.input_dim, self.output_dim),\n",
    "#             name=\"relation_kernels\",\n",
    "#             trainable=True,\n",
    "#             initializer=tf.keras.initializers.RandomNormal(mean=0.0,stddev=1,seed=SEED)\n",
    "#         )\n",
    "\n",
    "#         self.self_kernel = self.add_weight(\n",
    "#             shape=(self.input_dim, self.output_dim),\n",
    "#             name=\"self_kernel\",\n",
    "#             trainable=True,\n",
    "#             initializer=tf.keras.initializers.RandomNormal(mean=0.0,stddev=1,seed=SEED)\n",
    "#         )\n",
    "        \n",
    "#     def call(self,inputs):\n",
    "        \n",
    "#         adj_list, head_idx,rel_idx,tail_idx = inputs\n",
    "        \n",
    "#         #head_e = embedding_ops.embedding_lookup_v2(adj_list,head_idx)\n",
    "#         head_e = adj_list[head_idx]\n",
    "#         rel_e = \n",
    "                \n",
    "#         return adj_list[head_idx]\n",
    "\n",
    "\n",
    "#RGCN_Layer(num_relations=2,input_dim=3,output_dim=5)([adj_list,[6,7],[1,1],[2,2]])\n",
    "#RGCN_Layer(num_relations=2,input_dim=3,output_dim=5)([adj_list,6,1,2])\n",
    "\n",
    "#update dist mult -> input layer for entity,rel ints\n",
    "#update custom training loop"
   ]
  },
  {
   "cell_type": "code",
   "execution_count": 462,
   "metadata": {},
   "outputs": [
    {
     "name": "stdout",
     "output_type": "stream",
     "text": [
      "WARNING:tensorflow:AutoGraph could not transform <bound method RGCN_Layer.call of <__main__.RGCN_Layer object at 0x19a6ee3610>> and will run it as-is.\n",
      "Please report this to the TensorFlow team. When filing the bug, set the verbosity to 10 (on Linux, `export AUTOGRAPH_VERBOSITY=10`) and attach the full output.\n",
      "Cause: module 'gast' has no attribute 'Constant'\n",
      "To silence this warning, decorate the function with @tf.autograph.experimental.do_not_convert\n",
      "WARNING: AutoGraph could not transform <bound method RGCN_Layer.call of <__main__.RGCN_Layer object at 0x19a6ee3610>> and will run it as-is.\n",
      "Please report this to the TensorFlow team. When filing the bug, set the verbosity to 10 (on Linux, `export AUTOGRAPH_VERBOSITY=10`) and attach the full output.\n",
      "Cause: module 'gast' has no attribute 'Constant'\n",
      "To silence this warning, decorate the function with @tf.autograph.experimental.do_not_convert\n"
     ]
    },
    {
     "data": {
      "text/plain": [
       "<tf.Tensor 'rgcn__layer_110/Squeeze:0' shape=(5983, 5) dtype=float32>"
      ]
     },
     "execution_count": 462,
     "metadata": {},
     "output_type": "execute_result"
    }
   ],
   "source": [
    "#RGCN_Layer(num_relations=num_relations,output_dim=5)([all_e] + adj_inputs)\n",
    "\n",
    "\n",
    "#RGCN_Layer(num_relations=num_relations,output_dim=5)([entity_embeddings(np.arange(num_entities))]+[np.eye(num_entities) for _ in relations])\n",
    "\n",
    "RGCN_Layer(num_relations=num_relations,output_dim=5)([all_e]+adj_inputs)"
   ]
  },
  {
   "cell_type": "code",
   "execution_count": 464,
   "metadata": {},
   "outputs": [],
   "source": [
    "class DistMult(tf.keras.layers.Layer):\n",
    "    def __init__(self, num_relations,**kwargs):\n",
    "        super(DistMult,self).__init__(**kwargs)\n",
    "        self.num_relations = num_relations\n",
    "        \n",
    "    def build(self,input_shape):\n",
    "        \n",
    "        embedding_dim = input_shape[0][-1]\n",
    "        \n",
    "        self.kernel = self.add_weight(\n",
    "            shape=(self.num_relations,embedding_dim),\n",
    "            trainable=True,\n",
    "            initializer=tf.keras.initializers.RandomNormal(mean=0.0,stddev=1,seed=SEED),\n",
    "            name='rel_embedding'\n",
    "        )\n",
    "        \n",
    "    def call(self,inputs):\n",
    "        \n",
    "        embeddings,head_idx,rel_idx,tail_idx = inputs\n",
    "        \n",
    "        head_e = embedding_ops.embedding_lookup_v2(embeddings,head_idx)\n",
    "        rel_e = embedding_ops.embedding_lookup_v2(self.kernel,rel_idx)\n",
    "        tail_e = embedding_ops.embedding_lookup_v2(embeddings,tail_idx)\n",
    "\n",
    "        return tf.sigmoid(tf.reduce_sum(head_e*rel_e*tail_e, axis=-1))"
   ]
  },
  {
   "cell_type": "code",
   "execution_count": 465,
   "metadata": {},
   "outputs": [
    {
     "name": "stdout",
     "output_type": "stream",
     "text": [
      "WARNING:tensorflow:AutoGraph could not transform <bound method DistMult.call of <__main__.DistMult object at 0x19a72e09d0>> and will run it as-is.\n",
      "Please report this to the TensorFlow team. When filing the bug, set the verbosity to 10 (on Linux, `export AUTOGRAPH_VERBOSITY=10`) and attach the full output.\n",
      "Cause: 'arguments' object has no attribute 'posonlyargs'\n",
      "To silence this warning, decorate the function with @tf.autograph.experimental.do_not_convert\n",
      "WARNING: AutoGraph could not transform <bound method DistMult.call of <__main__.DistMult object at 0x19a72e09d0>> and will run it as-is.\n",
      "Please report this to the TensorFlow team. When filing the bug, set the verbosity to 10 (on Linux, `export AUTOGRAPH_VERBOSITY=10`) and attach the full output.\n",
      "Cause: 'arguments' object has no attribute 'posonlyargs'\n",
      "To silence this warning, decorate the function with @tf.autograph.experimental.do_not_convert\n"
     ]
    },
    {
     "data": {
      "text/plain": [
       "<tf.Tensor 'dist_mult_45/Sigmoid:0' shape=(None,) dtype=float32>"
      ]
     },
     "execution_count": 465,
     "metadata": {},
     "output_type": "execute_result"
    }
   ],
   "source": [
    "# new_head = RGCN_Layer(num_relations=num_relations,output_dim=5)([head_e,tail_e])\n",
    "# new_head = tf.keras.layers.Activation('sigmoid')(new_head)\n",
    "\n",
    "# new_tail = RGCN_Layer(num_relations=num_relations,output_dim=5)([tail_e,head_e])\n",
    "# new_tail = tf.keras.layers.Activation('sigmoid')(new_tail)\n",
    "\n",
    "# output = DistMult(num_relations=num_relations)([new_head,rel_input,new_tail])\n",
    "#DistMult(num_relations=num_relations)([np.ones((6,5)),[2,2],[2,2],[1,1]])\n",
    "\n",
    "DistMult(num_relations=num_relations)([RGCN_Layer(num_relations=num_relations,output_dim=5)([all_e] + adj_inputs),head_input,rel_input,tail_input])\n"
   ]
  },
  {
   "cell_type": "code",
   "execution_count": 129,
   "metadata": {},
   "outputs": [],
   "source": [
    "#model = tf.keras.Model([head_input,rel_input,tail_input],[output])"
   ]
  },
  {
   "cell_type": "code",
   "execution_count": 13,
   "metadata": {},
   "outputs": [],
   "source": [
    "#model.compile(loss='binary_crossentropy', optimizer='sgd')"
   ]
  },
  {
   "cell_type": "code",
   "execution_count": 14,
   "metadata": {},
   "outputs": [],
   "source": [
    "#model.fit(x=[train2idx[:,0],train2idx[:,1],train2idx[:,2]],y=np.ones(train2idx.shape[0]),epochs=1)"
   ]
  },
  {
   "cell_type": "code",
   "execution_count": 15,
   "metadata": {},
   "outputs": [],
   "source": [
    "class RGCN_Model(tf.keras.Model):\n",
    "    def __init__(self,num_entities,*args,**kwargs):\n",
    "        super(RGCN_Model,self).__init__(*args, **kwargs)\n",
    "        self.num_entities = num_entities\n",
    "        \n",
    "    def train_step(self,data):\n",
    "\n",
    "        pos_head,rel,pos_tail = data[0]\n",
    "        y = data[1]\n",
    "        \n",
    "        neg_head, neg_tail = utils.get_negative_triples(\n",
    "            head=pos_head, \n",
    "            rel=rel, \n",
    "            tail=pos_tail,\n",
    "            num_entities=self.num_entities\n",
    "            )\n",
    "        \n",
    "        head = tf.concat([pos_head,neg_head],axis=0)\n",
    "        rel = tf.concat([rel,rel],axis=0)\n",
    "        tail = tf.concat([pos_tail,neg_tail],axis=0)\n",
    "        \n",
    "        y_neg = tf.zeros_like(y)\n",
    "        \n",
    "        y = tf.concat([y,y_neg],axis=0)\n",
    "        \n",
    "        with tf.GradientTape() as tape:\n",
    "            \n",
    "            y_pred = self([head,rel,tail],training=True)\n",
    "            \n",
    "            loss = self.compiled_loss(y, y_pred, regularization_losses=self.losses)\n",
    "            \n",
    "        trainable_vars = self.trainable_variables\n",
    "        gradients = tape.gradient(loss, trainable_vars)\n",
    "\n",
    "        self.optimizer.apply_gradients(zip(gradients, trainable_vars))\n",
    "\n",
    "        self.compiled_metrics.update_state(y, y_pred)\n",
    "\n",
    "        return {m.name: m.result() for m in self.metrics}"
   ]
  },
  {
   "cell_type": "code",
   "execution_count": 16,
   "metadata": {},
   "outputs": [],
   "source": [
    "model = RGCN_Model(\n",
    "    inputs=[\n",
    "        head_input,\n",
    "        rel_input,\n",
    "        tail_input\n",
    "    ],\n",
    "    outputs=[\n",
    "        output\n",
    "    ],\n",
    "    num_entities=num_entities\n",
    ")"
   ]
  },
  {
   "cell_type": "code",
   "execution_count": 17,
   "metadata": {},
   "outputs": [],
   "source": [
    "model.compile(loss='binary_crossentropy', optimizer='sgd')"
   ]
  },
  {
   "cell_type": "code",
   "execution_count": 18,
   "metadata": {},
   "outputs": [
    {
     "name": "stdout",
     "output_type": "stream",
     "text": [
      "WARNING:tensorflow:AutoGraph could not transform <function Model.make_train_function.<locals>.train_function at 0x1941dfbc20> and will run it as-is.\n",
      "Please report this to the TensorFlow team. When filing the bug, set the verbosity to 10 (on Linux, `export AUTOGRAPH_VERBOSITY=10`) and attach the full output.\n",
      "Cause: 'arguments' object has no attribute 'posonlyargs'\n",
      "To silence this warning, decorate the function with @tf.autograph.experimental.do_not_convert\n",
      "WARNING: AutoGraph could not transform <function Model.make_train_function.<locals>.train_function at 0x1941dfbc20> and will run it as-is.\n",
      "Please report this to the TensorFlow team. When filing the bug, set the verbosity to 10 (on Linux, `export AUTOGRAPH_VERBOSITY=10`) and attach the full output.\n",
      "Cause: 'arguments' object has no attribute 'posonlyargs'\n",
      "To silence this warning, decorate the function with @tf.autograph.experimental.do_not_convert\n"
     ]
    },
    {
     "data": {
      "text/plain": [
       "<tensorflow.python.keras.callbacks.History at 0x1941e2da10>"
      ]
     },
     "execution_count": 18,
     "metadata": {},
     "output_type": "execute_result"
    }
   ],
   "source": [
    "model.fit(x=[train2idx[:,0],train2idx[:,1],train2idx[:,2]],y=np.ones(train2idx.shape[0]),epochs=2000,verbose=0)"
   ]
  },
  {
   "cell_type": "code",
   "execution_count": 19,
   "metadata": {},
   "outputs": [],
   "source": [
    "# import dgl\n",
    "# import torch as th\n",
    "# from dgl.nn import RelGraphConv\n",
    "# g = dgl.graph(([0,1,2,3,2,5,0], [1,2,3,4,0,3,1]))\n",
    "# conv = RelGraphConv(10, 5, 3, regularizer='basis')\n",
    "# feat = th.ones(6, 10)\n",
    "# etype = th.tensor(np.array([0,1,2,0,1,2,1]).astype(np.int64))\n",
    "# conv(g, feat, etype)"
   ]
  },
  {
   "cell_type": "code",
   "execution_count": 20,
   "metadata": {},
   "outputs": [
    {
     "name": "stdout",
     "output_type": "stream",
     "text": [
      "WARNING:tensorflow:AutoGraph could not transform <function Model.make_predict_function.<locals>.predict_function at 0x19411bde60> and will run it as-is.\n",
      "Please report this to the TensorFlow team. When filing the bug, set the verbosity to 10 (on Linux, `export AUTOGRAPH_VERBOSITY=10`) and attach the full output.\n",
      "Cause: 'arguments' object has no attribute 'posonlyargs'\n",
      "To silence this warning, decorate the function with @tf.autograph.experimental.do_not_convert\n",
      "WARNING: AutoGraph could not transform <function Model.make_predict_function.<locals>.predict_function at 0x19411bde60> and will run it as-is.\n",
      "Please report this to the TensorFlow team. When filing the bug, set the verbosity to 10 (on Linux, `export AUTOGRAPH_VERBOSITY=10`) and attach the full output.\n",
      "Cause: 'arguments' object has no attribute 'posonlyargs'\n",
      "To silence this warning, decorate the function with @tf.autograph.experimental.do_not_convert\n"
     ]
    },
    {
     "data": {
      "text/plain": [
       "0.7962226640159046"
      ]
     },
     "execution_count": 20,
     "metadata": {},
     "output_type": "execute_result"
    }
   ],
   "source": [
    "(model.predict([train2idx[:,0],train2idx[:,1],train2idx[:,2]]) > .5).sum()/train2idx.shape[0]"
   ]
  },
  {
   "cell_type": "code",
   "execution_count": null,
   "metadata": {},
   "outputs": [],
   "source": []
  },
  {
   "cell_type": "code",
   "execution_count": null,
   "metadata": {},
   "outputs": [],
   "source": [
    "#tf.sparse.sparse_dense_matmul(sparse_tensor, zeros)"
   ]
  },
  {
   "cell_type": "code",
   "execution_count": null,
   "metadata": {},
   "outputs": [],
   "source": [
    "#zeros = tf.zeros(shape=[num_entities,num_relations,num_entities],dtype=tf.float64)\n",
    "# adj = np.zeros(shape=[num_entities,num_relations,num_entities])\n",
    "\n",
    "# for h,r,t in train2idx:\n",
    "    \n",
    "#     adj[h,r,t] = 1\n",
    "    \n",
    "# adj = tf.convert_to_tensor(adj)"
   ]
  },
  {
   "cell_type": "code",
   "execution_count": null,
   "metadata": {},
   "outputs": [],
   "source": []
  },
  {
   "cell_type": "code",
   "execution_count": null,
   "metadata": {},
   "outputs": [],
   "source": [
    "\n",
    "#get neighbors of head+tail\n",
    "#update rgcn -> for each triple, feed in neighbors (update weight matrix?, normalize by degrees)\n",
    "#GNNEXPLAINER: "
   ]
  },
  {
   "cell_type": "code",
   "execution_count": null,
   "metadata": {},
   "outputs": [],
   "source": [
    "#train_data = tf.data.Dataset.from_tensor_slices((X_train, y_train)).batch(BATCH_SIZE)"
   ]
  },
  {
   "cell_type": "code",
   "execution_count": null,
   "metadata": {},
   "outputs": [],
   "source": [
    "mask = tf.Variable(\n",
    "    initial_value=tf.random.uniform(\n",
    "        minval=0,\n",
    "        maxval=1,\n",
    "        shape=[\n",
    "            num_entities,\n",
    "            num_relations,\n",
    "            num_entities\n",
    "        ]\n",
    "    ),\n",
    "    trainable=True,\n",
    "    shape=[\n",
    "        num_entities,\n",
    "        num_relations,\n",
    "        num_entities\n",
    "    ],\n",
    "    name='mask'\n",
    ")\n"
   ]
  },
  {
   "cell_type": "code",
   "execution_count": null,
   "metadata": {},
   "outputs": [],
   "source": [
    "i = 100\n",
    "\n",
    "# model.predict(\n",
    "#     x=[\n",
    "#         train2idx[i,0].reshape(-1,1),\n",
    "#         train2idx[i,1].reshape(-1,1),\n",
    "#         train2idx[i,2].reshape(-1,1)\n",
    "#     ],\n",
    "#     batch_size=1\n",
    "# )\n",
    "model.predict(\n",
    "    x=[\n",
    "        train2idx[:,0],\n",
    "        train2idx[:,1],\n",
    "        train2idx[:,2]\n",
    "    ]\n",
    ")"
   ]
  },
  {
   "cell_type": "code",
   "execution_count": null,
   "metadata": {},
   "outputs": [],
   "source": [
    "#for triple i:\n",
    "    #get k hop subgraph?\n",
    "    #compute pred \n",
    "    #define masks\n",
    "    #optimize loss, return masks"
   ]
  },
  {
   "cell_type": "code",
   "execution_count": null,
   "metadata": {},
   "outputs": [],
   "source": [
    "# def get_adjlist(train2idx,entities):\n",
    "\n",
    "#     adj_list = [[] for _ in entities]\n",
    "\n",
    "#     for i,triplet in enumerate(train2idx):\n",
    "#         adj_list[triplet[0]].append([i, triplet[2]])\n",
    "#         adj_list[triplet[2]].append([i, triplet[0]])\n",
    "\n",
    "#     degrees = np.array([len(a) for a in adj_list])\n",
    "#     adj_list = [np.array(a) for a in adj_list]\n",
    "    \n",
    "#     return adj_list,degrees"
   ]
  },
  {
   "cell_type": "code",
   "execution_count": null,
   "metadata": {},
   "outputs": [],
   "source": [
    "#get_adjlist(train2idx,entities)"
   ]
  },
  {
   "cell_type": "code",
   "execution_count": null,
   "metadata": {},
   "outputs": [],
   "source": []
  }
 ],
 "metadata": {
  "kernelspec": {
   "display_name": "Python 3",
   "language": "python",
   "name": "python3"
  },
  "language_info": {
   "codemirror_mode": {
    "name": "ipython",
    "version": 3
   },
   "file_extension": ".py",
   "mimetype": "text/x-python",
   "name": "python",
   "nbconvert_exporter": "python",
   "pygments_lexer": "ipython3",
   "version": "3.7.4"
  }
 },
 "nbformat": 4,
 "nbformat_minor": 4
}
