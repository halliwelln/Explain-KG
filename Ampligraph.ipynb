{
 "cells": [
  {
   "cell_type": "code",
   "execution_count": 1,
   "metadata": {},
   "outputs": [
    {
     "name": "stderr",
     "output_type": "stream",
     "text": [
      "/opt/anaconda3/envs/ampligraph/lib/python3.6/site-packages/tensorflow/python/framework/dtypes.py:526: FutureWarning: Passing (type, 1) or '1type' as a synonym of type is deprecated; in a future version of numpy, it will be understood as (type, (1,)) / '(1,)type'.\n",
      "  _np_qint8 = np.dtype([(\"qint8\", np.int8, 1)])\n",
      "/opt/anaconda3/envs/ampligraph/lib/python3.6/site-packages/tensorflow/python/framework/dtypes.py:527: FutureWarning: Passing (type, 1) or '1type' as a synonym of type is deprecated; in a future version of numpy, it will be understood as (type, (1,)) / '(1,)type'.\n",
      "  _np_quint8 = np.dtype([(\"quint8\", np.uint8, 1)])\n",
      "/opt/anaconda3/envs/ampligraph/lib/python3.6/site-packages/tensorflow/python/framework/dtypes.py:528: FutureWarning: Passing (type, 1) or '1type' as a synonym of type is deprecated; in a future version of numpy, it will be understood as (type, (1,)) / '(1,)type'.\n",
      "  _np_qint16 = np.dtype([(\"qint16\", np.int16, 1)])\n",
      "/opt/anaconda3/envs/ampligraph/lib/python3.6/site-packages/tensorflow/python/framework/dtypes.py:529: FutureWarning: Passing (type, 1) or '1type' as a synonym of type is deprecated; in a future version of numpy, it will be understood as (type, (1,)) / '(1,)type'.\n",
      "  _np_quint16 = np.dtype([(\"quint16\", np.uint16, 1)])\n",
      "/opt/anaconda3/envs/ampligraph/lib/python3.6/site-packages/tensorflow/python/framework/dtypes.py:530: FutureWarning: Passing (type, 1) or '1type' as a synonym of type is deprecated; in a future version of numpy, it will be understood as (type, (1,)) / '(1,)type'.\n",
      "  _np_qint32 = np.dtype([(\"qint32\", np.int32, 1)])\n",
      "/opt/anaconda3/envs/ampligraph/lib/python3.6/site-packages/tensorflow/python/framework/dtypes.py:535: FutureWarning: Passing (type, 1) or '1type' as a synonym of type is deprecated; in a future version of numpy, it will be understood as (type, (1,)) / '(1,)type'.\n",
      "  np_resource = np.dtype([(\"resource\", np.ubyte, 1)])\n"
     ]
    }
   ],
   "source": [
    "%matplotlib inline\n",
    "import matplotlib.pyplot as plt\n",
    "import numpy as np\n",
    "from ampligraph.latent_features import TransE\n",
    "from ampligraph.evaluation import evaluate_performance, mrr_score, hits_at_n_score\n",
    "import random as rn\n",
    "import tensorflow as tf\n",
    "from sklearn.decomposition import PCA\n",
    "\n",
    "np.random.seed(123)\n",
    "rn.seed(123)\n",
    "tf.set_random_seed(123)"
   ]
  },
  {
   "cell_type": "code",
   "execution_count": 2,
   "metadata": {},
   "outputs": [],
   "source": [
    "X = np.array([['George','worksFor','Acme Inc'],\n",
    "              ['George','isA','Person'],\n",
    "              ['Mike','worksFor','Acme Inc'],\n",
    "              ['Mike','friendWith','George'],\n",
    "              ['Mike','isA','Person'],\n",
    "              ['Mike','bornIn','Liverpool'],\n",
    "              ['Mike','likes','Liverpool FC'],\n",
    "              ['Liverpool FC','basedIn','Liverpool'],\n",
    "              ['Liverpool FC','isA','FootballTeam'],\n",
    "              ['Liverpool','isA','City'],\n",
    "              ])"
   ]
  },
  {
   "cell_type": "code",
   "execution_count": 3,
   "metadata": {},
   "outputs": [],
   "source": [
    "all_relations = list(set(X[:,1]))\n",
    "all_entities = list(set(np.concatenate((X[:,0], X[:,2]), axis=0)))"
   ]
  },
  {
   "cell_type": "code",
   "execution_count": 4,
   "metadata": {},
   "outputs": [
    {
     "name": "stdout",
     "output_type": "stream",
     "text": [
      "WARNING - All triples will be processed in the same batch (batches_count=1). When processing large graphs it is recommended to batch the input knowledge graph instead.\n"
     ]
    }
   ],
   "source": [
    "model = TransE(batches_count=1, seed=555, epochs=100, k=10, loss='pairwise',\n",
    "               loss_params={'margin':2})"
   ]
  },
  {
   "cell_type": "code",
   "execution_count": 5,
   "metadata": {},
   "outputs": [
    {
     "name": "stdout",
     "output_type": "stream",
     "text": [
      "WARNING - From /opt/anaconda3/envs/ampligraph/lib/python3.6/site-packages/tensorflow/python/framework/op_def_library.py:263: colocate_with (from tensorflow.python.framework.ops) is deprecated and will be removed in a future version.\n",
      "Instructions for updating:\n",
      "Colocations handled automatically by placer.\n",
      "WARNING - From /opt/anaconda3/envs/ampligraph/lib/python3.6/site-packages/tensorflow/python/data/ops/dataset_ops.py:429: py_func (from tensorflow.python.ops.script_ops) is deprecated and will be removed in a future version.\n",
      "Instructions for updating:\n",
      "tf.py_func is deprecated in TF V2. Instead, use\n",
      "    tf.py_function, which takes a python function which manipulates tf eager\n",
      "    tensors instead of numpy arrays. It's easy to convert a tf eager tensor to\n",
      "    an ndarray (just call tensor.numpy()) but having access to eager tensors\n",
      "    means `tf.py_function`s can use accelerators such as GPUs as well as\n",
      "    being differentiable using a gradient tape.\n",
      "    \n",
      "WARNING - From /opt/anaconda3/envs/ampligraph/lib/python3.6/site-packages/tensorflow/python/ops/math_ops.py:3066: to_int32 (from tensorflow.python.ops.math_ops) is deprecated and will be removed in a future version.\n",
      "Instructions for updating:\n",
      "Use tf.cast instead.\n"
     ]
    }
   ],
   "source": [
    "model.fit(X)"
   ]
  },
  {
   "cell_type": "code",
   "execution_count": 6,
   "metadata": {},
   "outputs": [
    {
     "name": "stdout",
     "output_type": "stream",
     "text": [
      "worksFor [-4.1607265]\n",
      "likes [-5.1982455]\n",
      "friendWith [-3.8409472]\n",
      "isA [-4.285496]\n",
      "basedIn [-3.8214452]\n",
      "bornIn [-5.798772]\n"
     ]
    }
   ],
   "source": [
    "#embeddings=model.get_embeddings(['a','b','c','d','e','f'], embedding_type='entity')\n",
    "#model.predict(np.array(['Acme Inc', 'basedIn', 'Liverpool']))\n",
    "#model.get_embeddings(['y'], embedding_type='relation')\n",
    "\n",
    "for rel in all_relations:\n",
    "    \n",
    "    print(rel, model.predict(np.array(['Acme Inc', rel, 'Liverpool'])))"
   ]
  },
  {
   "cell_type": "code",
   "execution_count": 7,
   "metadata": {},
   "outputs": [],
   "source": [
    "entity_embeddings=model.get_embeddings(['Acme Inc', 'Liverpool'], embedding_type='entity')\n",
    "relation_embeddings=model.get_embeddings(['basedIn'], embedding_type='relation')"
   ]
  },
  {
   "cell_type": "code",
   "execution_count": 8,
   "metadata": {},
   "outputs": [],
   "source": [
    "all_entity_embeddings = []\n",
    "entity_labels = []\n",
    "\n",
    "for i in all_entities:\n",
    "    \n",
    "    all_entity_embeddings.append(model.get_embeddings([i],embedding_type='entity'))\n",
    "    entity_labels.append(i)\n",
    "    \n",
    "all_entity_embeddings = np.array(all_entity_embeddings).squeeze()"
   ]
  },
  {
   "cell_type": "code",
   "execution_count": 9,
   "metadata": {},
   "outputs": [],
   "source": [
    "all_relation_embeddings = []\n",
    "relation_labels = []\n",
    "\n",
    "for i in all_relations:\n",
    "    \n",
    "    all_relation_embeddings.append(model.get_embeddings([i],embedding_type='relation'))\n",
    "    relation_labels.append(i)\n",
    "    \n",
    "all_relation_embeddings = np.array(all_relation_embeddings).squeeze()"
   ]
  },
  {
   "cell_type": "code",
   "execution_count": 10,
   "metadata": {},
   "outputs": [],
   "source": [
    "np.savez('./data/ampli_data.npz', \n",
    "         relations=relation_labels,\n",
    "         relation_embeddings=all_relation_embeddings,\n",
    "         entities=entity_labels,\n",
    "         entity_embeddings=all_entity_embeddings,\n",
    "         X=X\n",
    "        )"
   ]
  },
  {
   "cell_type": "code",
   "execution_count": 11,
   "metadata": {},
   "outputs": [],
   "source": [
    "embeddings_2d = PCA(n_components=2, random_state=333).fit_transform(all_entity_embeddings)"
   ]
  },
  {
   "cell_type": "code",
   "execution_count": 12,
   "metadata": {},
   "outputs": [
    {
     "data": {
      "image/png": "[encoded data removed]",
      "text/plain": [
       "<Figure size 432x288 with 1 Axes>"
      ]
     },
     "metadata": {
      "needs_background": "light"
     },
     "output_type": "display_data"
    }
   ],
   "source": [
    "fig, ax = plt.subplots()\n",
    "ax.scatter(embeddings_2d[:,0], embeddings_2d[:,1])\n",
    "for i, txt in enumerate(all_entities):\n",
    "    ax.annotate(txt, (embeddings_2d[i, 0], embeddings_2d[i, 1]))"
   ]
  },
  {
   "cell_type": "code",
   "execution_count": 13,
   "metadata": {},
   "outputs": [],
   "source": [
    "#Acme Inc basedIn Liverpool because:\n",
    "#true_explanation = X[[2, 5, 3, 7,8,9]]\n",
    "#true_explanation"
   ]
  },
  {
   "cell_type": "code",
   "execution_count": null,
   "metadata": {},
   "outputs": [],
   "source": []
  },
  {
   "cell_type": "code",
   "execution_count": null,
   "metadata": {},
   "outputs": [],
   "source": []
  }
 ],
 "metadata": {
  "kernelspec": {
   "display_name": "Python 3",
   "language": "python",
   "name": "python3"
  },
  "language_info": {
   "codemirror_mode": {
    "name": "ipython",
    "version": 3
   },
   "file_extension": ".py",
   "mimetype": "text/x-python",
   "name": "python",
   "nbconvert_exporter": "python",
   "pygments_lexer": "ipython3",
   "version": "3.6.10"
  }
 },
 "nbformat": 4,
 "nbformat_minor": 4
}
