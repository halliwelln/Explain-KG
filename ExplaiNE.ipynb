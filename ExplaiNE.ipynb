{
 "cells": [
  {
   "cell_type": "code",
   "execution_count": 1,
   "metadata": {},
   "outputs": [],
   "source": [
    "%matplotlib inline\n",
    "import matplotlib.pyplot as plt\n",
    "import numpy as np\n",
    "import tensorflow as tf\n",
    "import pandas as pd\n",
    "import random as rn\n",
    "import os\n",
    "import cne\n",
    "import maxent"
   ]
  },
  {
   "cell_type": "code",
   "execution_count": 2,
   "metadata": {},
   "outputs": [],
   "source": [
    "SEED = 123\n",
    "os.environ['PYTHONHASHSEED'] = str(SEED)\n",
    "os.environ['TF_DETERMINISTIC_OPS'] = '1'\n",
    "np.random.seed(SEED)\n",
    "rn.seed(SEED)\n",
    "tf.random.set_seed(SEED)"
   ]
  },
  {
   "cell_type": "code",
   "execution_count": 3,
   "metadata": {},
   "outputs": [],
   "source": [
    "triples = [('Eve', 'type', 'Lecturer'),\n",
    "           #('Eve', 'type', 'Person'), \n",
    "           ('Lecturer', 'subClassOf', 'Person'), \n",
    "           #('David', 'type', 'Person'),\n",
    "           ('David', 'type', 'Researcher'),\n",
    "           ('Researcher', 'subClassOf', 'Person'),\n",
    "           ('Flora', 'hasSpouse', 'Gaston'),\n",
    "           ('Gaston', 'type', 'Person'),\n",
    "           #('Flora', 'type', 'Person')\n",
    "          ]\n",
    "\n",
    "train = np.array(triples)\n",
    "\n",
    "entities = sorted(list(set(np.concatenate((train[:,0], train[:,2]), axis=0))))\n",
    "relations = sorted(list(set(train[:,1])))\n",
    "\n",
    "num_entities = len(entities)\n",
    "num_relations = len(relations)\n",
    "\n",
    "ent2idx = dict(zip(entities, range(num_entities)))\n",
    "rel2idx = dict(zip(relations, range(num_relations)))\n",
    "\n",
    "idx2ent = {idx:ent for ent,idx in ent2idx.items()}\n",
    "idx2rel = {idx:rel for rel,idx in rel2idx.items()}"
   ]
  },
  {
   "cell_type": "code",
   "execution_count": null,
   "metadata": {},
   "outputs": [],
   "source": []
  },
  {
   "cell_type": "code",
   "execution_count": null,
   "metadata": {},
   "outputs": [],
   "source": [
    "#A = np.zeros(shape=(num_entities,num_entities,num_relations))\n",
    "A = np.zeros(shape=(num_entities,num_entities))\n",
    "\n",
    "for h,r,t in train:\n",
    "    \n",
    "    h_idx = entities.index(h)\n",
    "    r_idx = relations.index(r)\n",
    "    t_idx = entities.index(t)\n",
    "    \n",
    "    #A[h_idx,t_idx,r_idx] = 1\n",
    "    A[h_idx, t_idx] = 1\n",
    "\n",
    "def score(h,r,t):\n",
    "    return tf.reduce_sum(tf.square(h + r - t))"
   ]
  },
  {
   "cell_type": "code",
   "execution_count": null,
   "metadata": {},
   "outputs": [],
   "source": []
  },
  {
   "cell_type": "code",
   "execution_count": null,
   "metadata": {},
   "outputs": [],
   "source": [
    "train2idx = []\n",
    "\n",
    "for head, rel, tail in train:\n",
    "    \n",
    "    head_idx = ent2idx[head]\n",
    "    tail_idx = ent2idx[tail]\n",
    "    rel_idx = rel2idx[rel]\n",
    "\n",
    "    train2idx.append([head_idx, rel_idx, tail_idx])\n",
    "    \n",
    "train2idx = np.array(train2idx)"
   ]
  },
  {
   "cell_type": "code",
   "execution_count": null,
   "metadata": {},
   "outputs": [],
   "source": [
    "from scipy import sparse\n",
    "A_sparse = sparse.csr_matrix(A)  "
   ]
  },
  {
   "cell_type": "code",
   "execution_count": null,
   "metadata": {},
   "outputs": [],
   "source": [
    "prior = maxent.BGDistr(A_sparse) \n",
    "prior.fit() "
   ]
  },
  {
   "cell_type": "code",
   "execution_count": null,
   "metadata": {},
   "outputs": [],
   "source": [
    "CNE = cne.ConditionalNetworkEmbedding(\n",
    "    A=A_sparse,\n",
    "    d=10,\n",
    "    s1=1,\n",
    "    s2=1.5,\n",
    "    prior_dist=prior\n",
    "    )\n",
    "CNE.fit(lr=.001, max_iter=100)"
   ]
  },
  {
   "cell_type": "code",
   "execution_count": null,
   "metadata": {},
   "outputs": [],
   "source": [
    "X = CNE._ConditionalNetworkEmbedding__emb"
   ]
  },
  {
   "cell_type": "code",
   "execution_count": null,
   "metadata": {},
   "outputs": [],
   "source": [
    "from scipy.stats import halfnorm\n",
    "\n",
    "def get_pij(i,j,s1,s2,prior, X):\n",
    "    \n",
    "    p_prior = prior.get_row_probability([i], [j])\n",
    "    \n",
    "    normal_s1 = halfnorm.rvs(loc=0,scale=s1,size=1)\n",
    "    normal_s2 = halfnorm.rvs(loc=0,scale=s2,size=1)\n",
    "    \n",
    "    numerator = p_prior * normal_s1\n",
    "    denom = numerator + (1-p_prior)*normal_s2\n",
    "    \n",
    "    return numerator/denom"
   ]
  },
  {
   "cell_type": "code",
   "execution_count": null,
   "metadata": {},
   "outputs": [],
   "source": [
    "# x_i = np.array([1,2,3,4,5,6,7,8,9])\n",
    "# x_j = np.array([0,1,0,0,0,0,0,0,0])\n",
    "# np.outer(x_i, x_j)\n",
    "#def get_hessian(i,j,k,P,A):\n",
    "# P = np.array([[1,2,3],[4,5,6],[7,8,9]])\n",
    "# A = np.array([[0,1,1],[1,0,0],[1,0,0]])\n",
    "# print(P)\n",
    "# print(A)\n",
    "# print(P-A)"
   ]
  },
  {
   "cell_type": "code",
   "execution_count": null,
   "metadata": {},
   "outputs": [],
   "source": [
    "#np.diag((P-A)[~np.eye(A.shape[0], dtype=bool)])\n",
    "i=0\n",
    "#identity=[]\n",
    "s1 = 1\n",
    "s2 = 1.5\n",
    "gamma = (1/(s1**2)) - (1/(s2**2))\n",
    "\n",
    "def get_hessian(i,s1,s2,gamma,X,A):\n",
    "    \n",
    "    hessian = np.zeros(shape=(10,10))\n",
    "\n",
    "    for j in range(A.shape[0]):\n",
    "\n",
    "        if i != j:\n",
    "\n",
    "            x_i = X[i,:]\n",
    "            x_j = X[j,:]\n",
    "\n",
    "            x_diff = (x_i - x_j).reshape(-1,1)  \n",
    "            \n",
    "            prob = get_pij(i,j,1,1.5,prior, X)\n",
    "\n",
    "            h = (gamma**2) * np.dot(x_diff,x_diff.T) * (prob * (1-prob))\n",
    "\n",
    "            a = A[i,j]\n",
    "\n",
    "            p_diff = gamma * (prob - a)[0]\n",
    "\n",
    "            p_diff_mat = p_diff * np.identity(h.shape[0])\n",
    "\n",
    "            hessian += p_diff_mat - h\n",
    "            \n",
    "    return hessian"
   ]
  },
  {
   "cell_type": "code",
   "execution_count": null,
   "metadata": {},
   "outputs": [],
   "source": [
    "i=0\n",
    "j=1\n",
    "k=2\n",
    "\n",
    "hessian = get_hessian(i,s1,s2,gamma,X,A)\n",
    "pij = get_pij(i=i,j=j,s1=s1,s2=s2,prior=prior, X=X)\n",
    "\n",
    "invert = (-hessian) / (gamma**2 * (pij) * (1-pij))\n",
    "\n",
    "hess_inv = np.linalg.inv(-hessian)\n",
    "\n",
    "x_i = X[i,:]\n",
    "x_j = X[j,:]\n",
    "x_k = X[k,:]\n",
    "\n",
    "xij_diff = (x_i - x_j).reshape(1,-1)\n",
    "\n",
    "xik_diff = (x_i - x_k)\n",
    "\n",
    "np.dot(np.dot(xij_diff, hess_inv), xik_diff)"
   ]
  },
  {
   "cell_type": "code",
   "execution_count": null,
   "metadata": {},
   "outputs": [],
   "source": [
    "#np.dot(np.dot(np.ones(shape=(3,1)), np.ones(shape=(1,3))), np.dot(P, 1-P))\n",
    "# a = np.dot(P, 1-P)\n",
    "# np.fill_diagonal(a, 0)\n",
    "# a"
   ]
  },
  {
   "cell_type": "code",
   "execution_count": null,
   "metadata": {},
   "outputs": [],
   "source": []
  },
  {
   "cell_type": "code",
   "execution_count": null,
   "metadata": {},
   "outputs": [],
   "source": [
    "# with tf.GradientTape(persistent=True) as g:\n",
    "    \n",
    "#     A = tf.convert_to_tensor(A)\n",
    "\n",
    "#     head = tf.argmax(A[:,tail_idx, rel_idx])\n",
    "#     tail = tf.argmax(A[head_idx,:, rel_idx])\n",
    "#     rel = tf.argmax(A[head_idx,tail_idx,:])\n",
    "    \n",
    "#     other_head = tf.argmax(A[:,tail_idx, rel_idx])\n",
    "#     other_tail = tf.argmax(A[head_idx,:, rel_idx])\n",
    "#     other_rel = tf.argmax(A[head_idx,tail_idx,:])\n",
    "    \n",
    "#     head_e,_,tail_e,_,rel_e= model([head,head,tail,tail,rel])\n",
    "\n",
    "#     get_score = score(head_e,rel_e,tail_e)\n",
    "    \n",
    "# g.gradient(get_score,tail_e)"
   ]
  },
  {
   "cell_type": "code",
   "execution_count": null,
   "metadata": {},
   "outputs": [],
   "source": []
  },
  {
   "cell_type": "code",
   "execution_count": null,
   "metadata": {},
   "outputs": [],
   "source": []
  },
  {
   "cell_type": "code",
   "execution_count": null,
   "metadata": {},
   "outputs": [],
   "source": []
  },
  {
   "cell_type": "code",
   "execution_count": null,
   "metadata": {},
   "outputs": [],
   "source": []
  },
  {
   "cell_type": "code",
   "execution_count": null,
   "metadata": {},
   "outputs": [],
   "source": []
  }
 ],
 "metadata": {
  "kernelspec": {
   "display_name": "Python 3",
   "language": "python",
   "name": "python3"
  },
  "language_info": {
   "codemirror_mode": {
    "name": "ipython",
    "version": 3
   },
   "file_extension": ".py",
   "mimetype": "text/x-python",
   "name": "python",
   "nbconvert_exporter": "python",
   "pygments_lexer": "ipython3",
   "version": "3.7.4"
  }
 },
 "nbformat": 4,
 "nbformat_minor": 4
}
