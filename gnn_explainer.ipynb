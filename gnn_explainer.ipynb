{
 "cells": [
  {
   "cell_type": "code",
   "execution_count": 1,
   "metadata": {},
   "outputs": [],
   "source": [
    "import os.path as osp\n",
    "import os\n",
    "import torch\n",
    "import torch.nn.functional as F\n",
    "%matplotlib inline\n",
    "import matplotlib.pyplot as plt\n",
    "from torch_geometric.datasets import Planetoid\n",
    "import torch_geometric.transforms as T\n",
    "from torch_geometric.nn import GCNConv, GNNExplainer\n",
    "from torch.nn import Sequential, Linear\n",
    "import tensorflow as tf\n",
    "import numpy as np\n",
    "from torch_geometric.data import Data\n",
    "import random as rn"
   ]
  },
  {
   "cell_type": "code",
   "execution_count": 2,
   "metadata": {},
   "outputs": [
    {
     "data": {
      "text/plain": [
       "<torch._C.Generator at 0x1177c88b0>"
      ]
     },
     "execution_count": 2,
     "metadata": {},
     "output_type": "execute_result"
    }
   ],
   "source": [
    "SEED = 123\n",
    "os.environ['PYTHONHASHSEED'] = str(SEED)\n",
    "os.environ['TF_DETERMINISTIC_OPS'] = '1'\n",
    "np.random.seed(SEED)\n",
    "rn.seed(SEED)\n",
    "tf.random.set_seed(SEED)\n",
    "torch.manual_seed(SEED)"
   ]
  },
  {
   "cell_type": "code",
   "execution_count": 3,
   "metadata": {},
   "outputs": [],
   "source": [
    "d = np.array([('Sri_Vikrama_Rajasinha_of_Kandy','successor','British_Ceylon'),\n",
    "('William_IV_of_the_United_Kingdom','predecessor','George_IV_of_the_United_Kingdom'),\n",
    "('Tvrtko_II_of_Bosnia','successor','Ostoja_of_Bosnia'),\n",
    "('Alexis_of_Russia','spouse','Maria_Ilyinichna_Miloslavskaya'),\n",
    "('Haakon_VII_of_Norway','successor','Olav_V_of_Norway')])"
   ]
  },
  {
   "cell_type": "code",
   "execution_count": 4,
   "metadata": {},
   "outputs": [],
   "source": [
    "entities = list(np.unique(np.concatenate((d[:,0],d[:,2]))))\n",
    "relations = list(np.unique(d[:,1]))\n",
    "\n",
    "num_entities = len(entities)\n",
    "num_relations = len(relations)\n",
    "\n",
    "ent2idx = dict(zip(entities, range(num_entities)))\n",
    "rel2idx = dict(zip(relations, range(num_relations)))"
   ]
  },
  {
   "cell_type": "code",
   "execution_count": 5,
   "metadata": {},
   "outputs": [],
   "source": [
    "X = torch.randn((num_entities, 2))\n",
    "y = torch.randint(num_relations, (num_entities,))\n",
    "#edge_index = torch.tensor(([(ent2idx[h],ent2idx[t]) for h,_,t in d]),dtype=torch.long).T\n",
    "a = np.array([(ent2idx[h],ent2idx[t]) for h,_,t in d]).T\n",
    "b = np.stack((a[1,:], a[0,:]))\n",
    "edge_index = torch.tensor(np.concatenate((a,b), axis=1), dtype=torch.long)\n",
    "\n",
    "data = Data(x=X, y=y, edge_index=edge_index,num_classes=num_relations)\n",
    "\n",
    "# x = torch.tensor([[2,1], [5,6], [3,7], [12,0]], dtype=torch.float)\n",
    "# y = torch.tensor([0, 1, 0, 1], dtype=torch.long)\n",
    "# edge_index = torch.tensor([[0, 1, 2, 0, 3],\n",
    "#                            [1, 0, 1, 3, 2]], dtype=torch.long)\n",
    "# data = Data(x=x, y=y, edge_index=edge_index,num_classes=2)"
   ]
  },
  {
   "cell_type": "code",
   "execution_count": null,
   "metadata": {},
   "outputs": [],
   "source": []
  },
  {
   "cell_type": "code",
   "execution_count": null,
   "metadata": {},
   "outputs": [],
   "source": []
  },
  {
   "cell_type": "code",
   "execution_count": null,
   "metadata": {},
   "outputs": [],
   "source": []
  },
  {
   "cell_type": "code",
   "execution_count": null,
   "metadata": {},
   "outputs": [],
   "source": []
  },
  {
   "cell_type": "code",
   "execution_count": 6,
   "metadata": {},
   "outputs": [],
   "source": [
    "# dataset = 'Cora'\n",
    "# path = osp.join(osp.dirname(osp.realpath('Untitled.ipynb')), '..', 'data', 'Planetoid')\n",
    "# dataset = Planetoid(path, dataset, transform=T.NormalizeFeatures())\n",
    "# data2 = dataset[0]\n",
    "\n",
    "# data2.num_classes = 7\n",
    "\n",
    "# data2"
   ]
  },
  {
   "cell_type": "code",
   "execution_count": null,
   "metadata": {},
   "outputs": [],
   "source": []
  },
  {
   "cell_type": "code",
   "execution_count": null,
   "metadata": {},
   "outputs": [],
   "source": []
  },
  {
   "cell_type": "code",
   "execution_count": null,
   "metadata": {},
   "outputs": [],
   "source": []
  },
  {
   "cell_type": "code",
   "execution_count": 7,
   "metadata": {},
   "outputs": [],
   "source": [
    "# A = np.zeros(shape=(num_entities,num_entities))\n",
    "\n",
    "# for h,r,t in d:\n",
    "    \n",
    "#     h_idx = entities.index(h)\n",
    "#     #r_idx = relations.index(r)\n",
    "#     t_idx = entities.index(t)\n",
    "    \n",
    "#     A[h_idx, t_idx] = 1\n",
    "    \n",
    "# A = torch.tensor(A, dtype=torch.float)\n",
    "#A = torch.randn(5,10)\n",
    "# X = torch.randn(2708,1433)\n",
    "# y = torch.randint(3, (2708,))\n",
    "\n",
    "# X = torch.randn(10,1433)\n",
    "# y = torch.randint(3, (10,))"
   ]
  },
  {
   "cell_type": "code",
   "execution_count": null,
   "metadata": {},
   "outputs": [],
   "source": []
  },
  {
   "cell_type": "code",
   "execution_count": null,
   "metadata": {},
   "outputs": [],
   "source": []
  },
  {
   "cell_type": "code",
   "execution_count": 8,
   "metadata": {},
   "outputs": [],
   "source": [
    "class Net(torch.nn.Module):\n",
    "    def __init__(self):\n",
    "        super(Net, self).__init__()\n",
    "        self.lin = Sequential(Linear(10,10))\n",
    "        self.conv1 = GCNConv(data.num_features, 16)\n",
    "        self.conv2 = GCNConv(16, data.num_classes)\n",
    "\n",
    "    def forward(self, x, edge_index):\n",
    "        x = F.relu(self.conv1(x, edge_index))\n",
    "        x = F.dropout(x, training=self.training)\n",
    "        x = self.conv2(x, edge_index)\n",
    "        return F.log_softmax(x, dim=1)\n",
    "\n",
    "device = torch.device('cuda' if torch.cuda.is_available() else 'cpu')\n",
    "model = Net().to(device)\n",
    "data = data.to(device)\n",
    "optimizer = torch.optim.Adam(model.parameters(), lr=0.01, weight_decay=5e-4)\n",
    "x, edge_index = data.x, data.edge_index\n",
    "\n",
    "for epoch in range(1, 201):\n",
    "    model.train()\n",
    "    optimizer.zero_grad()\n",
    "    log_logits = model(x, edge_index)\n",
    "    loss = F.nll_loss(log_logits, data.y)\n",
    "    loss.backward()\n",
    "    optimizer.step()\n",
    "\n",
    "explainer = GNNExplainer(model, epochs=200)"
   ]
  },
  {
   "cell_type": "code",
   "execution_count": 9,
   "metadata": {},
   "outputs": [
    {
     "name": "stderr",
     "output_type": "stream",
     "text": [
      "Explain node 3: 100%|██████████| 200/200 [00:00<00:00, 577.08it/s]\n"
     ]
    },
    {
     "data": {
      "image/png": "[encoded data removed]",
      "text/plain": [
       "<Figure size 432x288 with 1 Axes>"
      ]
     },
     "metadata": {},
     "output_type": "display_data"
    }
   ],
   "source": [
    "node_idx = 3\n",
    "node_feat_mask, edge_mask = explainer.explain_node(node_idx, x, edge_index)\n",
    "ax, G = explainer.visualize_subgraph(node_idx, edge_index, edge_mask, y=data.y)\n",
    "plt.show()"
   ]
  },
  {
   "cell_type": "code",
   "execution_count": null,
   "metadata": {},
   "outputs": [],
   "source": []
  },
  {
   "cell_type": "code",
   "execution_count": 11,
   "metadata": {},
   "outputs": [
    {
     "name": "stderr",
     "output_type": "stream",
     "text": [
      "Explain node 0: 100%|██████████| 200/200 [00:00<00:00, 502.59it/s]\n",
      "Explain node 1: 100%|██████████| 200/200 [00:00<00:00, 543.95it/s]\n"
     ]
    },
    {
     "data": {
      "image/png": "[encoded data removed]",
      "text/plain": [
       "<Figure size 432x288 with 1 Axes>"
      ]
     },
     "metadata": {},
     "output_type": "display_data"
    }
   ],
   "source": [
    "explanations = []\n",
    "\n",
    "for i in range(2):\n",
    "    \n",
    "    node_feat_mask, edge_mask = explainer.explain_node(i, x, edge_index)\n",
    "    _, G = explainer.visualize_subgraph(i, edge_index, edge_mask, y=data.y)\n",
    "    \n",
    "    explanations.append(list(G.edges))"
   ]
  },
  {
   "cell_type": "code",
   "execution_count": 54,
   "metadata": {},
   "outputs": [],
   "source": [
    "unique_explanations = []\n",
    "for i in explanations:\n",
    "    temp = []\n",
    "    for tup in i:\n",
    "        sorted_tup = tuple(sorted(tup))\n",
    "        temp.append(sorted_tup)\n",
    "    unique_explanations.append(list(set(temp)))"
   ]
  },
  {
   "cell_type": "code",
   "execution_count": 55,
   "metadata": {},
   "outputs": [
    {
     "data": {
      "text/plain": [
       "[[(0, 4)], [(1, 7)]]"
      ]
     },
     "execution_count": 55,
     "metadata": {},
     "output_type": "execute_result"
    }
   ],
   "source": [
    "unique_explanations"
   ]
  },
  {
   "cell_type": "code",
   "execution_count": null,
   "metadata": {},
   "outputs": [],
   "source": []
  },
  {
   "cell_type": "code",
   "execution_count": null,
   "metadata": {},
   "outputs": [],
   "source": []
  }
 ],
 "metadata": {
  "kernelspec": {
   "display_name": "Python 3",
   "language": "python",
   "name": "python3"
  },
  "language_info": {
   "codemirror_mode": {
    "name": "ipython",
    "version": 3
   },
   "file_extension": ".py",
   "mimetype": "text/x-python",
   "name": "python",
   "nbconvert_exporter": "python",
   "pygments_lexer": "ipython3",
   "version": "3.7.4"
  }
 },
 "nbformat": 4,
 "nbformat_minor": 4
}
