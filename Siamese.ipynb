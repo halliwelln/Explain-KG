{
 "cells": [
  {
   "cell_type": "code",
   "execution_count": 1,
   "metadata": {},
   "outputs": [],
   "source": [
    "%matplotlib inline\n",
    "import matplotlib.pyplot as plt\n",
    "import numpy as np\n",
    "import tensorflow as tf\n",
    "import pandas as pd\n",
    "import random as rn\n",
    "import tensorflow.keras.backend as K"
   ]
  },
  {
   "cell_type": "code",
   "execution_count": 2,
   "metadata": {},
   "outputs": [],
   "source": [
    "np.random.seed(123)\n",
    "rn.seed(123)\n",
    "tf.random.set_seed(123)"
   ]
  },
  {
   "cell_type": "code",
   "execution_count": 3,
   "metadata": {},
   "outputs": [],
   "source": [
    "fb15k_237 = np.load('./data/fb15k_237.npz', allow_pickle=True)"
   ]
  },
  {
   "cell_type": "code",
   "execution_count": 4,
   "metadata": {},
   "outputs": [],
   "source": [
    "fb_train = fb15k_237['train']\n",
    "fb_valid = fb15k_237['valid']\n",
    "fb_test = fb15k_237['test']"
   ]
  },
  {
   "cell_type": "code",
   "execution_count": 5,
   "metadata": {},
   "outputs": [],
   "source": [
    "entities = set(np.concatenate((fb_train[:,0], fb_train[:,2]), axis=0))\n",
    "all_relations = set(fb_train[:,1])\n",
    "\n",
    "num_entities = len(entities)\n",
    "num_relations = len(all_relations)\n",
    "\n",
    "ent2idx = dict(zip(entities, range(num_entities)))\n",
    "rel2idx = dict(zip(all_relations, range(num_relations)))\n",
    "\n",
    "idx2ent = {idx:ent for ent,idx in ent2idx.items()}\n",
    "idx2rel = {idx:rel for rel,idx in rel2idx.items()}"
   ]
  },
  {
   "cell_type": "code",
   "execution_count": 6,
   "metadata": {},
   "outputs": [],
   "source": [
    "train2idx = []\n",
    "\n",
    "for head, rel, tail in fb_train:\n",
    "    \n",
    "    head_idx = ent2idx[head]\n",
    "    tail_idx = ent2idx[tail]\n",
    "    rel_idx = rel2idx[rel]\n",
    "\n",
    "    train2idx.append([head_idx, rel_idx, tail_idx])\n",
    "    \n",
    "train2idx = np.array(train2idx)"
   ]
  },
  {
   "cell_type": "code",
   "execution_count": 7,
   "metadata": {},
   "outputs": [],
   "source": [
    "EMBEDDING_SIZE = 50\n",
    "BATCH_SIZE = 256\n",
    "NUM_EPOCHS = 200\n",
    "MARGIN = 2\n",
    "SQRT_SIZE = 6 / np.sqrt(EMBEDDING_SIZE)"
   ]
  },
  {
   "cell_type": "code",
   "execution_count": null,
   "metadata": {},
   "outputs": [],
   "source": []
  },
  {
   "cell_type": "code",
   "execution_count": 17,
   "metadata": {},
   "outputs": [],
   "source": [
    "def get_embedding_model():\n",
    "    \n",
    "    entity_input = tf.keras.layers.Input(shape=(1,), name='entity_input')\n",
    "    \n",
    "    entity_embedding = tf.keras.layers.Embedding(\n",
    "        input_dim=num_entities,\n",
    "        output_dim=EMBEDDING_SIZE,\n",
    "        name='entity_embeddings',\n",
    "        embeddings_initializer=tf.keras.initializers.RandomUniform(minval=-SQRT_SIZE, maxval=SQRT_SIZE, seed=123)\n",
    "        )(entity_input)\n",
    "    \n",
    "    #conv_1 = tf.keras.layers.Conv1D(filters=64,kernel_size=2, strides=1,padding='same', name='conv_1')(entity_embedding)\n",
    "    \n",
    "    #flatten = tf.keras.layers.Flatten()(conv_1)\n",
    "    \n",
    "    #dense = tf.keras.layers.Dense(64)(flatten)\n",
    "    \n",
    "    model = tf.keras.Model(inputs=entity_input, outputs=entity_embedding)\n",
    "    \n",
    "    return model\n",
    "    \n",
    "def get_relation_model():\n",
    "    \n",
    "    relation_input = tf.keras.layers.Input(shape=(1,), name='relation_input')\n",
    "\n",
    "    relation_embedding = tf.keras.layers.Embedding(\n",
    "        input_dim=num_relations,\n",
    "        output_dim=EMBEDDING_SIZE,\n",
    "        name='relation_embeddings',\n",
    "        embeddings_initializer=tf.keras.initializers.RandomUniform(minval=-SQRT_SIZE, maxval=SQRT_SIZE, seed=123)\n",
    "    )(relation_input)\n",
    "    \n",
    "    #conv_1 = tf.keras.layers.Conv1D(filters=64,kernel_size=2, \n",
    "    #                                strides=1,padding='same', name='conv_1')(relation_embedding)\n",
    "    \n",
    "    #flatten = tf.keras.layers.Flatten()(conv_1)\n",
    "    \n",
    "    #dense = tf.keras.layers.Dense(64)(flatten)\n",
    "    \n",
    "    model = tf.keras.Model(inputs=relation_input, outputs=relation_embedding)\n",
    "    \n",
    "    return model   \n",
    "    "
   ]
  },
  {
   "cell_type": "code",
   "execution_count": 9,
   "metadata": {},
   "outputs": [],
   "source": [
    "def dissimilarity(tensors):\n",
    "    \n",
    "    head, rel, tail = tensors\n",
    "    \n",
    "    return K.l2_normalize(head + rel - tail, axis=1)\n",
    "\n",
    "def margin(tensors):\n",
    "    \n",
    "    pos, neg = tensors\n",
    "    \n",
    "    return K.relu(pos-neg+K.constant(1))"
   ]
  },
  {
   "cell_type": "code",
   "execution_count": 10,
   "metadata": {},
   "outputs": [],
   "source": [
    "def siamese_model():\n",
    "    \n",
    "    input_shape = (1,)\n",
    "    \n",
    "    pos_head_input = tf.keras.layers.Input(shape=input_shape, name='pos_head_input')\n",
    "    neg_head_input = tf.keras.layers.Input(shape=input_shape, name='neg_head_input')\n",
    "    pos_tail_input = tf.keras.layers.Input(shape=input_shape, name='pos_tail_input')\n",
    "    neg_tail_input = tf.keras.layers.Input(shape=input_shape, name='neg_tail_input')\n",
    "    relation_input = tf.keras.layers.Input(shape=input_shape, name='relation_input')\n",
    "    \n",
    "    embedding_model = get_embedding_model()\n",
    "    relation_model = get_relation_model()\n",
    "    \n",
    "    pos_h_e = embedding_model(pos_head_input)\n",
    "    neg_h_e = embedding_model(neg_head_input)\n",
    "    pos_t_e = embedding_model(pos_tail_input)\n",
    "    neg_t_e = embedding_model(neg_tail_input)\n",
    "    rel_e   = relation_model(relation_input)\n",
    "    \n",
    "    lambda_layer = tf.keras.layers.Lambda(dissimilarity, name='dis_sim')\n",
    "    \n",
    "    pos = lambda_layer([pos_h_e, rel_e, pos_t_e])\n",
    "    neg = lambda_layer([neg_h_e, rel_e, neg_t_e])\n",
    "    \n",
    "    margin_layer = tf.keras.layers.Lambda(margin, name='margin')\n",
    "    \n",
    "    margin_vector = margin_layer([pos, neg])\n",
    "    \n",
    "    preds = tf.keras.layers.Dense(1, activation='sigmoid')(margin_vector)\n",
    "    \n",
    "    model = tf.keras.Model(\n",
    "        inputs=[pos_head_input, neg_head_input, pos_tail_input, neg_tail_input, relation_input],\n",
    "        outputs=preds\n",
    "        )\n",
    "    \n",
    "    return model"
   ]
  },
  {
   "cell_type": "code",
   "execution_count": 16,
   "metadata": {},
   "outputs": [
    {
     "data": {
      "image/png": "[encoded data removed]",
      "text/plain": [
       "<IPython.core.display.Image object>"
      ]
     },
     "execution_count": 16,
     "metadata": {},
     "output_type": "execute_result"
    }
   ],
   "source": [
    "tf.keras.utils.plot_model(siamese_model())\n",
    "#siamese_model().summary()"
   ]
  },
  {
   "cell_type": "code",
   "execution_count": null,
   "metadata": {},
   "outputs": [],
   "source": []
  },
  {
   "cell_type": "code",
   "execution_count": null,
   "metadata": {},
   "outputs": [],
   "source": []
  },
  {
   "cell_type": "code",
   "execution_count": null,
   "metadata": {},
   "outputs": [],
   "source": []
  }
 ],
 "metadata": {
  "kernelspec": {
   "display_name": "Python 3",
   "language": "python",
   "name": "python3"
  },
  "language_info": {
   "codemirror_mode": {
    "name": "ipython",
    "version": 3
   },
   "file_extension": ".py",
   "mimetype": "text/x-python",
   "name": "python",
   "nbconvert_exporter": "python",
   "pygments_lexer": "ipython3",
   "version": "3.7.4"
  }
 },
 "nbformat": 4,
 "nbformat_minor": 4
}
