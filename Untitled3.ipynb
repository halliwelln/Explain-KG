{
 "cells": [
  {
   "cell_type": "code",
   "execution_count": 2,
   "metadata": {},
   "outputs": [],
   "source": [
    "import rdflib\n",
    "import utils\n",
    "g=rdflib.Graph()"
   ]
  },
  {
   "cell_type": "code",
   "execution_count": 3,
   "metadata": {},
   "outputs": [
    {
     "data": {
      "text/plain": [
       "<Graph identifier=N4dfa0c23ffcd49478d84dc9c24d67c1b (<class 'rdflib.graph.Graph'>)>"
      ]
     },
     "execution_count": 3,
     "metadata": {},
     "output_type": "execute_result"
    }
   ],
   "source": [
    "g.parse(\"/Users/nhalliwe/Downloads/sparql\",format=\"xml\")"
   ]
  },
  {
   "cell_type": "code",
   "execution_count": 4,
   "metadata": {},
   "outputs": [],
   "source": [
    "#Reflexive (head and tail are the same, flipping head and tail triple still true): related by blood, same nationality as\n",
    "#Irreflexive (head and tail can't be the same, flipping head and tail, triple is false): parent, uncle/aunt,spouse brother/sister\n",
    "#Symmetric (fliping head and tail, still true): sibling, spouse\n",
    "#Antisymmetric (fliping head and tail makes triple false): uncle/aunt?, brother/sister\n",
    "#Transitive: predecessor, ancestor"
   ]
  },
  {
   "cell_type": "code",
   "execution_count": 5,
   "metadata": {},
   "outputs": [],
   "source": [
    "# for subj, pred, obj in g:\n",
    "    \n",
    "#     a = subj.split('resource/')[-1]\n",
    "#     b = pred.split('ontology/')[-1]\n",
    "#     c = obj.split('resource/')[-1]\n",
    "    \n",
    "#     print(a,b,c)"
   ]
  },
  {
   "cell_type": "code",
   "execution_count": 6,
   "metadata": {},
   "outputs": [],
   "source": [
    "#import json\n",
    "\n",
    "# with open('/Users/nhalliwe/Desktop/criage/CRIAGE/data/WN-18/e1rel_to_e2_ranking_test.json', 'r') as f:\n",
    "    \n",
    "#     for i in f:\n",
    "\n",
    "#         temp_dict = json.loads(f.readline())\n",
    "#         print(temp_dict)\n",
    "#         #print(temp_dict['e2_multi1'].split())"
   ]
  },
  {
   "cell_type": "code",
   "execution_count": 7,
   "metadata": {},
   "outputs": [],
   "source": [
    "#criage_exps = utils.read_json('/Users/nhalliwe/Desktop/criage/CRIAGE/data/WN-18/e1rel_to_e2_ranking_test.json')\n",
    "import numpy as np\n",
    "\n",
    "triples = [('Eve', 'type', 'Lecturer'),\n",
    "           ('Eve', 'type', 'Person'), \n",
    "           ('Lecturer', 'subClassOf', 'Person'), \n",
    "           ('David', 'type', 'Person'),\n",
    "           ('David', 'type', 'Researcher'),\n",
    "           ('Researcher', 'subClassOf', 'Person'),\n",
    "           ('Flora', 'hasSpouse', 'Gaston'),\n",
    "           ('Gaston', 'type', 'Person'),\n",
    "           ('Flora', 'type', 'Person')\n",
    "          ]\n",
    "\n",
    "train = np.array(triples)\n",
    "\n",
    "entities = np.unique(np.concatenate((train[:,0], train[:,2]), axis=0)).tolist()\n",
    "relations = np.unique(train[:,1]).tolist()\n",
    "\n",
    "num_entities = len(entities)\n",
    "num_relations = len(relations)\n",
    "\n",
    "ent2idx = dict(zip(entities, range(num_entities)))\n",
    "rel2idx = dict(zip(relations, range(num_relations)))\n",
    "\n",
    "idx2ent = {idx:ent for ent,idx in ent2idx.items()}\n",
    "idx2rel = {idx:rel for rel,idx in rel2idx.items()}\n",
    "\n",
    "train2idx = utils.train2idx(train,ent2idx,rel2idx)"
   ]
  },
  {
   "cell_type": "code",
   "execution_count": 8,
   "metadata": {},
   "outputs": [],
   "source": [
    "A = utils.get_adjacency_matrix(train,entities,num_entities)"
   ]
  },
  {
   "cell_type": "code",
   "execution_count": 9,
   "metadata": {},
   "outputs": [],
   "source": [
    "# for i in sorted(indices.keys()):\n",
    "#     for j in indices[i]:\n",
    "# #         if len(indices[i]) == 1:\n",
    "# #             print(i,j)\n",
    "# #         else:\n",
    "#             for k in indices[i]:\n",
    "#                 if j != k:\n",
    "#                     print(i,j,k)"
   ]
  },
  {
   "cell_type": "code",
   "execution_count": 36,
   "metadata": {},
   "outputs": [],
   "source": [
    "explanations = []\n",
    "K = 3\n",
    "\n",
    "for i,_,j in train2idx:\n",
    "\n",
    "    temp = []\n",
    "    \n",
    "    for idx, (k,_,l) in enumerate(train2idx):\n",
    "\n",
    "        if (i,j) != (k,l):\n",
    "            \n",
    "            temp.append(((k,l),idx))\n",
    "            \n",
    "    sorted_scores = sorted(temp, key=lambda x:x[1], reverse=True)[0:K]\n",
    "    \n",
    "    explanation_list = [tup for tup, _ in sorted_scores]\n",
    "    \n",
    "    explanations.append(explanation_list)"
   ]
  },
  {
   "cell_type": "code",
   "execution_count": null,
   "metadata": {},
   "outputs": [],
   "source": []
  },
  {
   "cell_type": "code",
   "execution_count": null,
   "metadata": {},
   "outputs": [],
   "source": []
  },
  {
   "cell_type": "code",
   "execution_count": null,
   "metadata": {},
   "outputs": [],
   "source": []
  }
 ],
 "metadata": {
  "kernelspec": {
   "display_name": "Python 3",
   "language": "python",
   "name": "python3"
  },
  "language_info": {
   "codemirror_mode": {
    "name": "ipython",
    "version": 3
   },
   "file_extension": ".py",
   "mimetype": "text/x-python",
   "name": "python",
   "nbconvert_exporter": "python",
   "pygments_lexer": "ipython3",
   "version": "3.7.4"
  }
 },
 "nbformat": 4,
 "nbformat_minor": 4
}
