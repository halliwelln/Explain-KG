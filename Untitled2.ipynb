{
 "cells": [
  {
   "cell_type": "code",
   "execution_count": 1,
   "metadata": {},
   "outputs": [],
   "source": [
    "import numpy as np\n",
    "import tensorflow as tf"
   ]
  },
  {
   "cell_type": "code",
   "execution_count": 2,
   "metadata": {},
   "outputs": [],
   "source": [
    "data = np.load('./data/human_data.npz')\n",
    "NUM_DIMS = 10"
   ]
  },
  {
   "cell_type": "code",
   "execution_count": 3,
   "metadata": {},
   "outputs": [
    {
     "data": {
      "text/plain": [
       "array([['Eve', 'type', 'Person'],\n",
       "       ['Eve', 'name', 'Eve'],\n",
       "       ['John', 'shoesize', '14'],\n",
       "       ['Alice', 'hasFriend', 'John'],\n",
       "       ['Mark', 'name', 'Mark'],\n",
       "       ['John', 'type', 'Person'],\n",
       "       ['Eve', 'hasFriend', 'Alice'],\n",
       "       ['John', 'age', '37'],\n",
       "       ['Jack', 'name', 'Jack'],\n",
       "       ['Jennifer', 'type', 'Woman'],\n",
       "       ['David', 'type', 'Researcher'],\n",
       "       ['Flora', 'name', 'Flora'],\n",
       "       ['Mark', 'hasFather', 'John'],\n",
       "       ['Mark', 'age', '14'],\n",
       "       ['Eve', 'type', 'Lecturer'],\n",
       "       ['Eve', 'hasSpouse', 'David'],\n",
       "       ['Alice', 'name', 'Alice'],\n",
       "       ['Harry', 'hasSpouse', 'Sophie'],\n",
       "       ['Flora', 'age', '95'],\n",
       "       ['Harry', 'age', '25'],\n",
       "       ['Alice', 'type', 'Woman'],\n",
       "       ['Laura', 'hasFriend', 'Alice'],\n",
       "       ['David', 'name', 'David'],\n",
       "       ['Mark', 'shoesize', '8'],\n",
       "       ['Laura', 'type', 'Person'],\n",
       "       ['Mark', 'trouserssize', '36'],\n",
       "       ['Flora', 'type', 'Woman'],\n",
       "       ['Harry', 'phoneNumber', '32 08 98'],\n",
       "       ['Mark', 'shirtsize', '9'],\n",
       "       ['Harry', 'type', 'Man'],\n",
       "       ['Harry', 'hasChild', 'John'],\n",
       "       ['Laura', 'name', 'Laura'],\n",
       "       ['Harry', 'name', 'Harry'],\n",
       "       ['David', 'type', 'Person'],\n",
       "       ['John', 'name', 'John'],\n",
       "       ['Jack', 'hasChild', 'Harry'],\n",
       "       ['Flora', 'hasSpouse', 'Gaston'],\n",
       "       ['Jennifer', 'name', 'Jennifer'],\n",
       "       ['David', 'hasFriend', 'Gaston'],\n",
       "       ['Mark', 'type', 'Person'],\n",
       "       ['Jack', 'hasFriend', 'Alice'],\n",
       "       ['Flora', 'hasChild', 'Pierre'],\n",
       "       ['Jack', 'type', 'Man'],\n",
       "       ['Jennifer', 'hasSpouse', 'John']], dtype='<U12')"
      ]
     },
     "execution_count": 3,
     "metadata": {},
     "output_type": "execute_result"
    }
   ],
   "source": [
    "X = data['X']\n",
    "relations = data['relations'].tolist()\n",
    "relation_embeddings = data['relation_embeddings']\n",
    "entities = data['entities'].tolist()\n",
    "entity_embeddings = data['entity_embeddings']\n",
    "X"
   ]
  },
  {
   "cell_type": "code",
   "execution_count": 4,
   "metadata": {},
   "outputs": [],
   "source": [
    "head_idx = entities.index('Mark')\n",
    "tail_idx = entities.index('14')\n",
    "scores = []\n",
    "for idx, rel in enumerate(relations):\n",
    "    \n",
    "    rel_embed = relation_embeddings[idx]\n",
    "    #score = -np.linalg.norm(entity_embeddings[head_idx] +rel_embed -entity_embeddings[tail_idx])\n",
    "    score = np.sum(entity_embeddings[head_idx] * rel_embed * entity_embeddings[tail_idx])\n",
    "    scores.append((rel, score))"
   ]
  },
  {
   "cell_type": "code",
   "execution_count": 5,
   "metadata": {},
   "outputs": [
    {
     "data": {
      "text/plain": [
       "[('age', 0.18151794),\n",
       " ('hasFriend', 0.08699002),\n",
       " ('hasFather', 0.040083323),\n",
       " ('name', 0.029876247),\n",
       " ('type', 0.026286818),\n",
       " ('hasSpouse', 0.0060162283),\n",
       " ('hasChild', 0.003967628),\n",
       " ('trouserssize', 0.0022677071),\n",
       " ('shoesize', -0.052538656),\n",
       " ('shirtsize', -0.06385116),\n",
       " ('phoneNumber', -0.068703905)]"
      ]
     },
     "execution_count": 5,
     "metadata": {},
     "output_type": "execute_result"
    }
   ],
   "source": [
    "sorted(scores, key=lambda x:x[1], reverse=True)"
   ]
  },
  {
   "cell_type": "code",
   "execution_count": 6,
   "metadata": {},
   "outputs": [
    {
     "name": "stdout",
     "output_type": "stream",
     "text": [
      "Mark name Mark\n",
      "Mark hasFather John\n",
      "Mark age 14\n",
      "Mark shoesize 8\n",
      "Mark trouserssize 36\n",
      "Mark shirtsize 9\n",
      "Mark type Person\n"
     ]
    }
   ],
   "source": [
    "for h,r,t in X:\n",
    "    if h=='Mark' or t=='Mark':\n",
    "        print(h,r,t)"
   ]
  },
  {
   "cell_type": "code",
   "execution_count": 7,
   "metadata": {},
   "outputs": [],
   "source": [
    "idx_data = []\n",
    "\n",
    "for h,r,t in X:\n",
    "    \n",
    "    head_idx = entities.index(h)\n",
    "    rel_idx = relations.index(r)\n",
    "    tail_idx = entities.index(t)\n",
    "    \n",
    "    head_entity = entity_embeddings[head_idx]\n",
    "    relation = relation_embeddings[rel_idx]\n",
    "    tail_entity = entity_embeddings[tail_idx]\n",
    "    \n",
    "    idx_data.append((head_entity,relation,tail_entity))\n",
    "    \n",
    "idx_data = np.array(idx_data)"
   ]
  },
  {
   "cell_type": "code",
   "execution_count": 8,
   "metadata": {},
   "outputs": [],
   "source": [
    "#denoising autoencoder vs baseline autoencoder\n",
    "#use gradients??"
   ]
  },
  {
   "cell_type": "code",
   "execution_count": 99,
   "metadata": {},
   "outputs": [],
   "source": [
    "NUM_ENTITIES = len(entities)\n",
    "NUM_RELATIONS = len(relations)\n",
    "\n",
    "head_input = tf.keras.layers.Input(shape=(1,),name='head_input')\n",
    "relation_input = tf.keras.layers.Input(shape=(1,), name='relation_input')\n",
    "tail_input = tf.keras.layers.Input(shape=(1,),name='tail_input')\n",
    "\n",
    "entity_embed = tf.keras.layers.Embedding(\n",
    "    input_dim=NUM_ENTITIES, \n",
    "    output_dim=NUM_DIMS, \n",
    "    weights=[entity_embeddings],\n",
    "    trainable=False,\n",
    "    name='entity_embed')\n",
    "\n",
    "relation_embed = tf.keras.layers.Embedding(\n",
    "    input_dim=NUM_RELATIONS, \n",
    "    output_dim=NUM_DIMS, \n",
    "    weights=[relation_embeddings],\n",
    "    trainable=False,\n",
    "    name='relation_embed')"
   ]
  },
  {
   "cell_type": "code",
   "execution_count": 85,
   "metadata": {},
   "outputs": [],
   "source": [
    "head_entity = entity_embed(head_input)\n",
    "tail_entity = entity_embed(tail_input)\n",
    "relation_entity = relation_embed(relation_input)"
   ]
  },
  {
   "cell_type": "code",
   "execution_count": 107,
   "metadata": {},
   "outputs": [],
   "source": [
    "vector = tf.keras.layers.Multiply()([head_entity, relation_entity, tail_entity])"
   ]
  },
  {
   "cell_type": "code",
   "execution_count": 108,
   "metadata": {},
   "outputs": [],
   "source": [
    "dense = tf.keras.layers.Dense(NUM_DIMS, activation='relu', name='dense_1')(vector)\n",
    "flatten = tf.keras.layers.Flatten()(dense)"
   ]
  },
  {
   "cell_type": "code",
   "execution_count": 109,
   "metadata": {},
   "outputs": [],
   "source": [
    "entity_output = tf.keras.layers.Dense(NUM_ENTITIES, name='entity_output')\n",
    "relation_output = tf.keras.layers.Dense(NUM_RELATIONS, name='relation_output')\n",
    "\n",
    "head_output = entity_output(flatten)\n",
    "tail_output = entity_output(flatten)\n",
    "rel_output = relation_output(flatten)"
   ]
  },
  {
   "cell_type": "code",
   "execution_count": null,
   "metadata": {},
   "outputs": [],
   "source": []
  },
  {
   "cell_type": "code",
   "execution_count": null,
   "metadata": {},
   "outputs": [],
   "source": []
  },
  {
   "cell_type": "code",
   "execution_count": null,
   "metadata": {},
   "outputs": [],
   "source": [
    "#('Eve', 'type', 'Person') [('Eve', 'type', 'Lecturer'), ('Lecturer', 'subClassOf', 'Person')]"
   ]
  },
  {
   "cell_type": "code",
   "execution_count": 10,
   "metadata": {},
   "outputs": [],
   "source": [
    "import rdflib"
   ]
  },
  {
   "cell_type": "code",
   "execution_count": 11,
   "metadata": {},
   "outputs": [],
   "source": [
    "lines = []\n",
    "\n",
    "with open('../traces/entailment.ttl', 'r') as f:\n",
    "    for line in f:\n",
    "        lines.append(line)"
   ]
  },
  {
   "cell_type": "code",
   "execution_count": 12,
   "metadata": {},
   "outputs": [],
   "source": [
    "def get_tup(line_str):\n",
    "    \n",
    "    line_str = line_str.split()[:-1]\n",
    "    \n",
    "    source_tup = []\n",
    "    for i in line_str:\n",
    "        source_tup.append(i.split(':')[-1])\n",
    "        \n",
    "    return tuple(source_tup)"
   ]
  },
  {
   "cell_type": "code",
   "execution_count": 28,
   "metadata": {},
   "outputs": [],
   "source": [
    "from collections import defaultdict\n",
    "\n",
    "traces = defaultdict(list)\n",
    "\n",
    "for idx, line in enumerate(lines):\n",
    "\n",
    "    if \"graph us:construct\" in line:\n",
    "        \n",
    "        source_tup = get_tup(lines[idx+1])        \n",
    "\n",
    "        assert len(source_tup) == 3\n",
    "\n",
    "        traces[source_tup] = []\n",
    "        \n",
    "    if 'graph us:where' in line:\n",
    "        \n",
    "        for sub_line in lines[idx+1:]:\n",
    "            \n",
    "            if sub_line.strip() == '}':      \n",
    "                break\n",
    "                \n",
    "            exp_tup = get_tup(sub_line)\n",
    "            traces[source_tup].append(exp_tup)\n",
    "            assert len(exp_tup) == 3        "
   ]
  },
  {
   "cell_type": "code",
   "execution_count": 81,
   "metadata": {},
   "outputs": [
    {
     "name": "stdout",
     "output_type": "stream",
     "text": [
      "('Eve', 'type', 'Person') [('Eve', 'type', 'Lecturer'), ('Lecturer', 'subClassOf', 'Person')]\n",
      "('David', 'type', 'Person') [('David', 'type', 'Researcher'), ('Researcher', 'subClassOf', 'Person')]\n"
     ]
    }
   ],
   "source": [
    "for i in X:\n",
    "    if tuple(i) in traces:\n",
    "        print(tuple(i),traces[tuple(i)])"
   ]
  },
  {
   "cell_type": "code",
   "execution_count": null,
   "metadata": {},
   "outputs": [],
   "source": []
  },
  {
   "cell_type": "code",
   "execution_count": null,
   "metadata": {},
   "outputs": [],
   "source": []
  },
  {
   "cell_type": "code",
   "execution_count": 19,
   "metadata": {},
   "outputs": [],
   "source": []
  },
  {
   "cell_type": "code",
   "execution_count": null,
   "metadata": {},
   "outputs": [],
   "source": []
  },
  {
   "cell_type": "code",
   "execution_count": null,
   "metadata": {},
   "outputs": [],
   "source": []
  },
  {
   "cell_type": "code",
   "execution_count": null,
   "metadata": {},
   "outputs": [],
   "source": []
  },
  {
   "cell_type": "code",
   "execution_count": null,
   "metadata": {},
   "outputs": [],
   "source": []
  },
  {
   "cell_type": "code",
   "execution_count": null,
   "metadata": {},
   "outputs": [],
   "source": []
  }
 ],
 "metadata": {
  "kernelspec": {
   "display_name": "Python 3",
   "language": "python",
   "name": "python3"
  },
  "language_info": {
   "codemirror_mode": {
    "name": "ipython",
    "version": 3
   },
   "file_extension": ".py",
   "mimetype": "text/x-python",
   "name": "python",
   "nbconvert_exporter": "python",
   "pygments_lexer": "ipython3",
   "version": "3.7.4"
  }
 },
 "nbformat": 4,
 "nbformat_minor": 4
}
