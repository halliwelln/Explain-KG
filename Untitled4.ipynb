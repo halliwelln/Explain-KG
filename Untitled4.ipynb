{
 "cells": [
  {
   "cell_type": "code",
   "execution_count": 1,
   "metadata": {},
   "outputs": [],
   "source": [
    "import tensorflow as tf\n",
    "import numpy as np\n",
    "import pandas as pd\n",
    "import random as rn\n",
    "import os\n",
    "import utils\n",
    "import explaiNE\n",
    "import joblib\n",
    "import maxent\n",
    "import cne"
   ]
  },
  {
   "cell_type": "code",
   "execution_count": 2,
   "metadata": {},
   "outputs": [
    {
     "name": "stdout",
     "output_type": "stream",
     "text": [
      "CPU count: 4\n"
     ]
    }
   ],
   "source": [
    "SEED = 123\n",
    "os.environ['PYTHONHASHSEED'] = str(SEED)\n",
    "np.random.seed(SEED)\n",
    "rn.seed(SEED)\n",
    "\n",
    "print(f'CPU count: {joblib.cpu_count()}')\n",
    "\n",
    "data = np.load(os.path.join('.','data','royalty_uncle.npz'))\n",
    "\n",
    "train = data['X_train']\n",
    "test = data['X_test']\n",
    "\n",
    "train_exp = data['train_exp']\n",
    "test_exp = data['test_exp']\n",
    "\n",
    "entities = data['entities'].tolist()\n",
    "relations = data['relations'].tolist()\n",
    "\n",
    "NUM_ENTITIES = len(entities)\n",
    "NUM_RELATIONS = len(relations)\n",
    "\n",
    "ent2idx = dict(zip(entities, range(NUM_ENTITIES)))\n",
    "rel2idx = dict(zip(relations, range(NUM_RELATIONS)))\n",
    "\n",
    "train2idx = utils.array2idx(train,ent2idx,rel2idx)\n",
    "test2idx = utils.array2idx(test,ent2idx,rel2idx)\n",
    "\n",
    "trainexp2idx = utils.array2idx(train_exp,ent2idx,rel2idx)\n",
    "testexp2idx = utils.array2idx(test_exp,ent2idx,rel2idx)\n",
    "\n",
    "#adjacency_data = np.concatenate((train,train_exp.reshape(-1,3)), axis=0)\n",
    "adjacency_data = np.concatenate((train,train_exp.reshape(-1,3)), axis=0)\n",
    "\n",
    "A = utils.get_adjacency_matrix(adjacency_data,entities,NUM_ENTITIES)"
   ]
  },
  {
   "cell_type": "code",
   "execution_count": null,
   "metadata": {},
   "outputs": [],
   "source": []
  },
  {
   "cell_type": "code",
   "execution_count": null,
   "metadata": {},
   "outputs": [],
   "source": []
  },
  {
   "cell_type": "code",
   "execution_count": null,
   "metadata": {},
   "outputs": [],
   "source": []
  },
  {
   "cell_type": "code",
   "execution_count": 3,
   "metadata": {},
   "outputs": [],
   "source": [
    "EMBEDDING_DIM = 50\n",
    "S1 = 1\n",
    "S2 = 1.5\n",
    "LEARNING_RATE = .001\n",
    "MAX_ITER = 100\n",
    "GAMMA = (1/(S1**2)) - (1/(S2**2))\n",
    "TOP_K = 4\n",
    "\n",
    "trainexp2idx = trainexp2idx[:,:,[0,2]]\n",
    "\n",
    "testexp2idx = testexp2idx[:,:,[0,2]]"
   ]
  },
  {
   "cell_type": "code",
   "execution_count": 4,
   "metadata": {},
   "outputs": [
    {
     "name": "stdout",
     "output_type": "stream",
     "text": [
      "Epoch: 0, grad norm: 357.1649, obj: 12319.4804, obj smoothness: 12319.4804\n",
      "Epoch: 1, grad norm: 356.8296, obj: 12302.2487, obj smoothness: 17.2317\n",
      "Epoch: 2, grad norm: 356.4944, obj: 12294.9881, obj smoothness: 7.2605\n",
      "Epoch: 3, grad norm: 356.1594, obj: 12286.2510, obj smoothness: 8.7372\n",
      "Epoch: 4, grad norm: 355.8245, obj: 12279.0789, obj smoothness: 7.1721\n",
      "Epoch: 5, grad norm: 355.4897, obj: 12272.1230, obj smoothness: 6.9559\n",
      "Epoch: 6, grad norm: 355.1552, obj: 12265.6537, obj smoothness: 6.4693\n",
      "Epoch: 7, grad norm: 354.8210, obj: 12237.1648, obj smoothness: 28.4889\n",
      "Epoch: 8, grad norm: 354.4869, obj: 12229.7210, obj smoothness: 7.4438\n",
      "Epoch: 9, grad norm: 354.1532, obj: 12222.6829, obj smoothness: 7.0381\n",
      "Epoch: 10, grad norm: 353.8197, obj: 12214.8670, obj smoothness: 7.8160\n",
      "Epoch: 11, grad norm: 353.4864, obj: 12196.0775, obj smoothness: 18.7895\n",
      "Epoch: 12, grad norm: 353.1533, obj: 12187.3025, obj smoothness: 8.7750\n",
      "Epoch: 13, grad norm: 352.8205, obj: 12180.3506, obj smoothness: 6.9518\n",
      "Epoch: 14, grad norm: 352.4880, obj: 12162.8591, obj smoothness: 17.4916\n",
      "Epoch: 15, grad norm: 352.1557, obj: 12154.3280, obj smoothness: 8.5311\n",
      "Epoch: 16, grad norm: 351.8237, obj: 12147.8337, obj smoothness: 6.4943\n",
      "Epoch: 17, grad norm: 351.4921, obj: 12140.4662, obj smoothness: 7.3675\n",
      "Epoch: 18, grad norm: 351.1607, obj: 12132.3460, obj smoothness: 8.1202\n",
      "Epoch: 19, grad norm: 350.8297, obj: 12125.5857, obj smoothness: 6.7603\n",
      "Epoch: 20, grad norm: 350.4989, obj: 12116.7162, obj smoothness: 8.8695\n",
      "Epoch: 21, grad norm: 350.1686, obj: 12087.6501, obj smoothness: 29.0661\n",
      "Epoch: 22, grad norm: 349.8385, obj: 12070.5367, obj smoothness: 17.1134\n",
      "Epoch: 23, grad norm: 349.5088, obj: 12062.8123, obj smoothness: 7.7244\n",
      "Epoch: 24, grad norm: 349.1794, obj: 12054.5042, obj smoothness: 8.3081\n",
      "Epoch: 25, grad norm: 348.8503, obj: 12047.3543, obj smoothness: 7.1499\n",
      "Epoch: 26, grad norm: 348.5216, obj: 12039.1943, obj smoothness: 8.1600\n",
      "Epoch: 27, grad norm: 348.1933, obj: 12021.6518, obj smoothness: 17.5425\n",
      "Epoch: 28, grad norm: 347.8653, obj: 12014.3297, obj smoothness: 7.3221\n",
      "Epoch: 29, grad norm: 347.5376, obj: 11996.0703, obj smoothness: 18.2594\n",
      "Epoch: 30, grad norm: 347.2103, obj: 11988.4644, obj smoothness: 7.6059\n",
      "Epoch: 31, grad norm: 346.8834, obj: 11980.1317, obj smoothness: 8.3327\n",
      "Epoch: 32, grad norm: 346.5568, obj: 11972.6494, obj smoothness: 7.4823\n",
      "Epoch: 33, grad norm: 346.2306, obj: 11965.5043, obj smoothness: 7.1451\n",
      "Epoch: 34, grad norm: 345.9048, obj: 11957.2651, obj smoothness: 8.2392\n",
      "Epoch: 35, grad norm: 345.5793, obj: 11950.0516, obj smoothness: 7.2135\n",
      "Epoch: 36, grad norm: 345.2542, obj: 11941.4132, obj smoothness: 8.6384\n",
      "Epoch: 37, grad norm: 344.9295, obj: 11934.3936, obj smoothness: 7.0196\n",
      "Epoch: 38, grad norm: 344.6051, obj: 11925.6426, obj smoothness: 8.7509\n",
      "Epoch: 39, grad norm: 344.2811, obj: 11908.0955, obj smoothness: 17.5472\n",
      "Epoch: 40, grad norm: 343.9575, obj: 11890.5403, obj smoothness: 17.5552\n",
      "Epoch: 41, grad norm: 343.6343, obj: 11863.2673, obj smoothness: 27.2729\n",
      "Epoch: 42, grad norm: 343.3114, obj: 11855.3054, obj smoothness: 7.9619\n",
      "Epoch: 43, grad norm: 342.9889, obj: 11846.6829, obj smoothness: 8.6225\n",
      "Epoch: 44, grad norm: 342.6667, obj: 11838.6449, obj smoothness: 8.0381\n",
      "Epoch: 45, grad norm: 342.3449, obj: 11821.2085, obj smoothness: 17.4364\n",
      "Epoch: 46, grad norm: 342.0235, obj: 11813.6010, obj smoothness: 7.6075\n",
      "Epoch: 47, grad norm: 341.7024, obj: 11795.9025, obj smoothness: 17.6985\n",
      "Epoch: 48, grad norm: 341.3817, obj: 11788.7851, obj smoothness: 7.1174\n",
      "Epoch: 49, grad norm: 341.0614, obj: 11779.7007, obj smoothness: 9.0844\n",
      "Epoch: 50, grad norm: 340.7414, obj: 11772.1458, obj smoothness: 7.5549\n",
      "Epoch: 51, grad norm: 340.4218, obj: 11764.3887, obj smoothness: 7.7571\n",
      "Epoch: 52, grad norm: 340.1025, obj: 11756.5392, obj smoothness: 7.8495\n",
      "Epoch: 53, grad norm: 339.7836, obj: 11749.2370, obj smoothness: 7.3022\n",
      "Epoch: 54, grad norm: 339.4651, obj: 11741.4696, obj smoothness: 7.7674\n",
      "Epoch: 55, grad norm: 339.1469, obj: 11724.0140, obj smoothness: 17.4556\n",
      "Epoch: 56, grad norm: 338.8291, obj: 11706.3971, obj smoothness: 17.6169\n",
      "Epoch: 57, grad norm: 338.5116, obj: 11688.8167, obj smoothness: 17.5804\n",
      "Epoch: 58, grad norm: 338.1945, obj: 11681.2542, obj smoothness: 7.5625\n",
      "Epoch: 59, grad norm: 337.8777, obj: 11673.0190, obj smoothness: 8.2352\n",
      "Epoch: 60, grad norm: 337.5613, obj: 11654.5412, obj smoothness: 18.4778\n",
      "Epoch: 61, grad norm: 337.2452, obj: 11646.8532, obj smoothness: 7.6881\n",
      "Epoch: 62, grad norm: 336.9295, obj: 11629.2424, obj smoothness: 17.6108\n",
      "Epoch: 63, grad norm: 336.6141, obj: 11610.4369, obj smoothness: 18.8054\n",
      "Epoch: 64, grad norm: 336.2991, obj: 11602.4465, obj smoothness: 7.9904\n",
      "Epoch: 65, grad norm: 335.9845, obj: 11584.8989, obj smoothness: 17.5476\n",
      "Epoch: 66, grad norm: 335.6701, obj: 11567.1062, obj smoothness: 17.7927\n",
      "Epoch: 67, grad norm: 335.3562, obj: 11559.7437, obj smoothness: 7.3625\n",
      "Epoch: 68, grad norm: 335.0426, obj: 11552.3824, obj smoothness: 7.3612\n",
      "Epoch: 69, grad norm: 334.7293, obj: 11544.7071, obj smoothness: 7.6754\n",
      "Epoch: 70, grad norm: 334.4164, obj: 11515.9385, obj smoothness: 28.7685\n",
      "Epoch: 71, grad norm: 334.1039, obj: 11498.4983, obj smoothness: 17.4403\n",
      "Epoch: 72, grad norm: 333.7916, obj: 11490.7684, obj smoothness: 7.7299\n",
      "Epoch: 73, grad norm: 333.4798, obj: 11483.6201, obj smoothness: 7.1483\n",
      "Epoch: 74, grad norm: 333.1683, obj: 11475.1213, obj smoothness: 8.4988\n",
      "Epoch: 75, grad norm: 332.8571, obj: 11466.4419, obj smoothness: 8.6794\n",
      "Epoch: 76, grad norm: 332.5463, obj: 11448.0058, obj smoothness: 18.4361\n",
      "Epoch: 77, grad norm: 332.2358, obj: 11440.3701, obj smoothness: 7.6357\n",
      "Epoch: 78, grad norm: 331.9256, obj: 11433.1987, obj smoothness: 7.1714\n",
      "Epoch: 79, grad norm: 331.6158, obj: 11425.7519, obj smoothness: 7.4467\n",
      "Epoch: 80, grad norm: 331.3064, obj: 11417.6125, obj smoothness: 8.1395\n",
      "Epoch: 81, grad norm: 330.9973, obj: 11409.7200, obj smoothness: 7.8924\n",
      "Epoch: 82, grad norm: 330.6885, obj: 11400.9712, obj smoothness: 8.7488\n",
      "Epoch: 83, grad norm: 330.3801, obj: 11393.0826, obj smoothness: 7.8886\n",
      "Epoch: 84, grad norm: 330.0720, obj: 11384.3502, obj smoothness: 8.7324\n",
      "Epoch: 85, grad norm: 329.7642, obj: 11376.9919, obj smoothness: 7.3583\n",
      "Epoch: 86, grad norm: 329.4568, obj: 11368.2724, obj smoothness: 8.7195\n",
      "Epoch: 87, grad norm: 329.1498, obj: 11361.0672, obj smoothness: 7.2052\n",
      "Epoch: 88, grad norm: 328.8430, obj: 11352.9907, obj smoothness: 8.0765\n",
      "Epoch: 89, grad norm: 328.5367, obj: 11344.9946, obj smoothness: 7.9960\n",
      "Epoch: 90, grad norm: 328.2306, obj: 11335.7898, obj smoothness: 9.2048\n",
      "Epoch: 91, grad norm: 327.9249, obj: 11328.6361, obj smoothness: 7.1538\n",
      "Epoch: 92, grad norm: 327.6195, obj: 11300.4450, obj smoothness: 28.1911\n",
      "Epoch: 93, grad norm: 327.3145, obj: 11292.3136, obj smoothness: 8.1314\n",
      "Epoch: 94, grad norm: 327.0098, obj: 11284.1710, obj smoothness: 8.1426\n",
      "Epoch: 95, grad norm: 326.7055, obj: 11276.0826, obj smoothness: 8.0884\n",
      "Epoch: 96, grad norm: 326.4014, obj: 11267.4712, obj smoothness: 8.6114\n",
      "Epoch: 97, grad norm: 326.0977, obj: 11250.1560, obj smoothness: 17.3152\n",
      "Epoch: 98, grad norm: 325.7944, obj: 11242.4141, obj smoothness: 7.7418\n",
      "Epoch: 99, grad norm: 325.4914, obj: 11233.9043, obj smoothness: 8.5099\n"
     ]
    }
   ],
   "source": [
    "prior = maxent.BGDistr(A) \n",
    "prior.fit()\n",
    "\n",
    "CNE = cne.ConditionalNetworkEmbedding(\n",
    "    A=A,\n",
    "    d=EMBEDDING_DIM,\n",
    "    s1=S1,\n",
    "    s2=S2,\n",
    "    prior_dist=prior\n",
    "    )\n",
    "\n",
    "CNE.fit(lr=LEARNING_RATE, max_iter=MAX_ITER)\n",
    "\n",
    "X = CNE._ConditionalNetworkEmbedding__emb"
   ]
  },
  {
   "cell_type": "code",
   "execution_count": 5,
   "metadata": {},
   "outputs": [
    {
     "name": "stderr",
     "output_type": "stream",
     "text": [
      "[Parallel(n_jobs=-2)]: Using backend LokyBackend with 3 concurrent workers.\n",
      "[Parallel(n_jobs=-2)]: Done   1 tasks      | elapsed:    0.0s\n",
      "[Parallel(n_jobs=-2)]: Batch computation too fast (0.0245s.) Setting batch_size=16.\n",
      "[Parallel(n_jobs=-2)]: Done   2 tasks      | elapsed:    0.0s\n",
      "[Parallel(n_jobs=-2)]: Done   3 tasks      | elapsed:    0.0s\n",
      "[Parallel(n_jobs=-2)]: Done   4 tasks      | elapsed:    0.0s\n",
      "[Parallel(n_jobs=-2)]: Done   5 tasks      | elapsed:    0.1s\n",
      "[Parallel(n_jobs=-2)]: Done   6 tasks      | elapsed:    0.1s\n",
      "[Parallel(n_jobs=-2)]: Done  22 tasks      | elapsed:    0.4s\n",
      "[Parallel(n_jobs=-2)]: Done  38 tasks      | elapsed:    0.4s\n",
      "[Parallel(n_jobs=-2)]: Done  54 tasks      | elapsed:    0.4s\n",
      "[Parallel(n_jobs=-2)]: Done  70 tasks      | elapsed:    0.8s\n",
      "[Parallel(n_jobs=-2)]: Done  86 tasks      | elapsed:    0.8s\n",
      "[Parallel(n_jobs=-2)]: Done 102 tasks      | elapsed:    0.8s\n",
      "[Parallel(n_jobs=-2)]: Done 118 tasks      | elapsed:    1.1s\n",
      "[Parallel(n_jobs=-2)]: Done 134 tasks      | elapsed:    1.2s\n",
      "[Parallel(n_jobs=-2)]: Done 150 tasks      | elapsed:    1.2s\n",
      "[Parallel(n_jobs=-2)]: Done 166 tasks      | elapsed:    1.5s\n",
      "[Parallel(n_jobs=-2)]: Done 182 tasks      | elapsed:    1.5s\n",
      "[Parallel(n_jobs=-2)]: Done 198 tasks      | elapsed:    1.6s\n",
      "[Parallel(n_jobs=-2)]: Done 278 out of 278 | elapsed:    2.2s finished\n"
     ]
    }
   ],
   "source": [
    "#A = utils.get_adjacency_matrix(test,entities,NUM_ENTITIES)\n",
    "\n",
    "PROBS = joblib.Parallel(n_jobs=-2, verbose=0)(\n",
    "    joblib.delayed(explaiNE.compute_prob)(\n",
    "        i,S1,S2,X,NUM_ENTITIES,prior,SEED\n",
    "        ) for i in range(NUM_ENTITIES)\n",
    "    )\n",
    "\n",
    "PROBS = np.array(PROBS)\n",
    "\n",
    "HESSIANS = joblib.Parallel(n_jobs=-2, verbose=20)(\n",
    "    joblib.delayed(explaiNE.get_hessian)(\n",
    "        i,S1,S2,GAMMA,X,A,EMBEDDING_DIM,PROBS,SEED\n",
    "        ) for i in range(NUM_ENTITIES)\n",
    "    )\n",
    "\n",
    "HESSIANS = np.array(HESSIANS)\n",
    "\n",
    "ITER_DATA = np.unique(testexp2idx.reshape(-1,2), axis=0)"
   ]
  },
  {
   "cell_type": "code",
   "execution_count": 6,
   "metadata": {},
   "outputs": [],
   "source": [
    "explanations = joblib.Parallel(n_jobs=-2, verbose=0)(\n",
    "    joblib.delayed(explaiNE.get_explanations)(\n",
    "        i,j,S1,S2,EMBEDDING_DIM,GAMMA,X,TOP_K,ITER_DATA,HESSIANS,PROBS,SEED\n",
    "        ) for i,_,j in test2idx\n",
    "    )\n",
    "\n",
    "explanations = np.array(explanations)"
   ]
  },
  {
   "cell_type": "code",
   "execution_count": null,
   "metadata": {},
   "outputs": [],
   "source": []
  },
  {
   "cell_type": "code",
   "execution_count": 7,
   "metadata": {},
   "outputs": [],
   "source": [
    "jaccard = utils.jaccard_score(testexp2idx,explanations)"
   ]
  },
  {
   "cell_type": "code",
   "execution_count": 8,
   "metadata": {},
   "outputs": [
    {
     "data": {
      "text/plain": [
       "0.18558558558558563"
      ]
     },
     "execution_count": 8,
     "metadata": {},
     "output_type": "execute_result"
    }
   ],
   "source": [
    "jaccard"
   ]
  },
  {
   "cell_type": "code",
   "execution_count": 9,
   "metadata": {},
   "outputs": [],
   "source": [
    "# scores = []\n",
    "\n",
    "# for i in range(len(testexp2idx)):\n",
    "    \n",
    "#     true_i = testexp2idx[i][np.argsort(testexp2idx[i][:, 0])]\n",
    "#     pred_i = explanations[i][np.argsort(explanations[i][:, 0])]\n",
    "\n",
    "#     num_true_traces = true_i.shape[0]\n",
    "#     num_pred_traces = pred_i.shape[0]\n",
    "\n",
    "#     bool_array = (pred_i == true_i)\n",
    "\n",
    "#     count = 0\n",
    "#     for row in bool_array:\n",
    "#         if row.all():\n",
    "#             count += 1\n",
    "\n",
    "#     score = count / (num_true_traces + num_pred_traces-count)\n",
    "    \n",
    "#     scores.append(score)"
   ]
  },
  {
   "cell_type": "code",
   "execution_count": 10,
   "metadata": {},
   "outputs": [],
   "source": [
    "#testexp2idx[0]\n",
    "#'Zaitao' in np.unique(np.concatenate((train[:,0], train[:,2]),axis=0))"
   ]
  },
  {
   "cell_type": "code",
   "execution_count": 11,
   "metadata": {},
   "outputs": [],
   "source": [
    "# for i in explanations[0][np.argsort(testexp2idx[0][:, 0])]:\n",
    "#     if i in testexp2idx[0][np.argsort(testexp2idx[0][:, 0])]:\n",
    "#         print(i)"
   ]
  },
  {
   "cell_type": "code",
   "execution_count": 12,
   "metadata": {},
   "outputs": [],
   "source": [
    "#testexp2idx[0][np.argsort(testexp2idx[0][:, 0])]"
   ]
  },
  {
   "cell_type": "code",
   "execution_count": 13,
   "metadata": {},
   "outputs": [],
   "source": [
    "# indices = [idx for idx,i in enumerate(scores) if i]\n",
    "\n",
    "# for i in indices:\n",
    "    \n",
    "#     true_i = np.sort(testexp2idx[i], axis=0)\n",
    "#     pred_i = np.sort(explanations[i], axis=0)\n",
    "    \n",
    "#     print(true_i)"
   ]
  },
  {
   "cell_type": "code",
   "execution_count": 14,
   "metadata": {},
   "outputs": [],
   "source": [
    "# count = 0\n",
    "# for i,_,j in test2idx:\n",
    "#     temp = []\n",
    "\n",
    "#     for k,l in testexp2idx.reshape(-1,2):\n",
    "        \n",
    "#         score = explaiNE.explaiNE(i,j,k,l,S1,S2,EMBEDDING_DIM,GAMMA,X,HESSIANS,PROBS,SEED)\n",
    "        \n",
    "#         temp.append(((k,l),score))\n",
    "\n",
    "#     sorted_scores = sorted(list(set(temp)),key=lambda x:x[1], reverse=True)#[0:4]\n",
    "#     count +=1\n",
    "#     if count == 3:\n",
    "#         break\n",
    "# #print(sorted_scores)"
   ]
  },
  {
   "cell_type": "code",
   "execution_count": null,
   "metadata": {},
   "outputs": [],
   "source": []
  },
  {
   "cell_type": "code",
   "execution_count": null,
   "metadata": {},
   "outputs": [],
   "source": []
  },
  {
   "cell_type": "code",
   "execution_count": null,
   "metadata": {},
   "outputs": [],
   "source": []
  },
  {
   "cell_type": "code",
   "execution_count": null,
   "metadata": {},
   "outputs": [],
   "source": []
  },
  {
   "cell_type": "code",
   "execution_count": null,
   "metadata": {},
   "outputs": [],
   "source": []
  },
  {
   "cell_type": "code",
   "execution_count": null,
   "metadata": {},
   "outputs": [],
   "source": []
  }
 ],
 "metadata": {
  "kernelspec": {
   "display_name": "Python 3",
   "language": "python",
   "name": "python3"
  },
  "language_info": {
   "codemirror_mode": {
    "name": "ipython",
    "version": 3
   },
   "file_extension": ".py",
   "mimetype": "text/x-python",
   "name": "python",
   "nbconvert_exporter": "python",
   "pygments_lexer": "ipython3",
   "version": "3.7.4"
  }
 },
 "nbformat": 4,
 "nbformat_minor": 4
}
