{
 "cells": [
  {
   "cell_type": "code",
   "execution_count": null,
   "metadata": {},
   "outputs": [],
   "source": [
    "import tensorflow as tf\n",
    "import numpy as np\n",
    "import pandas as pd\n",
    "import random as rn\n",
    "import os\n",
    "import utils\n",
    "import explaiNE\n",
    "import joblib\n",
    "import maxent\n",
    "import cne"
   ]
  },
  {
   "cell_type": "code",
   "execution_count": null,
   "metadata": {},
   "outputs": [],
   "source": [
    "triples,traces = utils.parse_ttl(\n",
    "    file_name=os.path.join('.','data','traces','spouse.ttl'),\n",
    "    max_padding=1)"
   ]
  },
  {
   "cell_type": "code",
   "execution_count": null,
   "metadata": {},
   "outputs": [],
   "source": [
    "triples"
   ]
  },
  {
   "cell_type": "code",
   "execution_count": null,
   "metadata": {},
   "outputs": [],
   "source": []
  },
  {
   "cell_type": "code",
   "execution_count": null,
   "metadata": {},
   "outputs": [],
   "source": [
    "SEED = 123\n",
    "os.environ['PYTHONHASHSEED'] = str(SEED)\n",
    "np.random.seed(SEED)\n",
    "rn.seed(SEED)\n",
    "\n",
    "print(f'CPU count: {joblib.cpu_count()}')\n",
    "\n",
    "data = np.load(os.path.join('.','data','royalty_spouse.npz'))\n",
    "\n",
    "train = data['X_train']\n",
    "test = data['X_test']\n",
    "\n",
    "train_exp = data['train_exp']\n",
    "test_exp = data['test_exp']\n",
    "\n",
    "entities = data['entities'].tolist()\n",
    "relations = data['relations'].tolist()\n",
    "\n",
    "NUM_ENTITIES = len(entities)\n",
    "NUM_RELATIONS = len(relations)\n",
    "\n",
    "ent2idx = dict(zip(entities, range(NUM_ENTITIES)))\n",
    "rel2idx = dict(zip(relations, range(NUM_RELATIONS)))\n",
    "\n",
    "train2idx = utils.array2idx(train,ent2idx,rel2idx)\n",
    "test2idx = utils.array2idx(test,ent2idx,rel2idx)\n",
    "\n",
    "trainexp2idx = utils.array2idx(train_exp,ent2idx,rel2idx)\n",
    "testexp2idx = utils.array2idx(test_exp,ent2idx,rel2idx)\n",
    "\n",
    "#adjacency_data = np.concatenate((train,train_exp.reshape(-1,3)), axis=0)\n",
    "adjacency_data = np.concatenate((train,train_exp.reshape(-1,3)), axis=0)\n",
    "\n",
    "A = utils.get_adjacency_matrix(adjacency_data,entities,NUM_ENTITIES)"
   ]
  },
  {
   "cell_type": "code",
   "execution_count": null,
   "metadata": {},
   "outputs": [],
   "source": [
    "count = 0\n",
    "for i in train_exp[1]:\n",
    "    for j in train_exp[1]:\n",
    "        if (i==j).all():\n",
    "            count +=1"
   ]
  },
  {
   "cell_type": "code",
   "execution_count": null,
   "metadata": {},
   "outputs": [],
   "source": []
  },
  {
   "cell_type": "code",
   "execution_count": null,
   "metadata": {},
   "outputs": [],
   "source": [
    "#np.unique(np.concatenate([train_exp[2], train_exp[2]],axis=0), axis=0).shape\n",
    "A = train_exp[1]\n",
    "B = train_exp[1]\n",
    "nrows, ncols = A.shape\n",
    "dtype={'names':['f{}'.format(i) for i in range(ncols)],\n",
    "       'formats':ncols * [A.dtype]}"
   ]
  },
  {
   "cell_type": "code",
   "execution_count": null,
   "metadata": {},
   "outputs": [],
   "source": [
    "C = np.intersect1d(A.view(dtype), B.view(dtype))\n",
    "C = C.view(A.dtype).reshape(-1, ncols)\n",
    "C"
   ]
  },
  {
   "cell_type": "code",
   "execution_count": null,
   "metadata": {},
   "outputs": [],
   "source": []
  },
  {
   "cell_type": "code",
   "execution_count": null,
   "metadata": {},
   "outputs": [],
   "source": [
    "lala = train_exp[2]"
   ]
  },
  {
   "cell_type": "code",
   "execution_count": null,
   "metadata": {},
   "outputs": [],
   "source": [
    "lele = train_exp[1]\n",
    "for i in lele:\n",
    "    if i in lala:\n",
    "        print(i)"
   ]
  },
  {
   "cell_type": "code",
   "execution_count": null,
   "metadata": {},
   "outputs": [],
   "source": [
    "# for pred_row in train_exp[0]:\n",
    "\n",
    "#     for true_row in train_exp[0]:\n",
    "        \n",
    "#         print((pred_row == true_row).all())\n",
    "        \n",
    "#         if (pred_row == true_row).all():\n",
    "            \n",
    "#             continue\n",
    "train_exp[1]"
   ]
  },
  {
   "cell_type": "code",
   "execution_count": null,
   "metadata": {},
   "outputs": [],
   "source": [
    "train_exp[2]"
   ]
  },
  {
   "cell_type": "code",
   "execution_count": null,
   "metadata": {},
   "outputs": [],
   "source": [
    "# data = np.load(os.path.join('.','data','royalty_niece.npz'))\n",
    "\n",
    "# train = data['X_train']\n",
    "# test = data['X_test']\n",
    "train_exp[0].shape"
   ]
  },
  {
   "cell_type": "code",
   "execution_count": null,
   "metadata": {},
   "outputs": [],
   "source": [
    "for row in train_exp[0]:\n",
    "    #if row in train_exp[1]:\n",
    "        #print('yes')"
   ]
  },
  {
   "cell_type": "code",
   "execution_count": null,
   "metadata": {},
   "outputs": [],
   "source": [
    "EMBEDDING_DIM = 50\n",
    "S1 = 1\n",
    "S2 = 1.5\n",
    "LEARNING_RATE = .001\n",
    "MAX_ITER = 100\n",
    "GAMMA = (1/(S1**2)) - (1/(S2**2))\n",
    "TOP_K = 4\n",
    "\n",
    "trainexp2idx = trainexp2idx[:,:,[0,2]]\n",
    "\n",
    "testexp2idx = testexp2idx[:,:,[0,2]]"
   ]
  },
  {
   "cell_type": "code",
   "execution_count": null,
   "metadata": {},
   "outputs": [],
   "source": [
    "prior = maxent.BGDistr(A) \n",
    "prior.fit()\n",
    "\n",
    "CNE = cne.ConditionalNetworkEmbedding(\n",
    "    A=A,\n",
    "    d=EMBEDDING_DIM,\n",
    "    s1=S1,\n",
    "    s2=S2,\n",
    "    prior_dist=prior\n",
    "    )\n",
    "\n",
    "CNE.fit(lr=LEARNING_RATE, max_iter=MAX_ITER)\n",
    "\n",
    "X = CNE._ConditionalNetworkEmbedding__emb"
   ]
  },
  {
   "cell_type": "code",
   "execution_count": null,
   "metadata": {},
   "outputs": [],
   "source": [
    "#A = utils.get_adjacency_matrix(test,entities,NUM_ENTITIES)\n",
    "\n",
    "PROBS = joblib.Parallel(n_jobs=-2, verbose=0)(\n",
    "    joblib.delayed(explaiNE.compute_prob)(\n",
    "        i,S1,S2,X,NUM_ENTITIES,prior,SEED\n",
    "        ) for i in range(NUM_ENTITIES)\n",
    "    )\n",
    "\n",
    "PROBS = np.array(PROBS)\n",
    "\n",
    "HESSIANS = joblib.Parallel(n_jobs=-2, verbose=20)(\n",
    "    joblib.delayed(explaiNE.get_hessian)(\n",
    "        i,S1,S2,GAMMA,X,A,EMBEDDING_DIM,PROBS,SEED\n",
    "        ) for i in range(NUM_ENTITIES)\n",
    "    )\n",
    "\n",
    "HESSIANS = np.array(HESSIANS)\n",
    "\n",
    "ITER_DATA = np.unique(testexp2idx.reshape(-1,2), axis=0)"
   ]
  },
  {
   "cell_type": "code",
   "execution_count": null,
   "metadata": {},
   "outputs": [],
   "source": [
    "explanations = joblib.Parallel(n_jobs=-2, verbose=0)(\n",
    "    joblib.delayed(explaiNE.get_explanations)(\n",
    "        i,j,S1,S2,EMBEDDING_DIM,GAMMA,X,TOP_K,ITER_DATA,HESSIANS,PROBS,SEED\n",
    "        ) for i,_,j in test2idx\n",
    "    )\n",
    "\n",
    "explanations = np.array(explanations)"
   ]
  },
  {
   "cell_type": "code",
   "execution_count": null,
   "metadata": {},
   "outputs": [],
   "source": []
  },
  {
   "cell_type": "code",
   "execution_count": null,
   "metadata": {},
   "outputs": [],
   "source": [
    "jaccard = utils.jaccard_score(testexp2idx,explanations)"
   ]
  },
  {
   "cell_type": "code",
   "execution_count": null,
   "metadata": {},
   "outputs": [],
   "source": [
    "jaccard"
   ]
  },
  {
   "cell_type": "code",
   "execution_count": null,
   "metadata": {},
   "outputs": [],
   "source": [
    "# scores = []\n",
    "\n",
    "# for i in range(len(testexp2idx)):\n",
    "    \n",
    "#     true_i = testexp2idx[i][np.argsort(testexp2idx[i][:, 0])]\n",
    "#     pred_i = explanations[i][np.argsort(explanations[i][:, 0])]\n",
    "\n",
    "#     num_true_traces = true_i.shape[0]\n",
    "#     num_pred_traces = pred_i.shape[0]\n",
    "\n",
    "#     bool_array = (pred_i == true_i)\n",
    "\n",
    "#     count = 0\n",
    "#     for row in bool_array:\n",
    "#         if row.all():\n",
    "#             count += 1\n",
    "\n",
    "#     score = count / (num_true_traces + num_pred_traces-count)\n",
    "    \n",
    "#     scores.append(score)"
   ]
  },
  {
   "cell_type": "code",
   "execution_count": null,
   "metadata": {},
   "outputs": [],
   "source": [
    "#testexp2idx[0]\n",
    "#'Zaitao' in np.unique(np.concatenate((train[:,0], train[:,2]),axis=0))"
   ]
  },
  {
   "cell_type": "code",
   "execution_count": null,
   "metadata": {},
   "outputs": [],
   "source": [
    "# for i in explanations[0][np.argsort(testexp2idx[0][:, 0])]:\n",
    "#     if i in testexp2idx[0][np.argsort(testexp2idx[0][:, 0])]:\n",
    "#         print(i)"
   ]
  },
  {
   "cell_type": "code",
   "execution_count": null,
   "metadata": {},
   "outputs": [],
   "source": [
    "#testexp2idx[0][np.argsort(testexp2idx[0][:, 0])]"
   ]
  },
  {
   "cell_type": "code",
   "execution_count": null,
   "metadata": {},
   "outputs": [],
   "source": [
    "# indices = [idx for idx,i in enumerate(scores) if i]\n",
    "\n",
    "# for i in indices:\n",
    "    \n",
    "#     true_i = np.sort(testexp2idx[i], axis=0)\n",
    "#     pred_i = np.sort(explanations[i], axis=0)\n",
    "    \n",
    "#     print(true_i)"
   ]
  },
  {
   "cell_type": "code",
   "execution_count": null,
   "metadata": {},
   "outputs": [],
   "source": [
    "# count = 0\n",
    "# for i,_,j in test2idx:\n",
    "#     temp = []\n",
    "\n",
    "#     for k,l in testexp2idx.reshape(-1,2):\n",
    "        \n",
    "#         score = explaiNE.explaiNE(i,j,k,l,S1,S2,EMBEDDING_DIM,GAMMA,X,HESSIANS,PROBS,SEED)\n",
    "        \n",
    "#         temp.append(((k,l),score))\n",
    "\n",
    "#     sorted_scores = sorted(list(set(temp)),key=lambda x:x[1], reverse=True)#[0:4]\n",
    "#     count +=1\n",
    "#     if count == 3:\n",
    "#         break\n",
    "# #print(sorted_scores)"
   ]
  },
  {
   "cell_type": "code",
   "execution_count": null,
   "metadata": {},
   "outputs": [],
   "source": []
  },
  {
   "cell_type": "code",
   "execution_count": null,
   "metadata": {},
   "outputs": [],
   "source": []
  },
  {
   "cell_type": "code",
   "execution_count": null,
   "metadata": {},
   "outputs": [],
   "source": []
  },
  {
   "cell_type": "code",
   "execution_count": null,
   "metadata": {},
   "outputs": [],
   "source": []
  },
  {
   "cell_type": "code",
   "execution_count": null,
   "metadata": {},
   "outputs": [],
   "source": []
  },
  {
   "cell_type": "code",
   "execution_count": null,
   "metadata": {},
   "outputs": [],
   "source": []
  }
 ],
 "metadata": {
  "kernelspec": {
   "display_name": "Python 3",
   "language": "python",
   "name": "python3"
  },
  "language_info": {
   "codemirror_mode": {
    "name": "ipython",
    "version": 3
   },
   "file_extension": ".py",
   "mimetype": "text/x-python",
   "name": "python",
   "nbconvert_exporter": "python",
   "pygments_lexer": "ipython3",
   "version": "3.7.4"
  }
 },
 "nbformat": 4,
 "nbformat_minor": 4
}
