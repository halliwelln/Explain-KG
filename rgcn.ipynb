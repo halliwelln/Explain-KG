{
 "cells": [
  {
   "cell_type": "code",
   "execution_count": 1,
   "metadata": {},
   "outputs": [],
   "source": [
    "import tensorflow as tf\n",
    "import utils\n",
    "import numpy as np\n",
    "import random as rn\n",
    "import os"
   ]
  },
  {
   "cell_type": "code",
   "execution_count": 2,
   "metadata": {},
   "outputs": [],
   "source": [
    "SEED = 123\n",
    "os.environ['PYTHONHASHSEED'] = str(SEED)\n",
    "os.environ['TF_DETERMINISTIC_OPS'] = '1'\n",
    "tf.random.set_seed(SEED)\n",
    "np.random.seed(SEED)\n",
    "rn.seed(SEED)\n",
    "\n",
    "data = np.load(os.path.join('.','data','royalty.npz'))\n",
    "\n",
    "triples = data['triples']\n",
    "traces = data['traces']\n",
    "entities = data['entities'].tolist()\n",
    "num_entities = len(entities)\n",
    "relations = data['relations'].tolist()\n",
    "num_relations = len(relations)\n",
    "embedding_dim = 3\n",
    "ent2idx = dict(zip(entities, range(num_entities)))\n",
    "rel2idx = dict(zip(relations, range(num_relations)))"
   ]
  },
  {
   "cell_type": "code",
   "execution_count": 3,
   "metadata": {},
   "outputs": [],
   "source": [
    "train2idx = utils.array2idx(triples, ent2idx,rel2idx)"
   ]
  },
  {
   "cell_type": "code",
   "execution_count": 4,
   "metadata": {},
   "outputs": [],
   "source": [
    "from tensorflow.keras.layers import Embedding\n",
    "from tensorflow.keras.initializers import RandomUniform\n",
    "from tensorflow.python.ops import embedding_ops\n",
    "import tensorflow.keras.backend as K\n",
    "\n",
    "entity_embeddings = Embedding(\n",
    "    input_dim=num_entities,\n",
    "    output_dim=embedding_dim,\n",
    "    name='entity_embeddings',\n",
    "    embeddings_initializer=RandomUniform(\n",
    "        minval=-1,\n",
    "        maxval=1,\n",
    "        seed=SEED\n",
    "        )\n",
    "    )"
   ]
  },
  {
   "cell_type": "code",
   "execution_count": 5,
   "metadata": {},
   "outputs": [],
   "source": [
    "#np.ones((1,3,3))*np.eye(3)"
   ]
  },
  {
   "cell_type": "code",
   "execution_count": 6,
   "metadata": {},
   "outputs": [],
   "source": [
    "head_input = tf.keras.Input(shape=(), name='head_input',dtype=tf.int64)\n",
    "rel_input = tf.keras.Input(shape=(), name='rel_input',dtype=tf.int64)\n",
    "tail_input = tf.keras.Input(shape=(), name='tail_input',dtype=tf.int64)\n",
    "#all_entities = tf.keras.Input(shape=(None,),name='all_input')"
   ]
  },
  {
   "cell_type": "code",
   "execution_count": 7,
   "metadata": {},
   "outputs": [],
   "source": [
    "head_e = entity_embeddings(head_input)\n",
    "#rel_e = relation_embeddings(rel_input)\n",
    "tail_e = entity_embeddings(tail_input)\n",
    "#all_e = entity_embeddings(all_entities)"
   ]
  },
  {
   "cell_type": "code",
   "execution_count": 8,
   "metadata": {},
   "outputs": [],
   "source": [
    "class RGCN(tf.keras.layers.Layer):\n",
    "    def __init__(self,num_relations,output_dim,*args,**kwargs):\n",
    "        super(RGCN,self).__init__(*args,**kwargs)\n",
    "        self.num_relations = num_relations\n",
    "        self.output_dim = output_dim\n",
    "    \n",
    "    def build(self,input_shape):\n",
    "\n",
    "        in_shape = input_shape[-1][-1]\n",
    "\n",
    "        self.W_r = self.add_weight(\n",
    "            shape=(self.num_relations,self.output_dim,in_shape),\n",
    "            trainable=True,\n",
    "            initializer=\"random_normal\",\n",
    "            name='W_r'\n",
    "        )\n",
    "        \n",
    "        self.W0 = self.add_weight(\n",
    "            shape=(self.output_dim,in_shape),\n",
    "            trainable=True,\n",
    "            initializer='random_normal',\n",
    "            name='W0'\n",
    "        )\n",
    "        \n",
    "    def call(self,inputs):\n",
    "        \n",
    "        head_input,tail_input = inputs\n",
    "        \n",
    "        tail_update = K.dot(self.W_r,K.transpose(tail_input))\n",
    "        \n",
    "        head_update = K.dot(self.W0,K.transpose(head_input))\n",
    "        \n",
    "        update = K.sum(tail_update + head_update, axis=0)\n",
    "\n",
    "        return K.transpose(update)"
   ]
  },
  {
   "cell_type": "code",
   "execution_count": 9,
   "metadata": {},
   "outputs": [],
   "source": [
    "class DistMult(tf.keras.layers.Layer):\n",
    "    def __init__(self, num_relations,*args,**kwargs):\n",
    "        super(DistMult,self).__init__(*args,**kwargs)\n",
    "        self.num_relations = num_relations\n",
    "        \n",
    "    def build(self,input_shape):\n",
    "        \n",
    "        embedding_dim = input_shape[0][-1]\n",
    "        \n",
    "        self.kernel = self.add_weight(\n",
    "            shape=(self.num_relations,embedding_dim),\n",
    "            trainable=True,\n",
    "            initializer='random_normal',\n",
    "            name='rel_embedding'\n",
    "        )\n",
    "        \n",
    "#     def call(self,inputs):\n",
    "#         #must be of dimensions (batch size,)\n",
    "#         embeddings,head_idx,rel_idx, tail_idx = inputs\n",
    "        \n",
    "#         updated_head_e = embedding_ops.embedding_lookup_v2(embeddings,head_idx)\n",
    "#         rel_e = embedding_ops.embedding_lookup_v2(self.kernel,rel_idx)\n",
    "#         updated_tail_e = embedding_ops.embedding_lookup_v2(embeddings,tail_idx)\n",
    "\n",
    "#         return K.sum(updated_head_e*rel_e*updated_tail_e, axis=-1)\n",
    "    def call(self,inputs):\n",
    "        \n",
    "        head_e,rel_idx,tail_e = inputs\n",
    "        \n",
    "        rel_e = embedding_ops.embedding_lookup_v2(self.kernel,rel_idx)\n",
    "        \n",
    "        return tf.reduce_sum(head_e*rel_e*tail_e, axis=-1)"
   ]
  },
  {
   "cell_type": "code",
   "execution_count": 10,
   "metadata": {},
   "outputs": [
    {
     "name": "stdout",
     "output_type": "stream",
     "text": [
      "WARNING:tensorflow:AutoGraph could not transform <bound method RGCN.call of <__main__.RGCN object at 0x194b0a2390>> and will run it as-is.\n",
      "Please report this to the TensorFlow team. When filing the bug, set the verbosity to 10 (on Linux, `export AUTOGRAPH_VERBOSITY=10`) and attach the full output.\n",
      "Cause: 'arguments' object has no attribute 'posonlyargs'\n",
      "To silence this warning, decorate the function with @tf.autograph.experimental.do_not_convert\n",
      "WARNING: AutoGraph could not transform <bound method RGCN.call of <__main__.RGCN object at 0x194b0a2390>> and will run it as-is.\n",
      "Please report this to the TensorFlow team. When filing the bug, set the verbosity to 10 (on Linux, `export AUTOGRAPH_VERBOSITY=10`) and attach the full output.\n",
      "Cause: 'arguments' object has no attribute 'posonlyargs'\n",
      "To silence this warning, decorate the function with @tf.autograph.experimental.do_not_convert\n",
      "WARNING:tensorflow:AutoGraph could not transform <bound method DistMult.call of <__main__.DistMult object at 0x19469404d0>> and will run it as-is.\n",
      "Please report this to the TensorFlow team. When filing the bug, set the verbosity to 10 (on Linux, `export AUTOGRAPH_VERBOSITY=10`) and attach the full output.\n",
      "Cause: 'arguments' object has no attribute 'posonlyargs'\n",
      "To silence this warning, decorate the function with @tf.autograph.experimental.do_not_convert\n",
      "WARNING: AutoGraph could not transform <bound method DistMult.call of <__main__.DistMult object at 0x19469404d0>> and will run it as-is.\n",
      "Please report this to the TensorFlow team. When filing the bug, set the verbosity to 10 (on Linux, `export AUTOGRAPH_VERBOSITY=10`) and attach the full output.\n",
      "Cause: 'arguments' object has no attribute 'posonlyargs'\n",
      "To silence this warning, decorate the function with @tf.autograph.experimental.do_not_convert\n"
     ]
    }
   ],
   "source": [
    "new_head = RGCN(num_relations=num_relations,output_dim=5)([head_e,tail_e])\n",
    "new_head = tf.keras.layers.Activation('sigmoid')(new_head)\n",
    "\n",
    "new_tail = RGCN(num_relations=num_relations,output_dim=5)([tail_e,head_e])\n",
    "new_tail = tf.keras.layers.Activation('sigmoid')(new_tail)\n",
    "\n",
    "output = DistMult(num_relations=num_relations)([new_head,rel_input,new_tail])"
   ]
  },
  {
   "cell_type": "code",
   "execution_count": 11,
   "metadata": {},
   "outputs": [],
   "source": [
    "model = tf.keras.Model([head_input,rel_input,tail_input],[output])"
   ]
  },
  {
   "cell_type": "code",
   "execution_count": 12,
   "metadata": {},
   "outputs": [],
   "source": [
    "model.compile(loss='binary_crossentropy', optimizer='sgd')"
   ]
  },
  {
   "cell_type": "code",
   "execution_count": 13,
   "metadata": {},
   "outputs": [
    {
     "name": "stdout",
     "output_type": "stream",
     "text": [
      "WARNING:tensorflow:AutoGraph could not transform <function Model.make_train_function.<locals>.train_function at 0x194b2517a0> and will run it as-is.\n",
      "Please report this to the TensorFlow team. When filing the bug, set the verbosity to 10 (on Linux, `export AUTOGRAPH_VERBOSITY=10`) and attach the full output.\n",
      "Cause: 'arguments' object has no attribute 'posonlyargs'\n",
      "To silence this warning, decorate the function with @tf.autograph.experimental.do_not_convert\n",
      "WARNING: AutoGraph could not transform <function Model.make_train_function.<locals>.train_function at 0x194b2517a0> and will run it as-is.\n",
      "Please report this to the TensorFlow team. When filing the bug, set the verbosity to 10 (on Linux, `export AUTOGRAPH_VERBOSITY=10`) and attach the full output.\n",
      "Cause: 'arguments' object has no attribute 'posonlyargs'\n",
      "To silence this warning, decorate the function with @tf.autograph.experimental.do_not_convert\n",
      "288/288 [==============================] - 0s 741us/step - loss: 0.4069\n"
     ]
    },
    {
     "data": {
      "text/plain": [
       "<tensorflow.python.keras.callbacks.History at 0x194b161d90>"
      ]
     },
     "execution_count": 13,
     "metadata": {},
     "output_type": "execute_result"
    }
   ],
   "source": [
    "model.fit(x=[train2idx[:,0],train2idx[:,1],train2idx[:,2]],y=np.ones(train2idx.shape[0]),epochs=1)"
   ]
  },
  {
   "cell_type": "code",
   "execution_count": null,
   "metadata": {},
   "outputs": [],
   "source": [
    "#np.dot(np.ones((4,5,3)),np.zeros((3,100))).sum(axis=0).shape"
   ]
  },
  {
   "cell_type": "code",
   "execution_count": null,
   "metadata": {},
   "outputs": [],
   "source": [
    "#np.dot(np.ones((5,3)),np.zeros((3,100))).shape"
   ]
  },
  {
   "cell_type": "code",
   "execution_count": null,
   "metadata": {},
   "outputs": [],
   "source": [
    "inputs = tf.keras.Input(shape=(3,))\n",
    "x = tf.keras.layers.Dense(4, activation=tf.nn.relu)(inputs)\n",
    "outputs = tf.keras.layers.Dense(5, activation=tf.nn.softmax)(x)\n",
    "model = tf.keras.Model(inputs=inputs, outputs=outputs)"
   ]
  },
  {
   "cell_type": "code",
   "execution_count": null,
   "metadata": {},
   "outputs": [],
   "source": []
  },
  {
   "cell_type": "code",
   "execution_count": null,
   "metadata": {},
   "outputs": [],
   "source": [
    "import dgl\n",
    "from dgl.nn import RelGraphConv\n",
    "g = dgl.graph(([0,1,2,3,2,5,0], [1,2,3,4,0,3,1]))"
   ]
  },
  {
   "cell_type": "code",
   "execution_count": null,
   "metadata": {},
   "outputs": [],
   "source": [
    "conv = RelGraphConv(10, 5, 3, regularizer='basis')"
   ]
  },
  {
   "cell_type": "code",
   "execution_count": null,
   "metadata": {},
   "outputs": [],
   "source": [
    "import torch as th\n",
    "feat = th.ones(6, 10)\n",
    "etype = th.tensor(np.array([0,1,2,0,1,2,1]).astype(np.int64))"
   ]
  },
  {
   "cell_type": "code",
   "execution_count": null,
   "metadata": {},
   "outputs": [],
   "source": [
    "conv(g, feat, etype)"
   ]
  },
  {
   "cell_type": "code",
   "execution_count": null,
   "metadata": {},
   "outputs": [],
   "source": []
  },
  {
   "cell_type": "code",
   "execution_count": null,
   "metadata": {},
   "outputs": [],
   "source": []
  }
 ],
 "metadata": {
  "kernelspec": {
   "display_name": "Python 3",
   "language": "python",
   "name": "python3"
  },
  "language_info": {
   "codemirror_mode": {
    "name": "ipython",
    "version": 3
   },
   "file_extension": ".py",
   "mimetype": "text/x-python",
   "name": "python",
   "nbconvert_exporter": "python",
   "pygments_lexer": "ipython3",
   "version": "3.7.4"
  }
 },
 "nbformat": 4,
 "nbformat_minor": 4
}
